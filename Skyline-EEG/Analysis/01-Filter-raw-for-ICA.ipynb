{
 "cells": [
  {
   "cell_type": "code",
   "execution_count": null,
   "metadata": {},
   "outputs": [],
   "source": [
    "    \n",
    "import mne\n",
    "import os\n",
    "from mne_bids import make_bids_folders, make_bids_basename\n",
    "\n",
    "%matplotlib qt\n"
   ]
  },
  {
   "cell_type": "code",
   "execution_count": null,
   "metadata": {},
   "outputs": [],
   "source": [
    "\n",
    "print('Processing subject:', subj, 'session:', sess)\n",
    "\n",
    "\n",
    "preproc_path_folder =  make_bids_folders(subject = str(subj), session= str(sess),\n",
    "                            kind='eeg', bids_root=preproc_root,make_dir=True, overwrite =False)\n",
    "\n",
    "\n",
    "# load raw data\n",
    "bids_basename = make_bids_basename(subject=str(subj), session=str(sess))\n",
    "bids_fname = bids_basename + '_eeg.vhdr'\n",
    "\n",
    "\n",
    "fname = os.path.join(bids_root, 'sub-%d' %subj,  'ses-%d' %sess, 'eeg', bids_fname)\n",
    "raw = mne.io.read_raw_brainvision(fname, preload=True)\n",
    "\n",
    "\n",
    "# high pass filter data for ICA\n",
    "filt_raw =  raw.copy()\n",
    "filt_raw.load_data().filter(l_freq=ica_bandpass_fmin, h_freq=ica_bandpass_fmax)\n",
    "\n",
    "filt_raw.save(os.path.join( preproc_path_folder,'filter_ica_raw.fif'))\n",
    "\n"
   ]
  }
 ],
 "metadata": {
  "kernelspec": {
   "display_name": "Python 3",
   "language": "python",
   "name": "python3"
  },
  "language_info": {
   "codemirror_mode": {
    "name": "ipython",
    "version": 3
   },
   "file_extension": ".py",
   "mimetype": "text/x-python",
   "name": "python",
   "nbconvert_exporter": "python",
   "pygments_lexer": "ipython3",
   "version": "3.7.5"
  }
 },
 "nbformat": 4,
 "nbformat_minor": 2
}
