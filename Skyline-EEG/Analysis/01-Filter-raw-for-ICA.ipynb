{
 "cells": [
  {
   "cell_type": "code",
   "execution_count": null,
   "metadata": {},
   "outputs": [],
   "source": [
    "\"\"\"\n",
    "Perform bandpass filtering to prep data for ICA - another filter is used for data pre-epochs\n",
    "\n",
    "\"\"\"\n",
    "    \n",
    "    \n",
    "import mne\n",
    "import os\n",
    "from mne_bids import make_bids_folders, make_bids_basename\n",
    "\n",
    "%matplotlib qt\n"
   ]
  },
  {
   "cell_type": "code",
   "execution_count": null,
   "metadata": {},
   "outputs": [],
   "source": [
    "\n",
    "print('Processing subject:', subj, 'session:', sess)\n",
    "\n",
    "# Keep track of PSD plots before and after filtering\n",
    "figs_before = []\n",
    "figs_after = []\n",
    "\n",
    "\n",
    "preproc_path_folder =  make_bids_folders(subject = str(subj), session= str(sess),\n",
    "                            kind='eeg', bids_root=preproc_root,make_dir=True, overwrite =False)\n",
    "\n",
    "\n",
    "# load raw data\n",
    "bids_basename = make_bids_basename(subject=str(subj), session=str(sess))\n",
    "bids_fname = bids_basename + '_eeg.vhdr'\n",
    "\n",
    "\n",
    "fname = os.path.join(bids_root, 'sub-%d' %subj,  'ses-%d' %sess, 'eeg', bids_fname)\n",
    "raw = mne.io.read_raw_brainvision(fname, preload=True)\n",
    "\n",
    "\n",
    "# high pass filter data for ICA\n",
    "filt_raw =  raw.copy()\n",
    "filt_raw.load_data().filter(l_freq=ica_bandpass_fmin, h_freq=ica_bandpass_fmax, l_trans_bandwidth='auto',\n",
    "        h_trans_bandwidth='auto', filter_length='auto', phase='zero',\n",
    "        fir_window='hamming', fir_design='firwin', n_jobs=n_jobs))\n",
    "\n",
    "filt_raw.save(os.path.join( preproc_path_folder,'filter_ica_raw.fif'))\n",
    "\n",
    "# Make a plot of the PSD before and after filtering\n",
    "figs_before.append(raw.plot_psd(show=False))\n",
    "figs_after.append(raw_filt.plot_psd(show=False))#\n",
    "\n",
    "\n",
    "# Append PDF plots to report\n",
    "with mne.open_report(fname.report(subject=subject)) as report:\n",
    "    report.add_slider_to_section(\n",
    "        figs_before,\n",
    "        title='PSD before filtering',\n",
    "        section='Sensor-level',\n",
    "        replace=True\n",
    "    )\n",
    "    report.add_slider_to_section(\n",
    "        figs_after,\n",
    "        title='PSD after filtering',\n",
    "        section='Sensor-level',\n",
    "        replace=True\n",
    "    )\n",
    "    report.save(bids_basename.report_html(subject=subject), overwrite=True,\n",
    "                open_browser=False)\n"
   ]
  },
  {
   "cell_type": "code",
   "execution_count": 1,
   "metadata": {},
   "outputs": [
    {
     "name": "stdout",
     "output_type": "stream",
     "text": [
      "Object `report.save` not found.\n"
     ]
    }
   ],
   "source": []
  }
 ],
 "metadata": {
  "kernelspec": {
   "display_name": "Python 3",
   "language": "python",
   "name": "python3"
  },
  "language_info": {
   "codemirror_mode": {
    "name": "ipython",
    "version": 3
   },
   "file_extension": ".py",
   "mimetype": "text/x-python",
   "name": "python",
   "nbconvert_exporter": "python",
   "pygments_lexer": "ipython3",
   "version": "3.7.5"
  }
 },
 "nbformat": 4,
 "nbformat_minor": 2
}
