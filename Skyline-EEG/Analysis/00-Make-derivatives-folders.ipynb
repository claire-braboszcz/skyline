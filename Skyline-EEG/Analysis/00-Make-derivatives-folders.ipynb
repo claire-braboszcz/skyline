{
 "cells": [
  {
   "cell_type": "code",
   "execution_count": null,
   "metadata": {},
   "outputs": [],
   "source": [
    "´´´\n",
    "Create BIDS-compatible derivatives folder\n",
    "´´´\n",
    "\n",
    "import os\n"
   ]
  },
  {
   "cell_type": "code",
   "execution_count": null,
   "metadata": {},
   "outputs": [],
   "source": [
    "\n",
    "bids_root = '/home/claire/Documents/STUDY/EEG-Tobacco/Skyline-EEG-BIDS'\n",
    "bids_root_der = os.path.join(bids_root, 'derivatives')\n",
    "if not os.path.exists(bids_root_der):\n",
    "    os.makedirs(bids_root_der)\n",
    "\n",
    "preproc_root = os.path.join(bids_root_der, 'eeg_pre_process')\n",
    "if not os.path.exists(preproc_root):\n",
    "    os.makedirs(preproc_root)\n",
    "\n",
    "pv_root = os.path.join(bids_root_der, 'passive_viewing')\n",
    "if not os.path.exists(pv_root):\n",
    "    os.makedirs(pv_root)\n",
    "\n",
    "gng_root = os.path.join(bids_root_der, 'go_nogo')\n",
    "if not os.path.exists(gng_root):\n",
    "    os.makedirs(gng_root)"
   ]
  },
  {
   "cell_type": "code",
   "execution_count": null,
   "metadata": {},
   "outputs": [],
   "source": []
  }
 ],
 "metadata": {
  "kernelspec": {
   "display_name": "Python 3",
   "language": "python",
   "name": "python3"
  },
  "language_info": {
   "codemirror_mode": {
    "name": "ipython",
    "version": 3
   },
   "file_extension": ".py",
   "mimetype": "text/x-python",
   "name": "python",
   "nbconvert_exporter": "python",
   "pygments_lexer": "ipython3",
   "version": "3.7.5"
  }
 },
 "nbformat": 4,
 "nbformat_minor": 2
}
