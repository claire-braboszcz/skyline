{
 "cells": [
  {
   "cell_type": "markdown",
   "metadata": {},
   "source": [
    "Skyline- EEG preprocessing script \n",
    "--------------------------------------------------\n",
    "\n",
    "Steps based on the protocol:\n",
    "\n",
    "Preliminary:\n",
    "- re-referenced to average reference\n",
    "\n",
    "Two-steps artefacts rejection:\n",
    "1. ICA:\n",
    "    - band pass filter using non-causal 4th order Butterworth filter between 1Hz and 30Hz\n",
    "    - downsample to 256Hz\n",
    "    - visual inspection to remove artefacts\n",
    "    - run ICA and reject eye-movement and muscles activity artefacts\n",
    "    - save ICA solution on a file\n",
    "    \n",
    "2. On a copy of orginal dataset:\n",
    "    - filter:try out fourth order Butterworth filters: high pass causal filter at 2Hz and low-pass non-causal filter at 30Hz -> see if any distortion"
   ]
  },
  {
   "cell_type": "markdown",
   "metadata": {},
   "source": [
    "Step 1: running ICA on data\n",
    "-----------------------------------------"
   ]
  },
  {
   "cell_type": "markdown",
   "metadata": {},
   "source": [
    "Imports"
   ]
  },
  {
   "cell_type": "code",
   "execution_count": null,
   "metadata": {},
   "outputs": [],
   "source": [
    "import os.path as op\n",
    "import mne\n",
    "import numpy as np\n"
   ]
  },
  {
   "cell_type": "markdown",
   "metadata": {},
   "source": [
    "Load data"
   ]
  },
  {
   "cell_type": "code",
   "execution_count": null,
   "metadata": {},
   "outputs": [],
   "source": []
  }
 ],
 "metadata": {
  "kernelspec": {
   "display_name": "Python 3",
   "language": "python",
   "name": "python3"
  },
  "language_info": {
   "codemirror_mode": {
    "name": "ipython",
    "version": 3
   },
   "file_extension": ".py",
   "mimetype": "text/x-python",
   "name": "python",
   "nbconvert_exporter": "python",
   "pygments_lexer": "ipython3",
   "version": "3.7.5"
  }
 },
 "nbformat": 4,
 "nbformat_minor": 2
}
