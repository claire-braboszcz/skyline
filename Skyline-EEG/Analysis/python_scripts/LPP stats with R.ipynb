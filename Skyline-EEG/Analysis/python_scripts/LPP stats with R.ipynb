{
 "cells": [
  {
   "cell_type": "code",
   "execution_count": 12,
   "metadata": {},
   "outputs": [
    {
     "name": "stderr",
     "output_type": "stream",
     "text": [
      "── \u001b[1mAttaching packages\u001b[22m ─────────────────────────────────────── tidyverse 1.2.1 ──\n",
      "\n",
      "\u001b[32m✔\u001b[39m \u001b[34mggplot2\u001b[39m 3.2.1     \u001b[32m✔\u001b[39m \u001b[34mpurrr  \u001b[39m 0.3.3\n",
      "\u001b[32m✔\u001b[39m \u001b[34mtibble \u001b[39m 2.1.3     \u001b[32m✔\u001b[39m \u001b[34mdplyr  \u001b[39m 0.8.4\n",
      "\u001b[32m✔\u001b[39m \u001b[34mtidyr  \u001b[39m 1.0.0     \u001b[32m✔\u001b[39m \u001b[34mstringr\u001b[39m 1.4.0\n",
      "\u001b[32m✔\u001b[39m \u001b[34mreadr  \u001b[39m 1.3.1     \u001b[32m✔\u001b[39m \u001b[34mforcats\u001b[39m 0.4.0\n",
      "\n",
      "── \u001b[1mConflicts\u001b[22m ────────────────────────────────────────── tidyverse_conflicts() ──\n",
      "\u001b[31m✖\u001b[39m \u001b[34mdplyr\u001b[39m::\u001b[32mfilter()\u001b[39m masks \u001b[34mstats\u001b[39m::filter()\n",
      "\u001b[31m✖\u001b[39m \u001b[34mdplyr\u001b[39m::\u001b[32mlag()\u001b[39m    masks \u001b[34mstats\u001b[39m::lag()\n",
      "\n"
     ]
    }
   ],
   "source": [
    "library(WRS2)\n",
    "library(tidyverse)"
   ]
  },
  {
   "cell_type": "markdown",
   "metadata": {},
   "source": [
    "Stats for LPP onset for health warning stimuli"
   ]
  },
  {
   "cell_type": "code",
   "execution_count": 13,
   "metadata": {},
   "outputs": [],
   "source": [
    "df<-read.csv('lat_hw.csv')"
   ]
  },
  {
   "cell_type": "code",
   "execution_count": 14,
   "metadata": {},
   "outputs": [
    {
     "data": {
      "text/html": [
       "<table>\n",
       "<caption>A data.frame: 88 × 5</caption>\n",
       "<thead>\n",
       "\t<tr><th scope=col>X</th><th scope=col>id</th><th scope=col>Time</th><th scope=col>Groupe</th><th scope=col>Latency</th></tr>\n",
       "\t<tr><th scope=col>&lt;int&gt;</th><th scope=col>&lt;int&gt;</th><th scope=col>&lt;int&gt;</th><th scope=col>&lt;fct&gt;</th><th scope=col>&lt;dbl&gt;</th></tr>\n",
       "</thead>\n",
       "<tbody>\n",
       "\t<tr><td> 0</td><td> 0</td><td>1</td><td>CTR</td><td>0.4467918</td></tr>\n",
       "\t<tr><td> 1</td><td> 1</td><td>1</td><td>CTR</td><td>0.3947154</td></tr>\n",
       "\t<tr><td> 2</td><td> 2</td><td>1</td><td>CTR</td><td>0.4127144</td></tr>\n",
       "\t<tr><td> 3</td><td> 3</td><td>1</td><td>CTR</td><td>0.3995530</td></tr>\n",
       "\t<tr><td> 4</td><td> 4</td><td>1</td><td>CTR</td><td>0.3624668</td></tr>\n",
       "\t<tr><td> 5</td><td> 5</td><td>1</td><td>CTR</td><td>0.3803587</td></tr>\n",
       "\t<tr><td> 6</td><td> 6</td><td>1</td><td>CTR</td><td>0.3839892</td></tr>\n",
       "\t<tr><td> 7</td><td> 7</td><td>1</td><td>CTR</td><td>0.3790137</td></tr>\n",
       "\t<tr><td> 8</td><td> 8</td><td>1</td><td>CTR</td><td>0.3971230</td></tr>\n",
       "\t<tr><td> 9</td><td> 9</td><td>1</td><td>CTR</td><td>0.4219903</td></tr>\n",
       "\t<tr><td>10</td><td>10</td><td>1</td><td>CTR</td><td>0.4322635</td></tr>\n",
       "\t<tr><td>11</td><td>11</td><td>1</td><td>CTR</td><td>0.3992438</td></tr>\n",
       "\t<tr><td>12</td><td>12</td><td>1</td><td>CTR</td><td>0.4145871</td></tr>\n",
       "\t<tr><td>13</td><td>13</td><td>1</td><td>CTR</td><td>0.4007666</td></tr>\n",
       "\t<tr><td>14</td><td>14</td><td>1</td><td>CTR</td><td>0.4059943</td></tr>\n",
       "\t<tr><td>15</td><td>15</td><td>1</td><td>CTR</td><td>0.3805276</td></tr>\n",
       "\t<tr><td>16</td><td>16</td><td>1</td><td>CTR</td><td>0.4134662</td></tr>\n",
       "\t<tr><td>17</td><td>17</td><td>1</td><td>CTR</td><td>0.4146175</td></tr>\n",
       "\t<tr><td>18</td><td>18</td><td>1</td><td>CTR</td><td>0.3970594</td></tr>\n",
       "\t<tr><td>19</td><td>19</td><td>1</td><td>CTR</td><td>0.4058816</td></tr>\n",
       "\t<tr><td>20</td><td>20</td><td>1</td><td>CTR</td><td>0.3954748</td></tr>\n",
       "\t<tr><td>21</td><td>21</td><td>1</td><td>CTR</td><td>0.3822809</td></tr>\n",
       "\t<tr><td>22</td><td> 0</td><td>2</td><td>CTR</td><td>0.4973326</td></tr>\n",
       "\t<tr><td>23</td><td> 1</td><td>2</td><td>CTR</td><td>0.5379440</td></tr>\n",
       "\t<tr><td>24</td><td> 2</td><td>2</td><td>CTR</td><td>0.5118201</td></tr>\n",
       "\t<tr><td>25</td><td> 3</td><td>2</td><td>CTR</td><td>0.4903376</td></tr>\n",
       "\t<tr><td>26</td><td> 4</td><td>2</td><td>CTR</td><td>0.5175233</td></tr>\n",
       "\t<tr><td>27</td><td> 5</td><td>2</td><td>CTR</td><td>0.5160044</td></tr>\n",
       "\t<tr><td>28</td><td> 6</td><td>2</td><td>CTR</td><td>0.4950169</td></tr>\n",
       "\t<tr><td>29</td><td> 7</td><td>2</td><td>CTR</td><td>0.5091763</td></tr>\n",
       "\t<tr><td>⋮</td><td>⋮</td><td>⋮</td><td>⋮</td><td>⋮</td></tr>\n",
       "\t<tr><td>58</td><td>14</td><td>1</td><td>INT</td><td>0.4476998</td></tr>\n",
       "\t<tr><td>59</td><td>15</td><td>1</td><td>INT</td><td>0.4698219</td></tr>\n",
       "\t<tr><td>60</td><td>16</td><td>1</td><td>INT</td><td>0.4636114</td></tr>\n",
       "\t<tr><td>61</td><td>17</td><td>1</td><td>INT</td><td>0.4624076</td></tr>\n",
       "\t<tr><td>62</td><td>18</td><td>1</td><td>INT</td><td>0.4811740</td></tr>\n",
       "\t<tr><td>63</td><td>19</td><td>1</td><td>INT</td><td>0.4540675</td></tr>\n",
       "\t<tr><td>64</td><td>20</td><td>1</td><td>INT</td><td>0.4554227</td></tr>\n",
       "\t<tr><td>65</td><td>21</td><td>1</td><td>INT</td><td>0.4689504</td></tr>\n",
       "\t<tr><td>66</td><td> 0</td><td>2</td><td>INT</td><td>0.3609735</td></tr>\n",
       "\t<tr><td>67</td><td> 1</td><td>2</td><td>INT</td><td>0.3663197</td></tr>\n",
       "\t<tr><td>68</td><td> 2</td><td>2</td><td>INT</td><td>0.3568596</td></tr>\n",
       "\t<tr><td>69</td><td> 3</td><td>2</td><td>INT</td><td>0.3471087</td></tr>\n",
       "\t<tr><td>70</td><td> 4</td><td>2</td><td>INT</td><td>0.3497010</td></tr>\n",
       "\t<tr><td>71</td><td> 5</td><td>2</td><td>INT</td><td>0.3604422</td></tr>\n",
       "\t<tr><td>72</td><td> 6</td><td>2</td><td>INT</td><td>0.4175679</td></tr>\n",
       "\t<tr><td>73</td><td> 7</td><td>2</td><td>INT</td><td>0.3738114</td></tr>\n",
       "\t<tr><td>74</td><td> 8</td><td>2</td><td>INT</td><td>0.3744273</td></tr>\n",
       "\t<tr><td>75</td><td> 9</td><td>2</td><td>INT</td><td>0.3634696</td></tr>\n",
       "\t<tr><td>76</td><td>10</td><td>2</td><td>INT</td><td>0.3799663</td></tr>\n",
       "\t<tr><td>77</td><td>11</td><td>2</td><td>INT</td><td>0.3504283</td></tr>\n",
       "\t<tr><td>78</td><td>12</td><td>2</td><td>INT</td><td>0.3714813</td></tr>\n",
       "\t<tr><td>79</td><td>13</td><td>2</td><td>INT</td><td>0.4051042</td></tr>\n",
       "\t<tr><td>80</td><td>14</td><td>2</td><td>INT</td><td>0.3745197</td></tr>\n",
       "\t<tr><td>81</td><td>15</td><td>2</td><td>INT</td><td>0.3447797</td></tr>\n",
       "\t<tr><td>82</td><td>16</td><td>2</td><td>INT</td><td>0.3420388</td></tr>\n",
       "\t<tr><td>83</td><td>17</td><td>2</td><td>INT</td><td>0.3549861</td></tr>\n",
       "\t<tr><td>84</td><td>18</td><td>2</td><td>INT</td><td>0.3786149</td></tr>\n",
       "\t<tr><td>85</td><td>19</td><td>2</td><td>INT</td><td>0.3737496</td></tr>\n",
       "\t<tr><td>86</td><td>20</td><td>2</td><td>INT</td><td>0.3872477</td></tr>\n",
       "\t<tr><td>87</td><td>21</td><td>2</td><td>INT</td><td>0.3901398</td></tr>\n",
       "</tbody>\n",
       "</table>\n"
      ],
      "text/latex": [
       "A data.frame: 88 × 5\n",
       "\\begin{tabular}{lllll}\n",
       " X & id & Time & Groupe & Latency\\\\\n",
       " <int> & <int> & <int> & <fct> & <dbl>\\\\\n",
       "\\hline\n",
       "\t  0 &  0 & 1 & CTR & 0.4467918\\\\\n",
       "\t  1 &  1 & 1 & CTR & 0.3947154\\\\\n",
       "\t  2 &  2 & 1 & CTR & 0.4127144\\\\\n",
       "\t  3 &  3 & 1 & CTR & 0.3995530\\\\\n",
       "\t  4 &  4 & 1 & CTR & 0.3624668\\\\\n",
       "\t  5 &  5 & 1 & CTR & 0.3803587\\\\\n",
       "\t  6 &  6 & 1 & CTR & 0.3839892\\\\\n",
       "\t  7 &  7 & 1 & CTR & 0.3790137\\\\\n",
       "\t  8 &  8 & 1 & CTR & 0.3971230\\\\\n",
       "\t  9 &  9 & 1 & CTR & 0.4219903\\\\\n",
       "\t 10 & 10 & 1 & CTR & 0.4322635\\\\\n",
       "\t 11 & 11 & 1 & CTR & 0.3992438\\\\\n",
       "\t 12 & 12 & 1 & CTR & 0.4145871\\\\\n",
       "\t 13 & 13 & 1 & CTR & 0.4007666\\\\\n",
       "\t 14 & 14 & 1 & CTR & 0.4059943\\\\\n",
       "\t 15 & 15 & 1 & CTR & 0.3805276\\\\\n",
       "\t 16 & 16 & 1 & CTR & 0.4134662\\\\\n",
       "\t 17 & 17 & 1 & CTR & 0.4146175\\\\\n",
       "\t 18 & 18 & 1 & CTR & 0.3970594\\\\\n",
       "\t 19 & 19 & 1 & CTR & 0.4058816\\\\\n",
       "\t 20 & 20 & 1 & CTR & 0.3954748\\\\\n",
       "\t 21 & 21 & 1 & CTR & 0.3822809\\\\\n",
       "\t 22 &  0 & 2 & CTR & 0.4973326\\\\\n",
       "\t 23 &  1 & 2 & CTR & 0.5379440\\\\\n",
       "\t 24 &  2 & 2 & CTR & 0.5118201\\\\\n",
       "\t 25 &  3 & 2 & CTR & 0.4903376\\\\\n",
       "\t 26 &  4 & 2 & CTR & 0.5175233\\\\\n",
       "\t 27 &  5 & 2 & CTR & 0.5160044\\\\\n",
       "\t 28 &  6 & 2 & CTR & 0.4950169\\\\\n",
       "\t 29 &  7 & 2 & CTR & 0.5091763\\\\\n",
       "\t ⋮ & ⋮ & ⋮ & ⋮ & ⋮\\\\\n",
       "\t 58 & 14 & 1 & INT & 0.4476998\\\\\n",
       "\t 59 & 15 & 1 & INT & 0.4698219\\\\\n",
       "\t 60 & 16 & 1 & INT & 0.4636114\\\\\n",
       "\t 61 & 17 & 1 & INT & 0.4624076\\\\\n",
       "\t 62 & 18 & 1 & INT & 0.4811740\\\\\n",
       "\t 63 & 19 & 1 & INT & 0.4540675\\\\\n",
       "\t 64 & 20 & 1 & INT & 0.4554227\\\\\n",
       "\t 65 & 21 & 1 & INT & 0.4689504\\\\\n",
       "\t 66 &  0 & 2 & INT & 0.3609735\\\\\n",
       "\t 67 &  1 & 2 & INT & 0.3663197\\\\\n",
       "\t 68 &  2 & 2 & INT & 0.3568596\\\\\n",
       "\t 69 &  3 & 2 & INT & 0.3471087\\\\\n",
       "\t 70 &  4 & 2 & INT & 0.3497010\\\\\n",
       "\t 71 &  5 & 2 & INT & 0.3604422\\\\\n",
       "\t 72 &  6 & 2 & INT & 0.4175679\\\\\n",
       "\t 73 &  7 & 2 & INT & 0.3738114\\\\\n",
       "\t 74 &  8 & 2 & INT & 0.3744273\\\\\n",
       "\t 75 &  9 & 2 & INT & 0.3634696\\\\\n",
       "\t 76 & 10 & 2 & INT & 0.3799663\\\\\n",
       "\t 77 & 11 & 2 & INT & 0.3504283\\\\\n",
       "\t 78 & 12 & 2 & INT & 0.3714813\\\\\n",
       "\t 79 & 13 & 2 & INT & 0.4051042\\\\\n",
       "\t 80 & 14 & 2 & INT & 0.3745197\\\\\n",
       "\t 81 & 15 & 2 & INT & 0.3447797\\\\\n",
       "\t 82 & 16 & 2 & INT & 0.3420388\\\\\n",
       "\t 83 & 17 & 2 & INT & 0.3549861\\\\\n",
       "\t 84 & 18 & 2 & INT & 0.3786149\\\\\n",
       "\t 85 & 19 & 2 & INT & 0.3737496\\\\\n",
       "\t 86 & 20 & 2 & INT & 0.3872477\\\\\n",
       "\t 87 & 21 & 2 & INT & 0.3901398\\\\\n",
       "\\end{tabular}\n"
      ],
      "text/markdown": [
       "\n",
       "A data.frame: 88 × 5\n",
       "\n",
       "| X &lt;int&gt; | id &lt;int&gt; | Time &lt;int&gt; | Groupe &lt;fct&gt; | Latency &lt;dbl&gt; |\n",
       "|---|---|---|---|---|\n",
       "|  0 |  0 | 1 | CTR | 0.4467918 |\n",
       "|  1 |  1 | 1 | CTR | 0.3947154 |\n",
       "|  2 |  2 | 1 | CTR | 0.4127144 |\n",
       "|  3 |  3 | 1 | CTR | 0.3995530 |\n",
       "|  4 |  4 | 1 | CTR | 0.3624668 |\n",
       "|  5 |  5 | 1 | CTR | 0.3803587 |\n",
       "|  6 |  6 | 1 | CTR | 0.3839892 |\n",
       "|  7 |  7 | 1 | CTR | 0.3790137 |\n",
       "|  8 |  8 | 1 | CTR | 0.3971230 |\n",
       "|  9 |  9 | 1 | CTR | 0.4219903 |\n",
       "| 10 | 10 | 1 | CTR | 0.4322635 |\n",
       "| 11 | 11 | 1 | CTR | 0.3992438 |\n",
       "| 12 | 12 | 1 | CTR | 0.4145871 |\n",
       "| 13 | 13 | 1 | CTR | 0.4007666 |\n",
       "| 14 | 14 | 1 | CTR | 0.4059943 |\n",
       "| 15 | 15 | 1 | CTR | 0.3805276 |\n",
       "| 16 | 16 | 1 | CTR | 0.4134662 |\n",
       "| 17 | 17 | 1 | CTR | 0.4146175 |\n",
       "| 18 | 18 | 1 | CTR | 0.3970594 |\n",
       "| 19 | 19 | 1 | CTR | 0.4058816 |\n",
       "| 20 | 20 | 1 | CTR | 0.3954748 |\n",
       "| 21 | 21 | 1 | CTR | 0.3822809 |\n",
       "| 22 |  0 | 2 | CTR | 0.4973326 |\n",
       "| 23 |  1 | 2 | CTR | 0.5379440 |\n",
       "| 24 |  2 | 2 | CTR | 0.5118201 |\n",
       "| 25 |  3 | 2 | CTR | 0.4903376 |\n",
       "| 26 |  4 | 2 | CTR | 0.5175233 |\n",
       "| 27 |  5 | 2 | CTR | 0.5160044 |\n",
       "| 28 |  6 | 2 | CTR | 0.4950169 |\n",
       "| 29 |  7 | 2 | CTR | 0.5091763 |\n",
       "| ⋮ | ⋮ | ⋮ | ⋮ | ⋮ |\n",
       "| 58 | 14 | 1 | INT | 0.4476998 |\n",
       "| 59 | 15 | 1 | INT | 0.4698219 |\n",
       "| 60 | 16 | 1 | INT | 0.4636114 |\n",
       "| 61 | 17 | 1 | INT | 0.4624076 |\n",
       "| 62 | 18 | 1 | INT | 0.4811740 |\n",
       "| 63 | 19 | 1 | INT | 0.4540675 |\n",
       "| 64 | 20 | 1 | INT | 0.4554227 |\n",
       "| 65 | 21 | 1 | INT | 0.4689504 |\n",
       "| 66 |  0 | 2 | INT | 0.3609735 |\n",
       "| 67 |  1 | 2 | INT | 0.3663197 |\n",
       "| 68 |  2 | 2 | INT | 0.3568596 |\n",
       "| 69 |  3 | 2 | INT | 0.3471087 |\n",
       "| 70 |  4 | 2 | INT | 0.3497010 |\n",
       "| 71 |  5 | 2 | INT | 0.3604422 |\n",
       "| 72 |  6 | 2 | INT | 0.4175679 |\n",
       "| 73 |  7 | 2 | INT | 0.3738114 |\n",
       "| 74 |  8 | 2 | INT | 0.3744273 |\n",
       "| 75 |  9 | 2 | INT | 0.3634696 |\n",
       "| 76 | 10 | 2 | INT | 0.3799663 |\n",
       "| 77 | 11 | 2 | INT | 0.3504283 |\n",
       "| 78 | 12 | 2 | INT | 0.3714813 |\n",
       "| 79 | 13 | 2 | INT | 0.4051042 |\n",
       "| 80 | 14 | 2 | INT | 0.3745197 |\n",
       "| 81 | 15 | 2 | INT | 0.3447797 |\n",
       "| 82 | 16 | 2 | INT | 0.3420388 |\n",
       "| 83 | 17 | 2 | INT | 0.3549861 |\n",
       "| 84 | 18 | 2 | INT | 0.3786149 |\n",
       "| 85 | 19 | 2 | INT | 0.3737496 |\n",
       "| 86 | 20 | 2 | INT | 0.3872477 |\n",
       "| 87 | 21 | 2 | INT | 0.3901398 |\n",
       "\n"
      ],
      "text/plain": [
       "   X  id Time Groupe Latency  \n",
       "1   0  0 1    CTR    0.4467918\n",
       "2   1  1 1    CTR    0.3947154\n",
       "3   2  2 1    CTR    0.4127144\n",
       "4   3  3 1    CTR    0.3995530\n",
       "5   4  4 1    CTR    0.3624668\n",
       "6   5  5 1    CTR    0.3803587\n",
       "7   6  6 1    CTR    0.3839892\n",
       "8   7  7 1    CTR    0.3790137\n",
       "9   8  8 1    CTR    0.3971230\n",
       "10  9  9 1    CTR    0.4219903\n",
       "11 10 10 1    CTR    0.4322635\n",
       "12 11 11 1    CTR    0.3992438\n",
       "13 12 12 1    CTR    0.4145871\n",
       "14 13 13 1    CTR    0.4007666\n",
       "15 14 14 1    CTR    0.4059943\n",
       "16 15 15 1    CTR    0.3805276\n",
       "17 16 16 1    CTR    0.4134662\n",
       "18 17 17 1    CTR    0.4146175\n",
       "19 18 18 1    CTR    0.3970594\n",
       "20 19 19 1    CTR    0.4058816\n",
       "21 20 20 1    CTR    0.3954748\n",
       "22 21 21 1    CTR    0.3822809\n",
       "23 22  0 2    CTR    0.4973326\n",
       "24 23  1 2    CTR    0.5379440\n",
       "25 24  2 2    CTR    0.5118201\n",
       "26 25  3 2    CTR    0.4903376\n",
       "27 26  4 2    CTR    0.5175233\n",
       "28 27  5 2    CTR    0.5160044\n",
       "29 28  6 2    CTR    0.4950169\n",
       "30 29  7 2    CTR    0.5091763\n",
       "⋮  ⋮  ⋮  ⋮    ⋮      ⋮        \n",
       "59 58 14 1    INT    0.4476998\n",
       "60 59 15 1    INT    0.4698219\n",
       "61 60 16 1    INT    0.4636114\n",
       "62 61 17 1    INT    0.4624076\n",
       "63 62 18 1    INT    0.4811740\n",
       "64 63 19 1    INT    0.4540675\n",
       "65 64 20 1    INT    0.4554227\n",
       "66 65 21 1    INT    0.4689504\n",
       "67 66  0 2    INT    0.3609735\n",
       "68 67  1 2    INT    0.3663197\n",
       "69 68  2 2    INT    0.3568596\n",
       "70 69  3 2    INT    0.3471087\n",
       "71 70  4 2    INT    0.3497010\n",
       "72 71  5 2    INT    0.3604422\n",
       "73 72  6 2    INT    0.4175679\n",
       "74 73  7 2    INT    0.3738114\n",
       "75 74  8 2    INT    0.3744273\n",
       "76 75  9 2    INT    0.3634696\n",
       "77 76 10 2    INT    0.3799663\n",
       "78 77 11 2    INT    0.3504283\n",
       "79 78 12 2    INT    0.3714813\n",
       "80 79 13 2    INT    0.4051042\n",
       "81 80 14 2    INT    0.3745197\n",
       "82 81 15 2    INT    0.3447797\n",
       "83 82 16 2    INT    0.3420388\n",
       "84 83 17 2    INT    0.3549861\n",
       "85 84 18 2    INT    0.3786149\n",
       "86 85 19 2    INT    0.3737496\n",
       "87 86 20 2    INT    0.3872477\n",
       "88 87 21 2    INT    0.3901398"
      ]
     },
     "metadata": {},
     "output_type": "display_data"
    }
   ],
   "source": [
    "df"
   ]
  },
  {
   "cell_type": "code",
   "execution_count": 15,
   "metadata": {},
   "outputs": [],
   "source": [
    "df<-df %>% group_by(Groupe, Time)\n",
    "\n",
    "df$Time<-factor(df$Time)"
   ]
  },
  {
   "cell_type": "code",
   "execution_count": 23,
   "metadata": {},
   "outputs": [
    {
     "data": {
      "text/plain": [
       "Call:\n",
       "t2way(formula = Latency ~ Groupe * Time, data = df, tr = 0.2)\n",
       "\n",
       "               value p.value\n",
       "Groupe      110.7273   0.001\n",
       "Time          7.4142   0.009\n",
       "Groupe:Time 576.4612   0.001\n"
      ]
     },
     "metadata": {},
     "output_type": "display_data"
    }
   ],
   "source": [
    "t2way(Latency~Groupe*Time, data=df, tr=0.2)"
   ]
  },
  {
   "cell_type": "markdown",
   "metadata": {},
   "source": [
    "Now running post-hoc test"
   ]
  },
  {
   "cell_type": "code",
   "execution_count": 29,
   "metadata": {},
   "outputs": [
    {
     "data": {
      "text/plain": [
       "Call:\n",
       "mcp2atm(formula = Latency ~ Groupe * Time, data = df)\n",
       "\n",
       "                psihat ci.lower ci.upper p-value\n",
       "Groupe1        0.08919  0.07218  0.10621  0.0000\n",
       "Time1         -0.02308 -0.04009 -0.00607  0.0088\n",
       "Groupe1:Time1 -0.20352 -0.22053 -0.18650  0.0000\n"
      ]
     },
     "metadata": {},
     "output_type": "display_data"
    }
   ],
   "source": [
    "mcp2atm(Latency~Groupe*Time, data=df)"
   ]
  },
  {
   "cell_type": "code",
   "execution_count": 39,
   "metadata": {},
   "outputs": [
    {
     "data": {
      "image/png": "[encoded data removed]",
      "text/plain": [
       "Plot with title “density.default(x = df$Latency)”"
      ]
     },
     "metadata": {
      "image/png": {
       "height": 420,
       "width": 420
      },
      "text/plain": {
       "height": 420,
       "width": 420
      }
     },
     "output_type": "display_data"
    }
   ],
   "source": [
    "dens_hw<- density(df$Latency)\n",
    "plot(dens_hw)"
   ]
  },
  {
   "cell_type": "markdown",
   "metadata": {},
   "source": [
    "Stats for LPP onset for Negative stimuli"
   ]
  },
  {
   "cell_type": "code",
   "execution_count": 30,
   "metadata": {},
   "outputs": [],
   "source": [
    "df_neg<-read.csv('lat_neg.csv')\n",
    "\n",
    "df_neg<-df_neg %>% group_by(Groupe, Time)\n",
    "\n",
    "df_neg$Time<-factor(df_neg$Time)"
   ]
  },
  {
   "cell_type": "code",
   "execution_count": 31,
   "metadata": {},
   "outputs": [
    {
     "data": {
      "text/plain": [
       "Call:\n",
       "t2way(formula = Latency ~ Groupe * Time, data = df_neg, tr = 0.2)\n",
       "\n",
       "                value p.value\n",
       "Groupe       101.5437   0.001\n",
       "Time        2814.2858   0.001\n",
       "Groupe:Time  176.9068   0.001\n"
      ]
     },
     "metadata": {},
     "output_type": "display_data"
    }
   ],
   "source": [
    "t2way(Latency~Groupe*Time, data=df_neg, tr=0.2)"
   ]
  },
  {
   "cell_type": "code",
   "execution_count": 32,
   "metadata": {},
   "outputs": [
    {
     "data": {
      "text/plain": [
       "Call:\n",
       "mcp2atm(formula = Latency ~ Groupe * Time, data = df_neg)\n",
       "\n",
       "                psihat ci.lower ci.upper p-value\n",
       "Groupe1       -0.08832 -0.10601 -0.07063       0\n",
       "Time1         -0.46494 -0.48263 -0.44725       0\n",
       "Groupe1:Time1  0.11657  0.09888  0.13426       0\n"
      ]
     },
     "metadata": {},
     "output_type": "display_data"
    }
   ],
   "source": [
    "mcp2atm(Latency~Groupe*Time, data=df_neg)"
   ]
  },
  {
   "cell_type": "code",
   "execution_count": 38,
   "metadata": {},
   "outputs": [
    {
     "data": {
      "image/png": "[encoded data removed]",
      "text/plain": [
       "Plot with title “density.default(x = df_neg$Latency)”"
      ]
     },
     "metadata": {
      "image/png": {
       "height": 420,
       "width": 420
      },
      "text/plain": {
       "height": 420,
       "width": 420
      }
     },
     "output_type": "display_data"
    }
   ],
   "source": [
    "dens<- density(df_neg$Latency)\n",
    "plot(dens)"
   ]
  }
 ],
 "metadata": {
  "kernelspec": {
   "display_name": "R",
   "language": "R",
   "name": "ir"
  },
  "language_info": {
   "codemirror_mode": "r",
   "file_extension": ".r",
   "mimetype": "text/x-r-source",
   "name": "R",
   "pygments_lexer": "r",
   "version": "3.6.1"
  }
 },
 "nbformat": 4,
 "nbformat_minor": 2
}
