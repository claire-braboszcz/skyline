{
 "cells": [
  {
   "cell_type": "markdown",
   "metadata": {},
   "source": [
    "- performance inhibiting response to smoking related stimuli = correct nogo on smoking stim\n",
    "- performance responding to health warning as go stim = accuracy, response time"
   ]
  },
  {
   "cell_type": "code",
   "execution_count": 1,
   "metadata": {},
   "outputs": [
    {
     "name": "stderr",
     "output_type": "stream",
     "text": [
      "/home/claire/.local/lib/python3.7/site-packages/outdated/utils.py:18: OutdatedPackageWarning: The package pingouin is out of date. Your version is 0.3.4, the latest is 0.3.7.\n",
      "Set the environment variable OUTDATED_IGNORE=1 to disable these warnings.\n",
      "  **kwargs\n"
     ]
    }
   ],
   "source": [
    "import pandas as pd\n",
    "import numpy as np\n",
    "from config import (fname,\n",
    "                    subject_ids, \n",
    "                    sessions, \n",
    "                    subj_interv, \n",
    "                    subj_control)\n",
    "\n",
    "import pingouin as pg"
   ]
  },
  {
   "cell_type": "code",
   "execution_count": 2,
   "metadata": {},
   "outputs": [],
   "source": [
    "all_df=[]\n",
    "\n",
    "for subj in subject_ids:\n",
    "    for sess in sessions:\n",
    "        metadata = pd.read_csv(fname.metadata_gng(subject='sub-'+ str(subj), session='ses-'+str(sess)))\n",
    "        \n",
    "        metadata['Subject']=str(subj)\n",
    "        metadata['Session']=str(sess)\n",
    "        \n",
    "        if subj in subj_interv:\n",
    "                metadata['Group']=str('int')\n",
    "\n",
    "        elif subj in subj_control:\n",
    "                metadata['Group']=str('ctr')\n",
    "\n",
    "        all_df.append(metadata)\n",
    "\n",
    "all_df = pd.concat(all_df)\n"
   ]
  },
  {
   "cell_type": "code",
   "execution_count": 3,
   "metadata": {},
   "outputs": [],
   "source": [
    "move_to_front = ['Subject', 'Session', 'Group']\n",
    "all_df = all_df[move_to_front + [col for col in all_df.columns if col not in move_to_front]]"
   ]
  },
  {
   "cell_type": "code",
   "execution_count": 4,
   "metadata": {},
   "outputs": [
    {
     "data": {
      "text/html": [
       "<div>\n",
       "<style scoped>\n",
       "    .dataframe tbody tr th:only-of-type {\n",
       "        vertical-align: middle;\n",
       "    }\n",
       "\n",
       "    .dataframe tbody tr th {\n",
       "        vertical-align: top;\n",
       "    }\n",
       "\n",
       "    .dataframe thead th {\n",
       "        text-align: right;\n",
       "    }\n",
       "</style>\n",
       "<table border=\"1\" class=\"dataframe\">\n",
       "  <thead>\n",
       "    <tr style=\"text-align: right;\">\n",
       "      <th></th>\n",
       "      <th>Subject</th>\n",
       "      <th>Session</th>\n",
       "      <th>Group</th>\n",
       "      <th>Unnamed: 0</th>\n",
       "      <th>Unnamed: 0.1</th>\n",
       "      <th>onset</th>\n",
       "      <th>duration</th>\n",
       "      <th>trial_type</th>\n",
       "      <th>value</th>\n",
       "      <th>sample</th>\n",
       "      <th>filename</th>\n",
       "      <th>response_onset</th>\n",
       "      <th>response</th>\n",
       "      <th>type</th>\n",
       "      <th>accuracy</th>\n",
       "    </tr>\n",
       "  </thead>\n",
       "  <tbody>\n",
       "    <tr>\n",
       "      <th>0</th>\n",
       "      <td>146</td>\n",
       "      <td>1</td>\n",
       "      <td>int</td>\n",
       "      <td>173</td>\n",
       "      <td>173</td>\n",
       "      <td>344.488</td>\n",
       "      <td>0.0</td>\n",
       "      <td>go</td>\n",
       "      <td>11</td>\n",
       "      <td>172244</td>\n",
       "      <td>HW_04.jpg</td>\n",
       "      <td>344.986</td>\n",
       "      <td>button press</td>\n",
       "      <td>go</td>\n",
       "      <td>correct</td>\n",
       "    </tr>\n",
       "    <tr>\n",
       "      <th>1</th>\n",
       "      <td>146</td>\n",
       "      <td>1</td>\n",
       "      <td>int</td>\n",
       "      <td>176</td>\n",
       "      <td>176</td>\n",
       "      <td>345.838</td>\n",
       "      <td>0.0</td>\n",
       "      <td>go</td>\n",
       "      <td>11</td>\n",
       "      <td>172919</td>\n",
       "      <td>SmoCuDa_198.jpg</td>\n",
       "      <td>346.202</td>\n",
       "      <td>button press</td>\n",
       "      <td>go</td>\n",
       "      <td>correct</td>\n",
       "    </tr>\n",
       "    <tr>\n",
       "      <th>2</th>\n",
       "      <td>146</td>\n",
       "      <td>1</td>\n",
       "      <td>int</td>\n",
       "      <td>179</td>\n",
       "      <td>179</td>\n",
       "      <td>347.122</td>\n",
       "      <td>0.0</td>\n",
       "      <td>nogo</td>\n",
       "      <td>13</td>\n",
       "      <td>173561</td>\n",
       "      <td>SmoCuDa_122.jpg</td>\n",
       "      <td>NaN</td>\n",
       "      <td>NaN</td>\n",
       "      <td>nogo</td>\n",
       "      <td>correct</td>\n",
       "    </tr>\n",
       "    <tr>\n",
       "      <th>3</th>\n",
       "      <td>146</td>\n",
       "      <td>1</td>\n",
       "      <td>int</td>\n",
       "      <td>181</td>\n",
       "      <td>181</td>\n",
       "      <td>348.688</td>\n",
       "      <td>0.0</td>\n",
       "      <td>go</td>\n",
       "      <td>11</td>\n",
       "      <td>174344</td>\n",
       "      <td>HW_39.jpg</td>\n",
       "      <td>348.994</td>\n",
       "      <td>button press</td>\n",
       "      <td>go</td>\n",
       "      <td>correct</td>\n",
       "    </tr>\n",
       "    <tr>\n",
       "      <th>4</th>\n",
       "      <td>146</td>\n",
       "      <td>1</td>\n",
       "      <td>int</td>\n",
       "      <td>184</td>\n",
       "      <td>184</td>\n",
       "      <td>349.936</td>\n",
       "      <td>0.0</td>\n",
       "      <td>go</td>\n",
       "      <td>11</td>\n",
       "      <td>174968</td>\n",
       "      <td>HW_13.jpg</td>\n",
       "      <td>350.298</td>\n",
       "      <td>button press</td>\n",
       "      <td>go</td>\n",
       "      <td>correct</td>\n",
       "    </tr>\n",
       "  </tbody>\n",
       "</table>\n",
       "</div>"
      ],
      "text/plain": [
       "  Subject Session Group  Unnamed: 0  Unnamed: 0.1    onset  duration  \\\n",
       "0     146       1   int         173           173  344.488       0.0   \n",
       "1     146       1   int         176           176  345.838       0.0   \n",
       "2     146       1   int         179           179  347.122       0.0   \n",
       "3     146       1   int         181           181  348.688       0.0   \n",
       "4     146       1   int         184           184  349.936       0.0   \n",
       "\n",
       "  trial_type  value  sample         filename  response_onset      response  \\\n",
       "0         go     11  172244        HW_04.jpg         344.986  button press   \n",
       "1         go     11  172919  SmoCuDa_198.jpg         346.202  button press   \n",
       "2       nogo     13  173561  SmoCuDa_122.jpg             NaN           NaN   \n",
       "3         go     11  174344        HW_39.jpg         348.994  button press   \n",
       "4         go     11  174968        HW_13.jpg         350.298  button press   \n",
       "\n",
       "   type accuracy  \n",
       "0    go  correct  \n",
       "1    go  correct  \n",
       "2  nogo  correct  \n",
       "3    go  correct  \n",
       "4    go  correct  "
      ]
     },
     "execution_count": 4,
     "metadata": {},
     "output_type": "execute_result"
    }
   ],
   "source": [
    "all_df.head()"
   ]
  },
  {
   "cell_type": "code",
   "execution_count": 36,
   "metadata": {},
   "outputs": [],
   "source": [
    "all_df['accuracy'] = all_df['accuracy'].astype('category')"
   ]
  },
  {
   "cell_type": "markdown",
   "metadata": {},
   "source": [
    "Performance inhibiting response to smoking related stimuli = correct nogo on smoking stim\n",
    "---------\n",
    "\n",
    "- count false alarm vs correct for each group and session"
   ]
  },
  {
   "cell_type": "code",
   "execution_count": 6,
   "metadata": {},
   "outputs": [],
   "source": [
    "df_nogo_smk = all_df[(all_df['trial_type']=='nogo') & \n",
    "                     (all_df['filename'].str.startswith(\"SmoC\"))]"
   ]
  },
  {
   "cell_type": "markdown",
   "metadata": {},
   "source": [
    "False alarm per group and session:"
   ]
  },
  {
   "cell_type": "code",
   "execution_count": 27,
   "metadata": {},
   "outputs": [
    {
     "data": {
      "text/plain": [
       "Group  Session\n",
       "ctr    1          136\n",
       "       2          149\n",
       "int    1          137\n",
       "       2          104\n",
       "Name: accuracy, dtype: int64"
      ]
     },
     "execution_count": 27,
     "metadata": {},
     "output_type": "execute_result"
    }
   ],
   "source": [
    "df_nogo_smk.groupby(['Group', 'Session'])['accuracy'].apply(\n",
    "    lambda x:  x [x.str.contains('false alarm')].count())"
   ]
  },
  {
   "cell_type": "markdown",
   "metadata": {},
   "source": [
    "False alarm rate per participant and session"
   ]
  },
  {
   "cell_type": "code",
   "execution_count": 25,
   "metadata": {},
   "outputs": [
    {
     "data": {
      "text/plain": [
       "Group  Session  Subject\n",
       "ctr    1        172        82\n",
       "                185        82\n",
       "                271        82\n",
       "                279        82\n",
       "                295        82\n",
       "                           ..\n",
       "int    2        743        82\n",
       "                750        82\n",
       "                754        82\n",
       "                763        82\n",
       "                786        82\n",
       "Name: accuracy, Length: 88, dtype: int64"
      ]
     },
     "execution_count": 25,
     "metadata": {},
     "output_type": "execute_result"
    }
   ],
   "source": [
    "df_nogo_smk.groupby(['Group', 'Session', 'Subject'])['accuracy'].count()"
   ]
  },
  {
   "cell_type": "code",
   "execution_count": 14,
   "metadata": {},
   "outputs": [],
   "source": [
    "df_acc=df_nogo_smk.groupby(['Group', 'Session', 'Subject'], \n",
    "                           group_keys = False)['accuracy'].apply(\n",
    "    lambda x: x[x.str.contains('false alarm')].count()/ 82*100)"
   ]
  },
  {
   "cell_type": "code",
   "execution_count": 15,
   "metadata": {},
   "outputs": [
    {
     "data": {
      "text/plain": [
       "Group  Session  Subject\n",
       "ctr    1        172         8.536585\n",
       "                185         2.439024\n",
       "                271         8.536585\n",
       "                279        13.414634\n",
       "                295        13.414634\n",
       "                             ...    \n",
       "int    2        743        10.975610\n",
       "                750         2.439024\n",
       "                754         6.097561\n",
       "                763         1.219512\n",
       "                786         6.097561\n",
       "Name: accuracy, Length: 88, dtype: float64"
      ]
     },
     "execution_count": 15,
     "metadata": {},
     "output_type": "execute_result"
    }
   ],
   "source": [
    "df_acc"
   ]
  },
  {
   "cell_type": "code",
   "execution_count": 16,
   "metadata": {},
   "outputs": [],
   "source": [
    "# convert the series to dataframe and \"remove\" the grouping\n",
    "df_acc=df_acc.to_frame()\n",
    "\n",
    "df_acc=df_acc.reset_index()"
   ]
  },
  {
   "cell_type": "code",
   "execution_count": 19,
   "metadata": {},
   "outputs": [
    {
     "data": {
      "text/html": [
       "<div>\n",
       "<style scoped>\n",
       "    .dataframe tbody tr th:only-of-type {\n",
       "        vertical-align: middle;\n",
       "    }\n",
       "\n",
       "    .dataframe tbody tr th {\n",
       "        vertical-align: top;\n",
       "    }\n",
       "\n",
       "    .dataframe thead th {\n",
       "        text-align: right;\n",
       "    }\n",
       "</style>\n",
       "<table border=\"1\" class=\"dataframe\">\n",
       "  <thead>\n",
       "    <tr style=\"text-align: right;\">\n",
       "      <th></th>\n",
       "      <th>Group</th>\n",
       "      <th>Session</th>\n",
       "      <th>Subject</th>\n",
       "      <th>accuracy</th>\n",
       "    </tr>\n",
       "  </thead>\n",
       "  <tbody>\n",
       "    <tr>\n",
       "      <th>0</th>\n",
       "      <td>ctr</td>\n",
       "      <td>1</td>\n",
       "      <td>172</td>\n",
       "      <td>8.536585</td>\n",
       "    </tr>\n",
       "    <tr>\n",
       "      <th>1</th>\n",
       "      <td>ctr</td>\n",
       "      <td>1</td>\n",
       "      <td>185</td>\n",
       "      <td>2.439024</td>\n",
       "    </tr>\n",
       "    <tr>\n",
       "      <th>2</th>\n",
       "      <td>ctr</td>\n",
       "      <td>1</td>\n",
       "      <td>271</td>\n",
       "      <td>8.536585</td>\n",
       "    </tr>\n",
       "    <tr>\n",
       "      <th>3</th>\n",
       "      <td>ctr</td>\n",
       "      <td>1</td>\n",
       "      <td>279</td>\n",
       "      <td>13.414634</td>\n",
       "    </tr>\n",
       "    <tr>\n",
       "      <th>4</th>\n",
       "      <td>ctr</td>\n",
       "      <td>1</td>\n",
       "      <td>295</td>\n",
       "      <td>13.414634</td>\n",
       "    </tr>\n",
       "    <tr>\n",
       "      <th>...</th>\n",
       "      <td>...</td>\n",
       "      <td>...</td>\n",
       "      <td>...</td>\n",
       "      <td>...</td>\n",
       "    </tr>\n",
       "    <tr>\n",
       "      <th>83</th>\n",
       "      <td>int</td>\n",
       "      <td>2</td>\n",
       "      <td>743</td>\n",
       "      <td>10.975610</td>\n",
       "    </tr>\n",
       "    <tr>\n",
       "      <th>84</th>\n",
       "      <td>int</td>\n",
       "      <td>2</td>\n",
       "      <td>750</td>\n",
       "      <td>2.439024</td>\n",
       "    </tr>\n",
       "    <tr>\n",
       "      <th>85</th>\n",
       "      <td>int</td>\n",
       "      <td>2</td>\n",
       "      <td>754</td>\n",
       "      <td>6.097561</td>\n",
       "    </tr>\n",
       "    <tr>\n",
       "      <th>86</th>\n",
       "      <td>int</td>\n",
       "      <td>2</td>\n",
       "      <td>763</td>\n",
       "      <td>1.219512</td>\n",
       "    </tr>\n",
       "    <tr>\n",
       "      <th>87</th>\n",
       "      <td>int</td>\n",
       "      <td>2</td>\n",
       "      <td>786</td>\n",
       "      <td>6.097561</td>\n",
       "    </tr>\n",
       "  </tbody>\n",
       "</table>\n",
       "<p>88 rows × 4 columns</p>\n",
       "</div>"
      ],
      "text/plain": [
       "   Group Session Subject   accuracy\n",
       "0    ctr       1     172   8.536585\n",
       "1    ctr       1     185   2.439024\n",
       "2    ctr       1     271   8.536585\n",
       "3    ctr       1     279  13.414634\n",
       "4    ctr       1     295  13.414634\n",
       "..   ...     ...     ...        ...\n",
       "83   int       2     743  10.975610\n",
       "84   int       2     750   2.439024\n",
       "85   int       2     754   6.097561\n",
       "86   int       2     763   1.219512\n",
       "87   int       2     786   6.097561\n",
       "\n",
       "[88 rows x 4 columns]"
      ]
     },
     "execution_count": 19,
     "metadata": {},
     "output_type": "execute_result"
    }
   ],
   "source": [
    "df_acc"
   ]
  },
  {
   "cell_type": "code",
   "execution_count": 137,
   "metadata": {},
   "outputs": [
    {
     "data": {
      "text/html": [
       "<div>\n",
       "<style scoped>\n",
       "    .dataframe tbody tr th:only-of-type {\n",
       "        vertical-align: middle;\n",
       "    }\n",
       "\n",
       "    .dataframe tbody tr th {\n",
       "        vertical-align: top;\n",
       "    }\n",
       "\n",
       "    .dataframe thead th {\n",
       "        text-align: right;\n",
       "    }\n",
       "</style>\n",
       "<table border=\"1\" class=\"dataframe\">\n",
       "  <thead>\n",
       "    <tr style=\"text-align: right;\">\n",
       "      <th></th>\n",
       "      <th>W</th>\n",
       "      <th>pval</th>\n",
       "      <th>normal</th>\n",
       "    </tr>\n",
       "  </thead>\n",
       "  <tbody>\n",
       "    <tr>\n",
       "      <th>ctr</th>\n",
       "      <td>0.675389</td>\n",
       "      <td>1.371136e-08</td>\n",
       "      <td>False</td>\n",
       "    </tr>\n",
       "    <tr>\n",
       "      <th>int</th>\n",
       "      <td>0.910402</td>\n",
       "      <td>2.308740e-03</td>\n",
       "      <td>False</td>\n",
       "    </tr>\n",
       "  </tbody>\n",
       "</table>\n",
       "</div>"
      ],
      "text/plain": [
       "            W          pval  normal\n",
       "ctr  0.675389  1.371136e-08   False\n",
       "int  0.910402  2.308740e-03   False"
      ]
     },
     "execution_count": 137,
     "metadata": {},
     "output_type": "execute_result"
    }
   ],
   "source": [
    "pg.normality(data=df_acc, dv='accuracy', group='Group')"
   ]
  },
  {
   "cell_type": "code",
   "execution_count": 20,
   "metadata": {},
   "outputs": [],
   "source": [
    "df_acc.to_csv('df_nogo_smok_acc.csv')"
   ]
  },
  {
   "cell_type": "code",
   "execution_count": 98,
   "metadata": {},
   "outputs": [
    {
     "data": {
      "text/plain": [
       "<matplotlib.axes._subplots.AxesSubplot at 0x7f108c73b090>"
      ]
     },
     "execution_count": 98,
     "metadata": {},
     "output_type": "execute_result"
    },
    {
     "data": {
      "image/png": "[encoded data removed]",
      "text/plain": [
       "<Figure size 432x288 with 1 Axes>"
      ]
     },
     "metadata": {
      "needs_background": "light"
     },
     "output_type": "display_data"
    }
   ],
   "source": [
    "import seaborn as sns\n",
    "sns.pointplot(data=df_acc, x= 'Session', y='accuracy', ci='sd', hue='Group')\n"
   ]
  },
  {
   "cell_type": "markdown",
   "metadata": {},
   "source": [
    "Performance responding to health warning as go stim \n",
    "----------------------------------------------------------------------------------\n",
    "- accuracy, response time"
   ]
  },
  {
   "cell_type": "code",
   "execution_count": 37,
   "metadata": {},
   "outputs": [],
   "source": [
    "df_go_hw = all_df[(all_df['trial_type']=='go') & \n",
    "                     (all_df['filename'].str.startswith(\"HW\"))]"
   ]
  },
  {
   "cell_type": "code",
   "execution_count": 38,
   "metadata": {},
   "outputs": [
    {
     "data": {
      "text/html": [
       "<div>\n",
       "<style scoped>\n",
       "    .dataframe tbody tr th:only-of-type {\n",
       "        vertical-align: middle;\n",
       "    }\n",
       "\n",
       "    .dataframe tbody tr th {\n",
       "        vertical-align: top;\n",
       "    }\n",
       "\n",
       "    .dataframe thead th {\n",
       "        text-align: right;\n",
       "    }\n",
       "</style>\n",
       "<table border=\"1\" class=\"dataframe\">\n",
       "  <thead>\n",
       "    <tr style=\"text-align: right;\">\n",
       "      <th></th>\n",
       "      <th>Subject</th>\n",
       "      <th>Session</th>\n",
       "      <th>Group</th>\n",
       "      <th>Unnamed: 0</th>\n",
       "      <th>Unnamed: 0.1</th>\n",
       "      <th>onset</th>\n",
       "      <th>duration</th>\n",
       "      <th>trial_type</th>\n",
       "      <th>value</th>\n",
       "      <th>sample</th>\n",
       "      <th>filename</th>\n",
       "      <th>response_onset</th>\n",
       "      <th>response</th>\n",
       "      <th>type</th>\n",
       "      <th>accuracy</th>\n",
       "    </tr>\n",
       "  </thead>\n",
       "  <tbody>\n",
       "    <tr>\n",
       "      <th>0</th>\n",
       "      <td>146</td>\n",
       "      <td>1</td>\n",
       "      <td>int</td>\n",
       "      <td>173</td>\n",
       "      <td>173</td>\n",
       "      <td>344.488</td>\n",
       "      <td>0.0</td>\n",
       "      <td>go</td>\n",
       "      <td>11</td>\n",
       "      <td>172244</td>\n",
       "      <td>HW_04.jpg</td>\n",
       "      <td>344.986</td>\n",
       "      <td>button press</td>\n",
       "      <td>go</td>\n",
       "      <td>correct</td>\n",
       "    </tr>\n",
       "    <tr>\n",
       "      <th>3</th>\n",
       "      <td>146</td>\n",
       "      <td>1</td>\n",
       "      <td>int</td>\n",
       "      <td>181</td>\n",
       "      <td>181</td>\n",
       "      <td>348.688</td>\n",
       "      <td>0.0</td>\n",
       "      <td>go</td>\n",
       "      <td>11</td>\n",
       "      <td>174344</td>\n",
       "      <td>HW_39.jpg</td>\n",
       "      <td>348.994</td>\n",
       "      <td>button press</td>\n",
       "      <td>go</td>\n",
       "      <td>correct</td>\n",
       "    </tr>\n",
       "    <tr>\n",
       "      <th>4</th>\n",
       "      <td>146</td>\n",
       "      <td>1</td>\n",
       "      <td>int</td>\n",
       "      <td>184</td>\n",
       "      <td>184</td>\n",
       "      <td>349.936</td>\n",
       "      <td>0.0</td>\n",
       "      <td>go</td>\n",
       "      <td>11</td>\n",
       "      <td>174968</td>\n",
       "      <td>HW_13.jpg</td>\n",
       "      <td>350.298</td>\n",
       "      <td>button press</td>\n",
       "      <td>go</td>\n",
       "      <td>correct</td>\n",
       "    </tr>\n",
       "    <tr>\n",
       "      <th>7</th>\n",
       "      <td>146</td>\n",
       "      <td>1</td>\n",
       "      <td>int</td>\n",
       "      <td>192</td>\n",
       "      <td>192</td>\n",
       "      <td>354.202</td>\n",
       "      <td>0.0</td>\n",
       "      <td>go</td>\n",
       "      <td>11</td>\n",
       "      <td>177101</td>\n",
       "      <td>HW_31.jpg</td>\n",
       "      <td>354.634</td>\n",
       "      <td>button press</td>\n",
       "      <td>go</td>\n",
       "      <td>correct</td>\n",
       "    </tr>\n",
       "    <tr>\n",
       "      <th>8</th>\n",
       "      <td>146</td>\n",
       "      <td>1</td>\n",
       "      <td>int</td>\n",
       "      <td>195</td>\n",
       "      <td>195</td>\n",
       "      <td>355.486</td>\n",
       "      <td>0.0</td>\n",
       "      <td>go</td>\n",
       "      <td>11</td>\n",
       "      <td>177743</td>\n",
       "      <td>HW_34.jpg</td>\n",
       "      <td>355.730</td>\n",
       "      <td>button press</td>\n",
       "      <td>go</td>\n",
       "      <td>correct</td>\n",
       "    </tr>\n",
       "  </tbody>\n",
       "</table>\n",
       "</div>"
      ],
      "text/plain": [
       "  Subject Session Group  Unnamed: 0  Unnamed: 0.1    onset  duration  \\\n",
       "0     146       1   int         173           173  344.488       0.0   \n",
       "3     146       1   int         181           181  348.688       0.0   \n",
       "4     146       1   int         184           184  349.936       0.0   \n",
       "7     146       1   int         192           192  354.202       0.0   \n",
       "8     146       1   int         195           195  355.486       0.0   \n",
       "\n",
       "  trial_type  value  sample   filename  response_onset      response type  \\\n",
       "0         go     11  172244  HW_04.jpg         344.986  button press   go   \n",
       "3         go     11  174344  HW_39.jpg         348.994  button press   go   \n",
       "4         go     11  174968  HW_13.jpg         350.298  button press   go   \n",
       "7         go     11  177101  HW_31.jpg         354.634  button press   go   \n",
       "8         go     11  177743  HW_34.jpg         355.730  button press   go   \n",
       "\n",
       "  accuracy  \n",
       "0  correct  \n",
       "3  correct  \n",
       "4  correct  \n",
       "7  correct  \n",
       "8  correct  "
      ]
     },
     "execution_count": 38,
     "metadata": {},
     "output_type": "execute_result"
    }
   ],
   "source": [
    "df_go_hw.head()"
   ]
  },
  {
   "cell_type": "code",
   "execution_count": 46,
   "metadata": {},
   "outputs": [
    {
     "data": {
      "text/plain": [
       "correct        17582\n",
       "miss             458\n",
       "false alarm        0\n",
       "Name: accuracy, dtype: int64"
      ]
     },
     "execution_count": 46,
     "metadata": {},
     "output_type": "execute_result"
    }
   ],
   "source": [
    "df_go_hw['accuracy'].value_counts()"
   ]
  },
  {
   "cell_type": "code",
   "execution_count": 45,
   "metadata": {},
   "outputs": [
    {
     "name": "stderr",
     "output_type": "stream",
     "text": [
      "/usr/lib/python3/dist-packages/ipykernel_launcher.py:1: SettingWithCopyWarning: \n",
      "A value is trying to be set on a copy of a slice from a DataFrame.\n",
      "Try using .loc[row_indexer,col_indexer] = value instead\n",
      "\n",
      "See the caveats in the documentation: https://pandas.pydata.org/pandas-docs/stable/user_guide/indexing.html#returning-a-view-versus-a-copy\n",
      "  \"\"\"Entry point for launching an IPython kernel.\n"
     ]
    }
   ],
   "source": [
    "df_go_hw['accuracy']=df_go_hw['accuracy'].cat.rename_categories({'incorrect':'miss'})"
   ]
  },
  {
   "cell_type": "code",
   "execution_count": 49,
   "metadata": {},
   "outputs": [
    {
     "data": {
      "text/html": [
       "<div>\n",
       "<style scoped>\n",
       "    .dataframe tbody tr th:only-of-type {\n",
       "        vertical-align: middle;\n",
       "    }\n",
       "\n",
       "    .dataframe tbody tr th {\n",
       "        vertical-align: top;\n",
       "    }\n",
       "\n",
       "    .dataframe thead th {\n",
       "        text-align: right;\n",
       "    }\n",
       "</style>\n",
       "<table border=\"1\" class=\"dataframe\">\n",
       "  <thead>\n",
       "    <tr style=\"text-align: right;\">\n",
       "      <th></th>\n",
       "      <th>Subject</th>\n",
       "      <th>Session</th>\n",
       "      <th>Group</th>\n",
       "      <th>Unnamed: 0</th>\n",
       "      <th>Unnamed: 0.1</th>\n",
       "      <th>onset</th>\n",
       "      <th>duration</th>\n",
       "      <th>trial_type</th>\n",
       "      <th>value</th>\n",
       "      <th>sample</th>\n",
       "      <th>filename</th>\n",
       "      <th>response_onset</th>\n",
       "      <th>response</th>\n",
       "      <th>type</th>\n",
       "      <th>accuracy</th>\n",
       "    </tr>\n",
       "  </thead>\n",
       "  <tbody>\n",
       "    <tr>\n",
       "      <th>560</th>\n",
       "      <td>786</td>\n",
       "      <td>2</td>\n",
       "      <td>int</td>\n",
       "      <td>1863</td>\n",
       "      <td>1863</td>\n",
       "      <td>1477.948</td>\n",
       "      <td>0.0</td>\n",
       "      <td>go</td>\n",
       "      <td>11</td>\n",
       "      <td>738974</td>\n",
       "      <td>HW_19.jpg</td>\n",
       "      <td>1478.372</td>\n",
       "      <td>button press</td>\n",
       "      <td>go</td>\n",
       "      <td>correct</td>\n",
       "    </tr>\n",
       "    <tr>\n",
       "      <th>561</th>\n",
       "      <td>786</td>\n",
       "      <td>2</td>\n",
       "      <td>int</td>\n",
       "      <td>1866</td>\n",
       "      <td>1866</td>\n",
       "      <td>1479.380</td>\n",
       "      <td>0.0</td>\n",
       "      <td>go</td>\n",
       "      <td>11</td>\n",
       "      <td>739690</td>\n",
       "      <td>HW_05.jpg</td>\n",
       "      <td>1479.788</td>\n",
       "      <td>button press</td>\n",
       "      <td>go</td>\n",
       "      <td>correct</td>\n",
       "    </tr>\n",
       "    <tr>\n",
       "      <th>566</th>\n",
       "      <td>786</td>\n",
       "      <td>2</td>\n",
       "      <td>int</td>\n",
       "      <td>1880</td>\n",
       "      <td>1880</td>\n",
       "      <td>1486.178</td>\n",
       "      <td>0.0</td>\n",
       "      <td>go</td>\n",
       "      <td>11</td>\n",
       "      <td>743089</td>\n",
       "      <td>HW_14.jpg</td>\n",
       "      <td>1486.484</td>\n",
       "      <td>button press</td>\n",
       "      <td>go</td>\n",
       "      <td>correct</td>\n",
       "    </tr>\n",
       "    <tr>\n",
       "      <th>569</th>\n",
       "      <td>786</td>\n",
       "      <td>2</td>\n",
       "      <td>int</td>\n",
       "      <td>1889</td>\n",
       "      <td>1889</td>\n",
       "      <td>1490.294</td>\n",
       "      <td>0.0</td>\n",
       "      <td>go</td>\n",
       "      <td>11</td>\n",
       "      <td>745147</td>\n",
       "      <td>HW_27.jpg</td>\n",
       "      <td>1490.676</td>\n",
       "      <td>button press</td>\n",
       "      <td>go</td>\n",
       "      <td>correct</td>\n",
       "    </tr>\n",
       "    <tr>\n",
       "      <th>572</th>\n",
       "      <td>786</td>\n",
       "      <td>2</td>\n",
       "      <td>int</td>\n",
       "      <td>1898</td>\n",
       "      <td>1898</td>\n",
       "      <td>1494.258</td>\n",
       "      <td>0.0</td>\n",
       "      <td>go</td>\n",
       "      <td>11</td>\n",
       "      <td>747129</td>\n",
       "      <td>HW_01.jpg</td>\n",
       "      <td>1494.756</td>\n",
       "      <td>button press</td>\n",
       "      <td>go</td>\n",
       "      <td>correct</td>\n",
       "    </tr>\n",
       "  </tbody>\n",
       "</table>\n",
       "</div>"
      ],
      "text/plain": [
       "    Subject Session Group  Unnamed: 0  Unnamed: 0.1     onset  duration  \\\n",
       "560     786       2   int        1863          1863  1477.948       0.0   \n",
       "561     786       2   int        1866          1866  1479.380       0.0   \n",
       "566     786       2   int        1880          1880  1486.178       0.0   \n",
       "569     786       2   int        1889          1889  1490.294       0.0   \n",
       "572     786       2   int        1898          1898  1494.258       0.0   \n",
       "\n",
       "    trial_type  value  sample   filename  response_onset      response type  \\\n",
       "560         go     11  738974  HW_19.jpg        1478.372  button press   go   \n",
       "561         go     11  739690  HW_05.jpg        1479.788  button press   go   \n",
       "566         go     11  743089  HW_14.jpg        1486.484  button press   go   \n",
       "569         go     11  745147  HW_27.jpg        1490.676  button press   go   \n",
       "572         go     11  747129  HW_01.jpg        1494.756  button press   go   \n",
       "\n",
       "    accuracy  \n",
       "560  correct  \n",
       "561  correct  \n",
       "566  correct  \n",
       "569  correct  \n",
       "572  correct  "
      ]
     },
     "execution_count": 49,
     "metadata": {},
     "output_type": "execute_result"
    }
   ],
   "source": [
    "df_go_hw.tail()"
   ]
  },
  {
   "cell_type": "markdown",
   "metadata": {},
   "source": [
    "Correct accuracy per group and sessio"
   ]
  },
  {
   "cell_type": "code",
   "execution_count": 50,
   "metadata": {},
   "outputs": [
    {
     "data": {
      "text/plain": [
       "Group  Session\n",
       "ctr    1          4412\n",
       "       2          4352\n",
       "int    1          4407\n",
       "       2          4411\n",
       "Name: accuracy, dtype: int64"
      ]
     },
     "execution_count": 50,
     "metadata": {},
     "output_type": "execute_result"
    }
   ],
   "source": [
    "df_go_hw.groupby(['Group', 'Session'])['accuracy'].apply(\n",
    "    lambda x:  x [x.str.contains('correct')].count())"
   ]
  },
  {
   "cell_type": "markdown",
   "metadata": {},
   "source": [
    "Accuracy rate per participants per session"
   ]
  },
  {
   "cell_type": "code",
   "execution_count": 51,
   "metadata": {},
   "outputs": [
    {
     "data": {
      "text/plain": [
       "Group  Session  Subject\n",
       "ctr    1        172        205\n",
       "                185        205\n",
       "                271        205\n",
       "                279        205\n",
       "                295        205\n",
       "                          ... \n",
       "int    2        743        205\n",
       "                750        205\n",
       "                754        205\n",
       "                763        205\n",
       "                786        205\n",
       "Name: accuracy, Length: 88, dtype: int64"
      ]
     },
     "execution_count": 51,
     "metadata": {},
     "output_type": "execute_result"
    }
   ],
   "source": [
    "df_go_hw.groupby(['Group', 'Session', 'Subject'])['accuracy'].count()"
   ]
  },
  {
   "cell_type": "code",
   "execution_count": 52,
   "metadata": {},
   "outputs": [],
   "source": [
    "df_acc_hw=df_go_hw.groupby(['Group', 'Session', 'Subject'], \n",
    "                           group_keys = False)['accuracy'].apply(\n",
    "    lambda x: x[x.str.contains('correct')].count()/ 205*100)"
   ]
  },
  {
   "cell_type": "code",
   "execution_count": 53,
   "metadata": {},
   "outputs": [],
   "source": [
    "# convert the series to dataframe and \"remove\" the grouping\n",
    "df_acc_hw=df_acc_hw.to_frame()\n",
    "\n",
    "df_acc_hw=df_acc_hw.reset_index()"
   ]
  },
  {
   "cell_type": "code",
   "execution_count": 54,
   "metadata": {},
   "outputs": [
    {
     "data": {
      "text/html": [
       "<div>\n",
       "<style scoped>\n",
       "    .dataframe tbody tr th:only-of-type {\n",
       "        vertical-align: middle;\n",
       "    }\n",
       "\n",
       "    .dataframe tbody tr th {\n",
       "        vertical-align: top;\n",
       "    }\n",
       "\n",
       "    .dataframe thead th {\n",
       "        text-align: right;\n",
       "    }\n",
       "</style>\n",
       "<table border=\"1\" class=\"dataframe\">\n",
       "  <thead>\n",
       "    <tr style=\"text-align: right;\">\n",
       "      <th></th>\n",
       "      <th>Group</th>\n",
       "      <th>Session</th>\n",
       "      <th>Subject</th>\n",
       "      <th>accuracy</th>\n",
       "    </tr>\n",
       "  </thead>\n",
       "  <tbody>\n",
       "    <tr>\n",
       "      <th>0</th>\n",
       "      <td>ctr</td>\n",
       "      <td>1</td>\n",
       "      <td>172</td>\n",
       "      <td>94.146341</td>\n",
       "    </tr>\n",
       "    <tr>\n",
       "      <th>1</th>\n",
       "      <td>ctr</td>\n",
       "      <td>1</td>\n",
       "      <td>185</td>\n",
       "      <td>100.000000</td>\n",
       "    </tr>\n",
       "    <tr>\n",
       "      <th>2</th>\n",
       "      <td>ctr</td>\n",
       "      <td>1</td>\n",
       "      <td>271</td>\n",
       "      <td>96.585366</td>\n",
       "    </tr>\n",
       "    <tr>\n",
       "      <th>3</th>\n",
       "      <td>ctr</td>\n",
       "      <td>1</td>\n",
       "      <td>279</td>\n",
       "      <td>99.512195</td>\n",
       "    </tr>\n",
       "    <tr>\n",
       "      <th>4</th>\n",
       "      <td>ctr</td>\n",
       "      <td>1</td>\n",
       "      <td>295</td>\n",
       "      <td>93.658537</td>\n",
       "    </tr>\n",
       "    <tr>\n",
       "      <th>...</th>\n",
       "      <td>...</td>\n",
       "      <td>...</td>\n",
       "      <td>...</td>\n",
       "      <td>...</td>\n",
       "    </tr>\n",
       "    <tr>\n",
       "      <th>83</th>\n",
       "      <td>int</td>\n",
       "      <td>2</td>\n",
       "      <td>743</td>\n",
       "      <td>98.048780</td>\n",
       "    </tr>\n",
       "    <tr>\n",
       "      <th>84</th>\n",
       "      <td>int</td>\n",
       "      <td>2</td>\n",
       "      <td>750</td>\n",
       "      <td>97.560976</td>\n",
       "    </tr>\n",
       "    <tr>\n",
       "      <th>85</th>\n",
       "      <td>int</td>\n",
       "      <td>2</td>\n",
       "      <td>754</td>\n",
       "      <td>100.000000</td>\n",
       "    </tr>\n",
       "    <tr>\n",
       "      <th>86</th>\n",
       "      <td>int</td>\n",
       "      <td>2</td>\n",
       "      <td>763</td>\n",
       "      <td>98.536585</td>\n",
       "    </tr>\n",
       "    <tr>\n",
       "      <th>87</th>\n",
       "      <td>int</td>\n",
       "      <td>2</td>\n",
       "      <td>786</td>\n",
       "      <td>98.048780</td>\n",
       "    </tr>\n",
       "  </tbody>\n",
       "</table>\n",
       "<p>88 rows × 4 columns</p>\n",
       "</div>"
      ],
      "text/plain": [
       "   Group Session Subject    accuracy\n",
       "0    ctr       1     172   94.146341\n",
       "1    ctr       1     185  100.000000\n",
       "2    ctr       1     271   96.585366\n",
       "3    ctr       1     279   99.512195\n",
       "4    ctr       1     295   93.658537\n",
       "..   ...     ...     ...         ...\n",
       "83   int       2     743   98.048780\n",
       "84   int       2     750   97.560976\n",
       "85   int       2     754  100.000000\n",
       "86   int       2     763   98.536585\n",
       "87   int       2     786   98.048780\n",
       "\n",
       "[88 rows x 4 columns]"
      ]
     },
     "execution_count": 54,
     "metadata": {},
     "output_type": "execute_result"
    }
   ],
   "source": [
    "df_acc_hw"
   ]
  },
  {
   "cell_type": "code",
   "execution_count": 55,
   "metadata": {},
   "outputs": [
    {
     "data": {
      "text/html": [
       "<div>\n",
       "<style scoped>\n",
       "    .dataframe tbody tr th:only-of-type {\n",
       "        vertical-align: middle;\n",
       "    }\n",
       "\n",
       "    .dataframe tbody tr th {\n",
       "        vertical-align: top;\n",
       "    }\n",
       "\n",
       "    .dataframe thead th {\n",
       "        text-align: right;\n",
       "    }\n",
       "</style>\n",
       "<table border=\"1\" class=\"dataframe\">\n",
       "  <thead>\n",
       "    <tr style=\"text-align: right;\">\n",
       "      <th></th>\n",
       "      <th>W</th>\n",
       "      <th>pval</th>\n",
       "      <th>normal</th>\n",
       "    </tr>\n",
       "  </thead>\n",
       "  <tbody>\n",
       "    <tr>\n",
       "      <th>ctr</th>\n",
       "      <td>0.346627</td>\n",
       "      <td>9.772836e-13</td>\n",
       "      <td>False</td>\n",
       "    </tr>\n",
       "    <tr>\n",
       "      <th>int</th>\n",
       "      <td>0.789631</td>\n",
       "      <td>1.749826e-06</td>\n",
       "      <td>False</td>\n",
       "    </tr>\n",
       "  </tbody>\n",
       "</table>\n",
       "</div>"
      ],
      "text/plain": [
       "            W          pval  normal\n",
       "ctr  0.346627  9.772836e-13   False\n",
       "int  0.789631  1.749826e-06   False"
      ]
     },
     "execution_count": 55,
     "metadata": {},
     "output_type": "execute_result"
    }
   ],
   "source": [
    "pg.normality(data=df_acc_hw, dv='accuracy', group='Group')"
   ]
  },
  {
   "cell_type": "code",
   "execution_count": 56,
   "metadata": {},
   "outputs": [
    {
     "data": {
      "text/plain": [
       "<matplotlib.axes._subplots.AxesSubplot at 0x7f4367cf5b50>"
      ]
     },
     "execution_count": 56,
     "metadata": {},
     "output_type": "execute_result"
    },
    {
     "data": {
      "image/png": "[encoded data removed]",
      "text/plain": [
       "<Figure size 432x288 with 1 Axes>"
      ]
     },
     "metadata": {
      "needs_background": "light"
     },
     "output_type": "display_data"
    }
   ],
   "source": [
    "import seaborn as sns\n",
    "sns.pointplot(data=df_acc_hw, x= 'Session', y='accuracy', ci='sd', hue='Group')\n"
   ]
  },
  {
   "cell_type": "code",
   "execution_count": 57,
   "metadata": {},
   "outputs": [],
   "source": [
    "df_acc_hw.to_csv('df_acc_hw.csv')"
   ]
  },
  {
   "cell_type": "code",
   "execution_count": 58,
   "metadata": {},
   "outputs": [
    {
     "data": {
      "text/html": [
       "<div>\n",
       "<style scoped>\n",
       "    .dataframe tbody tr th:only-of-type {\n",
       "        vertical-align: middle;\n",
       "    }\n",
       "\n",
       "    .dataframe tbody tr th {\n",
       "        vertical-align: top;\n",
       "    }\n",
       "\n",
       "    .dataframe thead th {\n",
       "        text-align: right;\n",
       "    }\n",
       "</style>\n",
       "<table border=\"1\" class=\"dataframe\">\n",
       "  <thead>\n",
       "    <tr style=\"text-align: right;\">\n",
       "      <th></th>\n",
       "      <th>Group</th>\n",
       "      <th>Session</th>\n",
       "      <th>Subject</th>\n",
       "      <th>accuracy</th>\n",
       "    </tr>\n",
       "  </thead>\n",
       "  <tbody>\n",
       "    <tr>\n",
       "      <th>0</th>\n",
       "      <td>ctr</td>\n",
       "      <td>1</td>\n",
       "      <td>172</td>\n",
       "      <td>94.146341</td>\n",
       "    </tr>\n",
       "    <tr>\n",
       "      <th>1</th>\n",
       "      <td>ctr</td>\n",
       "      <td>1</td>\n",
       "      <td>185</td>\n",
       "      <td>100.000000</td>\n",
       "    </tr>\n",
       "    <tr>\n",
       "      <th>2</th>\n",
       "      <td>ctr</td>\n",
       "      <td>1</td>\n",
       "      <td>271</td>\n",
       "      <td>96.585366</td>\n",
       "    </tr>\n",
       "    <tr>\n",
       "      <th>3</th>\n",
       "      <td>ctr</td>\n",
       "      <td>1</td>\n",
       "      <td>279</td>\n",
       "      <td>99.512195</td>\n",
       "    </tr>\n",
       "    <tr>\n",
       "      <th>4</th>\n",
       "      <td>ctr</td>\n",
       "      <td>1</td>\n",
       "      <td>295</td>\n",
       "      <td>93.658537</td>\n",
       "    </tr>\n",
       "    <tr>\n",
       "      <th>...</th>\n",
       "      <td>...</td>\n",
       "      <td>...</td>\n",
       "      <td>...</td>\n",
       "      <td>...</td>\n",
       "    </tr>\n",
       "    <tr>\n",
       "      <th>83</th>\n",
       "      <td>int</td>\n",
       "      <td>2</td>\n",
       "      <td>743</td>\n",
       "      <td>98.048780</td>\n",
       "    </tr>\n",
       "    <tr>\n",
       "      <th>84</th>\n",
       "      <td>int</td>\n",
       "      <td>2</td>\n",
       "      <td>750</td>\n",
       "      <td>97.560976</td>\n",
       "    </tr>\n",
       "    <tr>\n",
       "      <th>85</th>\n",
       "      <td>int</td>\n",
       "      <td>2</td>\n",
       "      <td>754</td>\n",
       "      <td>100.000000</td>\n",
       "    </tr>\n",
       "    <tr>\n",
       "      <th>86</th>\n",
       "      <td>int</td>\n",
       "      <td>2</td>\n",
       "      <td>763</td>\n",
       "      <td>98.536585</td>\n",
       "    </tr>\n",
       "    <tr>\n",
       "      <th>87</th>\n",
       "      <td>int</td>\n",
       "      <td>2</td>\n",
       "      <td>786</td>\n",
       "      <td>98.048780</td>\n",
       "    </tr>\n",
       "  </tbody>\n",
       "</table>\n",
       "<p>88 rows × 4 columns</p>\n",
       "</div>"
      ],
      "text/plain": [
       "   Group Session Subject    accuracy\n",
       "0    ctr       1     172   94.146341\n",
       "1    ctr       1     185  100.000000\n",
       "2    ctr       1     271   96.585366\n",
       "3    ctr       1     279   99.512195\n",
       "4    ctr       1     295   93.658537\n",
       "..   ...     ...     ...         ...\n",
       "83   int       2     743   98.048780\n",
       "84   int       2     750   97.560976\n",
       "85   int       2     754  100.000000\n",
       "86   int       2     763   98.536585\n",
       "87   int       2     786   98.048780\n",
       "\n",
       "[88 rows x 4 columns]"
      ]
     },
     "execution_count": 58,
     "metadata": {},
     "output_type": "execute_result"
    }
   ],
   "source": [
    "df_acc_hw"
   ]
  },
  {
   "cell_type": "markdown",
   "metadata": {},
   "source": [
    "Response time to HW stim as Go\n",
    "------------------------------------------------"
   ]
  },
  {
   "cell_type": "code",
   "execution_count": 59,
   "metadata": {},
   "outputs": [],
   "source": [
    "df_rt_hw = all_df[(all_df['trial_type']=='go') & \n",
    "                     (all_df['filename'].str.startswith(\"HW\")) & \n",
    "                  (all_df['accuracy']=='correct')]"
   ]
  },
  {
   "cell_type": "code",
   "execution_count": 61,
   "metadata": {},
   "outputs": [
    {
     "data": {
      "text/plain": [
       "correct        17582\n",
       "incorrect          0\n",
       "false alarm        0\n",
       "Name: accuracy, dtype: int64"
      ]
     },
     "execution_count": 61,
     "metadata": {},
     "output_type": "execute_result"
    }
   ],
   "source": [
    "df_rt_hw['accuracy'].value_counts()"
   ]
  },
  {
   "cell_type": "code",
   "execution_count": 62,
   "metadata": {},
   "outputs": [
    {
     "data": {
      "text/plain": [
       "Index(['Subject', 'Session', 'Group', 'Unnamed: 0', 'Unnamed: 0.1', 'onset',\n",
       "       'duration', 'trial_type', 'value', 'sample', 'filename',\n",
       "       'response_onset', 'response', 'type', 'accuracy'],\n",
       "      dtype='object')"
      ]
     },
     "execution_count": 62,
     "metadata": {},
     "output_type": "execute_result"
    }
   ],
   "source": [
    "df_rt_hw.columns"
   ]
  },
  {
   "cell_type": "code",
   "execution_count": 63,
   "metadata": {},
   "outputs": [
    {
     "name": "stderr",
     "output_type": "stream",
     "text": [
      "/usr/lib/python3/dist-packages/ipykernel_launcher.py:1: SettingWithCopyWarning: \n",
      "A value is trying to be set on a copy of a slice from a DataFrame.\n",
      "Try using .loc[row_indexer,col_indexer] = value instead\n",
      "\n",
      "See the caveats in the documentation: https://pandas.pydata.org/pandas-docs/stable/user_guide/indexing.html#returning-a-view-versus-a-copy\n",
      "  \"\"\"Entry point for launching an IPython kernel.\n"
     ]
    }
   ],
   "source": [
    "df_rt_hw['resp_time'] = df_rt_hw['response_onset'] - df_rt_hw['onset']"
   ]
  },
  {
   "cell_type": "code",
   "execution_count": 64,
   "metadata": {},
   "outputs": [
    {
     "data": {
      "text/plain": [
       "0      0.498\n",
       "3      0.306\n",
       "4      0.362\n",
       "7      0.432\n",
       "8      0.244\n",
       "       ...  \n",
       "560    0.424\n",
       "561    0.408\n",
       "566    0.306\n",
       "569    0.382\n",
       "572    0.498\n",
       "Name: resp_time, Length: 17582, dtype: float64"
      ]
     },
     "execution_count": 64,
     "metadata": {},
     "output_type": "execute_result"
    }
   ],
   "source": [
    "df_rt_hw['resp_time']"
   ]
  },
  {
   "cell_type": "code",
   "execution_count": 84,
   "metadata": {},
   "outputs": [],
   "source": [
    "# compute the mean RT by participant\n",
    "df_rt_mean=df_rt_hw.groupby(['Group','Session', 'Subject'])['resp_time'].mean()"
   ]
  },
  {
   "cell_type": "code",
   "execution_count": 85,
   "metadata": {},
   "outputs": [
    {
     "data": {
      "text/html": [
       "<div>\n",
       "<style scoped>\n",
       "    .dataframe tbody tr th:only-of-type {\n",
       "        vertical-align: middle;\n",
       "    }\n",
       "\n",
       "    .dataframe tbody tr th {\n",
       "        vertical-align: top;\n",
       "    }\n",
       "\n",
       "    .dataframe thead th {\n",
       "        text-align: right;\n",
       "    }\n",
       "</style>\n",
       "<table border=\"1\" class=\"dataframe\">\n",
       "  <thead>\n",
       "    <tr style=\"text-align: right;\">\n",
       "      <th></th>\n",
       "      <th>Group</th>\n",
       "      <th>Session</th>\n",
       "      <th>Subject</th>\n",
       "      <th>resp_time</th>\n",
       "    </tr>\n",
       "  </thead>\n",
       "  <tbody>\n",
       "    <tr>\n",
       "      <th>0</th>\n",
       "      <td>ctr</td>\n",
       "      <td>1</td>\n",
       "      <td>172</td>\n",
       "      <td>0.389585</td>\n",
       "    </tr>\n",
       "    <tr>\n",
       "      <th>1</th>\n",
       "      <td>ctr</td>\n",
       "      <td>1</td>\n",
       "      <td>185</td>\n",
       "      <td>0.319571</td>\n",
       "    </tr>\n",
       "    <tr>\n",
       "      <th>2</th>\n",
       "      <td>ctr</td>\n",
       "      <td>1</td>\n",
       "      <td>271</td>\n",
       "      <td>0.369222</td>\n",
       "    </tr>\n",
       "    <tr>\n",
       "      <th>3</th>\n",
       "      <td>ctr</td>\n",
       "      <td>1</td>\n",
       "      <td>279</td>\n",
       "      <td>0.347422</td>\n",
       "    </tr>\n",
       "    <tr>\n",
       "      <th>4</th>\n",
       "      <td>ctr</td>\n",
       "      <td>1</td>\n",
       "      <td>295</td>\n",
       "      <td>0.408292</td>\n",
       "    </tr>\n",
       "    <tr>\n",
       "      <th>...</th>\n",
       "      <td>...</td>\n",
       "      <td>...</td>\n",
       "      <td>...</td>\n",
       "      <td>...</td>\n",
       "    </tr>\n",
       "    <tr>\n",
       "      <th>83</th>\n",
       "      <td>int</td>\n",
       "      <td>2</td>\n",
       "      <td>743</td>\n",
       "      <td>0.399532</td>\n",
       "    </tr>\n",
       "    <tr>\n",
       "      <th>84</th>\n",
       "      <td>int</td>\n",
       "      <td>2</td>\n",
       "      <td>750</td>\n",
       "      <td>0.442850</td>\n",
       "    </tr>\n",
       "    <tr>\n",
       "      <th>85</th>\n",
       "      <td>int</td>\n",
       "      <td>2</td>\n",
       "      <td>754</td>\n",
       "      <td>0.330078</td>\n",
       "    </tr>\n",
       "    <tr>\n",
       "      <th>86</th>\n",
       "      <td>int</td>\n",
       "      <td>2</td>\n",
       "      <td>763</td>\n",
       "      <td>0.374396</td>\n",
       "    </tr>\n",
       "    <tr>\n",
       "      <th>87</th>\n",
       "      <td>int</td>\n",
       "      <td>2</td>\n",
       "      <td>786</td>\n",
       "      <td>0.407811</td>\n",
       "    </tr>\n",
       "  </tbody>\n",
       "</table>\n",
       "<p>88 rows × 4 columns</p>\n",
       "</div>"
      ],
      "text/plain": [
       "   Group Session Subject  resp_time\n",
       "0    ctr       1     172   0.389585\n",
       "1    ctr       1     185   0.319571\n",
       "2    ctr       1     271   0.369222\n",
       "3    ctr       1     279   0.347422\n",
       "4    ctr       1     295   0.408292\n",
       "..   ...     ...     ...        ...\n",
       "83   int       2     743   0.399532\n",
       "84   int       2     750   0.442850\n",
       "85   int       2     754   0.330078\n",
       "86   int       2     763   0.374396\n",
       "87   int       2     786   0.407811\n",
       "\n",
       "[88 rows x 4 columns]"
      ]
     },
     "execution_count": 85,
     "metadata": {},
     "output_type": "execute_result"
    }
   ],
   "source": [
    "# convert the series to dataframe and \"remove\" the grouping\n",
    "df_rt_mean=df_rt_mean.to_frame()\n",
    "\n",
    "df_rt_mean=df_rt_mean.reset_index()\n",
    "df_rt_mean"
   ]
  },
  {
   "cell_type": "code",
   "execution_count": 86,
   "metadata": {},
   "outputs": [
    {
     "name": "stderr",
     "output_type": "stream",
     "text": [
      "/home/claire/.local/lib/python3.7/site-packages/scipy/stats/morestats.py:1660: UserWarning: p-value may not be accurate for N > 5000.\n",
      "  warnings.warn(\"p-value may not be accurate for N > 5000.\")\n"
     ]
    },
    {
     "data": {
      "text/html": [
       "<div>\n",
       "<style scoped>\n",
       "    .dataframe tbody tr th:only-of-type {\n",
       "        vertical-align: middle;\n",
       "    }\n",
       "\n",
       "    .dataframe tbody tr th {\n",
       "        vertical-align: top;\n",
       "    }\n",
       "\n",
       "    .dataframe thead th {\n",
       "        text-align: right;\n",
       "    }\n",
       "</style>\n",
       "<table border=\"1\" class=\"dataframe\">\n",
       "  <thead>\n",
       "    <tr style=\"text-align: right;\">\n",
       "      <th></th>\n",
       "      <th>W</th>\n",
       "      <th>pval</th>\n",
       "      <th>normal</th>\n",
       "    </tr>\n",
       "  </thead>\n",
       "  <tbody>\n",
       "    <tr>\n",
       "      <th>int</th>\n",
       "      <td>0.965578</td>\n",
       "      <td>1.941219e-41</td>\n",
       "      <td>False</td>\n",
       "    </tr>\n",
       "    <tr>\n",
       "      <th>ctr</th>\n",
       "      <td>0.947690</td>\n",
       "      <td>0.000000e+00</td>\n",
       "      <td>False</td>\n",
       "    </tr>\n",
       "  </tbody>\n",
       "</table>\n",
       "</div>"
      ],
      "text/plain": [
       "            W          pval  normal\n",
       "int  0.965578  1.941219e-41   False\n",
       "ctr  0.947690  0.000000e+00   False"
      ]
     },
     "execution_count": 86,
     "metadata": {},
     "output_type": "execute_result"
    }
   ],
   "source": [
    "pg.normality(data=df_rt_hw, dv='resp_time', group='Group')"
   ]
  },
  {
   "cell_type": "code",
   "execution_count": 87,
   "metadata": {},
   "outputs": [],
   "source": [
    "df_rt_mean.to_csv('df_rt_hw_gng.csv')"
   ]
  },
  {
   "cell_type": "code",
   "execution_count": 88,
   "metadata": {},
   "outputs": [
    {
     "data": {
      "text/plain": [
       "<matplotlib.axes._subplots.AxesSubplot at 0x7f434540ad50>"
      ]
     },
     "execution_count": 88,
     "metadata": {},
     "output_type": "execute_result"
    },
    {
     "data": {
      "image/png": "[encoded data removed]",
      "text/plain": [
       "<Figure size 432x288 with 1 Axes>"
      ]
     },
     "metadata": {
      "needs_background": "light"
     },
     "output_type": "display_data"
    }
   ],
   "source": [
    "import seaborn as sns\n",
    "sns.pointplot(data=df_rt_mean, x= 'Session', y='resp_time', ci='sd', hue='Group')\n"
   ]
  },
  {
   "cell_type": "code",
   "execution_count": 90,
   "metadata": {},
   "outputs": [],
   "source": [
    "import matplotlib.pyplot as plt\n"
   ]
  },
  {
   "cell_type": "code",
   "execution_count": 91,
   "metadata": {},
   "outputs": [
    {
     "data": {
      "text/plain": [
       "([<matplotlib.axis.XTick at 0x7f43456d0490>,\n",
       "  <matplotlib.axis.XTick at 0x7f43456bc550>],\n",
       " <a list of 2 Text xticklabel objects>)"
      ]
     },
     "execution_count": 91,
     "metadata": {},
     "output_type": "execute_result"
    },
    {
     "data": {
      "image/png": "[encoded data removed]",
      "text/plain": [
       "<Figure size 360x288 with 1 Axes>"
      ]
     },
     "metadata": {
      "needs_background": "light"
     },
     "output_type": "display_data"
    },
    {
     "data": {
      "image/png": "[encoded data removed]",
      "text/plain": [
       "<Figure size 360x288 with 1 Axes>"
      ]
     },
     "metadata": {
      "needs_background": "light"
     },
     "output_type": "display_data"
    }
   ],
   "source": [
    "fig1, ax1 = plt.subplots(1, 1, figsize=(5, 4)) \n",
    "\n",
    "df_ctr=df_rt_hw.query(\"Group == 'ctr'\")\n",
    "ctr_plot=pg.plot_paired(data=df_ctr, dv='resp_time', within='Session', \n",
    "                        subject= 'Subject', ax=ax1)\n",
    " \n",
    "plt.title('Paired Plot Test-Re Test RT HW Go CTR Groupe')\n",
    "plt.xticks(ticks=[0, 1], labels=['Pre-Test', 'Post-Test'])\n",
    "\n",
    "fig2, ax2 = plt.subplots(1, 1, figsize=(5, 4)) \n",
    "\n",
    "df_int=df_rt_hw.query(\"Group == 'int'\")\n",
    "int_plot = pg.plot_paired(data=df_int, dv='resp_time', within='Session',\n",
    "                          subject= 'Subject', ax=ax2)\n",
    "\n",
    "plt.title('Paired Plot Test-Re Test Test RT HW Go  INT Groupe')\n",
    "plt.xticks(ticks=[0, 1], labels=['Pre-Test', 'Post-Test'])"
   ]
  }
 ],
 "metadata": {
  "kernelspec": {
   "display_name": "Python 3",
   "language": "python",
   "name": "python3"
  },
  "language_info": {
   "codemirror_mode": {
    "name": "ipython",
    "version": 3
   },
   "file_extension": ".py",
   "mimetype": "text/x-python",
   "name": "python",
   "nbconvert_exporter": "python",
   "pygments_lexer": "ipython3",
   "version": "3.7.5"
  }
 },
 "nbformat": 4,
 "nbformat_minor": 2
}
