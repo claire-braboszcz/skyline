{
 "cells": [
  {
   "cell_type": "markdown",
   "metadata": {},
   "source": [
    "Gets self efficacy and response efficacy score"
   ]
  },
  {
   "cell_type": "code",
   "execution_count": 13,
   "metadata": {},
   "outputs": [],
   "source": [
    "library(tidyverse)\n",
    "library(here)\n",
    "library(lubridate)"
   ]
  },
  {
   "cell_type": "markdown",
   "metadata": {},
   "source": [
    "Preprocessing\n",
    "==============\n",
    "\n",
    "Efficacy scores were collected in:\n",
    "- every 3 days evening questionnaires (!! bug in the plateform, question was presented every day for some participants -> need to work out which and take every 3 day measures)\n",
    "\n",
    "- baseline and followup efficacy - for EEG participants\n",
    "\n",
    "- screening and followup questionnaire - get scores for online participants\n",
    "\n",
    "- Participants who did the baseline and followup Efficacy score on the same survey as the every 3 days one: \n",
    "562, 477, 703, 786"
   ]
  },
  {
   "cell_type": "code",
   "execution_count": 14,
   "metadata": {},
   "outputs": [
    {
     "name": "stderr",
     "output_type": "stream",
     "text": [
      "Parsed with column specification:\n",
      "cols(\n",
      "  ID = \u001b[32mcol_double()\u001b[39m,\n",
      "  day_msg = \u001b[32mcol_double()\u001b[39m,\n",
      "  Starting.Date = \u001b[31mcol_character()\u001b[39m,\n",
      "  Good = \u001b[32mcol_double()\u001b[39m,\n",
      "  Condition...Intervention = \u001b[32mcol_double()\u001b[39m,\n",
      "  EEG = \u001b[32mcol_double()\u001b[39m,\n",
      "  Finished = \u001b[32mcol_double()\u001b[39m,\n",
      "  REMOVED = \u001b[32mcol_double()\u001b[39m,\n",
      "  Interview = \u001b[32mcol_double()\u001b[39m,\n",
      "  Notes = \u001b[31mcol_character()\u001b[39m,\n",
      "  No.Compliance = \u001b[32mcol_double()\u001b[39m,\n",
      "  Email.reminder.poor.perf = \u001b[31mcol_character()\u001b[39m,\n",
      "  eve_msg = \u001b[32mcol_double()\u001b[39m,\n",
      "  ev3days = \u001b[32mcol_double()\u001b[39m,\n",
      "  most_recent = \u001b[34mcol_date(format = \"\")\u001b[39m,\n",
      "  NAME = \u001b[31mcol_character()\u001b[39m,\n",
      "  EMAIL = \u001b[31mcol_character()\u001b[39m,\n",
      "  PHONE = \u001b[31mcol_character()\u001b[39m\n",
      ")\n",
      "\n",
      "Joining, by = \"Response.ID\"\n",
      "\n",
      "Joining, by = \"Screening.ID\"\n",
      "\n"
     ]
    }
   ],
   "source": [
    "#get filepaths\n",
    "\n",
    "#eff_evening_filepath = here(\"Every3days\")\n",
    "\n",
    "cond_file = \"~/Documents/scripts-local/skyline/BEHAVIOUR/Analysis/expe_condition_final.csv\"\n",
    "\n",
    "\n",
    "save_figure = here::here(\"Figures\")\n",
    "\n",
    "#read files\n",
    "\n",
    "files_eff_eve <-dir(path=here::here(\"data/Every3days\") , pattern = \"*.csv\") \n",
    "files_eff_bf <-dir(path=here::here(\"data/BaselineFollowup\") , pattern = \"*.csv\") \n",
    "files_eff_online<-dir(path=here::here(\"data/OnlineFollowup\") , pattern = \"*.csv\") \n",
    "files_eff_base_online<-dir(path=here::here(\"data/OnlineBaseline\") , pattern = \"baseline_eff_score.csv\") # sheet with screening ID\n",
    "files_study_id<-dir(path=here::here(\"data/OnlineBaseline\") , pattern = \"study_ids_online.csv\") # sheet with screening_id/study_ids corresponsdence\n",
    "files_qualtrics<-dir(path=here::here(\"data/OnlineBaseline\") , pattern = \"qualtrics.csv\") # sheet with screening_id/study_ids corresponsdence\n",
    "\n",
    "\n",
    "every3days_scores <-read.csv(here::here(\"data/Every3days\", files_eff_eve), header = TRUE, sep = \",\", dec = \".\", stringsAsFactors = FALSE)\n",
    "\n",
    "\n",
    "baseline_followup_eeg <-read.csv(here::here(\"data/BaselineFollowup\", files_eff_bf), header = TRUE, sep = \",\", dec = \".\", stringsAsFactors = FALSE)\n",
    "\n",
    "followup_online <-read.csv(here::here(\"data/OnlineFollowup\", files_eff_online), header = TRUE, sep = \",\", dec = \".\", stringsAsFactors = FALSE)\n",
    "\n",
    "baseline_online <-read.csv(here::here(\"data/OnlineBaseline\", files_eff_base_online), header = TRUE, sep = \",\", dec = \".\", stringsAsFactors = FALSE)\n",
    "study_id <-read.csv(here::here(\"data/OnlineBaseline\",files_study_id), header = TRUE, sep = \",\", dec = \".\", stringsAsFactors = FALSE)\n",
    "qualtrics <-read.csv(here::here(\"data/OnlineBaseline\",files_qualtrics), header = TRUE, sep = \",\", dec = \".\", stringsAsFactors = FALSE)\n",
    "\n",
    "\n",
    "# condition file\n",
    "cond <- read_csv(cond_file)\n",
    "\n",
    "#Associate online pp baseline efficacy score with their study id:\n",
    "\n",
    "\n",
    "#select only screening ID and qualtrics ID on recruitment file\n",
    "pp_ids<-baseline_online %>% select(\"Screening.ID\", \"Response.ID\") \n",
    "qualtrics<-rename(qualtrics, Response.ID = ResponseId)\n",
    "\n",
    "remove(baseline_online)\n",
    "\n",
    "# join pp_ids with qualtrics data\n",
    "baseline_online<- left_join(pp_ids, qualtrics)\n",
    "\n",
    "# join with study id\n",
    "baseline_online <- left_join(study_id, baseline_online)\n",
    "\n",
    "# remove screening id\n",
    "baseline_online<-select(baseline_online, -Screening.ID)\n",
    "\n",
    "#rename columns \n",
    "#- questions scoring: 0 = not at all; 100 = very much\n",
    "\n",
    "every3days_scores<-rename(every3days_scores , date=EndDate, completed=Finished,\n",
    "                  ID = Q1, \n",
    "                  r_eff1 = Q3_1, r_eff2 = Q3_2, \n",
    "                  s_eff1= Q4_1, s_eff2 = Q4_2, s_eff3= Q4_3, \n",
    "                  hope = Q7_1, \n",
    "                  quit_int = Q5\n",
    "                  )\n",
    "\n",
    "every3days_scores$ID<-as.factor(every3days_scores$ID)\n",
    "\n",
    "\n",
    "baseline_followup_eeg <-rename(baseline_followup_eeg, date=EndDate, completed=Finished,\n",
    "                  ID = Q1, \n",
    "                  r_eff1 = Q3_1, r_eff2 = Q3_2, \n",
    "                  s_eff1= Q4_1, s_eff2 = Q4_2, s_eff3= Q4_3, \n",
    "                  hope = Q7_1\n",
    "                 # quit_int = Q5\n",
    "                  )\n",
    "\n",
    "baseline_followup_eeg$ID<-as.factor(baseline_followup_eeg$ID)\n",
    "\n",
    "\n",
    "followup_online<-rename(followup_online, date=EndDate, completed=Finished, \n",
    "                      ID= Q1, \n",
    "                       r_eff1 = Q88_1, r_eff2= Q88_2, \n",
    "                       s_eff1 = Q90_1, s_eff2 = Q90_2, s_eff3= Q90_3, \n",
    "                       hope=Q92_1\n",
    "                       )\n",
    "followup_online$ID<-as.factor(followup_online$ID)\n",
    "\n",
    "baseline_online<-rename(baseline_online, date=EndDate, completed=Finished, \n",
    "                       ID= Study.ID, \n",
    "                       r_eff1 = Q108_1, r_eff2= Q108_2, \n",
    "                       s_eff1 = Q110_1.1, s_eff2 = Q110_2.1, s_eff3= Q110_3.1, \n",
    "                       hope=Q112_1.1\n",
    "                           )\n",
    "\n",
    "            \n",
    "baseline_online$ID<-as.factor(baseline_online$ID)"
   ]
  },
  {
   "cell_type": "markdown",
   "metadata": {},
   "source": [
    "Create one long dataset collating all data"
   ]
  },
  {
   "cell_type": "code",
   "execution_count": 15,
   "metadata": {},
   "outputs": [],
   "source": [
    "# add a \"session\" column\n",
    "\n",
    "every3days_scores <- add_column(every3days_scores, \"type\" = \"every3days\")\n",
    "followup_online <- add_column(followup_online, \"type\" = \"followup\")\n",
    "baseline_online<- add_column(baseline_online, \"type\" = \"baseline\")"
   ]
  },
  {
   "cell_type": "markdown",
   "metadata": {},
   "source": [
    "get sessions for the baseline-followup dataset\n",
    "  "
   ]
  },
  {
   "cell_type": "code",
   "execution_count": 16,
   "metadata": {},
   "outputs": [],
   "source": [
    "# remove extra header\n",
    "#baseline_followup_eeg<-tail(baseline_followup_eeg, -2)\n",
    "\n",
    "# create session based on occurrence of ID \n",
    "baseline_followup_eeg<-baseline_followup_eeg %>% \n",
    "        #mutate(date=ymd_hms(baseline_followup_eeg$date))  %>% \n",
    "        group_by(ID)  %>%   \n",
    "        mutate('type'= row_number()) %>% \n",
    "        ungroup()\n",
    "        \n",
    "# assign factor and recode        \n",
    "baseline_followup_eeg$type<-as.factor(baseline_followup_eeg$type)        \n",
    "baseline_followup_eeg$type<-recode(baseline_followup_eeg$type, '1'=\"baseline\", '2'=\"followup\")                            \n",
    "\n",
    "\n",
    "# select only columns of interest\n",
    "\n",
    "baseline_followup_eeg<-select(baseline_followup_eeg, ID, date, r_eff1:hope, type, completed)\n",
    "every3days_scores <-select(every3days_scores, ID, date, r_eff1:hope, type, completed)\n",
    "followup_online<-select(followup_online, ID, date, r_eff1:hope, type, completed)\n",
    "baseline_online<-select(baseline_online, ID, date, r_eff1:hope, type, completed)\n",
    "\n",
    "# get only completed surveys\n",
    "every3days_scores<-filter(every3days_scores, completed=='True')\n",
    "\n",
    "baseline_followup_eeg<-filter(baseline_followup_eeg, completed=='True')\n",
    "\n",
    "followup_online<-filter(followup_online, completed=='True')\n",
    "baseline_online<-filter(baseline_online, completed=='True')"
   ]
  },
  {
   "cell_type": "markdown",
   "metadata": {},
   "source": [
    "Do some custom change to fit special cases"
   ]
  },
  {
   "cell_type": "code",
   "execution_count": 17,
   "metadata": {},
   "outputs": [
    {
     "name": "stderr",
     "output_type": "stream",
     "text": [
      "Joining, by = c(\"ID\", \"date\", \"r_eff1\", \"r_eff2\", \"s_eff1\", \"s_eff2\", \"s_eff3\", \"hope\", \"type\", \"completed\")\n",
      "\n",
      "Warning message:\n",
      "“Column `ID` joining factors with different levels, coercing to character vector”\n",
      "Warning message:\n",
      "“Column `type` joining factor and character vector, coercing into character vector”\n",
      "Joining, by = c(\"ID\", \"date\", \"r_eff1\", \"r_eff2\", \"s_eff1\", \"s_eff2\", \"s_eff3\", \"hope\", \"type\", \"completed\")\n",
      "\n"
     ]
    }
   ],
   "source": [
    "#---------------------------------#\n",
    "# get data for the 4 pps who did the baseline and followup efficacy measure in the every3days\n",
    "\n",
    "ID_add_to_bf <-c(562, 477, 703, 786)\n",
    "\n",
    "tmp<- every3days_scores %>% \n",
    "  filter(ID %in% ID_add_to_bf)\n",
    "\n",
    "tmp_bf_score <- tmp %>%  # get baseline and follow up scores - 1st and last \n",
    "  group_by(ID) %>% \n",
    "  slice(c(1, n())) %>% \n",
    "  ungroup()  \n",
    "\n",
    "baseline_followup_eeg<-full_join(baseline_followup_eeg, tmp_bf_score)  # add to df_bf\n",
    "\n",
    "# remove first and last measures then put back into main df dataframe, remove these ID from df before !\n",
    "\n",
    "tmp_df <- tmp %>% \n",
    "  group_by(ID) %>% \n",
    "  slice(2:(n()-1)) %>% \n",
    "  ungroup()  \n",
    "\n",
    "\n",
    "# remove those ID from df then put them back\n",
    "\n",
    "every3days_scores<- every3days_scores %>% \n",
    "  filter(!ID %in% ID_add_to_bf )\n",
    "\n",
    "every3days_scores<-full_join(every3days_scores, tmp_df)\n",
    "\n",
    "rm(tmp, tmp_bf_score, tmp_df)\n",
    "\n",
    "# get IDs of pp who did the survey every day instead of every 3 days\n",
    "\n",
    "# add a counter for each row per ID (see 1.)\n",
    "every3days_scores <- every3days_scores %>% \n",
    "  group_by(ID) %>% \n",
    "  mutate(n_day = row_number()) %>%\n",
    "  select(ID, n_day, everything()) %>% \n",
    "  ungroup()  \n",
    "every3days_scores$n_day<-as.factor(every3days_scores$n_day)\n",
    "\n",
    "get_ID_bug <- every3days_scores %>% \n",
    "  group_by(ID) %>% \n",
    "  mutate(count = row_number()) %>% \n",
    "  filter(count>9) %>% \n",
    "  distinct(ID) %>% \n",
    "  ungroup()  \n",
    "\n",
    "  \n",
    "# for those IDs, only select data from the 1, 6, 9, 12, 15, 18, 21, 24, 27 days, and rename 1:9   \n",
    "days<-c(1, 6, 9, 12, 15, 18, 21, 24, 27)\n",
    "\n",
    "# create a new dataframe combining all pps \n",
    "df9<- every3days_scores %>% \n",
    "  filter(ID %in%get_ID_bug$ID & n_day %in% days) \n",
    "  \n",
    "\n",
    "df9$n_day<-recode_factor(df9$n_day, '1' = \"1\", '6'=\"2\", '9'=\"3\", '12' =\"4\", '15'=\"5\", '18'=\"6\", '21'=\"7\", '24'=\"8\", '27'=\"9\")\n",
    "\n",
    "tmp <- every3days_scores %>% \n",
    "filter(!ID %in% (get_ID_bug$ID) )\n",
    "\n",
    "df9<- rbind(df9, tmp)\n",
    "\n",
    "# create n_day column for baseline and followup\n",
    "followup_online <- followup_online %>% mutate(n_day = '10')\n",
    "\n",
    "baseline_online <- baseline_online %>% mutate(n_day = '0')\n",
    "\n",
    "baseline_followup_eeg<-baseline_followup_eeg %>% \n",
    "    mutate(n_day=ifelse(type=='baseline', '0', '10'))\n",
    "    \n",
    "\n",
    "baseline_online<-filter(baseline_online, completed=='True')"
   ]
  },
  {
   "cell_type": "code",
   "execution_count": 18,
   "metadata": {},
   "outputs": [],
   "source": [
    "# remove extra every 3 days rows\n",
    "baseline_followup_eeg<-baseline_followup_eeg %>% filter(type=='baseline'|type=='followup')"
   ]
  },
  {
   "cell_type": "code",
   "execution_count": 19,
   "metadata": {},
   "outputs": [
    {
     "name": "stderr",
     "output_type": "stream",
     "text": [
      "Warning message in bind_rows_(x, .id):\n",
      "“binding character and factor vector, coercing into character vector”\n",
      "Warning message in bind_rows_(x, .id):\n",
      "“binding character and factor vector, coercing into character vector”\n"
     ]
    }
   ],
   "source": [
    "eff_scores<-bind_rows(baseline_followup_eeg, df9)"
   ]
  },
  {
   "cell_type": "code",
   "execution_count": 20,
   "metadata": {},
   "outputs": [
    {
     "name": "stderr",
     "output_type": "stream",
     "text": [
      "Warning message in bind_rows_(x, .id):\n",
      "“binding character and factor vector, coercing into character vector”\n",
      "Warning message in bind_rows_(x, .id):\n",
      "“binding character and factor vector, coercing into character vector”\n"
     ]
    }
   ],
   "source": [
    "\n",
    "tmp<-bind_rows(eff_scores, followup_online) \n",
    "\n",
    "tmp2<- bind_rows(tmp, baseline_online)"
   ]
  },
  {
   "cell_type": "code",
   "execution_count": 21,
   "metadata": {},
   "outputs": [],
   "source": [
    "remove(eff_scores)\n",
    "eff_scores<-tmp2"
   ]
  },
  {
   "cell_type": "code",
   "execution_count": 22,
   "metadata": {},
   "outputs": [
    {
     "data": {
      "text/html": [
       "<table>\n",
       "<caption>A tibble: 1496 × 12</caption>\n",
       "<thead>\n",
       "\t<tr><th scope=col>ID</th><th scope=col>date</th><th scope=col>r_eff1</th><th scope=col>r_eff2</th><th scope=col>s_eff1</th><th scope=col>s_eff2</th><th scope=col>s_eff3</th><th scope=col>hope</th><th scope=col>type</th><th scope=col>completed</th><th scope=col>n_day</th><th scope=col>check</th></tr>\n",
       "\t<tr><th scope=col>&lt;fct&gt;</th><th scope=col>&lt;chr&gt;</th><th scope=col>&lt;chr&gt;</th><th scope=col>&lt;chr&gt;</th><th scope=col>&lt;chr&gt;</th><th scope=col>&lt;chr&gt;</th><th scope=col>&lt;chr&gt;</th><th scope=col>&lt;chr&gt;</th><th scope=col>&lt;fct&gt;</th><th scope=col>&lt;chr&gt;</th><th scope=col>&lt;chr&gt;</th><th scope=col>&lt;int&gt;</th></tr>\n",
       "</thead>\n",
       "<tbody>\n",
       "\t<tr><td>763</td><td>2019-10-09 11:24:43</td><td>100</td><td>51 </td><td>20</td><td>20</td><td>51</td><td>20</td><td>baseline</td><td>True</td><td>0 </td><td>1</td></tr>\n",
       "\t<tr><td>507</td><td>2019-10-10 10:29:17</td><td>99 </td><td>100</td><td>45</td><td>3 </td><td>11</td><td>40</td><td>baseline</td><td>True</td><td>0 </td><td>1</td></tr>\n",
       "\t<tr><td>388</td><td>2019-10-10 13:52:45</td><td>45 </td><td>21 </td><td>11</td><td>21</td><td>80</td><td>34</td><td>baseline</td><td>True</td><td>0 </td><td>1</td></tr>\n",
       "\t<tr><td>428</td><td>2019-10-14 10:01:58</td><td>60 </td><td>61 </td><td>19</td><td>2 </td><td>5 </td><td>1 </td><td>baseline</td><td>True</td><td>0 </td><td>1</td></tr>\n",
       "\t<tr><td>375</td><td>2019-10-14 15:20:03</td><td>100</td><td>50 </td><td>0 </td><td>0 </td><td>30</td><td>11</td><td>baseline</td><td>True</td><td>0 </td><td>1</td></tr>\n",
       "\t<tr><td>747</td><td>2019-10-16 10:24:59</td><td>49 </td><td>62 </td><td>18</td><td>12</td><td>72</td><td>41</td><td>baseline</td><td>True</td><td>0 </td><td>1</td></tr>\n",
       "\t<tr><td>477</td><td>2019-10-22 11:09:56</td><td>100</td><td>80 </td><td>20</td><td>1 </td><td>75</td><td>15</td><td>baseline</td><td>True</td><td>0 </td><td>1</td></tr>\n",
       "\t<tr><td>729</td><td>2019-10-22 13:21:12</td><td>67 </td><td>31 </td><td>15</td><td>5 </td><td>55</td><td>18</td><td>baseline</td><td>True</td><td>0 </td><td>1</td></tr>\n",
       "\t<tr><td>562</td><td>2019-10-23 16:51:53</td><td>61 </td><td>38 </td><td>28</td><td>10</td><td>80</td><td>44</td><td>baseline</td><td>True</td><td>0 </td><td>1</td></tr>\n",
       "\t<tr><td>754</td><td>2019-10-24 14:23:00</td><td>90 </td><td>90 </td><td>25</td><td>5 </td><td>80</td><td>40</td><td>baseline</td><td>True</td><td>0 </td><td>1</td></tr>\n",
       "\t<tr><td>279</td><td>2019-10-29 09:30:36</td><td>70 </td><td>65 </td><td>23</td><td>9 </td><td>70</td><td>37</td><td>baseline</td><td>True</td><td>0 </td><td>1</td></tr>\n",
       "\t<tr><td>572</td><td>2019-10-29 11:57:22</td><td>40 </td><td>24 </td><td>40</td><td>0 </td><td>20</td><td>12</td><td>baseline</td><td>True</td><td>0 </td><td>1</td></tr>\n",
       "\t<tr><td>339</td><td>2019-10-29 14:21:08</td><td>99 </td><td>99 </td><td>48</td><td>41</td><td>71</td><td>43</td><td>baseline</td><td>True</td><td>0 </td><td>1</td></tr>\n",
       "\t<tr><td>786</td><td>2019-10-30 10:41:28</td><td>66 </td><td>71 </td><td>38</td><td>20</td><td>32</td><td>36</td><td>baseline</td><td>True</td><td>0 </td><td>1</td></tr>\n",
       "\t<tr><td>703</td><td>2019-10-30 16:36:23</td><td>71 </td><td>61 </td><td>28</td><td>15</td><td>16</td><td>20</td><td>baseline</td><td>True</td><td>0 </td><td>1</td></tr>\n",
       "\t<tr><td>667</td><td>2019-10-31 12:52:14</td><td>80 </td><td>70 </td><td>20</td><td>10</td><td>60</td><td>10</td><td>baseline</td><td>True</td><td>0 </td><td>1</td></tr>\n",
       "\t<tr><td>594</td><td>2019-11-06 14:26:53</td><td>16 </td><td>27 </td><td>81</td><td>49</td><td>80</td><td>81</td><td>baseline</td><td>True</td><td>0 </td><td>1</td></tr>\n",
       "\t<tr><td>726</td><td>2019-11-07 14:06:01</td><td>95 </td><td>50 </td><td>0 </td><td>0 </td><td>0 </td><td>0 </td><td>followup</td><td>True</td><td>10</td><td>1</td></tr>\n",
       "\t<tr><td>743</td><td>2019-11-11 13:41:34</td><td>74 </td><td>88 </td><td>11</td><td>5 </td><td>76</td><td>8 </td><td>followup</td><td>True</td><td>10</td><td>1</td></tr>\n",
       "\t<tr><td>763</td><td>2019-11-12 11:58:24</td><td>80 </td><td>50 </td><td>20</td><td>20</td><td>50</td><td>20</td><td>followup</td><td>True</td><td>10</td><td>2</td></tr>\n",
       "\t<tr><td>375</td><td>2019-11-12 14:07:21</td><td>100</td><td>100</td><td>54</td><td>31</td><td>60</td><td>69</td><td>followup</td><td>True</td><td>10</td><td>2</td></tr>\n",
       "\t<tr><td>188</td><td>2019-11-13 10:24:08</td><td>68 </td><td>70 </td><td>28</td><td>4 </td><td>12</td><td>34</td><td>baseline</td><td>True</td><td>0 </td><td>1</td></tr>\n",
       "\t<tr><td>545</td><td>2019-11-13 14:26:00</td><td>60 </td><td>89 </td><td>59</td><td>35</td><td>79</td><td>77</td><td>baseline</td><td>True</td><td>0 </td><td>1</td></tr>\n",
       "\t<tr><td>507</td><td>2019-11-14 11:21:07</td><td>84 </td><td>64 </td><td>5 </td><td>17</td><td>41</td><td>40</td><td>followup</td><td>True</td><td>10</td><td>2</td></tr>\n",
       "\t<tr><td>388</td><td>2019-11-14 14:32:16</td><td>58 </td><td>38 </td><td>27</td><td>17</td><td>60</td><td>38</td><td>followup</td><td>True</td><td>10</td><td>2</td></tr>\n",
       "\t<tr><td>428</td><td>2019-11-18 11:10:04</td><td>32 </td><td>33 </td><td>4 </td><td>4 </td><td>7 </td><td>6 </td><td>followup</td><td>True</td><td>10</td><td>2</td></tr>\n",
       "\t<tr><td>747</td><td>2019-11-18 14:28:47</td><td>54 </td><td>54 </td><td>20</td><td>17</td><td>53</td><td>15</td><td>followup</td><td>True</td><td>10</td><td>2</td></tr>\n",
       "\t<tr><td>729</td><td>2019-11-26 10:18:14</td><td>72 </td><td>52 </td><td>18</td><td>7 </td><td>22</td><td>52</td><td>followup</td><td>True</td><td>10</td><td>2</td></tr>\n",
       "\t<tr><td>339</td><td>2019-11-27 11:09:22</td><td>100</td><td>100</td><td>62</td><td>64</td><td>63</td><td>64</td><td>followup</td><td>True</td><td>10</td><td>2</td></tr>\n",
       "\t<tr><td>279</td><td>2019-11-27 13:11:23</td><td>70 </td><td>64 </td><td>11</td><td>21</td><td>5 </td><td>29</td><td>followup</td><td>True</td><td>10</td><td>2</td></tr>\n",
       "\t<tr><td>⋮</td><td>⋮</td><td>⋮</td><td>⋮</td><td>⋮</td><td>⋮</td><td>⋮</td><td>⋮</td><td>⋮</td><td>⋮</td><td>⋮</td><td>⋮</td></tr>\n",
       "\t<tr><td>2444</td><td>2020-02-07 15:41:30</td><td>46 </td><td>84 </td><td>33 </td><td>2  </td><td>20 </td><td>4  </td><td>baseline</td><td>True</td><td>0</td><td>1</td></tr>\n",
       "\t<tr><td>1634</td><td>2020-02-07 19:04:13</td><td>100</td><td>76 </td><td>100</td><td>17 </td><td>85 </td><td>79 </td><td>baseline</td><td>True</td><td>0</td><td>1</td></tr>\n",
       "\t<tr><td>2945</td><td>2020-02-07 21:25:14</td><td>49 </td><td>78 </td><td>21 </td><td>9  </td><td>70 </td><td>26 </td><td>baseline</td><td>True</td><td>0</td><td>1</td></tr>\n",
       "\t<tr><td>2286</td><td>2020-02-07 22:16:27</td><td>80 </td><td>51 </td><td>26 </td><td>9  </td><td>58 </td><td>24 </td><td>baseline</td><td>True</td><td>0</td><td>1</td></tr>\n",
       "\t<tr><td>1637</td><td>2020-02-07 22:24:25</td><td>48 </td><td>49 </td><td>21 </td><td>6  </td><td>6  </td><td>6  </td><td>baseline</td><td>True</td><td>0</td><td>1</td></tr>\n",
       "\t<tr><td>1265</td><td>2020-02-07 22:54:42</td><td>69 </td><td>71 </td><td>64 </td><td>40 </td><td>70 </td><td>58 </td><td>baseline</td><td>True</td><td>0</td><td>1</td></tr>\n",
       "\t<tr><td>2914</td><td>2020-02-08 01:39:34</td><td>79 </td><td>96 </td><td>64 </td><td>47 </td><td>84 </td><td>49 </td><td>baseline</td><td>True</td><td>0</td><td>1</td></tr>\n",
       "\t<tr><td>2015</td><td>2020-02-08 02:24:41</td><td>100</td><td>50 </td><td>20 </td><td>8  </td><td>20 </td><td>34 </td><td>baseline</td><td>True</td><td>0</td><td>1</td></tr>\n",
       "\t<tr><td>2959</td><td>2020-02-08 09:56:37</td><td>100</td><td>100</td><td>50 </td><td>3  </td><td>27 </td><td>7  </td><td>baseline</td><td>True</td><td>0</td><td>1</td></tr>\n",
       "\t<tr><td>1158</td><td>2020-02-08 21:34:26</td><td>66 </td><td>42 </td><td>44 </td><td>19 </td><td>42 </td><td>41 </td><td>baseline</td><td>True</td><td>0</td><td>1</td></tr>\n",
       "\t<tr><td>2356</td><td>2020-02-08 22:45:09</td><td>61 </td><td>0  </td><td>0  </td><td>1  </td><td>4  </td><td>33 </td><td>baseline</td><td>True</td><td>0</td><td>1</td></tr>\n",
       "\t<tr><td>1040</td><td>2020-02-08 23:59:25</td><td>70 </td><td>53 </td><td>31 </td><td>4  </td><td>67 </td><td>28 </td><td>baseline</td><td>True</td><td>0</td><td>1</td></tr>\n",
       "\t<tr><td>2152</td><td>2020-02-09 07:44:24</td><td>20 </td><td>30 </td><td>10 </td><td>7  </td><td>30 </td><td>50 </td><td>baseline</td><td>True</td><td>0</td><td>1</td></tr>\n",
       "\t<tr><td>2388</td><td>2020-02-09 10:30:32</td><td>0  </td><td>0  </td><td>0  </td><td>0  </td><td>0  </td><td>0  </td><td>baseline</td><td>True</td><td>0</td><td>1</td></tr>\n",
       "\t<tr><td>2050</td><td>2020-02-09 12:14:15</td><td>51 </td><td>48 </td><td>100</td><td>100</td><td>100</td><td>100</td><td>baseline</td><td>True</td><td>0</td><td>1</td></tr>\n",
       "\t<tr><td>2889</td><td>2020-02-09 12:31:58</td><td>65 </td><td>73 </td><td>50 </td><td>35 </td><td>35 </td><td>62 </td><td>baseline</td><td>True</td><td>0</td><td>1</td></tr>\n",
       "\t<tr><td>1984</td><td>2020-02-09 22:05:28</td><td>100</td><td>100</td><td>50 </td><td>15 </td><td>64 </td><td>52 </td><td>baseline</td><td>True</td><td>0</td><td>1</td></tr>\n",
       "\t<tr><td>2103</td><td>2020-02-10 16:09:54</td><td>74 </td><td>37 </td><td>15 </td><td>8  </td><td>67 </td><td>15 </td><td>baseline</td><td>True</td><td>0</td><td>1</td></tr>\n",
       "\t<tr><td>1631</td><td>2020-02-11 05:44:31</td><td>50 </td><td>70 </td><td>35 </td><td>35 </td><td>25 </td><td>40 </td><td>baseline</td><td>True</td><td>0</td><td>1</td></tr>\n",
       "\t<tr><td>947 </td><td>2020-02-04 06:07:14</td><td>100</td><td>100</td><td>7  </td><td>5  </td><td>37 </td><td>8  </td><td>baseline</td><td>True</td><td>0</td><td>1</td></tr>\n",
       "\t<tr><td>2842</td><td>2020-02-04 11:58:25</td><td>86 </td><td>53 </td><td>51 </td><td>52 </td><td>70 </td><td>51 </td><td>baseline</td><td>True</td><td>0</td><td>1</td></tr>\n",
       "\t<tr><td>1926</td><td>2020-02-05 07:43:42</td><td>10 </td><td>51 </td><td>5  </td><td>   </td><td>30 </td><td>0  </td><td>baseline</td><td>True</td><td>0</td><td>1</td></tr>\n",
       "\t<tr><td>2234</td><td>2020-02-05 22:40:25</td><td>83 </td><td>81 </td><td>43 </td><td>14 </td><td>45 </td><td>41 </td><td>baseline</td><td>True</td><td>0</td><td>1</td></tr>\n",
       "\t<tr><td>2021</td><td>2020-02-05 22:42:55</td><td>58 </td><td>70 </td><td>32 </td><td>16 </td><td>70 </td><td>32 </td><td>baseline</td><td>True</td><td>0</td><td>1</td></tr>\n",
       "\t<tr><td>2796</td><td>2020-02-06 18:18:10</td><td>100</td><td>100</td><td>49 </td><td>33 </td><td>100</td><td>38 </td><td>baseline</td><td>True</td><td>0</td><td>1</td></tr>\n",
       "\t<tr><td>2083</td><td>2020-02-07 00:50:01</td><td>100</td><td>100</td><td>49 </td><td>37 </td><td>100</td><td>59 </td><td>baseline</td><td>True</td><td>0</td><td>1</td></tr>\n",
       "\t<tr><td>2949</td><td>2020-02-07 14:49:40</td><td>68 </td><td>68 </td><td>17 </td><td>10 </td><td>9  </td><td>9  </td><td>baseline</td><td>True</td><td>0</td><td>1</td></tr>\n",
       "\t<tr><td>2360</td><td>2020-02-08 14:45:41</td><td>40 </td><td>40 </td><td>21 </td><td>13 </td><td>21 </td><td>22 </td><td>baseline</td><td>True</td><td>0</td><td>1</td></tr>\n",
       "\t<tr><td>2315</td><td>2020-02-09 10:19:51</td><td>80 </td><td>82 </td><td>53 </td><td>27 </td><td>37 </td><td>68 </td><td>baseline</td><td>True</td><td>0</td><td>1</td></tr>\n",
       "\t<tr><td>2573</td><td>2020-02-10 20:04:30</td><td>95 </td><td>94 </td><td>62 </td><td>54 </td><td>73 </td><td>53 </td><td>baseline</td><td>True</td><td>0</td><td>1</td></tr>\n",
       "</tbody>\n",
       "</table>\n"
      ],
      "text/latex": [
       "A tibble: 1496 × 12\n",
       "\\begin{tabular}{llllllllllll}\n",
       " ID & date & r\\_eff1 & r\\_eff2 & s\\_eff1 & s\\_eff2 & s\\_eff3 & hope & type & completed & n\\_day & check\\\\\n",
       " <fct> & <chr> & <chr> & <chr> & <chr> & <chr> & <chr> & <chr> & <fct> & <chr> & <chr> & <int>\\\\\n",
       "\\hline\n",
       "\t 763 & 2019-10-09 11:24:43 & 100 & 51  & 20 & 20 & 51 & 20 & baseline & True & 0  & 1\\\\\n",
       "\t 507 & 2019-10-10 10:29:17 & 99  & 100 & 45 & 3  & 11 & 40 & baseline & True & 0  & 1\\\\\n",
       "\t 388 & 2019-10-10 13:52:45 & 45  & 21  & 11 & 21 & 80 & 34 & baseline & True & 0  & 1\\\\\n",
       "\t 428 & 2019-10-14 10:01:58 & 60  & 61  & 19 & 2  & 5  & 1  & baseline & True & 0  & 1\\\\\n",
       "\t 375 & 2019-10-14 15:20:03 & 100 & 50  & 0  & 0  & 30 & 11 & baseline & True & 0  & 1\\\\\n",
       "\t 747 & 2019-10-16 10:24:59 & 49  & 62  & 18 & 12 & 72 & 41 & baseline & True & 0  & 1\\\\\n",
       "\t 477 & 2019-10-22 11:09:56 & 100 & 80  & 20 & 1  & 75 & 15 & baseline & True & 0  & 1\\\\\n",
       "\t 729 & 2019-10-22 13:21:12 & 67  & 31  & 15 & 5  & 55 & 18 & baseline & True & 0  & 1\\\\\n",
       "\t 562 & 2019-10-23 16:51:53 & 61  & 38  & 28 & 10 & 80 & 44 & baseline & True & 0  & 1\\\\\n",
       "\t 754 & 2019-10-24 14:23:00 & 90  & 90  & 25 & 5  & 80 & 40 & baseline & True & 0  & 1\\\\\n",
       "\t 279 & 2019-10-29 09:30:36 & 70  & 65  & 23 & 9  & 70 & 37 & baseline & True & 0  & 1\\\\\n",
       "\t 572 & 2019-10-29 11:57:22 & 40  & 24  & 40 & 0  & 20 & 12 & baseline & True & 0  & 1\\\\\n",
       "\t 339 & 2019-10-29 14:21:08 & 99  & 99  & 48 & 41 & 71 & 43 & baseline & True & 0  & 1\\\\\n",
       "\t 786 & 2019-10-30 10:41:28 & 66  & 71  & 38 & 20 & 32 & 36 & baseline & True & 0  & 1\\\\\n",
       "\t 703 & 2019-10-30 16:36:23 & 71  & 61  & 28 & 15 & 16 & 20 & baseline & True & 0  & 1\\\\\n",
       "\t 667 & 2019-10-31 12:52:14 & 80  & 70  & 20 & 10 & 60 & 10 & baseline & True & 0  & 1\\\\\n",
       "\t 594 & 2019-11-06 14:26:53 & 16  & 27  & 81 & 49 & 80 & 81 & baseline & True & 0  & 1\\\\\n",
       "\t 726 & 2019-11-07 14:06:01 & 95  & 50  & 0  & 0  & 0  & 0  & followup & True & 10 & 1\\\\\n",
       "\t 743 & 2019-11-11 13:41:34 & 74  & 88  & 11 & 5  & 76 & 8  & followup & True & 10 & 1\\\\\n",
       "\t 763 & 2019-11-12 11:58:24 & 80  & 50  & 20 & 20 & 50 & 20 & followup & True & 10 & 2\\\\\n",
       "\t 375 & 2019-11-12 14:07:21 & 100 & 100 & 54 & 31 & 60 & 69 & followup & True & 10 & 2\\\\\n",
       "\t 188 & 2019-11-13 10:24:08 & 68  & 70  & 28 & 4  & 12 & 34 & baseline & True & 0  & 1\\\\\n",
       "\t 545 & 2019-11-13 14:26:00 & 60  & 89  & 59 & 35 & 79 & 77 & baseline & True & 0  & 1\\\\\n",
       "\t 507 & 2019-11-14 11:21:07 & 84  & 64  & 5  & 17 & 41 & 40 & followup & True & 10 & 2\\\\\n",
       "\t 388 & 2019-11-14 14:32:16 & 58  & 38  & 27 & 17 & 60 & 38 & followup & True & 10 & 2\\\\\n",
       "\t 428 & 2019-11-18 11:10:04 & 32  & 33  & 4  & 4  & 7  & 6  & followup & True & 10 & 2\\\\\n",
       "\t 747 & 2019-11-18 14:28:47 & 54  & 54  & 20 & 17 & 53 & 15 & followup & True & 10 & 2\\\\\n",
       "\t 729 & 2019-11-26 10:18:14 & 72  & 52  & 18 & 7  & 22 & 52 & followup & True & 10 & 2\\\\\n",
       "\t 339 & 2019-11-27 11:09:22 & 100 & 100 & 62 & 64 & 63 & 64 & followup & True & 10 & 2\\\\\n",
       "\t 279 & 2019-11-27 13:11:23 & 70  & 64  & 11 & 21 & 5  & 29 & followup & True & 10 & 2\\\\\n",
       "\t ⋮ & ⋮ & ⋮ & ⋮ & ⋮ & ⋮ & ⋮ & ⋮ & ⋮ & ⋮ & ⋮ & ⋮\\\\\n",
       "\t 2444 & 2020-02-07 15:41:30 & 46  & 84  & 33  & 2   & 20  & 4   & baseline & True & 0 & 1\\\\\n",
       "\t 1634 & 2020-02-07 19:04:13 & 100 & 76  & 100 & 17  & 85  & 79  & baseline & True & 0 & 1\\\\\n",
       "\t 2945 & 2020-02-07 21:25:14 & 49  & 78  & 21  & 9   & 70  & 26  & baseline & True & 0 & 1\\\\\n",
       "\t 2286 & 2020-02-07 22:16:27 & 80  & 51  & 26  & 9   & 58  & 24  & baseline & True & 0 & 1\\\\\n",
       "\t 1637 & 2020-02-07 22:24:25 & 48  & 49  & 21  & 6   & 6   & 6   & baseline & True & 0 & 1\\\\\n",
       "\t 1265 & 2020-02-07 22:54:42 & 69  & 71  & 64  & 40  & 70  & 58  & baseline & True & 0 & 1\\\\\n",
       "\t 2914 & 2020-02-08 01:39:34 & 79  & 96  & 64  & 47  & 84  & 49  & baseline & True & 0 & 1\\\\\n",
       "\t 2015 & 2020-02-08 02:24:41 & 100 & 50  & 20  & 8   & 20  & 34  & baseline & True & 0 & 1\\\\\n",
       "\t 2959 & 2020-02-08 09:56:37 & 100 & 100 & 50  & 3   & 27  & 7   & baseline & True & 0 & 1\\\\\n",
       "\t 1158 & 2020-02-08 21:34:26 & 66  & 42  & 44  & 19  & 42  & 41  & baseline & True & 0 & 1\\\\\n",
       "\t 2356 & 2020-02-08 22:45:09 & 61  & 0   & 0   & 1   & 4   & 33  & baseline & True & 0 & 1\\\\\n",
       "\t 1040 & 2020-02-08 23:59:25 & 70  & 53  & 31  & 4   & 67  & 28  & baseline & True & 0 & 1\\\\\n",
       "\t 2152 & 2020-02-09 07:44:24 & 20  & 30  & 10  & 7   & 30  & 50  & baseline & True & 0 & 1\\\\\n",
       "\t 2388 & 2020-02-09 10:30:32 & 0   & 0   & 0   & 0   & 0   & 0   & baseline & True & 0 & 1\\\\\n",
       "\t 2050 & 2020-02-09 12:14:15 & 51  & 48  & 100 & 100 & 100 & 100 & baseline & True & 0 & 1\\\\\n",
       "\t 2889 & 2020-02-09 12:31:58 & 65  & 73  & 50  & 35  & 35  & 62  & baseline & True & 0 & 1\\\\\n",
       "\t 1984 & 2020-02-09 22:05:28 & 100 & 100 & 50  & 15  & 64  & 52  & baseline & True & 0 & 1\\\\\n",
       "\t 2103 & 2020-02-10 16:09:54 & 74  & 37  & 15  & 8   & 67  & 15  & baseline & True & 0 & 1\\\\\n",
       "\t 1631 & 2020-02-11 05:44:31 & 50  & 70  & 35  & 35  & 25  & 40  & baseline & True & 0 & 1\\\\\n",
       "\t 947  & 2020-02-04 06:07:14 & 100 & 100 & 7   & 5   & 37  & 8   & baseline & True & 0 & 1\\\\\n",
       "\t 2842 & 2020-02-04 11:58:25 & 86  & 53  & 51  & 52  & 70  & 51  & baseline & True & 0 & 1\\\\\n",
       "\t 1926 & 2020-02-05 07:43:42 & 10  & 51  & 5   &     & 30  & 0   & baseline & True & 0 & 1\\\\\n",
       "\t 2234 & 2020-02-05 22:40:25 & 83  & 81  & 43  & 14  & 45  & 41  & baseline & True & 0 & 1\\\\\n",
       "\t 2021 & 2020-02-05 22:42:55 & 58  & 70  & 32  & 16  & 70  & 32  & baseline & True & 0 & 1\\\\\n",
       "\t 2796 & 2020-02-06 18:18:10 & 100 & 100 & 49  & 33  & 100 & 38  & baseline & True & 0 & 1\\\\\n",
       "\t 2083 & 2020-02-07 00:50:01 & 100 & 100 & 49  & 37  & 100 & 59  & baseline & True & 0 & 1\\\\\n",
       "\t 2949 & 2020-02-07 14:49:40 & 68  & 68  & 17  & 10  & 9   & 9   & baseline & True & 0 & 1\\\\\n",
       "\t 2360 & 2020-02-08 14:45:41 & 40  & 40  & 21  & 13  & 21  & 22  & baseline & True & 0 & 1\\\\\n",
       "\t 2315 & 2020-02-09 10:19:51 & 80  & 82  & 53  & 27  & 37  & 68  & baseline & True & 0 & 1\\\\\n",
       "\t 2573 & 2020-02-10 20:04:30 & 95  & 94  & 62  & 54  & 73  & 53  & baseline & True & 0 & 1\\\\\n",
       "\\end{tabular}\n"
      ],
      "text/markdown": [
       "\n",
       "A tibble: 1496 × 12\n",
       "\n",
       "| ID &lt;fct&gt; | date &lt;chr&gt; | r_eff1 &lt;chr&gt; | r_eff2 &lt;chr&gt; | s_eff1 &lt;chr&gt; | s_eff2 &lt;chr&gt; | s_eff3 &lt;chr&gt; | hope &lt;chr&gt; | type &lt;fct&gt; | completed &lt;chr&gt; | n_day &lt;chr&gt; | check &lt;int&gt; |\n",
       "|---|---|---|---|---|---|---|---|---|---|---|---|\n",
       "| 763 | 2019-10-09 11:24:43 | 100 | 51  | 20 | 20 | 51 | 20 | baseline | True | 0  | 1 |\n",
       "| 507 | 2019-10-10 10:29:17 | 99  | 100 | 45 | 3  | 11 | 40 | baseline | True | 0  | 1 |\n",
       "| 388 | 2019-10-10 13:52:45 | 45  | 21  | 11 | 21 | 80 | 34 | baseline | True | 0  | 1 |\n",
       "| 428 | 2019-10-14 10:01:58 | 60  | 61  | 19 | 2  | 5  | 1  | baseline | True | 0  | 1 |\n",
       "| 375 | 2019-10-14 15:20:03 | 100 | 50  | 0  | 0  | 30 | 11 | baseline | True | 0  | 1 |\n",
       "| 747 | 2019-10-16 10:24:59 | 49  | 62  | 18 | 12 | 72 | 41 | baseline | True | 0  | 1 |\n",
       "| 477 | 2019-10-22 11:09:56 | 100 | 80  | 20 | 1  | 75 | 15 | baseline | True | 0  | 1 |\n",
       "| 729 | 2019-10-22 13:21:12 | 67  | 31  | 15 | 5  | 55 | 18 | baseline | True | 0  | 1 |\n",
       "| 562 | 2019-10-23 16:51:53 | 61  | 38  | 28 | 10 | 80 | 44 | baseline | True | 0  | 1 |\n",
       "| 754 | 2019-10-24 14:23:00 | 90  | 90  | 25 | 5  | 80 | 40 | baseline | True | 0  | 1 |\n",
       "| 279 | 2019-10-29 09:30:36 | 70  | 65  | 23 | 9  | 70 | 37 | baseline | True | 0  | 1 |\n",
       "| 572 | 2019-10-29 11:57:22 | 40  | 24  | 40 | 0  | 20 | 12 | baseline | True | 0  | 1 |\n",
       "| 339 | 2019-10-29 14:21:08 | 99  | 99  | 48 | 41 | 71 | 43 | baseline | True | 0  | 1 |\n",
       "| 786 | 2019-10-30 10:41:28 | 66  | 71  | 38 | 20 | 32 | 36 | baseline | True | 0  | 1 |\n",
       "| 703 | 2019-10-30 16:36:23 | 71  | 61  | 28 | 15 | 16 | 20 | baseline | True | 0  | 1 |\n",
       "| 667 | 2019-10-31 12:52:14 | 80  | 70  | 20 | 10 | 60 | 10 | baseline | True | 0  | 1 |\n",
       "| 594 | 2019-11-06 14:26:53 | 16  | 27  | 81 | 49 | 80 | 81 | baseline | True | 0  | 1 |\n",
       "| 726 | 2019-11-07 14:06:01 | 95  | 50  | 0  | 0  | 0  | 0  | followup | True | 10 | 1 |\n",
       "| 743 | 2019-11-11 13:41:34 | 74  | 88  | 11 | 5  | 76 | 8  | followup | True | 10 | 1 |\n",
       "| 763 | 2019-11-12 11:58:24 | 80  | 50  | 20 | 20 | 50 | 20 | followup | True | 10 | 2 |\n",
       "| 375 | 2019-11-12 14:07:21 | 100 | 100 | 54 | 31 | 60 | 69 | followup | True | 10 | 2 |\n",
       "| 188 | 2019-11-13 10:24:08 | 68  | 70  | 28 | 4  | 12 | 34 | baseline | True | 0  | 1 |\n",
       "| 545 | 2019-11-13 14:26:00 | 60  | 89  | 59 | 35 | 79 | 77 | baseline | True | 0  | 1 |\n",
       "| 507 | 2019-11-14 11:21:07 | 84  | 64  | 5  | 17 | 41 | 40 | followup | True | 10 | 2 |\n",
       "| 388 | 2019-11-14 14:32:16 | 58  | 38  | 27 | 17 | 60 | 38 | followup | True | 10 | 2 |\n",
       "| 428 | 2019-11-18 11:10:04 | 32  | 33  | 4  | 4  | 7  | 6  | followup | True | 10 | 2 |\n",
       "| 747 | 2019-11-18 14:28:47 | 54  | 54  | 20 | 17 | 53 | 15 | followup | True | 10 | 2 |\n",
       "| 729 | 2019-11-26 10:18:14 | 72  | 52  | 18 | 7  | 22 | 52 | followup | True | 10 | 2 |\n",
       "| 339 | 2019-11-27 11:09:22 | 100 | 100 | 62 | 64 | 63 | 64 | followup | True | 10 | 2 |\n",
       "| 279 | 2019-11-27 13:11:23 | 70  | 64  | 11 | 21 | 5  | 29 | followup | True | 10 | 2 |\n",
       "| ⋮ | ⋮ | ⋮ | ⋮ | ⋮ | ⋮ | ⋮ | ⋮ | ⋮ | ⋮ | ⋮ | ⋮ |\n",
       "| 2444 | 2020-02-07 15:41:30 | 46  | 84  | 33  | 2   | 20  | 4   | baseline | True | 0 | 1 |\n",
       "| 1634 | 2020-02-07 19:04:13 | 100 | 76  | 100 | 17  | 85  | 79  | baseline | True | 0 | 1 |\n",
       "| 2945 | 2020-02-07 21:25:14 | 49  | 78  | 21  | 9   | 70  | 26  | baseline | True | 0 | 1 |\n",
       "| 2286 | 2020-02-07 22:16:27 | 80  | 51  | 26  | 9   | 58  | 24  | baseline | True | 0 | 1 |\n",
       "| 1637 | 2020-02-07 22:24:25 | 48  | 49  | 21  | 6   | 6   | 6   | baseline | True | 0 | 1 |\n",
       "| 1265 | 2020-02-07 22:54:42 | 69  | 71  | 64  | 40  | 70  | 58  | baseline | True | 0 | 1 |\n",
       "| 2914 | 2020-02-08 01:39:34 | 79  | 96  | 64  | 47  | 84  | 49  | baseline | True | 0 | 1 |\n",
       "| 2015 | 2020-02-08 02:24:41 | 100 | 50  | 20  | 8   | 20  | 34  | baseline | True | 0 | 1 |\n",
       "| 2959 | 2020-02-08 09:56:37 | 100 | 100 | 50  | 3   | 27  | 7   | baseline | True | 0 | 1 |\n",
       "| 1158 | 2020-02-08 21:34:26 | 66  | 42  | 44  | 19  | 42  | 41  | baseline | True | 0 | 1 |\n",
       "| 2356 | 2020-02-08 22:45:09 | 61  | 0   | 0   | 1   | 4   | 33  | baseline | True | 0 | 1 |\n",
       "| 1040 | 2020-02-08 23:59:25 | 70  | 53  | 31  | 4   | 67  | 28  | baseline | True | 0 | 1 |\n",
       "| 2152 | 2020-02-09 07:44:24 | 20  | 30  | 10  | 7   | 30  | 50  | baseline | True | 0 | 1 |\n",
       "| 2388 | 2020-02-09 10:30:32 | 0   | 0   | 0   | 0   | 0   | 0   | baseline | True | 0 | 1 |\n",
       "| 2050 | 2020-02-09 12:14:15 | 51  | 48  | 100 | 100 | 100 | 100 | baseline | True | 0 | 1 |\n",
       "| 2889 | 2020-02-09 12:31:58 | 65  | 73  | 50  | 35  | 35  | 62  | baseline | True | 0 | 1 |\n",
       "| 1984 | 2020-02-09 22:05:28 | 100 | 100 | 50  | 15  | 64  | 52  | baseline | True | 0 | 1 |\n",
       "| 2103 | 2020-02-10 16:09:54 | 74  | 37  | 15  | 8   | 67  | 15  | baseline | True | 0 | 1 |\n",
       "| 1631 | 2020-02-11 05:44:31 | 50  | 70  | 35  | 35  | 25  | 40  | baseline | True | 0 | 1 |\n",
       "| 947  | 2020-02-04 06:07:14 | 100 | 100 | 7   | 5   | 37  | 8   | baseline | True | 0 | 1 |\n",
       "| 2842 | 2020-02-04 11:58:25 | 86  | 53  | 51  | 52  | 70  | 51  | baseline | True | 0 | 1 |\n",
       "| 1926 | 2020-02-05 07:43:42 | 10  | 51  | 5   | <!----> | 30  | 0   | baseline | True | 0 | 1 |\n",
       "| 2234 | 2020-02-05 22:40:25 | 83  | 81  | 43  | 14  | 45  | 41  | baseline | True | 0 | 1 |\n",
       "| 2021 | 2020-02-05 22:42:55 | 58  | 70  | 32  | 16  | 70  | 32  | baseline | True | 0 | 1 |\n",
       "| 2796 | 2020-02-06 18:18:10 | 100 | 100 | 49  | 33  | 100 | 38  | baseline | True | 0 | 1 |\n",
       "| 2083 | 2020-02-07 00:50:01 | 100 | 100 | 49  | 37  | 100 | 59  | baseline | True | 0 | 1 |\n",
       "| 2949 | 2020-02-07 14:49:40 | 68  | 68  | 17  | 10  | 9   | 9   | baseline | True | 0 | 1 |\n",
       "| 2360 | 2020-02-08 14:45:41 | 40  | 40  | 21  | 13  | 21  | 22  | baseline | True | 0 | 1 |\n",
       "| 2315 | 2020-02-09 10:19:51 | 80  | 82  | 53  | 27  | 37  | 68  | baseline | True | 0 | 1 |\n",
       "| 2573 | 2020-02-10 20:04:30 | 95  | 94  | 62  | 54  | 73  | 53  | baseline | True | 0 | 1 |\n",
       "\n"
      ],
      "text/plain": [
       "     ID   date                r_eff1 r_eff2 s_eff1 s_eff2 s_eff3 hope type    \n",
       "1    763  2019-10-09 11:24:43 100    51     20     20     51     20   baseline\n",
       "2    507  2019-10-10 10:29:17 99     100    45     3      11     40   baseline\n",
       "3    388  2019-10-10 13:52:45 45     21     11     21     80     34   baseline\n",
       "4    428  2019-10-14 10:01:58 60     61     19     2      5      1    baseline\n",
       "5    375  2019-10-14 15:20:03 100    50     0      0      30     11   baseline\n",
       "6    747  2019-10-16 10:24:59 49     62     18     12     72     41   baseline\n",
       "7    477  2019-10-22 11:09:56 100    80     20     1      75     15   baseline\n",
       "8    729  2019-10-22 13:21:12 67     31     15     5      55     18   baseline\n",
       "9    562  2019-10-23 16:51:53 61     38     28     10     80     44   baseline\n",
       "10   754  2019-10-24 14:23:00 90     90     25     5      80     40   baseline\n",
       "11   279  2019-10-29 09:30:36 70     65     23     9      70     37   baseline\n",
       "12   572  2019-10-29 11:57:22 40     24     40     0      20     12   baseline\n",
       "13   339  2019-10-29 14:21:08 99     99     48     41     71     43   baseline\n",
       "14   786  2019-10-30 10:41:28 66     71     38     20     32     36   baseline\n",
       "15   703  2019-10-30 16:36:23 71     61     28     15     16     20   baseline\n",
       "16   667  2019-10-31 12:52:14 80     70     20     10     60     10   baseline\n",
       "17   594  2019-11-06 14:26:53 16     27     81     49     80     81   baseline\n",
       "18   726  2019-11-07 14:06:01 95     50     0      0      0      0    followup\n",
       "19   743  2019-11-11 13:41:34 74     88     11     5      76     8    followup\n",
       "20   763  2019-11-12 11:58:24 80     50     20     20     50     20   followup\n",
       "21   375  2019-11-12 14:07:21 100    100    54     31     60     69   followup\n",
       "22   188  2019-11-13 10:24:08 68     70     28     4      12     34   baseline\n",
       "23   545  2019-11-13 14:26:00 60     89     59     35     79     77   baseline\n",
       "24   507  2019-11-14 11:21:07 84     64     5      17     41     40   followup\n",
       "25   388  2019-11-14 14:32:16 58     38     27     17     60     38   followup\n",
       "26   428  2019-11-18 11:10:04 32     33     4      4      7      6    followup\n",
       "27   747  2019-11-18 14:28:47 54     54     20     17     53     15   followup\n",
       "28   729  2019-11-26 10:18:14 72     52     18     7      22     52   followup\n",
       "29   339  2019-11-27 11:09:22 100    100    62     64     63     64   followup\n",
       "30   279  2019-11-27 13:11:23 70     64     11     21     5      29   followup\n",
       "⋮    ⋮    ⋮                   ⋮      ⋮      ⋮      ⋮      ⋮      ⋮    ⋮       \n",
       "1467 2444 2020-02-07 15:41:30 46     84     33     2      20     4    baseline\n",
       "1468 1634 2020-02-07 19:04:13 100    76     100    17     85     79   baseline\n",
       "1469 2945 2020-02-07 21:25:14 49     78     21     9      70     26   baseline\n",
       "1470 2286 2020-02-07 22:16:27 80     51     26     9      58     24   baseline\n",
       "1471 1637 2020-02-07 22:24:25 48     49     21     6      6      6    baseline\n",
       "1472 1265 2020-02-07 22:54:42 69     71     64     40     70     58   baseline\n",
       "1473 2914 2020-02-08 01:39:34 79     96     64     47     84     49   baseline\n",
       "1474 2015 2020-02-08 02:24:41 100    50     20     8      20     34   baseline\n",
       "1475 2959 2020-02-08 09:56:37 100    100    50     3      27     7    baseline\n",
       "1476 1158 2020-02-08 21:34:26 66     42     44     19     42     41   baseline\n",
       "1477 2356 2020-02-08 22:45:09 61     0      0      1      4      33   baseline\n",
       "1478 1040 2020-02-08 23:59:25 70     53     31     4      67     28   baseline\n",
       "1479 2152 2020-02-09 07:44:24 20     30     10     7      30     50   baseline\n",
       "1480 2388 2020-02-09 10:30:32 0      0      0      0      0      0    baseline\n",
       "1481 2050 2020-02-09 12:14:15 51     48     100    100    100    100  baseline\n",
       "1482 2889 2020-02-09 12:31:58 65     73     50     35     35     62   baseline\n",
       "1483 1984 2020-02-09 22:05:28 100    100    50     15     64     52   baseline\n",
       "1484 2103 2020-02-10 16:09:54 74     37     15     8      67     15   baseline\n",
       "1485 1631 2020-02-11 05:44:31 50     70     35     35     25     40   baseline\n",
       "1486 947  2020-02-04 06:07:14 100    100    7      5      37     8    baseline\n",
       "1487 2842 2020-02-04 11:58:25 86     53     51     52     70     51   baseline\n",
       "1488 1926 2020-02-05 07:43:42 10     51     5             30     0    baseline\n",
       "1489 2234 2020-02-05 22:40:25 83     81     43     14     45     41   baseline\n",
       "1490 2021 2020-02-05 22:42:55 58     70     32     16     70     32   baseline\n",
       "1491 2796 2020-02-06 18:18:10 100    100    49     33     100    38   baseline\n",
       "1492 2083 2020-02-07 00:50:01 100    100    49     37     100    59   baseline\n",
       "1493 2949 2020-02-07 14:49:40 68     68     17     10     9      9    baseline\n",
       "1494 2360 2020-02-08 14:45:41 40     40     21     13     21     22   baseline\n",
       "1495 2315 2020-02-09 10:19:51 80     82     53     27     37     68   baseline\n",
       "1496 2573 2020-02-10 20:04:30 95     94     62     54     73     53   baseline\n",
       "     completed n_day check\n",
       "1    True      0     1    \n",
       "2    True      0     1    \n",
       "3    True      0     1    \n",
       "4    True      0     1    \n",
       "5    True      0     1    \n",
       "6    True      0     1    \n",
       "7    True      0     1    \n",
       "8    True      0     1    \n",
       "9    True      0     1    \n",
       "10   True      0     1    \n",
       "11   True      0     1    \n",
       "12   True      0     1    \n",
       "13   True      0     1    \n",
       "14   True      0     1    \n",
       "15   True      0     1    \n",
       "16   True      0     1    \n",
       "17   True      0     1    \n",
       "18   True      10    1    \n",
       "19   True      10    1    \n",
       "20   True      10    2    \n",
       "21   True      10    2    \n",
       "22   True      0     1    \n",
       "23   True      0     1    \n",
       "24   True      10    2    \n",
       "25   True      10    2    \n",
       "26   True      10    2    \n",
       "27   True      10    2    \n",
       "28   True      10    2    \n",
       "29   True      10    2    \n",
       "30   True      10    2    \n",
       "⋮    ⋮         ⋮     ⋮    \n",
       "1467 True      0     1    \n",
       "1468 True      0     1    \n",
       "1469 True      0     1    \n",
       "1470 True      0     1    \n",
       "1471 True      0     1    \n",
       "1472 True      0     1    \n",
       "1473 True      0     1    \n",
       "1474 True      0     1    \n",
       "1475 True      0     1    \n",
       "1476 True      0     1    \n",
       "1477 True      0     1    \n",
       "1478 True      0     1    \n",
       "1479 True      0     1    \n",
       "1480 True      0     1    \n",
       "1481 True      0     1    \n",
       "1482 True      0     1    \n",
       "1483 True      0     1    \n",
       "1484 True      0     1    \n",
       "1485 True      0     1    \n",
       "1486 True      0     1    \n",
       "1487 True      0     1    \n",
       "1488 True      0     1    \n",
       "1489 True      0     1    \n",
       "1490 True      0     1    \n",
       "1491 True      0     1    \n",
       "1492 True      0     1    \n",
       "1493 True      0     1    \n",
       "1494 True      0     1    \n",
       "1495 True      0     1    \n",
       "1496 True      0     1    "
      ]
     },
     "metadata": {},
     "output_type": "display_data"
    }
   ],
   "source": [
    "eff_scores<-tail(eff_scores, -2)\n",
    "eff_scores$ID<-as.factor(eff_scores$ID)\n",
    "eff_scores$type<-as.factor(eff_scores$type)\n",
    "\n",
    "eff_scores %>% \n",
    "        group_by(ID)  %>%   \n",
    "        mutate(check= row_number()) %>% \n",
    "        ungroup()\n",
    "        "
   ]
  },
  {
   "cell_type": "code",
   "execution_count": 23,
   "metadata": {},
   "outputs": [
    {
     "data": {
      "text/html": [
       "<table>\n",
       "<caption>A tibble: 1496 × 11</caption>\n",
       "<thead>\n",
       "\t<tr><th scope=col>ID</th><th scope=col>date</th><th scope=col>r_eff1</th><th scope=col>r_eff2</th><th scope=col>s_eff1</th><th scope=col>s_eff2</th><th scope=col>s_eff3</th><th scope=col>hope</th><th scope=col>type</th><th scope=col>completed</th><th scope=col>n_day</th></tr>\n",
       "\t<tr><th scope=col>&lt;fct&gt;</th><th scope=col>&lt;chr&gt;</th><th scope=col>&lt;chr&gt;</th><th scope=col>&lt;chr&gt;</th><th scope=col>&lt;chr&gt;</th><th scope=col>&lt;chr&gt;</th><th scope=col>&lt;chr&gt;</th><th scope=col>&lt;chr&gt;</th><th scope=col>&lt;fct&gt;</th><th scope=col>&lt;chr&gt;</th><th scope=col>&lt;chr&gt;</th></tr>\n",
       "</thead>\n",
       "<tbody>\n",
       "\t<tr><td>763</td><td>2019-10-09 11:24:43</td><td>100</td><td>51 </td><td>20</td><td>20</td><td>51</td><td>20</td><td>baseline</td><td>True</td><td>0 </td></tr>\n",
       "\t<tr><td>507</td><td>2019-10-10 10:29:17</td><td>99 </td><td>100</td><td>45</td><td>3 </td><td>11</td><td>40</td><td>baseline</td><td>True</td><td>0 </td></tr>\n",
       "\t<tr><td>388</td><td>2019-10-10 13:52:45</td><td>45 </td><td>21 </td><td>11</td><td>21</td><td>80</td><td>34</td><td>baseline</td><td>True</td><td>0 </td></tr>\n",
       "\t<tr><td>428</td><td>2019-10-14 10:01:58</td><td>60 </td><td>61 </td><td>19</td><td>2 </td><td>5 </td><td>1 </td><td>baseline</td><td>True</td><td>0 </td></tr>\n",
       "\t<tr><td>375</td><td>2019-10-14 15:20:03</td><td>100</td><td>50 </td><td>0 </td><td>0 </td><td>30</td><td>11</td><td>baseline</td><td>True</td><td>0 </td></tr>\n",
       "\t<tr><td>747</td><td>2019-10-16 10:24:59</td><td>49 </td><td>62 </td><td>18</td><td>12</td><td>72</td><td>41</td><td>baseline</td><td>True</td><td>0 </td></tr>\n",
       "\t<tr><td>477</td><td>2019-10-22 11:09:56</td><td>100</td><td>80 </td><td>20</td><td>1 </td><td>75</td><td>15</td><td>baseline</td><td>True</td><td>0 </td></tr>\n",
       "\t<tr><td>729</td><td>2019-10-22 13:21:12</td><td>67 </td><td>31 </td><td>15</td><td>5 </td><td>55</td><td>18</td><td>baseline</td><td>True</td><td>0 </td></tr>\n",
       "\t<tr><td>562</td><td>2019-10-23 16:51:53</td><td>61 </td><td>38 </td><td>28</td><td>10</td><td>80</td><td>44</td><td>baseline</td><td>True</td><td>0 </td></tr>\n",
       "\t<tr><td>754</td><td>2019-10-24 14:23:00</td><td>90 </td><td>90 </td><td>25</td><td>5 </td><td>80</td><td>40</td><td>baseline</td><td>True</td><td>0 </td></tr>\n",
       "\t<tr><td>279</td><td>2019-10-29 09:30:36</td><td>70 </td><td>65 </td><td>23</td><td>9 </td><td>70</td><td>37</td><td>baseline</td><td>True</td><td>0 </td></tr>\n",
       "\t<tr><td>572</td><td>2019-10-29 11:57:22</td><td>40 </td><td>24 </td><td>40</td><td>0 </td><td>20</td><td>12</td><td>baseline</td><td>True</td><td>0 </td></tr>\n",
       "\t<tr><td>339</td><td>2019-10-29 14:21:08</td><td>99 </td><td>99 </td><td>48</td><td>41</td><td>71</td><td>43</td><td>baseline</td><td>True</td><td>0 </td></tr>\n",
       "\t<tr><td>786</td><td>2019-10-30 10:41:28</td><td>66 </td><td>71 </td><td>38</td><td>20</td><td>32</td><td>36</td><td>baseline</td><td>True</td><td>0 </td></tr>\n",
       "\t<tr><td>703</td><td>2019-10-30 16:36:23</td><td>71 </td><td>61 </td><td>28</td><td>15</td><td>16</td><td>20</td><td>baseline</td><td>True</td><td>0 </td></tr>\n",
       "\t<tr><td>667</td><td>2019-10-31 12:52:14</td><td>80 </td><td>70 </td><td>20</td><td>10</td><td>60</td><td>10</td><td>baseline</td><td>True</td><td>0 </td></tr>\n",
       "\t<tr><td>594</td><td>2019-11-06 14:26:53</td><td>16 </td><td>27 </td><td>81</td><td>49</td><td>80</td><td>81</td><td>baseline</td><td>True</td><td>0 </td></tr>\n",
       "\t<tr><td>726</td><td>2019-11-07 14:06:01</td><td>95 </td><td>50 </td><td>0 </td><td>0 </td><td>0 </td><td>0 </td><td>followup</td><td>True</td><td>10</td></tr>\n",
       "\t<tr><td>743</td><td>2019-11-11 13:41:34</td><td>74 </td><td>88 </td><td>11</td><td>5 </td><td>76</td><td>8 </td><td>followup</td><td>True</td><td>10</td></tr>\n",
       "\t<tr><td>763</td><td>2019-11-12 11:58:24</td><td>80 </td><td>50 </td><td>20</td><td>20</td><td>50</td><td>20</td><td>followup</td><td>True</td><td>10</td></tr>\n",
       "\t<tr><td>375</td><td>2019-11-12 14:07:21</td><td>100</td><td>100</td><td>54</td><td>31</td><td>60</td><td>69</td><td>followup</td><td>True</td><td>10</td></tr>\n",
       "\t<tr><td>188</td><td>2019-11-13 10:24:08</td><td>68 </td><td>70 </td><td>28</td><td>4 </td><td>12</td><td>34</td><td>baseline</td><td>True</td><td>0 </td></tr>\n",
       "\t<tr><td>545</td><td>2019-11-13 14:26:00</td><td>60 </td><td>89 </td><td>59</td><td>35</td><td>79</td><td>77</td><td>baseline</td><td>True</td><td>0 </td></tr>\n",
       "\t<tr><td>507</td><td>2019-11-14 11:21:07</td><td>84 </td><td>64 </td><td>5 </td><td>17</td><td>41</td><td>40</td><td>followup</td><td>True</td><td>10</td></tr>\n",
       "\t<tr><td>388</td><td>2019-11-14 14:32:16</td><td>58 </td><td>38 </td><td>27</td><td>17</td><td>60</td><td>38</td><td>followup</td><td>True</td><td>10</td></tr>\n",
       "\t<tr><td>428</td><td>2019-11-18 11:10:04</td><td>32 </td><td>33 </td><td>4 </td><td>4 </td><td>7 </td><td>6 </td><td>followup</td><td>True</td><td>10</td></tr>\n",
       "\t<tr><td>747</td><td>2019-11-18 14:28:47</td><td>54 </td><td>54 </td><td>20</td><td>17</td><td>53</td><td>15</td><td>followup</td><td>True</td><td>10</td></tr>\n",
       "\t<tr><td>729</td><td>2019-11-26 10:18:14</td><td>72 </td><td>52 </td><td>18</td><td>7 </td><td>22</td><td>52</td><td>followup</td><td>True</td><td>10</td></tr>\n",
       "\t<tr><td>339</td><td>2019-11-27 11:09:22</td><td>100</td><td>100</td><td>62</td><td>64</td><td>63</td><td>64</td><td>followup</td><td>True</td><td>10</td></tr>\n",
       "\t<tr><td>279</td><td>2019-11-27 13:11:23</td><td>70 </td><td>64 </td><td>11</td><td>21</td><td>5 </td><td>29</td><td>followup</td><td>True</td><td>10</td></tr>\n",
       "\t<tr><td>⋮</td><td>⋮</td><td>⋮</td><td>⋮</td><td>⋮</td><td>⋮</td><td>⋮</td><td>⋮</td><td>⋮</td><td>⋮</td><td>⋮</td></tr>\n",
       "\t<tr><td>2444</td><td>2020-02-07 15:41:30</td><td>46 </td><td>84 </td><td>33 </td><td>2  </td><td>20 </td><td>4  </td><td>baseline</td><td>True</td><td>0</td></tr>\n",
       "\t<tr><td>1634</td><td>2020-02-07 19:04:13</td><td>100</td><td>76 </td><td>100</td><td>17 </td><td>85 </td><td>79 </td><td>baseline</td><td>True</td><td>0</td></tr>\n",
       "\t<tr><td>2945</td><td>2020-02-07 21:25:14</td><td>49 </td><td>78 </td><td>21 </td><td>9  </td><td>70 </td><td>26 </td><td>baseline</td><td>True</td><td>0</td></tr>\n",
       "\t<tr><td>2286</td><td>2020-02-07 22:16:27</td><td>80 </td><td>51 </td><td>26 </td><td>9  </td><td>58 </td><td>24 </td><td>baseline</td><td>True</td><td>0</td></tr>\n",
       "\t<tr><td>1637</td><td>2020-02-07 22:24:25</td><td>48 </td><td>49 </td><td>21 </td><td>6  </td><td>6  </td><td>6  </td><td>baseline</td><td>True</td><td>0</td></tr>\n",
       "\t<tr><td>1265</td><td>2020-02-07 22:54:42</td><td>69 </td><td>71 </td><td>64 </td><td>40 </td><td>70 </td><td>58 </td><td>baseline</td><td>True</td><td>0</td></tr>\n",
       "\t<tr><td>2914</td><td>2020-02-08 01:39:34</td><td>79 </td><td>96 </td><td>64 </td><td>47 </td><td>84 </td><td>49 </td><td>baseline</td><td>True</td><td>0</td></tr>\n",
       "\t<tr><td>2015</td><td>2020-02-08 02:24:41</td><td>100</td><td>50 </td><td>20 </td><td>8  </td><td>20 </td><td>34 </td><td>baseline</td><td>True</td><td>0</td></tr>\n",
       "\t<tr><td>2959</td><td>2020-02-08 09:56:37</td><td>100</td><td>100</td><td>50 </td><td>3  </td><td>27 </td><td>7  </td><td>baseline</td><td>True</td><td>0</td></tr>\n",
       "\t<tr><td>1158</td><td>2020-02-08 21:34:26</td><td>66 </td><td>42 </td><td>44 </td><td>19 </td><td>42 </td><td>41 </td><td>baseline</td><td>True</td><td>0</td></tr>\n",
       "\t<tr><td>2356</td><td>2020-02-08 22:45:09</td><td>61 </td><td>0  </td><td>0  </td><td>1  </td><td>4  </td><td>33 </td><td>baseline</td><td>True</td><td>0</td></tr>\n",
       "\t<tr><td>1040</td><td>2020-02-08 23:59:25</td><td>70 </td><td>53 </td><td>31 </td><td>4  </td><td>67 </td><td>28 </td><td>baseline</td><td>True</td><td>0</td></tr>\n",
       "\t<tr><td>2152</td><td>2020-02-09 07:44:24</td><td>20 </td><td>30 </td><td>10 </td><td>7  </td><td>30 </td><td>50 </td><td>baseline</td><td>True</td><td>0</td></tr>\n",
       "\t<tr><td>2388</td><td>2020-02-09 10:30:32</td><td>0  </td><td>0  </td><td>0  </td><td>0  </td><td>0  </td><td>0  </td><td>baseline</td><td>True</td><td>0</td></tr>\n",
       "\t<tr><td>2050</td><td>2020-02-09 12:14:15</td><td>51 </td><td>48 </td><td>100</td><td>100</td><td>100</td><td>100</td><td>baseline</td><td>True</td><td>0</td></tr>\n",
       "\t<tr><td>2889</td><td>2020-02-09 12:31:58</td><td>65 </td><td>73 </td><td>50 </td><td>35 </td><td>35 </td><td>62 </td><td>baseline</td><td>True</td><td>0</td></tr>\n",
       "\t<tr><td>1984</td><td>2020-02-09 22:05:28</td><td>100</td><td>100</td><td>50 </td><td>15 </td><td>64 </td><td>52 </td><td>baseline</td><td>True</td><td>0</td></tr>\n",
       "\t<tr><td>2103</td><td>2020-02-10 16:09:54</td><td>74 </td><td>37 </td><td>15 </td><td>8  </td><td>67 </td><td>15 </td><td>baseline</td><td>True</td><td>0</td></tr>\n",
       "\t<tr><td>1631</td><td>2020-02-11 05:44:31</td><td>50 </td><td>70 </td><td>35 </td><td>35 </td><td>25 </td><td>40 </td><td>baseline</td><td>True</td><td>0</td></tr>\n",
       "\t<tr><td>947 </td><td>2020-02-04 06:07:14</td><td>100</td><td>100</td><td>7  </td><td>5  </td><td>37 </td><td>8  </td><td>baseline</td><td>True</td><td>0</td></tr>\n",
       "\t<tr><td>2842</td><td>2020-02-04 11:58:25</td><td>86 </td><td>53 </td><td>51 </td><td>52 </td><td>70 </td><td>51 </td><td>baseline</td><td>True</td><td>0</td></tr>\n",
       "\t<tr><td>1926</td><td>2020-02-05 07:43:42</td><td>10 </td><td>51 </td><td>5  </td><td>   </td><td>30 </td><td>0  </td><td>baseline</td><td>True</td><td>0</td></tr>\n",
       "\t<tr><td>2234</td><td>2020-02-05 22:40:25</td><td>83 </td><td>81 </td><td>43 </td><td>14 </td><td>45 </td><td>41 </td><td>baseline</td><td>True</td><td>0</td></tr>\n",
       "\t<tr><td>2021</td><td>2020-02-05 22:42:55</td><td>58 </td><td>70 </td><td>32 </td><td>16 </td><td>70 </td><td>32 </td><td>baseline</td><td>True</td><td>0</td></tr>\n",
       "\t<tr><td>2796</td><td>2020-02-06 18:18:10</td><td>100</td><td>100</td><td>49 </td><td>33 </td><td>100</td><td>38 </td><td>baseline</td><td>True</td><td>0</td></tr>\n",
       "\t<tr><td>2083</td><td>2020-02-07 00:50:01</td><td>100</td><td>100</td><td>49 </td><td>37 </td><td>100</td><td>59 </td><td>baseline</td><td>True</td><td>0</td></tr>\n",
       "\t<tr><td>2949</td><td>2020-02-07 14:49:40</td><td>68 </td><td>68 </td><td>17 </td><td>10 </td><td>9  </td><td>9  </td><td>baseline</td><td>True</td><td>0</td></tr>\n",
       "\t<tr><td>2360</td><td>2020-02-08 14:45:41</td><td>40 </td><td>40 </td><td>21 </td><td>13 </td><td>21 </td><td>22 </td><td>baseline</td><td>True</td><td>0</td></tr>\n",
       "\t<tr><td>2315</td><td>2020-02-09 10:19:51</td><td>80 </td><td>82 </td><td>53 </td><td>27 </td><td>37 </td><td>68 </td><td>baseline</td><td>True</td><td>0</td></tr>\n",
       "\t<tr><td>2573</td><td>2020-02-10 20:04:30</td><td>95 </td><td>94 </td><td>62 </td><td>54 </td><td>73 </td><td>53 </td><td>baseline</td><td>True</td><td>0</td></tr>\n",
       "</tbody>\n",
       "</table>\n"
      ],
      "text/latex": [
       "A tibble: 1496 × 11\n",
       "\\begin{tabular}{lllllllllll}\n",
       " ID & date & r\\_eff1 & r\\_eff2 & s\\_eff1 & s\\_eff2 & s\\_eff3 & hope & type & completed & n\\_day\\\\\n",
       " <fct> & <chr> & <chr> & <chr> & <chr> & <chr> & <chr> & <chr> & <fct> & <chr> & <chr>\\\\\n",
       "\\hline\n",
       "\t 763 & 2019-10-09 11:24:43 & 100 & 51  & 20 & 20 & 51 & 20 & baseline & True & 0 \\\\\n",
       "\t 507 & 2019-10-10 10:29:17 & 99  & 100 & 45 & 3  & 11 & 40 & baseline & True & 0 \\\\\n",
       "\t 388 & 2019-10-10 13:52:45 & 45  & 21  & 11 & 21 & 80 & 34 & baseline & True & 0 \\\\\n",
       "\t 428 & 2019-10-14 10:01:58 & 60  & 61  & 19 & 2  & 5  & 1  & baseline & True & 0 \\\\\n",
       "\t 375 & 2019-10-14 15:20:03 & 100 & 50  & 0  & 0  & 30 & 11 & baseline & True & 0 \\\\\n",
       "\t 747 & 2019-10-16 10:24:59 & 49  & 62  & 18 & 12 & 72 & 41 & baseline & True & 0 \\\\\n",
       "\t 477 & 2019-10-22 11:09:56 & 100 & 80  & 20 & 1  & 75 & 15 & baseline & True & 0 \\\\\n",
       "\t 729 & 2019-10-22 13:21:12 & 67  & 31  & 15 & 5  & 55 & 18 & baseline & True & 0 \\\\\n",
       "\t 562 & 2019-10-23 16:51:53 & 61  & 38  & 28 & 10 & 80 & 44 & baseline & True & 0 \\\\\n",
       "\t 754 & 2019-10-24 14:23:00 & 90  & 90  & 25 & 5  & 80 & 40 & baseline & True & 0 \\\\\n",
       "\t 279 & 2019-10-29 09:30:36 & 70  & 65  & 23 & 9  & 70 & 37 & baseline & True & 0 \\\\\n",
       "\t 572 & 2019-10-29 11:57:22 & 40  & 24  & 40 & 0  & 20 & 12 & baseline & True & 0 \\\\\n",
       "\t 339 & 2019-10-29 14:21:08 & 99  & 99  & 48 & 41 & 71 & 43 & baseline & True & 0 \\\\\n",
       "\t 786 & 2019-10-30 10:41:28 & 66  & 71  & 38 & 20 & 32 & 36 & baseline & True & 0 \\\\\n",
       "\t 703 & 2019-10-30 16:36:23 & 71  & 61  & 28 & 15 & 16 & 20 & baseline & True & 0 \\\\\n",
       "\t 667 & 2019-10-31 12:52:14 & 80  & 70  & 20 & 10 & 60 & 10 & baseline & True & 0 \\\\\n",
       "\t 594 & 2019-11-06 14:26:53 & 16  & 27  & 81 & 49 & 80 & 81 & baseline & True & 0 \\\\\n",
       "\t 726 & 2019-11-07 14:06:01 & 95  & 50  & 0  & 0  & 0  & 0  & followup & True & 10\\\\\n",
       "\t 743 & 2019-11-11 13:41:34 & 74  & 88  & 11 & 5  & 76 & 8  & followup & True & 10\\\\\n",
       "\t 763 & 2019-11-12 11:58:24 & 80  & 50  & 20 & 20 & 50 & 20 & followup & True & 10\\\\\n",
       "\t 375 & 2019-11-12 14:07:21 & 100 & 100 & 54 & 31 & 60 & 69 & followup & True & 10\\\\\n",
       "\t 188 & 2019-11-13 10:24:08 & 68  & 70  & 28 & 4  & 12 & 34 & baseline & True & 0 \\\\\n",
       "\t 545 & 2019-11-13 14:26:00 & 60  & 89  & 59 & 35 & 79 & 77 & baseline & True & 0 \\\\\n",
       "\t 507 & 2019-11-14 11:21:07 & 84  & 64  & 5  & 17 & 41 & 40 & followup & True & 10\\\\\n",
       "\t 388 & 2019-11-14 14:32:16 & 58  & 38  & 27 & 17 & 60 & 38 & followup & True & 10\\\\\n",
       "\t 428 & 2019-11-18 11:10:04 & 32  & 33  & 4  & 4  & 7  & 6  & followup & True & 10\\\\\n",
       "\t 747 & 2019-11-18 14:28:47 & 54  & 54  & 20 & 17 & 53 & 15 & followup & True & 10\\\\\n",
       "\t 729 & 2019-11-26 10:18:14 & 72  & 52  & 18 & 7  & 22 & 52 & followup & True & 10\\\\\n",
       "\t 339 & 2019-11-27 11:09:22 & 100 & 100 & 62 & 64 & 63 & 64 & followup & True & 10\\\\\n",
       "\t 279 & 2019-11-27 13:11:23 & 70  & 64  & 11 & 21 & 5  & 29 & followup & True & 10\\\\\n",
       "\t ⋮ & ⋮ & ⋮ & ⋮ & ⋮ & ⋮ & ⋮ & ⋮ & ⋮ & ⋮ & ⋮\\\\\n",
       "\t 2444 & 2020-02-07 15:41:30 & 46  & 84  & 33  & 2   & 20  & 4   & baseline & True & 0\\\\\n",
       "\t 1634 & 2020-02-07 19:04:13 & 100 & 76  & 100 & 17  & 85  & 79  & baseline & True & 0\\\\\n",
       "\t 2945 & 2020-02-07 21:25:14 & 49  & 78  & 21  & 9   & 70  & 26  & baseline & True & 0\\\\\n",
       "\t 2286 & 2020-02-07 22:16:27 & 80  & 51  & 26  & 9   & 58  & 24  & baseline & True & 0\\\\\n",
       "\t 1637 & 2020-02-07 22:24:25 & 48  & 49  & 21  & 6   & 6   & 6   & baseline & True & 0\\\\\n",
       "\t 1265 & 2020-02-07 22:54:42 & 69  & 71  & 64  & 40  & 70  & 58  & baseline & True & 0\\\\\n",
       "\t 2914 & 2020-02-08 01:39:34 & 79  & 96  & 64  & 47  & 84  & 49  & baseline & True & 0\\\\\n",
       "\t 2015 & 2020-02-08 02:24:41 & 100 & 50  & 20  & 8   & 20  & 34  & baseline & True & 0\\\\\n",
       "\t 2959 & 2020-02-08 09:56:37 & 100 & 100 & 50  & 3   & 27  & 7   & baseline & True & 0\\\\\n",
       "\t 1158 & 2020-02-08 21:34:26 & 66  & 42  & 44  & 19  & 42  & 41  & baseline & True & 0\\\\\n",
       "\t 2356 & 2020-02-08 22:45:09 & 61  & 0   & 0   & 1   & 4   & 33  & baseline & True & 0\\\\\n",
       "\t 1040 & 2020-02-08 23:59:25 & 70  & 53  & 31  & 4   & 67  & 28  & baseline & True & 0\\\\\n",
       "\t 2152 & 2020-02-09 07:44:24 & 20  & 30  & 10  & 7   & 30  & 50  & baseline & True & 0\\\\\n",
       "\t 2388 & 2020-02-09 10:30:32 & 0   & 0   & 0   & 0   & 0   & 0   & baseline & True & 0\\\\\n",
       "\t 2050 & 2020-02-09 12:14:15 & 51  & 48  & 100 & 100 & 100 & 100 & baseline & True & 0\\\\\n",
       "\t 2889 & 2020-02-09 12:31:58 & 65  & 73  & 50  & 35  & 35  & 62  & baseline & True & 0\\\\\n",
       "\t 1984 & 2020-02-09 22:05:28 & 100 & 100 & 50  & 15  & 64  & 52  & baseline & True & 0\\\\\n",
       "\t 2103 & 2020-02-10 16:09:54 & 74  & 37  & 15  & 8   & 67  & 15  & baseline & True & 0\\\\\n",
       "\t 1631 & 2020-02-11 05:44:31 & 50  & 70  & 35  & 35  & 25  & 40  & baseline & True & 0\\\\\n",
       "\t 947  & 2020-02-04 06:07:14 & 100 & 100 & 7   & 5   & 37  & 8   & baseline & True & 0\\\\\n",
       "\t 2842 & 2020-02-04 11:58:25 & 86  & 53  & 51  & 52  & 70  & 51  & baseline & True & 0\\\\\n",
       "\t 1926 & 2020-02-05 07:43:42 & 10  & 51  & 5   &     & 30  & 0   & baseline & True & 0\\\\\n",
       "\t 2234 & 2020-02-05 22:40:25 & 83  & 81  & 43  & 14  & 45  & 41  & baseline & True & 0\\\\\n",
       "\t 2021 & 2020-02-05 22:42:55 & 58  & 70  & 32  & 16  & 70  & 32  & baseline & True & 0\\\\\n",
       "\t 2796 & 2020-02-06 18:18:10 & 100 & 100 & 49  & 33  & 100 & 38  & baseline & True & 0\\\\\n",
       "\t 2083 & 2020-02-07 00:50:01 & 100 & 100 & 49  & 37  & 100 & 59  & baseline & True & 0\\\\\n",
       "\t 2949 & 2020-02-07 14:49:40 & 68  & 68  & 17  & 10  & 9   & 9   & baseline & True & 0\\\\\n",
       "\t 2360 & 2020-02-08 14:45:41 & 40  & 40  & 21  & 13  & 21  & 22  & baseline & True & 0\\\\\n",
       "\t 2315 & 2020-02-09 10:19:51 & 80  & 82  & 53  & 27  & 37  & 68  & baseline & True & 0\\\\\n",
       "\t 2573 & 2020-02-10 20:04:30 & 95  & 94  & 62  & 54  & 73  & 53  & baseline & True & 0\\\\\n",
       "\\end{tabular}\n"
      ],
      "text/markdown": [
       "\n",
       "A tibble: 1496 × 11\n",
       "\n",
       "| ID &lt;fct&gt; | date &lt;chr&gt; | r_eff1 &lt;chr&gt; | r_eff2 &lt;chr&gt; | s_eff1 &lt;chr&gt; | s_eff2 &lt;chr&gt; | s_eff3 &lt;chr&gt; | hope &lt;chr&gt; | type &lt;fct&gt; | completed &lt;chr&gt; | n_day &lt;chr&gt; |\n",
       "|---|---|---|---|---|---|---|---|---|---|---|\n",
       "| 763 | 2019-10-09 11:24:43 | 100 | 51  | 20 | 20 | 51 | 20 | baseline | True | 0  |\n",
       "| 507 | 2019-10-10 10:29:17 | 99  | 100 | 45 | 3  | 11 | 40 | baseline | True | 0  |\n",
       "| 388 | 2019-10-10 13:52:45 | 45  | 21  | 11 | 21 | 80 | 34 | baseline | True | 0  |\n",
       "| 428 | 2019-10-14 10:01:58 | 60  | 61  | 19 | 2  | 5  | 1  | baseline | True | 0  |\n",
       "| 375 | 2019-10-14 15:20:03 | 100 | 50  | 0  | 0  | 30 | 11 | baseline | True | 0  |\n",
       "| 747 | 2019-10-16 10:24:59 | 49  | 62  | 18 | 12 | 72 | 41 | baseline | True | 0  |\n",
       "| 477 | 2019-10-22 11:09:56 | 100 | 80  | 20 | 1  | 75 | 15 | baseline | True | 0  |\n",
       "| 729 | 2019-10-22 13:21:12 | 67  | 31  | 15 | 5  | 55 | 18 | baseline | True | 0  |\n",
       "| 562 | 2019-10-23 16:51:53 | 61  | 38  | 28 | 10 | 80 | 44 | baseline | True | 0  |\n",
       "| 754 | 2019-10-24 14:23:00 | 90  | 90  | 25 | 5  | 80 | 40 | baseline | True | 0  |\n",
       "| 279 | 2019-10-29 09:30:36 | 70  | 65  | 23 | 9  | 70 | 37 | baseline | True | 0  |\n",
       "| 572 | 2019-10-29 11:57:22 | 40  | 24  | 40 | 0  | 20 | 12 | baseline | True | 0  |\n",
       "| 339 | 2019-10-29 14:21:08 | 99  | 99  | 48 | 41 | 71 | 43 | baseline | True | 0  |\n",
       "| 786 | 2019-10-30 10:41:28 | 66  | 71  | 38 | 20 | 32 | 36 | baseline | True | 0  |\n",
       "| 703 | 2019-10-30 16:36:23 | 71  | 61  | 28 | 15 | 16 | 20 | baseline | True | 0  |\n",
       "| 667 | 2019-10-31 12:52:14 | 80  | 70  | 20 | 10 | 60 | 10 | baseline | True | 0  |\n",
       "| 594 | 2019-11-06 14:26:53 | 16  | 27  | 81 | 49 | 80 | 81 | baseline | True | 0  |\n",
       "| 726 | 2019-11-07 14:06:01 | 95  | 50  | 0  | 0  | 0  | 0  | followup | True | 10 |\n",
       "| 743 | 2019-11-11 13:41:34 | 74  | 88  | 11 | 5  | 76 | 8  | followup | True | 10 |\n",
       "| 763 | 2019-11-12 11:58:24 | 80  | 50  | 20 | 20 | 50 | 20 | followup | True | 10 |\n",
       "| 375 | 2019-11-12 14:07:21 | 100 | 100 | 54 | 31 | 60 | 69 | followup | True | 10 |\n",
       "| 188 | 2019-11-13 10:24:08 | 68  | 70  | 28 | 4  | 12 | 34 | baseline | True | 0  |\n",
       "| 545 | 2019-11-13 14:26:00 | 60  | 89  | 59 | 35 | 79 | 77 | baseline | True | 0  |\n",
       "| 507 | 2019-11-14 11:21:07 | 84  | 64  | 5  | 17 | 41 | 40 | followup | True | 10 |\n",
       "| 388 | 2019-11-14 14:32:16 | 58  | 38  | 27 | 17 | 60 | 38 | followup | True | 10 |\n",
       "| 428 | 2019-11-18 11:10:04 | 32  | 33  | 4  | 4  | 7  | 6  | followup | True | 10 |\n",
       "| 747 | 2019-11-18 14:28:47 | 54  | 54  | 20 | 17 | 53 | 15 | followup | True | 10 |\n",
       "| 729 | 2019-11-26 10:18:14 | 72  | 52  | 18 | 7  | 22 | 52 | followup | True | 10 |\n",
       "| 339 | 2019-11-27 11:09:22 | 100 | 100 | 62 | 64 | 63 | 64 | followup | True | 10 |\n",
       "| 279 | 2019-11-27 13:11:23 | 70  | 64  | 11 | 21 | 5  | 29 | followup | True | 10 |\n",
       "| ⋮ | ⋮ | ⋮ | ⋮ | ⋮ | ⋮ | ⋮ | ⋮ | ⋮ | ⋮ | ⋮ |\n",
       "| 2444 | 2020-02-07 15:41:30 | 46  | 84  | 33  | 2   | 20  | 4   | baseline | True | 0 |\n",
       "| 1634 | 2020-02-07 19:04:13 | 100 | 76  | 100 | 17  | 85  | 79  | baseline | True | 0 |\n",
       "| 2945 | 2020-02-07 21:25:14 | 49  | 78  | 21  | 9   | 70  | 26  | baseline | True | 0 |\n",
       "| 2286 | 2020-02-07 22:16:27 | 80  | 51  | 26  | 9   | 58  | 24  | baseline | True | 0 |\n",
       "| 1637 | 2020-02-07 22:24:25 | 48  | 49  | 21  | 6   | 6   | 6   | baseline | True | 0 |\n",
       "| 1265 | 2020-02-07 22:54:42 | 69  | 71  | 64  | 40  | 70  | 58  | baseline | True | 0 |\n",
       "| 2914 | 2020-02-08 01:39:34 | 79  | 96  | 64  | 47  | 84  | 49  | baseline | True | 0 |\n",
       "| 2015 | 2020-02-08 02:24:41 | 100 | 50  | 20  | 8   | 20  | 34  | baseline | True | 0 |\n",
       "| 2959 | 2020-02-08 09:56:37 | 100 | 100 | 50  | 3   | 27  | 7   | baseline | True | 0 |\n",
       "| 1158 | 2020-02-08 21:34:26 | 66  | 42  | 44  | 19  | 42  | 41  | baseline | True | 0 |\n",
       "| 2356 | 2020-02-08 22:45:09 | 61  | 0   | 0   | 1   | 4   | 33  | baseline | True | 0 |\n",
       "| 1040 | 2020-02-08 23:59:25 | 70  | 53  | 31  | 4   | 67  | 28  | baseline | True | 0 |\n",
       "| 2152 | 2020-02-09 07:44:24 | 20  | 30  | 10  | 7   | 30  | 50  | baseline | True | 0 |\n",
       "| 2388 | 2020-02-09 10:30:32 | 0   | 0   | 0   | 0   | 0   | 0   | baseline | True | 0 |\n",
       "| 2050 | 2020-02-09 12:14:15 | 51  | 48  | 100 | 100 | 100 | 100 | baseline | True | 0 |\n",
       "| 2889 | 2020-02-09 12:31:58 | 65  | 73  | 50  | 35  | 35  | 62  | baseline | True | 0 |\n",
       "| 1984 | 2020-02-09 22:05:28 | 100 | 100 | 50  | 15  | 64  | 52  | baseline | True | 0 |\n",
       "| 2103 | 2020-02-10 16:09:54 | 74  | 37  | 15  | 8   | 67  | 15  | baseline | True | 0 |\n",
       "| 1631 | 2020-02-11 05:44:31 | 50  | 70  | 35  | 35  | 25  | 40  | baseline | True | 0 |\n",
       "| 947  | 2020-02-04 06:07:14 | 100 | 100 | 7   | 5   | 37  | 8   | baseline | True | 0 |\n",
       "| 2842 | 2020-02-04 11:58:25 | 86  | 53  | 51  | 52  | 70  | 51  | baseline | True | 0 |\n",
       "| 1926 | 2020-02-05 07:43:42 | 10  | 51  | 5   | <!----> | 30  | 0   | baseline | True | 0 |\n",
       "| 2234 | 2020-02-05 22:40:25 | 83  | 81  | 43  | 14  | 45  | 41  | baseline | True | 0 |\n",
       "| 2021 | 2020-02-05 22:42:55 | 58  | 70  | 32  | 16  | 70  | 32  | baseline | True | 0 |\n",
       "| 2796 | 2020-02-06 18:18:10 | 100 | 100 | 49  | 33  | 100 | 38  | baseline | True | 0 |\n",
       "| 2083 | 2020-02-07 00:50:01 | 100 | 100 | 49  | 37  | 100 | 59  | baseline | True | 0 |\n",
       "| 2949 | 2020-02-07 14:49:40 | 68  | 68  | 17  | 10  | 9   | 9   | baseline | True | 0 |\n",
       "| 2360 | 2020-02-08 14:45:41 | 40  | 40  | 21  | 13  | 21  | 22  | baseline | True | 0 |\n",
       "| 2315 | 2020-02-09 10:19:51 | 80  | 82  | 53  | 27  | 37  | 68  | baseline | True | 0 |\n",
       "| 2573 | 2020-02-10 20:04:30 | 95  | 94  | 62  | 54  | 73  | 53  | baseline | True | 0 |\n",
       "\n"
      ],
      "text/plain": [
       "     ID   date                r_eff1 r_eff2 s_eff1 s_eff2 s_eff3 hope type    \n",
       "1    763  2019-10-09 11:24:43 100    51     20     20     51     20   baseline\n",
       "2    507  2019-10-10 10:29:17 99     100    45     3      11     40   baseline\n",
       "3    388  2019-10-10 13:52:45 45     21     11     21     80     34   baseline\n",
       "4    428  2019-10-14 10:01:58 60     61     19     2      5      1    baseline\n",
       "5    375  2019-10-14 15:20:03 100    50     0      0      30     11   baseline\n",
       "6    747  2019-10-16 10:24:59 49     62     18     12     72     41   baseline\n",
       "7    477  2019-10-22 11:09:56 100    80     20     1      75     15   baseline\n",
       "8    729  2019-10-22 13:21:12 67     31     15     5      55     18   baseline\n",
       "9    562  2019-10-23 16:51:53 61     38     28     10     80     44   baseline\n",
       "10   754  2019-10-24 14:23:00 90     90     25     5      80     40   baseline\n",
       "11   279  2019-10-29 09:30:36 70     65     23     9      70     37   baseline\n",
       "12   572  2019-10-29 11:57:22 40     24     40     0      20     12   baseline\n",
       "13   339  2019-10-29 14:21:08 99     99     48     41     71     43   baseline\n",
       "14   786  2019-10-30 10:41:28 66     71     38     20     32     36   baseline\n",
       "15   703  2019-10-30 16:36:23 71     61     28     15     16     20   baseline\n",
       "16   667  2019-10-31 12:52:14 80     70     20     10     60     10   baseline\n",
       "17   594  2019-11-06 14:26:53 16     27     81     49     80     81   baseline\n",
       "18   726  2019-11-07 14:06:01 95     50     0      0      0      0    followup\n",
       "19   743  2019-11-11 13:41:34 74     88     11     5      76     8    followup\n",
       "20   763  2019-11-12 11:58:24 80     50     20     20     50     20   followup\n",
       "21   375  2019-11-12 14:07:21 100    100    54     31     60     69   followup\n",
       "22   188  2019-11-13 10:24:08 68     70     28     4      12     34   baseline\n",
       "23   545  2019-11-13 14:26:00 60     89     59     35     79     77   baseline\n",
       "24   507  2019-11-14 11:21:07 84     64     5      17     41     40   followup\n",
       "25   388  2019-11-14 14:32:16 58     38     27     17     60     38   followup\n",
       "26   428  2019-11-18 11:10:04 32     33     4      4      7      6    followup\n",
       "27   747  2019-11-18 14:28:47 54     54     20     17     53     15   followup\n",
       "28   729  2019-11-26 10:18:14 72     52     18     7      22     52   followup\n",
       "29   339  2019-11-27 11:09:22 100    100    62     64     63     64   followup\n",
       "30   279  2019-11-27 13:11:23 70     64     11     21     5      29   followup\n",
       "⋮    ⋮    ⋮                   ⋮      ⋮      ⋮      ⋮      ⋮      ⋮    ⋮       \n",
       "1467 2444 2020-02-07 15:41:30 46     84     33     2      20     4    baseline\n",
       "1468 1634 2020-02-07 19:04:13 100    76     100    17     85     79   baseline\n",
       "1469 2945 2020-02-07 21:25:14 49     78     21     9      70     26   baseline\n",
       "1470 2286 2020-02-07 22:16:27 80     51     26     9      58     24   baseline\n",
       "1471 1637 2020-02-07 22:24:25 48     49     21     6      6      6    baseline\n",
       "1472 1265 2020-02-07 22:54:42 69     71     64     40     70     58   baseline\n",
       "1473 2914 2020-02-08 01:39:34 79     96     64     47     84     49   baseline\n",
       "1474 2015 2020-02-08 02:24:41 100    50     20     8      20     34   baseline\n",
       "1475 2959 2020-02-08 09:56:37 100    100    50     3      27     7    baseline\n",
       "1476 1158 2020-02-08 21:34:26 66     42     44     19     42     41   baseline\n",
       "1477 2356 2020-02-08 22:45:09 61     0      0      1      4      33   baseline\n",
       "1478 1040 2020-02-08 23:59:25 70     53     31     4      67     28   baseline\n",
       "1479 2152 2020-02-09 07:44:24 20     30     10     7      30     50   baseline\n",
       "1480 2388 2020-02-09 10:30:32 0      0      0      0      0      0    baseline\n",
       "1481 2050 2020-02-09 12:14:15 51     48     100    100    100    100  baseline\n",
       "1482 2889 2020-02-09 12:31:58 65     73     50     35     35     62   baseline\n",
       "1483 1984 2020-02-09 22:05:28 100    100    50     15     64     52   baseline\n",
       "1484 2103 2020-02-10 16:09:54 74     37     15     8      67     15   baseline\n",
       "1485 1631 2020-02-11 05:44:31 50     70     35     35     25     40   baseline\n",
       "1486 947  2020-02-04 06:07:14 100    100    7      5      37     8    baseline\n",
       "1487 2842 2020-02-04 11:58:25 86     53     51     52     70     51   baseline\n",
       "1488 1926 2020-02-05 07:43:42 10     51     5             30     0    baseline\n",
       "1489 2234 2020-02-05 22:40:25 83     81     43     14     45     41   baseline\n",
       "1490 2021 2020-02-05 22:42:55 58     70     32     16     70     32   baseline\n",
       "1491 2796 2020-02-06 18:18:10 100    100    49     33     100    38   baseline\n",
       "1492 2083 2020-02-07 00:50:01 100    100    49     37     100    59   baseline\n",
       "1493 2949 2020-02-07 14:49:40 68     68     17     10     9      9    baseline\n",
       "1494 2360 2020-02-08 14:45:41 40     40     21     13     21     22   baseline\n",
       "1495 2315 2020-02-09 10:19:51 80     82     53     27     37     68   baseline\n",
       "1496 2573 2020-02-10 20:04:30 95     94     62     54     73     53   baseline\n",
       "     completed n_day\n",
       "1    True      0    \n",
       "2    True      0    \n",
       "3    True      0    \n",
       "4    True      0    \n",
       "5    True      0    \n",
       "6    True      0    \n",
       "7    True      0    \n",
       "8    True      0    \n",
       "9    True      0    \n",
       "10   True      0    \n",
       "11   True      0    \n",
       "12   True      0    \n",
       "13   True      0    \n",
       "14   True      0    \n",
       "15   True      0    \n",
       "16   True      0    \n",
       "17   True      0    \n",
       "18   True      10   \n",
       "19   True      10   \n",
       "20   True      10   \n",
       "21   True      10   \n",
       "22   True      0    \n",
       "23   True      0    \n",
       "24   True      10   \n",
       "25   True      10   \n",
       "26   True      10   \n",
       "27   True      10   \n",
       "28   True      10   \n",
       "29   True      10   \n",
       "30   True      10   \n",
       "⋮    ⋮         ⋮    \n",
       "1467 True      0    \n",
       "1468 True      0    \n",
       "1469 True      0    \n",
       "1470 True      0    \n",
       "1471 True      0    \n",
       "1472 True      0    \n",
       "1473 True      0    \n",
       "1474 True      0    \n",
       "1475 True      0    \n",
       "1476 True      0    \n",
       "1477 True      0    \n",
       "1478 True      0    \n",
       "1479 True      0    \n",
       "1480 True      0    \n",
       "1481 True      0    \n",
       "1482 True      0    \n",
       "1483 True      0    \n",
       "1484 True      0    \n",
       "1485 True      0    \n",
       "1486 True      0    \n",
       "1487 True      0    \n",
       "1488 True      0    \n",
       "1489 True      0    \n",
       "1490 True      0    \n",
       "1491 True      0    \n",
       "1492 True      0    \n",
       "1493 True      0    \n",
       "1494 True      0    \n",
       "1495 True      0    \n",
       "1496 True      0    "
      ]
     },
     "metadata": {},
     "output_type": "display_data"
    }
   ],
   "source": [
    "eff_scores"
   ]
  },
  {
   "cell_type": "markdown",
   "metadata": {},
   "source": [
    "Create one big dataframe assembling all the others"
   ]
  },
  {
   "cell_type": "code",
   "execution_count": 26,
   "metadata": {},
   "outputs": [],
   "source": [
    "# get the experiment condition file with all pp IDs\n",
    "cond <-rename(cond, ID = \"Subject ID\", condition = \"Condition = Intervention\", removed= \"REMOVED\")\n",
    "cond$ID<-as.factor(cond$ID)"
   ]
  },
  {
   "cell_type": "code",
   "execution_count": null,
   "metadata": {},
   "outputs": [],
   "source": [
    "#get the experiment condition file with all pp IDs only\n",
    "#cond_sml<-cond %>% select(ID, condition)"
   ]
  },
  {
   "cell_type": "code",
   "execution_count": 27,
   "metadata": {},
   "outputs": [],
   "source": [
    "eff_scores$ID<-as.factor(eff_scores$ID)"
   ]
  },
  {
   "cell_type": "code",
   "execution_count": null,
   "metadata": {},
   "outputs": [],
   "source": [
    "write_csv(eff_scores, \"eff_scores.csv\")"
   ]
  },
  {
   "cell_type": "code",
   "execution_count": null,
   "metadata": {},
   "outputs": [],
   "source": [
    "write_csv(cond_sml, \"cond_sml.csv\")"
   ]
  },
  {
   "cell_type": "code",
   "execution_count": 28,
   "metadata": {},
   "outputs": [
    {
     "name": "stderr",
     "output_type": "stream",
     "text": [
      "Joining, by = \"ID\"\n",
      "\n",
      "Warning message:\n",
      "“Column `ID` joining factors with different levels, coercing to character vector”\n"
     ]
    }
   ],
   "source": [
    "toto<-full_join(cond, eff_scores)"
   ]
  },
  {
   "cell_type": "code",
   "execution_count": null,
   "metadata": {},
   "outputs": [],
   "source": [
    "\n",
    "# merge cond and eff files to get information about participants condition\n",
    "#eff_scores<-inner_join(cond,eff_scores, by= 'ID')"
   ]
  },
  {
   "cell_type": "code",
   "execution_count": 29,
   "metadata": {},
   "outputs": [],
   "source": [
    "remove(eff_scores)\n",
    "eff_scores<-toto"
   ]
  },
  {
   "cell_type": "code",
   "execution_count": 30,
   "metadata": {},
   "outputs": [
    {
     "data": {
      "text/html": [
       "<style>\n",
       ".list-inline {list-style: none; margin:0; padding: 0}\n",
       ".list-inline>li {display: inline-block}\n",
       ".list-inline>li:not(:last-child)::after {content: \"\\00b7\"; padding: 0 .5ex}\n",
       "</style>\n",
       "<ol class=list-inline><li>'ID'</li><li>'day_msg'</li><li>'Starting Date'</li><li>'Good'</li><li>'condition'</li><li>'EEG'</li><li>'Finished'</li><li>'removed'</li><li>'Interview'</li><li>'Notes'</li><li>'No Compliance'</li><li>'Email reminder poor perf'</li><li>'eve_msg'</li><li>'ev3days'</li><li>'most_recent'</li><li>'NAME'</li><li>'EMAIL'</li><li>'PHONE'</li><li>'date'</li><li>'r_eff1'</li><li>'r_eff2'</li><li>'s_eff1'</li><li>'s_eff2'</li><li>'s_eff3'</li><li>'hope'</li><li>'type'</li><li>'completed'</li><li>'n_day'</li></ol>\n"
      ],
      "text/latex": [
       "\\begin{enumerate*}\n",
       "\\item 'ID'\n",
       "\\item 'day\\_msg'\n",
       "\\item 'Starting Date'\n",
       "\\item 'Good'\n",
       "\\item 'condition'\n",
       "\\item 'EEG'\n",
       "\\item 'Finished'\n",
       "\\item 'removed'\n",
       "\\item 'Interview'\n",
       "\\item 'Notes'\n",
       "\\item 'No Compliance'\n",
       "\\item 'Email reminder poor perf'\n",
       "\\item 'eve\\_msg'\n",
       "\\item 'ev3days'\n",
       "\\item 'most\\_recent'\n",
       "\\item 'NAME'\n",
       "\\item 'EMAIL'\n",
       "\\item 'PHONE'\n",
       "\\item 'date'\n",
       "\\item 'r\\_eff1'\n",
       "\\item 'r\\_eff2'\n",
       "\\item 's\\_eff1'\n",
       "\\item 's\\_eff2'\n",
       "\\item 's\\_eff3'\n",
       "\\item 'hope'\n",
       "\\item 'type'\n",
       "\\item 'completed'\n",
       "\\item 'n\\_day'\n",
       "\\end{enumerate*}\n"
      ],
      "text/markdown": [
       "1. 'ID'\n",
       "2. 'day_msg'\n",
       "3. 'Starting Date'\n",
       "4. 'Good'\n",
       "5. 'condition'\n",
       "6. 'EEG'\n",
       "7. 'Finished'\n",
       "8. 'removed'\n",
       "9. 'Interview'\n",
       "10. 'Notes'\n",
       "11. 'No Compliance'\n",
       "12. 'Email reminder poor perf'\n",
       "13. 'eve_msg'\n",
       "14. 'ev3days'\n",
       "15. 'most_recent'\n",
       "16. 'NAME'\n",
       "17. 'EMAIL'\n",
       "18. 'PHONE'\n",
       "19. 'date'\n",
       "20. 'r_eff1'\n",
       "21. 'r_eff2'\n",
       "22. 's_eff1'\n",
       "23. 's_eff2'\n",
       "24. 's_eff3'\n",
       "25. 'hope'\n",
       "26. 'type'\n",
       "27. 'completed'\n",
       "28. 'n_day'\n",
       "\n",
       "\n"
      ],
      "text/plain": [
       " [1] \"ID\"                       \"day_msg\"                 \n",
       " [3] \"Starting Date\"            \"Good\"                    \n",
       " [5] \"condition\"                \"EEG\"                     \n",
       " [7] \"Finished\"                 \"removed\"                 \n",
       " [9] \"Interview\"                \"Notes\"                   \n",
       "[11] \"No Compliance\"            \"Email reminder poor perf\"\n",
       "[13] \"eve_msg\"                  \"ev3days\"                 \n",
       "[15] \"most_recent\"              \"NAME\"                    \n",
       "[17] \"EMAIL\"                    \"PHONE\"                   \n",
       "[19] \"date\"                     \"r_eff1\"                  \n",
       "[21] \"r_eff2\"                   \"s_eff1\"                  \n",
       "[23] \"s_eff2\"                   \"s_eff3\"                  \n",
       "[25] \"hope\"                     \"type\"                    \n",
       "[27] \"completed\"                \"n_day\"                   "
      ]
     },
     "metadata": {},
     "output_type": "display_data"
    }
   ],
   "source": [
    "colnames(eff_scores)"
   ]
  },
  {
   "cell_type": "code",
   "execution_count": null,
   "metadata": {},
   "outputs": [],
   "source": [
    "eff_scores$type\n"
   ]
  },
  {
   "cell_type": "code",
   "execution_count": 31,
   "metadata": {},
   "outputs": [],
   "source": [
    "#recode condition to human names\n",
    "\n",
    "eff_scores$condition<-recode(eff_scores$condition, '0' = \"control\", '1' = \"intervention\")\n",
    "\n",
    "\n",
    "#Replace missing values and keep only participants who were not removed\n",
    "eff_scores$removed<-eff_scores$removed %>% replace(is.na(.), 0)"
   ]
  },
  {
   "cell_type": "markdown",
   "metadata": {},
   "source": [
    "Filter participants based on survey completion criteria"
   ]
  },
  {
   "cell_type": "code",
   "execution_count": 32,
   "metadata": {},
   "outputs": [],
   "source": [
    "#filter to keep participants not removed\n",
    "eff_scores<-eff_scores%>%filter(removed == 0)"
   ]
  },
  {
   "cell_type": "code",
   "execution_count": null,
   "metadata": {},
   "outputs": [],
   "source": [
    "# filter to keep participants who did at least 80% of surveys\n",
    "eff_scores<-eff_scores%>%filter(Good == 1)"
   ]
  },
  {
   "cell_type": "markdown",
   "metadata": {},
   "source": [
    "Do a check of for missing values in the data\n"
   ]
  },
  {
   "cell_type": "code",
   "execution_count": 33,
   "metadata": {},
   "outputs": [
    {
     "name": "stderr",
     "output_type": "stream",
     "text": [
      "Warning message:\n",
      "“attributes are not identical across measure variables;\n",
      "they will be dropped”\n"
     ]
    }
   ],
   "source": [
    "missing.values <- eff_scores %>%\n",
    "    gather(key = \"key\", value = \"val\") %>%\n",
    "    mutate(is.missing = is.na(val)) %>%\n",
    "    group_by(key, is.missing) %>%\n",
    "    summarise(num.missing = n()) %>%\n",
    "    filter(is.missing==T) %>%\n",
    "    select(-is.missing) %>%\n",
    "    arrange(desc(num.missing)) "
   ]
  },
  {
   "cell_type": "code",
   "execution_count": null,
   "metadata": {},
   "outputs": [],
   "source": [
    "missing.values"
   ]
  },
  {
   "cell_type": "markdown",
   "metadata": {},
   "source": [
    "Look at why we have condition with missing values\n"
   ]
  },
  {
   "cell_type": "code",
   "execution_count": 34,
   "metadata": {},
   "outputs": [
    {
     "data": {
      "text/html": [
       "<style>\n",
       ".list-inline {list-style: none; margin:0; padding: 0}\n",
       ".list-inline>li {display: inline-block}\n",
       ".list-inline>li:not(:last-child)::after {content: \"\\00b7\"; padding: 0 .5ex}\n",
       "</style>\n",
       "<ol class=list-inline><li>1450</li><li>1451</li><li>1452</li><li>1453</li><li>1454</li><li>1455</li><li>1456</li><li>1457</li><li>1458</li><li>1459</li><li>1460</li><li>1461</li><li>1462</li><li>1463</li><li>1464</li><li>1465</li></ol>\n"
      ],
      "text/latex": [
       "\\begin{enumerate*}\n",
       "\\item 1450\n",
       "\\item 1451\n",
       "\\item 1452\n",
       "\\item 1453\n",
       "\\item 1454\n",
       "\\item 1455\n",
       "\\item 1456\n",
       "\\item 1457\n",
       "\\item 1458\n",
       "\\item 1459\n",
       "\\item 1460\n",
       "\\item 1461\n",
       "\\item 1462\n",
       "\\item 1463\n",
       "\\item 1464\n",
       "\\item 1465\n",
       "\\end{enumerate*}\n"
      ],
      "text/markdown": [
       "1. 1450\n",
       "2. 1451\n",
       "3. 1452\n",
       "4. 1453\n",
       "5. 1454\n",
       "6. 1455\n",
       "7. 1456\n",
       "8. 1457\n",
       "9. 1458\n",
       "10. 1459\n",
       "11. 1460\n",
       "12. 1461\n",
       "13. 1462\n",
       "14. 1463\n",
       "15. 1464\n",
       "16. 1465\n",
       "\n",
       "\n"
      ],
      "text/plain": [
       " [1] 1450 1451 1452 1453 1454 1455 1456 1457 1458 1459 1460 1461 1462 1463 1464\n",
       "[16] 1465"
      ]
     },
     "metadata": {},
     "output_type": "display_data"
    }
   ],
   "source": [
    "which(is.na(eff_scores$condition))"
   ]
  },
  {
   "cell_type": "code",
   "execution_count": 35,
   "metadata": {},
   "outputs": [],
   "source": [
    "# remove these lines \n",
    "\n",
    "eff_scores<-drop_na(eff_scores, condition)"
   ]
  },
  {
   "cell_type": "code",
   "execution_count": 85,
   "metadata": {},
   "outputs": [],
   "source": [
    "df<-eff_scores"
   ]
  },
  {
   "cell_type": "markdown",
   "metadata": {},
   "source": [
    "\n",
    " Compute response and self efficacy scores:\n",
    "--------------------------------------------\n",
    "\n",
    "get the mean of all individual scores in each condition for each day:\n",
    "\n",
    "- define days 1-2-3 etc.\n",
    "- check for those pp who did baseline and followup (IDs 562, 477, 703, 786)\n",
    "- find participants with a maximum of 9 n_day\n",
    "- find participants with more than 9 n_day entries\n",
    "- take only only every 3 days: 1, 6, 9, 12, 15, 18, 21\n",
    "\n",
    "create new dataset:  \n",
    "- count how many of each day per condition\n"
   ]
  },
  {
   "cell_type": "code",
   "execution_count": 86,
   "metadata": {},
   "outputs": [
    {
     "name": "stderr",
     "output_type": "stream",
     "text": [
      "Warning message:\n",
      "“NAs introduced by coercion”\n",
      "Warning message:\n",
      "“NAs introduced by coercion”\n",
      "Warning message:\n",
      "“NAs introduced by coercion”\n",
      "Warning message:\n",
      "“NAs introduced by coercion”\n",
      "Warning message:\n",
      "“NAs introduced by coercion”\n",
      "Warning message:\n",
      "“NAs introduced by coercion”\n",
      "Warning message:\n",
      "“NAs introduced by coercion”\n"
     ]
    }
   ],
   "source": [
    "# transform the columns for response and self efficacy that were charactuers in numeric tyoe           \n",
    "df <-df %>% mutate_each(funs(as.numeric), -ID,  -date, -condition, -type) \n",
    "\n",
    "\n"
   ]
  },
  {
   "cell_type": "code",
   "execution_count": 87,
   "metadata": {},
   "outputs": [],
   "source": [
    "df<-select(df, -'removed', -'Finished', -'Interview', -'Notes', -\"completed\" )"
   ]
  },
  {
   "cell_type": "code",
   "execution_count": 88,
   "metadata": {},
   "outputs": [],
   "source": [
    "df<-select(df, -'Starting Date', -'day_msg',  -'No Compliance', -'Email reminder poor perf', -'eve_msg', -'ev3days',  -'most_recent', -'NAME', -'EMAIL', -'PHONE')"
   ]
  },
  {
   "cell_type": "code",
   "execution_count": 46,
   "metadata": {},
   "outputs": [
    {
     "data": {
      "text/html": [
       "<style>\n",
       ".list-inline {list-style: none; margin:0; padding: 0}\n",
       ".list-inline>li {display: inline-block}\n",
       ".list-inline>li:not(:last-child)::after {content: \"\\00b7\"; padding: 0 .5ex}\n",
       "</style>\n",
       "<ol class=list-inline><li>'ID'</li><li>'Good'</li><li>'condition'</li><li>'EEG'</li><li>'date'</li><li>'r_eff1'</li><li>'r_eff2'</li><li>'s_eff1'</li><li>'s_eff2'</li><li>'s_eff3'</li><li>'hope'</li><li>'type'</li><li>'n_day'</li></ol>\n"
      ],
      "text/latex": [
       "\\begin{enumerate*}\n",
       "\\item 'ID'\n",
       "\\item 'Good'\n",
       "\\item 'condition'\n",
       "\\item 'EEG'\n",
       "\\item 'date'\n",
       "\\item 'r\\_eff1'\n",
       "\\item 'r\\_eff2'\n",
       "\\item 's\\_eff1'\n",
       "\\item 's\\_eff2'\n",
       "\\item 's\\_eff3'\n",
       "\\item 'hope'\n",
       "\\item 'type'\n",
       "\\item 'n\\_day'\n",
       "\\end{enumerate*}\n"
      ],
      "text/markdown": [
       "1. 'ID'\n",
       "2. 'Good'\n",
       "3. 'condition'\n",
       "4. 'EEG'\n",
       "5. 'date'\n",
       "6. 'r_eff1'\n",
       "7. 'r_eff2'\n",
       "8. 's_eff1'\n",
       "9. 's_eff2'\n",
       "10. 's_eff3'\n",
       "11. 'hope'\n",
       "12. 'type'\n",
       "13. 'n_day'\n",
       "\n",
       "\n"
      ],
      "text/plain": [
       " [1] \"ID\"        \"Good\"      \"condition\" \"EEG\"       \"date\"      \"r_eff1\"   \n",
       " [7] \"r_eff2\"    \"s_eff1\"    \"s_eff2\"    \"s_eff3\"    \"hope\"      \"type\"     \n",
       "[13] \"n_day\"    "
      ]
     },
     "metadata": {},
     "output_type": "display_data"
    }
   ],
   "source": [
    "colnames(df)"
   ]
  },
  {
   "cell_type": "code",
   "execution_count": 89,
   "metadata": {},
   "outputs": [],
   "source": [
    "# pass n_days as factor and recode day 0 and 10\n",
    "df$n_day<-as.factor(df$n_day)\n",
    "\n",
    "df$n_day<-recode(df$n_day, '0'= 'baseline', '10'='follow-up' )"
   ]
  },
  {
   "cell_type": "markdown",
   "metadata": {},
   "source": [
    "count how many of each day per condition"
   ]
  },
  {
   "cell_type": "code",
   "execution_count": 90,
   "metadata": {},
   "outputs": [
    {
     "name": "stderr",
     "output_type": "stream",
     "text": [
      "Warning message:\n",
      "“Factor `n_day` contains implicit NA, consider using `forcats::fct_explicit_na`”\n",
      "Saving 6.67 x 6.67 in image\n",
      "\n"
     ]
    },
    {
     "data": {
      "image/png": "[encoded data removed]",
      "text/plain": [
       "plot without title"
      ]
     },
     "metadata": {
      "image/png": {
       "height": 420,
       "width": 420
      },
      "text/plain": {
       "height": 420,
       "width": 420
      }
     },
     "output_type": "display_data"
    }
   ],
   "source": [
    "n_rep <- df %>% group_by(condition, n_day) %>%\n",
    " summarize(count=n()) %>% \n",
    "    ungroup()\n",
    "n_rep <-n_rep %>% drop_na()\n",
    "\n",
    "\n",
    "# plot\n",
    "ggplot(data= n_rep, aes(x = n_day, y=count)) +\n",
    "  geom_point(mapping = aes(colour = condition) ) +\n",
    "  ggtitle(\"Number of responses per measures  - efficacy questionnaire\")+\n",
    "  xlab('Measure')+ ylab('number of responses')+ \n",
    " ggsave('nresp_per_day.jpg', plot =last_plot(), dpi =300, path= save_figure)\n",
    " "
   ]
  },
  {
   "cell_type": "markdown",
   "metadata": {},
   "source": [
    "Work on mean scores"
   ]
  },
  {
   "cell_type": "code",
   "execution_count": 91,
   "metadata": {
    "scrolled": false
   },
   "outputs": [
    {
     "name": "stderr",
     "output_type": "stream",
     "text": [
      "Warning message:\n",
      "“Factor `n_day` contains implicit NA, consider using `forcats::fct_explicit_na`”\n",
      "Warning message:\n",
      "“Factor `n_day` contains implicit NA, consider using `forcats::fct_explicit_na`”\n"
     ]
    }
   ],
   "source": [
    "# compute total score for each measure for each day and each participant\n",
    "\n",
    "df <- df %>% group_by(ID, n_day) %>% \n",
    "  mutate(total_re= sum(r_eff1, r_eff2), \n",
    "         total_se= sum(s_eff1, s_eff2, s_eff3)\n",
    "         ) %>% \n",
    "    ungroup()\n",
    "    "
   ]
  },
  {
   "cell_type": "code",
   "execution_count": 126,
   "metadata": {},
   "outputs": [],
   "source": [
    "df2<-rename(df, eff_r1=r_eff1, eff_r2=r_eff2, eff_s1=s_eff1, eff_s2=s_eff2, eff_s3=s_eff3, eff_hope=hope)\n",
    "df2<-select(df2, -total_re, -total_se, -EEG, -date)"
   ]
  },
  {
   "cell_type": "code",
   "execution_count": 127,
   "metadata": {},
   "outputs": [],
   "source": [
    "df2_long<-df2 %>% \n",
    "  pivot_longer(\n",
    "    -c('ID', 'condition','type', 'n_day', 'Good'),  \n",
    "    names_to = c(\".value\", \"score\"), \n",
    "    names_sep = \"_\", \n",
    "    values_drop_na = TRUE\n",
    "  )"
   ]
  },
  {
   "cell_type": "code",
   "execution_count": 162,
   "metadata": {},
   "outputs": [],
   "source": [
    "titi<-rowMeans(select(df, c('r_eff1','r_eff2')))"
   ]
  },
  {
   "cell_type": "code",
   "execution_count": 168,
   "metadata": {},
   "outputs": [],
   "source": [
    "# take the mean of each (resp and self) item for each day for each pp\n",
    "\n",
    "df<- df %>% \n",
    "         mutate(mean_re= rowMeans(select(., c('r_eff1','r_eff2')), na.rm=TRUE) , \n",
    "         mean_se= rowMeans(select(., c('s_eff1', 's_eff2', 's_eff3')), na.rm=TRUE)\n",
    "         ) \n",
    "    "
   ]
  },
  {
   "cell_type": "code",
   "execution_count": 169,
   "metadata": {},
   "outputs": [
    {
     "data": {
      "text/html": [
       "<table>\n",
       "<caption>A tibble: 1449 × 17</caption>\n",
       "<thead>\n",
       "\t<tr><th scope=col>ID</th><th scope=col>Good</th><th scope=col>condition</th><th scope=col>EEG</th><th scope=col>date</th><th scope=col>r_eff1</th><th scope=col>r_eff2</th><th scope=col>s_eff1</th><th scope=col>s_eff2</th><th scope=col>s_eff3</th><th scope=col>hope</th><th scope=col>type</th><th scope=col>n_day</th><th scope=col>total_re</th><th scope=col>total_se</th><th scope=col>mean_re</th><th scope=col>mean_se</th></tr>\n",
       "\t<tr><th scope=col>&lt;chr&gt;</th><th scope=col>&lt;dbl&gt;</th><th scope=col>&lt;chr&gt;</th><th scope=col>&lt;dbl&gt;</th><th scope=col>&lt;chr&gt;</th><th scope=col>&lt;dbl&gt;</th><th scope=col>&lt;dbl&gt;</th><th scope=col>&lt;dbl&gt;</th><th scope=col>&lt;dbl&gt;</th><th scope=col>&lt;dbl&gt;</th><th scope=col>&lt;dbl&gt;</th><th scope=col>&lt;fct&gt;</th><th scope=col>&lt;fct&gt;</th><th scope=col>&lt;dbl&gt;</th><th scope=col>&lt;dbl&gt;</th><th scope=col>&lt;dbl&gt;</th><th scope=col>&lt;dbl&gt;</th></tr>\n",
       "</thead>\n",
       "<tbody>\n",
       "\t<tr><td>702</td><td>1</td><td>intervention</td><td>0</td><td>2019-07-16 00:48:54</td><td>100</td><td> 40</td><td> 80</td><td>30</td><td>100</td><td> 73</td><td>every3days</td><td>1        </td><td>140</td><td>210</td><td> 70.0</td><td>70.0000000</td></tr>\n",
       "\t<tr><td>702</td><td>1</td><td>intervention</td><td>0</td><td>2019-07-21 23:27:25</td><td>100</td><td>100</td><td> 71</td><td>43</td><td>100</td><td> 76</td><td>every3days</td><td>2        </td><td>200</td><td>214</td><td>100.0</td><td>71.3333333</td></tr>\n",
       "\t<tr><td>702</td><td>1</td><td>intervention</td><td>0</td><td>2019-07-25 01:59:41</td><td>100</td><td> 52</td><td> 77</td><td>80</td><td>100</td><td> 75</td><td>every3days</td><td>3        </td><td>152</td><td>257</td><td> 76.0</td><td>85.6666667</td></tr>\n",
       "\t<tr><td>702</td><td>1</td><td>intervention</td><td>0</td><td>2019-07-28 01:49:46</td><td> 78</td><td> 84</td><td> 83</td><td>56</td><td> 69</td><td> 76</td><td>every3days</td><td>4        </td><td>162</td><td>208</td><td> 81.0</td><td>69.3333333</td></tr>\n",
       "\t<tr><td>702</td><td>1</td><td>intervention</td><td>0</td><td>2019-08-03 15:02:46</td><td> 79</td><td> 91</td><td> 94</td><td>84</td><td> 88</td><td> 80</td><td>every3days</td><td>5        </td><td>170</td><td>266</td><td> 85.0</td><td>88.6666667</td></tr>\n",
       "\t<tr><td>702</td><td>1</td><td>intervention</td><td>0</td><td>2019-08-06 01:51:27</td><td>100</td><td> 84</td><td>100</td><td>71</td><td>100</td><td> 84</td><td>every3days</td><td>6        </td><td>184</td><td>271</td><td> 92.0</td><td>90.3333333</td></tr>\n",
       "\t<tr><td>702</td><td>1</td><td>intervention</td><td>0</td><td>2019-08-06 01:52:22</td><td> 96</td><td>100</td><td>100</td><td>75</td><td>100</td><td> 91</td><td>every3days</td><td>7        </td><td>196</td><td>275</td><td> 98.0</td><td>91.6666667</td></tr>\n",
       "\t<tr><td>702</td><td>1</td><td>intervention</td><td>0</td><td>2019-08-09 00:27:33</td><td> 80</td><td>100</td><td>100</td><td>84</td><td>100</td><td>100</td><td>every3days</td><td>8        </td><td>180</td><td>284</td><td> 90.0</td><td>94.6666667</td></tr>\n",
       "\t<tr><td>702</td><td>1</td><td>intervention</td><td>0</td><td>2019-08-11 21:00:02</td><td> NA</td><td> NA</td><td> NA</td><td>NA</td><td> NA</td><td> NA</td><td>followup  </td><td>follow-up</td><td> NA</td><td> NA</td><td>  NaN</td><td>       NaN</td></tr>\n",
       "\t<tr><td>702</td><td>1</td><td>intervention</td><td>0</td><td>2019-07-11 13:48:02</td><td> NA</td><td> NA</td><td> NA</td><td>NA</td><td> NA</td><td> NA</td><td>baseline  </td><td>baseline </td><td> NA</td><td> NA</td><td>  NaN</td><td>       NaN</td></tr>\n",
       "\t<tr><td>703</td><td>1</td><td>control     </td><td>1</td><td>2019-10-30 16:36:23</td><td> 71</td><td> 61</td><td> 28</td><td>15</td><td> 16</td><td> 20</td><td>baseline  </td><td>baseline </td><td>132</td><td> 59</td><td> 66.0</td><td>19.6666667</td></tr>\n",
       "\t<tr><td>703</td><td>1</td><td>control     </td><td>1</td><td>2019-10-03 21:02:56</td><td> 77</td><td> 60</td><td> 33</td><td>20</td><td> 40</td><td> 27</td><td>every3days</td><td>1        </td><td>137</td><td> 93</td><td> 68.5</td><td>31.0000000</td></tr>\n",
       "\t<tr><td>703</td><td>1</td><td>control     </td><td>1</td><td>2019-10-09 21:05:34</td><td> 74</td><td> 59</td><td> 22</td><td>26</td><td> 18</td><td> 25</td><td>every3days</td><td>2        </td><td>133</td><td> 66</td><td> 66.5</td><td>22.0000000</td></tr>\n",
       "\t<tr><td>703</td><td>1</td><td>control     </td><td>1</td><td>2019-10-12 21:02:12</td><td> 66</td><td> 50</td><td> 27</td><td>21</td><td> 24</td><td> 27</td><td>every3days</td><td>3        </td><td>116</td><td> 72</td><td> 58.0</td><td>24.0000000</td></tr>\n",
       "\t<tr><td>703</td><td>1</td><td>control     </td><td>1</td><td>2019-10-19 10:28:45</td><td> 78</td><td> 53</td><td> 20</td><td>20</td><td> 19</td><td> 23</td><td>every3days</td><td>4        </td><td>131</td><td> 59</td><td> 65.5</td><td>19.6666667</td></tr>\n",
       "\t<tr><td>270</td><td>1</td><td>control     </td><td>0</td><td>2019-07-23 10:12:08</td><td>100</td><td>100</td><td> 34</td><td> 0</td><td> 21</td><td> 31</td><td>every3days</td><td>1        </td><td>200</td><td> 55</td><td>100.0</td><td>18.3333333</td></tr>\n",
       "\t<tr><td>270</td><td>1</td><td>control     </td><td>0</td><td>2019-07-28 21:07:55</td><td>100</td><td>100</td><td>  3</td><td> 7</td><td> 19</td><td>  5</td><td>every3days</td><td>2        </td><td>200</td><td> 29</td><td>100.0</td><td> 9.6666667</td></tr>\n",
       "\t<tr><td>270</td><td>1</td><td>control     </td><td>0</td><td>2019-07-31 22:06:32</td><td>100</td><td>100</td><td> 10</td><td> 1</td><td>  4</td><td>  0</td><td>every3days</td><td>3        </td><td>200</td><td> 15</td><td>100.0</td><td> 5.0000000</td></tr>\n",
       "\t<tr><td>270</td><td>1</td><td>control     </td><td>0</td><td>2019-08-03 21:01:40</td><td>100</td><td>100</td><td>  0</td><td> 0</td><td>  3</td><td>  0</td><td>every3days</td><td>4        </td><td>200</td><td>  3</td><td>100.0</td><td> 1.0000000</td></tr>\n",
       "\t<tr><td>270</td><td>1</td><td>control     </td><td>0</td><td>2019-08-06 23:53:57</td><td>100</td><td>100</td><td>  0</td><td> 0</td><td> 10</td><td>  0</td><td>every3days</td><td>5        </td><td>200</td><td> 10</td><td>100.0</td><td> 3.3333333</td></tr>\n",
       "\t<tr><td>270</td><td>1</td><td>control     </td><td>0</td><td>2019-08-08 21:16:22</td><td>100</td><td>100</td><td> 19</td><td> 0</td><td>  8</td><td>  0</td><td>every3days</td><td>6        </td><td>200</td><td> 27</td><td>100.0</td><td> 9.0000000</td></tr>\n",
       "\t<tr><td>270</td><td>1</td><td>control     </td><td>0</td><td>2019-08-11 21:01:44</td><td>100</td><td>100</td><td>  0</td><td> 1</td><td>  1</td><td>  0</td><td>every3days</td><td>7        </td><td>200</td><td>  2</td><td>100.0</td><td> 0.6666667</td></tr>\n",
       "\t<tr><td>270</td><td>1</td><td>control     </td><td>0</td><td>2019-08-16 12:42:53</td><td>100</td><td>100</td><td>  0</td><td> 9</td><td>  9</td><td>  0</td><td>every3days</td><td>8        </td><td>200</td><td> 18</td><td>100.0</td><td> 6.0000000</td></tr>\n",
       "\t<tr><td>270</td><td>1</td><td>control     </td><td>0</td><td>2019-09-14 13:37:11</td><td> NA</td><td> NA</td><td> NA</td><td>NA</td><td> NA</td><td> NA</td><td>followup  </td><td>follow-up</td><td> NA</td><td> NA</td><td>  NaN</td><td>       NaN</td></tr>\n",
       "\t<tr><td>270</td><td>1</td><td>control     </td><td>0</td><td>2019-07-18 17:39:34</td><td> NA</td><td> NA</td><td> NA</td><td>NA</td><td> NA</td><td> NA</td><td>baseline  </td><td>baseline </td><td> NA</td><td> NA</td><td>  NaN</td><td>       NaN</td></tr>\n",
       "\t<tr><td>337</td><td>1</td><td>intervention</td><td>0</td><td>2019-12-22 21:37:40</td><td>100</td><td>100</td><td> 26</td><td> 4</td><td> 63</td><td> 23</td><td>every3days</td><td>1        </td><td>200</td><td> 93</td><td>100.0</td><td>31.0000000</td></tr>\n",
       "\t<tr><td>337</td><td>1</td><td>intervention</td><td>0</td><td>2019-12-26 12:28:14</td><td>100</td><td>100</td><td> 24</td><td> 4</td><td> 47</td><td> 32</td><td>every3days</td><td>2        </td><td>200</td><td> 75</td><td>100.0</td><td>25.0000000</td></tr>\n",
       "\t<tr><td>337</td><td>1</td><td>intervention</td><td>0</td><td>2019-12-28 21:04:30</td><td>100</td><td>100</td><td> 23</td><td>23</td><td> 46</td><td> 22</td><td>every3days</td><td>3        </td><td>200</td><td> 92</td><td>100.0</td><td>30.6666667</td></tr>\n",
       "\t<tr><td>337</td><td>1</td><td>intervention</td><td>0</td><td>2020-01-01 09:34:17</td><td>100</td><td>100</td><td> 18</td><td> 4</td><td> 30</td><td> 21</td><td>every3days</td><td>4        </td><td>200</td><td> 52</td><td>100.0</td><td>17.3333333</td></tr>\n",
       "\t<tr><td>337</td><td>1</td><td>intervention</td><td>0</td><td>2020-01-04 11:08:04</td><td>100</td><td>100</td><td> 17</td><td>27</td><td> 49</td><td> 19</td><td>every3days</td><td>5        </td><td>200</td><td> 93</td><td>100.0</td><td>31.0000000</td></tr>\n",
       "\t<tr><td>⋮</td><td>⋮</td><td>⋮</td><td>⋮</td><td>⋮</td><td>⋮</td><td>⋮</td><td>⋮</td><td>⋮</td><td>⋮</td><td>⋮</td><td>⋮</td><td>⋮</td><td>⋮</td><td>⋮</td><td>⋮</td><td>⋮</td></tr>\n",
       "\t<tr><td>2083</td><td>0</td><td>intervention</td><td>0</td><td>2020-02-07 00:50:01</td><td>100</td><td>100</td><td> 49</td><td>37</td><td>100</td><td>59</td><td>baseline</td><td>baseline</td><td>200</td><td>186</td><td>100.0</td><td>62.000000</td></tr>\n",
       "\t<tr><td>2379</td><td>0</td><td>intervention</td><td>0</td><td>2020-02-05 17:30:20</td><td>100</td><td>100</td><td>100</td><td>53</td><td> 51</td><td>53</td><td>baseline</td><td>baseline</td><td>200</td><td>204</td><td>100.0</td><td>68.000000</td></tr>\n",
       "\t<tr><td>240 </td><td>0</td><td>control     </td><td>0</td><td>NA                 </td><td> NA</td><td> NA</td><td> NA</td><td>NA</td><td> NA</td><td>NA</td><td>NA      </td><td>NA      </td><td> NA</td><td> NA</td><td>  NaN</td><td>      NaN</td></tr>\n",
       "\t<tr><td>443 </td><td>0</td><td>intervention</td><td>0</td><td>NA                 </td><td> NA</td><td> NA</td><td> NA</td><td>NA</td><td> NA</td><td>NA</td><td>NA      </td><td>NA      </td><td> NA</td><td> NA</td><td>  NaN</td><td>      NaN</td></tr>\n",
       "\t<tr><td>1561</td><td>0</td><td>control     </td><td>0</td><td>NA                 </td><td> NA</td><td> NA</td><td> NA</td><td>NA</td><td> NA</td><td>NA</td><td>NA      </td><td>NA      </td><td> NA</td><td> NA</td><td>  NaN</td><td>      NaN</td></tr>\n",
       "\t<tr><td>1872</td><td>0</td><td>intervention</td><td>0</td><td>NA                 </td><td> NA</td><td> NA</td><td> NA</td><td>NA</td><td> NA</td><td>NA</td><td>NA      </td><td>NA      </td><td> NA</td><td> NA</td><td>  NaN</td><td>      NaN</td></tr>\n",
       "\t<tr><td>2766</td><td>0</td><td>intervention</td><td>0</td><td>NA                 </td><td> NA</td><td> NA</td><td> NA</td><td>NA</td><td> NA</td><td>NA</td><td>NA      </td><td>NA      </td><td> NA</td><td> NA</td><td>  NaN</td><td>      NaN</td></tr>\n",
       "\t<tr><td>624 </td><td>0</td><td>intervention</td><td>0</td><td>NA                 </td><td> NA</td><td> NA</td><td> NA</td><td>NA</td><td> NA</td><td>NA</td><td>NA      </td><td>NA      </td><td> NA</td><td> NA</td><td>  NaN</td><td>      NaN</td></tr>\n",
       "\t<tr><td>733 </td><td>0</td><td>intervention</td><td>0</td><td>NA                 </td><td> NA</td><td> NA</td><td> NA</td><td>NA</td><td> NA</td><td>NA</td><td>NA      </td><td>NA      </td><td> NA</td><td> NA</td><td>  NaN</td><td>      NaN</td></tr>\n",
       "\t<tr><td>356 </td><td>0</td><td>control     </td><td>0</td><td>NA                 </td><td> NA</td><td> NA</td><td> NA</td><td>NA</td><td> NA</td><td>NA</td><td>NA      </td><td>NA      </td><td> NA</td><td> NA</td><td>  NaN</td><td>      NaN</td></tr>\n",
       "\t<tr><td>707 </td><td>0</td><td>control     </td><td>0</td><td>NA                 </td><td> NA</td><td> NA</td><td> NA</td><td>NA</td><td> NA</td><td>NA</td><td>NA      </td><td>NA      </td><td> NA</td><td> NA</td><td>  NaN</td><td>      NaN</td></tr>\n",
       "\t<tr><td>210 </td><td>0</td><td>control     </td><td>0</td><td>NA                 </td><td> NA</td><td> NA</td><td> NA</td><td>NA</td><td> NA</td><td>NA</td><td>NA      </td><td>NA      </td><td> NA</td><td> NA</td><td>  NaN</td><td>      NaN</td></tr>\n",
       "\t<tr><td>1542</td><td>0</td><td>control     </td><td>0</td><td>NA                 </td><td> NA</td><td> NA</td><td> NA</td><td>NA</td><td> NA</td><td>NA</td><td>NA      </td><td>NA      </td><td> NA</td><td> NA</td><td>  NaN</td><td>      NaN</td></tr>\n",
       "\t<tr><td>1909</td><td>0</td><td>control     </td><td>0</td><td>NA                 </td><td> NA</td><td> NA</td><td> NA</td><td>NA</td><td> NA</td><td>NA</td><td>NA      </td><td>NA      </td><td> NA</td><td> NA</td><td>  NaN</td><td>      NaN</td></tr>\n",
       "\t<tr><td>1317</td><td>0</td><td>control     </td><td>0</td><td>NA                 </td><td> NA</td><td> NA</td><td> NA</td><td>NA</td><td> NA</td><td>NA</td><td>NA      </td><td>NA      </td><td> NA</td><td> NA</td><td>  NaN</td><td>      NaN</td></tr>\n",
       "\t<tr><td>2571</td><td>0</td><td>intervention</td><td>0</td><td>NA                 </td><td> NA</td><td> NA</td><td> NA</td><td>NA</td><td> NA</td><td>NA</td><td>NA      </td><td>NA      </td><td> NA</td><td> NA</td><td>  NaN</td><td>      NaN</td></tr>\n",
       "\t<tr><td>1194</td><td>0</td><td>control     </td><td>0</td><td>NA                 </td><td> NA</td><td> NA</td><td> NA</td><td>NA</td><td> NA</td><td>NA</td><td>NA      </td><td>NA      </td><td> NA</td><td> NA</td><td>  NaN</td><td>      NaN</td></tr>\n",
       "\t<tr><td>2092</td><td>0</td><td>control     </td><td>0</td><td>2020-02-06 12:10:49</td><td> 53</td><td> 34</td><td>  1</td><td> 1</td><td>  2</td><td> 5</td><td>baseline</td><td>baseline</td><td> 87</td><td>  4</td><td> 43.5</td><td> 1.333333</td></tr>\n",
       "\t<tr><td>2015</td><td>0</td><td>control     </td><td>0</td><td>2020-02-08 02:24:41</td><td>100</td><td> 50</td><td> 20</td><td> 8</td><td> 20</td><td>34</td><td>baseline</td><td>baseline</td><td>150</td><td> 48</td><td> 75.0</td><td>16.000000</td></tr>\n",
       "\t<tr><td>1926</td><td>0</td><td>control     </td><td>0</td><td>2020-02-05 07:43:42</td><td> 10</td><td> 51</td><td>  5</td><td>NA</td><td> 30</td><td> 0</td><td>baseline</td><td>baseline</td><td> 61</td><td> NA</td><td> 30.5</td><td>17.500000</td></tr>\n",
       "\t<tr><td>907 </td><td>0</td><td>control     </td><td>0</td><td>2020-02-03 20:27:18</td><td>100</td><td> 97</td><td> 12</td><td> 4</td><td> 71</td><td> 6</td><td>baseline</td><td>baseline</td><td>197</td><td> 87</td><td> 98.5</td><td>29.000000</td></tr>\n",
       "\t<tr><td>2084</td><td>0</td><td>control     </td><td>0</td><td>2020-02-04 00:29:22</td><td> 60</td><td>100</td><td> 24</td><td>14</td><td> 14</td><td> 2</td><td>baseline</td><td>baseline</td><td>160</td><td> 52</td><td> 80.0</td><td>17.333333</td></tr>\n",
       "\t<tr><td>1714</td><td>0</td><td>control     </td><td>0</td><td>2020-02-04 07:25:33</td><td> 43</td><td>  2</td><td>  2</td><td> 1</td><td> 47</td><td> 7</td><td>baseline</td><td>baseline</td><td> 45</td><td> 50</td><td> 22.5</td><td>16.666667</td></tr>\n",
       "\t<tr><td>2399</td><td>0</td><td>control     </td><td>0</td><td>2020-02-05 11:50:13</td><td> 97</td><td> 95</td><td>  8</td><td>14</td><td>  9</td><td>41</td><td>baseline</td><td>baseline</td><td>192</td><td> 31</td><td> 96.0</td><td>10.333333</td></tr>\n",
       "\t<tr><td>2757</td><td>0</td><td>intervention</td><td>0</td><td>2020-02-05 17:34:13</td><td>100</td><td> 75</td><td>  9</td><td> 2</td><td> 26</td><td>22</td><td>baseline</td><td>baseline</td><td>175</td><td> 37</td><td> 87.5</td><td>12.333333</td></tr>\n",
       "\t<tr><td>2945</td><td>0</td><td>intervention</td><td>0</td><td>2020-02-07 21:25:14</td><td> 49</td><td> 78</td><td> 21</td><td> 9</td><td> 70</td><td>26</td><td>baseline</td><td>baseline</td><td>127</td><td>100</td><td> 63.5</td><td>33.333333</td></tr>\n",
       "\t<tr><td>2134</td><td>0</td><td>intervention</td><td>0</td><td>2020-02-06 11:06:37</td><td>100</td><td>100</td><td> 50</td><td>45</td><td> 76</td><td> 3</td><td>baseline</td><td>baseline</td><td>200</td><td>171</td><td>100.0</td><td>57.000000</td></tr>\n",
       "\t<tr><td>2284</td><td>0</td><td>intervention</td><td>0</td><td>2020-02-06 15:37:32</td><td> 81</td><td> 78</td><td> 34</td><td> 0</td><td> 50</td><td>33</td><td>baseline</td><td>baseline</td><td>159</td><td> 84</td><td> 79.5</td><td>28.000000</td></tr>\n",
       "\t<tr><td>2193</td><td>0</td><td>intervention</td><td>0</td><td>2020-02-07 16:54:09</td><td> 62</td><td> 85</td><td> 40</td><td>10</td><td> 66</td><td>63</td><td>baseline</td><td>baseline</td><td>147</td><td>116</td><td> 73.5</td><td>38.666667</td></tr>\n",
       "\t<tr><td>2441</td><td>0</td><td>intervention</td><td>0</td><td>2020-02-06 16:55:40</td><td> 19</td><td> 19</td><td> 49</td><td>28</td><td> 30</td><td>40</td><td>baseline</td><td>baseline</td><td> 38</td><td>107</td><td> 19.0</td><td>35.666667</td></tr>\n",
       "</tbody>\n",
       "</table>\n"
      ],
      "text/latex": [
       "A tibble: 1449 × 17\n",
       "\\begin{tabular}{lllllllllllllllll}\n",
       " ID & Good & condition & EEG & date & r\\_eff1 & r\\_eff2 & s\\_eff1 & s\\_eff2 & s\\_eff3 & hope & type & n\\_day & total\\_re & total\\_se & mean\\_re & mean\\_se\\\\\n",
       " <chr> & <dbl> & <chr> & <dbl> & <chr> & <dbl> & <dbl> & <dbl> & <dbl> & <dbl> & <dbl> & <fct> & <fct> & <dbl> & <dbl> & <dbl> & <dbl>\\\\\n",
       "\\hline\n",
       "\t 702 & 1 & intervention & 0 & 2019-07-16 00:48:54 & 100 &  40 &  80 & 30 & 100 &  73 & every3days & 1         & 140 & 210 &  70.0 & 70.0000000\\\\\n",
       "\t 702 & 1 & intervention & 0 & 2019-07-21 23:27:25 & 100 & 100 &  71 & 43 & 100 &  76 & every3days & 2         & 200 & 214 & 100.0 & 71.3333333\\\\\n",
       "\t 702 & 1 & intervention & 0 & 2019-07-25 01:59:41 & 100 &  52 &  77 & 80 & 100 &  75 & every3days & 3         & 152 & 257 &  76.0 & 85.6666667\\\\\n",
       "\t 702 & 1 & intervention & 0 & 2019-07-28 01:49:46 &  78 &  84 &  83 & 56 &  69 &  76 & every3days & 4         & 162 & 208 &  81.0 & 69.3333333\\\\\n",
       "\t 702 & 1 & intervention & 0 & 2019-08-03 15:02:46 &  79 &  91 &  94 & 84 &  88 &  80 & every3days & 5         & 170 & 266 &  85.0 & 88.6666667\\\\\n",
       "\t 702 & 1 & intervention & 0 & 2019-08-06 01:51:27 & 100 &  84 & 100 & 71 & 100 &  84 & every3days & 6         & 184 & 271 &  92.0 & 90.3333333\\\\\n",
       "\t 702 & 1 & intervention & 0 & 2019-08-06 01:52:22 &  96 & 100 & 100 & 75 & 100 &  91 & every3days & 7         & 196 & 275 &  98.0 & 91.6666667\\\\\n",
       "\t 702 & 1 & intervention & 0 & 2019-08-09 00:27:33 &  80 & 100 & 100 & 84 & 100 & 100 & every3days & 8         & 180 & 284 &  90.0 & 94.6666667\\\\\n",
       "\t 702 & 1 & intervention & 0 & 2019-08-11 21:00:02 &  NA &  NA &  NA & NA &  NA &  NA & followup   & follow-up &  NA &  NA &   NaN &        NaN\\\\\n",
       "\t 702 & 1 & intervention & 0 & 2019-07-11 13:48:02 &  NA &  NA &  NA & NA &  NA &  NA & baseline   & baseline  &  NA &  NA &   NaN &        NaN\\\\\n",
       "\t 703 & 1 & control      & 1 & 2019-10-30 16:36:23 &  71 &  61 &  28 & 15 &  16 &  20 & baseline   & baseline  & 132 &  59 &  66.0 & 19.6666667\\\\\n",
       "\t 703 & 1 & control      & 1 & 2019-10-03 21:02:56 &  77 &  60 &  33 & 20 &  40 &  27 & every3days & 1         & 137 &  93 &  68.5 & 31.0000000\\\\\n",
       "\t 703 & 1 & control      & 1 & 2019-10-09 21:05:34 &  74 &  59 &  22 & 26 &  18 &  25 & every3days & 2         & 133 &  66 &  66.5 & 22.0000000\\\\\n",
       "\t 703 & 1 & control      & 1 & 2019-10-12 21:02:12 &  66 &  50 &  27 & 21 &  24 &  27 & every3days & 3         & 116 &  72 &  58.0 & 24.0000000\\\\\n",
       "\t 703 & 1 & control      & 1 & 2019-10-19 10:28:45 &  78 &  53 &  20 & 20 &  19 &  23 & every3days & 4         & 131 &  59 &  65.5 & 19.6666667\\\\\n",
       "\t 270 & 1 & control      & 0 & 2019-07-23 10:12:08 & 100 & 100 &  34 &  0 &  21 &  31 & every3days & 1         & 200 &  55 & 100.0 & 18.3333333\\\\\n",
       "\t 270 & 1 & control      & 0 & 2019-07-28 21:07:55 & 100 & 100 &   3 &  7 &  19 &   5 & every3days & 2         & 200 &  29 & 100.0 &  9.6666667\\\\\n",
       "\t 270 & 1 & control      & 0 & 2019-07-31 22:06:32 & 100 & 100 &  10 &  1 &   4 &   0 & every3days & 3         & 200 &  15 & 100.0 &  5.0000000\\\\\n",
       "\t 270 & 1 & control      & 0 & 2019-08-03 21:01:40 & 100 & 100 &   0 &  0 &   3 &   0 & every3days & 4         & 200 &   3 & 100.0 &  1.0000000\\\\\n",
       "\t 270 & 1 & control      & 0 & 2019-08-06 23:53:57 & 100 & 100 &   0 &  0 &  10 &   0 & every3days & 5         & 200 &  10 & 100.0 &  3.3333333\\\\\n",
       "\t 270 & 1 & control      & 0 & 2019-08-08 21:16:22 & 100 & 100 &  19 &  0 &   8 &   0 & every3days & 6         & 200 &  27 & 100.0 &  9.0000000\\\\\n",
       "\t 270 & 1 & control      & 0 & 2019-08-11 21:01:44 & 100 & 100 &   0 &  1 &   1 &   0 & every3days & 7         & 200 &   2 & 100.0 &  0.6666667\\\\\n",
       "\t 270 & 1 & control      & 0 & 2019-08-16 12:42:53 & 100 & 100 &   0 &  9 &   9 &   0 & every3days & 8         & 200 &  18 & 100.0 &  6.0000000\\\\\n",
       "\t 270 & 1 & control      & 0 & 2019-09-14 13:37:11 &  NA &  NA &  NA & NA &  NA &  NA & followup   & follow-up &  NA &  NA &   NaN &        NaN\\\\\n",
       "\t 270 & 1 & control      & 0 & 2019-07-18 17:39:34 &  NA &  NA &  NA & NA &  NA &  NA & baseline   & baseline  &  NA &  NA &   NaN &        NaN\\\\\n",
       "\t 337 & 1 & intervention & 0 & 2019-12-22 21:37:40 & 100 & 100 &  26 &  4 &  63 &  23 & every3days & 1         & 200 &  93 & 100.0 & 31.0000000\\\\\n",
       "\t 337 & 1 & intervention & 0 & 2019-12-26 12:28:14 & 100 & 100 &  24 &  4 &  47 &  32 & every3days & 2         & 200 &  75 & 100.0 & 25.0000000\\\\\n",
       "\t 337 & 1 & intervention & 0 & 2019-12-28 21:04:30 & 100 & 100 &  23 & 23 &  46 &  22 & every3days & 3         & 200 &  92 & 100.0 & 30.6666667\\\\\n",
       "\t 337 & 1 & intervention & 0 & 2020-01-01 09:34:17 & 100 & 100 &  18 &  4 &  30 &  21 & every3days & 4         & 200 &  52 & 100.0 & 17.3333333\\\\\n",
       "\t 337 & 1 & intervention & 0 & 2020-01-04 11:08:04 & 100 & 100 &  17 & 27 &  49 &  19 & every3days & 5         & 200 &  93 & 100.0 & 31.0000000\\\\\n",
       "\t ⋮ & ⋮ & ⋮ & ⋮ & ⋮ & ⋮ & ⋮ & ⋮ & ⋮ & ⋮ & ⋮ & ⋮ & ⋮ & ⋮ & ⋮ & ⋮ & ⋮\\\\\n",
       "\t 2083 & 0 & intervention & 0 & 2020-02-07 00:50:01 & 100 & 100 &  49 & 37 & 100 & 59 & baseline & baseline & 200 & 186 & 100.0 & 62.000000\\\\\n",
       "\t 2379 & 0 & intervention & 0 & 2020-02-05 17:30:20 & 100 & 100 & 100 & 53 &  51 & 53 & baseline & baseline & 200 & 204 & 100.0 & 68.000000\\\\\n",
       "\t 240  & 0 & control      & 0 & NA                  &  NA &  NA &  NA & NA &  NA & NA & NA       & NA       &  NA &  NA &   NaN &       NaN\\\\\n",
       "\t 443  & 0 & intervention & 0 & NA                  &  NA &  NA &  NA & NA &  NA & NA & NA       & NA       &  NA &  NA &   NaN &       NaN\\\\\n",
       "\t 1561 & 0 & control      & 0 & NA                  &  NA &  NA &  NA & NA &  NA & NA & NA       & NA       &  NA &  NA &   NaN &       NaN\\\\\n",
       "\t 1872 & 0 & intervention & 0 & NA                  &  NA &  NA &  NA & NA &  NA & NA & NA       & NA       &  NA &  NA &   NaN &       NaN\\\\\n",
       "\t 2766 & 0 & intervention & 0 & NA                  &  NA &  NA &  NA & NA &  NA & NA & NA       & NA       &  NA &  NA &   NaN &       NaN\\\\\n",
       "\t 624  & 0 & intervention & 0 & NA                  &  NA &  NA &  NA & NA &  NA & NA & NA       & NA       &  NA &  NA &   NaN &       NaN\\\\\n",
       "\t 733  & 0 & intervention & 0 & NA                  &  NA &  NA &  NA & NA &  NA & NA & NA       & NA       &  NA &  NA &   NaN &       NaN\\\\\n",
       "\t 356  & 0 & control      & 0 & NA                  &  NA &  NA &  NA & NA &  NA & NA & NA       & NA       &  NA &  NA &   NaN &       NaN\\\\\n",
       "\t 707  & 0 & control      & 0 & NA                  &  NA &  NA &  NA & NA &  NA & NA & NA       & NA       &  NA &  NA &   NaN &       NaN\\\\\n",
       "\t 210  & 0 & control      & 0 & NA                  &  NA &  NA &  NA & NA &  NA & NA & NA       & NA       &  NA &  NA &   NaN &       NaN\\\\\n",
       "\t 1542 & 0 & control      & 0 & NA                  &  NA &  NA &  NA & NA &  NA & NA & NA       & NA       &  NA &  NA &   NaN &       NaN\\\\\n",
       "\t 1909 & 0 & control      & 0 & NA                  &  NA &  NA &  NA & NA &  NA & NA & NA       & NA       &  NA &  NA &   NaN &       NaN\\\\\n",
       "\t 1317 & 0 & control      & 0 & NA                  &  NA &  NA &  NA & NA &  NA & NA & NA       & NA       &  NA &  NA &   NaN &       NaN\\\\\n",
       "\t 2571 & 0 & intervention & 0 & NA                  &  NA &  NA &  NA & NA &  NA & NA & NA       & NA       &  NA &  NA &   NaN &       NaN\\\\\n",
       "\t 1194 & 0 & control      & 0 & NA                  &  NA &  NA &  NA & NA &  NA & NA & NA       & NA       &  NA &  NA &   NaN &       NaN\\\\\n",
       "\t 2092 & 0 & control      & 0 & 2020-02-06 12:10:49 &  53 &  34 &   1 &  1 &   2 &  5 & baseline & baseline &  87 &   4 &  43.5 &  1.333333\\\\\n",
       "\t 2015 & 0 & control      & 0 & 2020-02-08 02:24:41 & 100 &  50 &  20 &  8 &  20 & 34 & baseline & baseline & 150 &  48 &  75.0 & 16.000000\\\\\n",
       "\t 1926 & 0 & control      & 0 & 2020-02-05 07:43:42 &  10 &  51 &   5 & NA &  30 &  0 & baseline & baseline &  61 &  NA &  30.5 & 17.500000\\\\\n",
       "\t 907  & 0 & control      & 0 & 2020-02-03 20:27:18 & 100 &  97 &  12 &  4 &  71 &  6 & baseline & baseline & 197 &  87 &  98.5 & 29.000000\\\\\n",
       "\t 2084 & 0 & control      & 0 & 2020-02-04 00:29:22 &  60 & 100 &  24 & 14 &  14 &  2 & baseline & baseline & 160 &  52 &  80.0 & 17.333333\\\\\n",
       "\t 1714 & 0 & control      & 0 & 2020-02-04 07:25:33 &  43 &   2 &   2 &  1 &  47 &  7 & baseline & baseline &  45 &  50 &  22.5 & 16.666667\\\\\n",
       "\t 2399 & 0 & control      & 0 & 2020-02-05 11:50:13 &  97 &  95 &   8 & 14 &   9 & 41 & baseline & baseline & 192 &  31 &  96.0 & 10.333333\\\\\n",
       "\t 2757 & 0 & intervention & 0 & 2020-02-05 17:34:13 & 100 &  75 &   9 &  2 &  26 & 22 & baseline & baseline & 175 &  37 &  87.5 & 12.333333\\\\\n",
       "\t 2945 & 0 & intervention & 0 & 2020-02-07 21:25:14 &  49 &  78 &  21 &  9 &  70 & 26 & baseline & baseline & 127 & 100 &  63.5 & 33.333333\\\\\n",
       "\t 2134 & 0 & intervention & 0 & 2020-02-06 11:06:37 & 100 & 100 &  50 & 45 &  76 &  3 & baseline & baseline & 200 & 171 & 100.0 & 57.000000\\\\\n",
       "\t 2284 & 0 & intervention & 0 & 2020-02-06 15:37:32 &  81 &  78 &  34 &  0 &  50 & 33 & baseline & baseline & 159 &  84 &  79.5 & 28.000000\\\\\n",
       "\t 2193 & 0 & intervention & 0 & 2020-02-07 16:54:09 &  62 &  85 &  40 & 10 &  66 & 63 & baseline & baseline & 147 & 116 &  73.5 & 38.666667\\\\\n",
       "\t 2441 & 0 & intervention & 0 & 2020-02-06 16:55:40 &  19 &  19 &  49 & 28 &  30 & 40 & baseline & baseline &  38 & 107 &  19.0 & 35.666667\\\\\n",
       "\\end{tabular}\n"
      ],
      "text/markdown": [
       "\n",
       "A tibble: 1449 × 17\n",
       "\n",
       "| ID &lt;chr&gt; | Good &lt;dbl&gt; | condition &lt;chr&gt; | EEG &lt;dbl&gt; | date &lt;chr&gt; | r_eff1 &lt;dbl&gt; | r_eff2 &lt;dbl&gt; | s_eff1 &lt;dbl&gt; | s_eff2 &lt;dbl&gt; | s_eff3 &lt;dbl&gt; | hope &lt;dbl&gt; | type &lt;fct&gt; | n_day &lt;fct&gt; | total_re &lt;dbl&gt; | total_se &lt;dbl&gt; | mean_re &lt;dbl&gt; | mean_se &lt;dbl&gt; |\n",
       "|---|---|---|---|---|---|---|---|---|---|---|---|---|---|---|---|---|\n",
       "| 702 | 1 | intervention | 0 | 2019-07-16 00:48:54 | 100 |  40 |  80 | 30 | 100 |  73 | every3days | 1         | 140 | 210 |  70.0 | 70.0000000 |\n",
       "| 702 | 1 | intervention | 0 | 2019-07-21 23:27:25 | 100 | 100 |  71 | 43 | 100 |  76 | every3days | 2         | 200 | 214 | 100.0 | 71.3333333 |\n",
       "| 702 | 1 | intervention | 0 | 2019-07-25 01:59:41 | 100 |  52 |  77 | 80 | 100 |  75 | every3days | 3         | 152 | 257 |  76.0 | 85.6666667 |\n",
       "| 702 | 1 | intervention | 0 | 2019-07-28 01:49:46 |  78 |  84 |  83 | 56 |  69 |  76 | every3days | 4         | 162 | 208 |  81.0 | 69.3333333 |\n",
       "| 702 | 1 | intervention | 0 | 2019-08-03 15:02:46 |  79 |  91 |  94 | 84 |  88 |  80 | every3days | 5         | 170 | 266 |  85.0 | 88.6666667 |\n",
       "| 702 | 1 | intervention | 0 | 2019-08-06 01:51:27 | 100 |  84 | 100 | 71 | 100 |  84 | every3days | 6         | 184 | 271 |  92.0 | 90.3333333 |\n",
       "| 702 | 1 | intervention | 0 | 2019-08-06 01:52:22 |  96 | 100 | 100 | 75 | 100 |  91 | every3days | 7         | 196 | 275 |  98.0 | 91.6666667 |\n",
       "| 702 | 1 | intervention | 0 | 2019-08-09 00:27:33 |  80 | 100 | 100 | 84 | 100 | 100 | every3days | 8         | 180 | 284 |  90.0 | 94.6666667 |\n",
       "| 702 | 1 | intervention | 0 | 2019-08-11 21:00:02 |  NA |  NA |  NA | NA |  NA |  NA | followup   | follow-up |  NA |  NA |   NaN |        NaN |\n",
       "| 702 | 1 | intervention | 0 | 2019-07-11 13:48:02 |  NA |  NA |  NA | NA |  NA |  NA | baseline   | baseline  |  NA |  NA |   NaN |        NaN |\n",
       "| 703 | 1 | control      | 1 | 2019-10-30 16:36:23 |  71 |  61 |  28 | 15 |  16 |  20 | baseline   | baseline  | 132 |  59 |  66.0 | 19.6666667 |\n",
       "| 703 | 1 | control      | 1 | 2019-10-03 21:02:56 |  77 |  60 |  33 | 20 |  40 |  27 | every3days | 1         | 137 |  93 |  68.5 | 31.0000000 |\n",
       "| 703 | 1 | control      | 1 | 2019-10-09 21:05:34 |  74 |  59 |  22 | 26 |  18 |  25 | every3days | 2         | 133 |  66 |  66.5 | 22.0000000 |\n",
       "| 703 | 1 | control      | 1 | 2019-10-12 21:02:12 |  66 |  50 |  27 | 21 |  24 |  27 | every3days | 3         | 116 |  72 |  58.0 | 24.0000000 |\n",
       "| 703 | 1 | control      | 1 | 2019-10-19 10:28:45 |  78 |  53 |  20 | 20 |  19 |  23 | every3days | 4         | 131 |  59 |  65.5 | 19.6666667 |\n",
       "| 270 | 1 | control      | 0 | 2019-07-23 10:12:08 | 100 | 100 |  34 |  0 |  21 |  31 | every3days | 1         | 200 |  55 | 100.0 | 18.3333333 |\n",
       "| 270 | 1 | control      | 0 | 2019-07-28 21:07:55 | 100 | 100 |   3 |  7 |  19 |   5 | every3days | 2         | 200 |  29 | 100.0 |  9.6666667 |\n",
       "| 270 | 1 | control      | 0 | 2019-07-31 22:06:32 | 100 | 100 |  10 |  1 |   4 |   0 | every3days | 3         | 200 |  15 | 100.0 |  5.0000000 |\n",
       "| 270 | 1 | control      | 0 | 2019-08-03 21:01:40 | 100 | 100 |   0 |  0 |   3 |   0 | every3days | 4         | 200 |   3 | 100.0 |  1.0000000 |\n",
       "| 270 | 1 | control      | 0 | 2019-08-06 23:53:57 | 100 | 100 |   0 |  0 |  10 |   0 | every3days | 5         | 200 |  10 | 100.0 |  3.3333333 |\n",
       "| 270 | 1 | control      | 0 | 2019-08-08 21:16:22 | 100 | 100 |  19 |  0 |   8 |   0 | every3days | 6         | 200 |  27 | 100.0 |  9.0000000 |\n",
       "| 270 | 1 | control      | 0 | 2019-08-11 21:01:44 | 100 | 100 |   0 |  1 |   1 |   0 | every3days | 7         | 200 |   2 | 100.0 |  0.6666667 |\n",
       "| 270 | 1 | control      | 0 | 2019-08-16 12:42:53 | 100 | 100 |   0 |  9 |   9 |   0 | every3days | 8         | 200 |  18 | 100.0 |  6.0000000 |\n",
       "| 270 | 1 | control      | 0 | 2019-09-14 13:37:11 |  NA |  NA |  NA | NA |  NA |  NA | followup   | follow-up |  NA |  NA |   NaN |        NaN |\n",
       "| 270 | 1 | control      | 0 | 2019-07-18 17:39:34 |  NA |  NA |  NA | NA |  NA |  NA | baseline   | baseline  |  NA |  NA |   NaN |        NaN |\n",
       "| 337 | 1 | intervention | 0 | 2019-12-22 21:37:40 | 100 | 100 |  26 |  4 |  63 |  23 | every3days | 1         | 200 |  93 | 100.0 | 31.0000000 |\n",
       "| 337 | 1 | intervention | 0 | 2019-12-26 12:28:14 | 100 | 100 |  24 |  4 |  47 |  32 | every3days | 2         | 200 |  75 | 100.0 | 25.0000000 |\n",
       "| 337 | 1 | intervention | 0 | 2019-12-28 21:04:30 | 100 | 100 |  23 | 23 |  46 |  22 | every3days | 3         | 200 |  92 | 100.0 | 30.6666667 |\n",
       "| 337 | 1 | intervention | 0 | 2020-01-01 09:34:17 | 100 | 100 |  18 |  4 |  30 |  21 | every3days | 4         | 200 |  52 | 100.0 | 17.3333333 |\n",
       "| 337 | 1 | intervention | 0 | 2020-01-04 11:08:04 | 100 | 100 |  17 | 27 |  49 |  19 | every3days | 5         | 200 |  93 | 100.0 | 31.0000000 |\n",
       "| ⋮ | ⋮ | ⋮ | ⋮ | ⋮ | ⋮ | ⋮ | ⋮ | ⋮ | ⋮ | ⋮ | ⋮ | ⋮ | ⋮ | ⋮ | ⋮ | ⋮ |\n",
       "| 2083 | 0 | intervention | 0 | 2020-02-07 00:50:01 | 100 | 100 |  49 | 37 | 100 | 59 | baseline | baseline | 200 | 186 | 100.0 | 62.000000 |\n",
       "| 2379 | 0 | intervention | 0 | 2020-02-05 17:30:20 | 100 | 100 | 100 | 53 |  51 | 53 | baseline | baseline | 200 | 204 | 100.0 | 68.000000 |\n",
       "| 240  | 0 | control      | 0 | NA                  |  NA |  NA |  NA | NA |  NA | NA | NA       | NA       |  NA |  NA |   NaN |       NaN |\n",
       "| 443  | 0 | intervention | 0 | NA                  |  NA |  NA |  NA | NA |  NA | NA | NA       | NA       |  NA |  NA |   NaN |       NaN |\n",
       "| 1561 | 0 | control      | 0 | NA                  |  NA |  NA |  NA | NA |  NA | NA | NA       | NA       |  NA |  NA |   NaN |       NaN |\n",
       "| 1872 | 0 | intervention | 0 | NA                  |  NA |  NA |  NA | NA |  NA | NA | NA       | NA       |  NA |  NA |   NaN |       NaN |\n",
       "| 2766 | 0 | intervention | 0 | NA                  |  NA |  NA |  NA | NA |  NA | NA | NA       | NA       |  NA |  NA |   NaN |       NaN |\n",
       "| 624  | 0 | intervention | 0 | NA                  |  NA |  NA |  NA | NA |  NA | NA | NA       | NA       |  NA |  NA |   NaN |       NaN |\n",
       "| 733  | 0 | intervention | 0 | NA                  |  NA |  NA |  NA | NA |  NA | NA | NA       | NA       |  NA |  NA |   NaN |       NaN |\n",
       "| 356  | 0 | control      | 0 | NA                  |  NA |  NA |  NA | NA |  NA | NA | NA       | NA       |  NA |  NA |   NaN |       NaN |\n",
       "| 707  | 0 | control      | 0 | NA                  |  NA |  NA |  NA | NA |  NA | NA | NA       | NA       |  NA |  NA |   NaN |       NaN |\n",
       "| 210  | 0 | control      | 0 | NA                  |  NA |  NA |  NA | NA |  NA | NA | NA       | NA       |  NA |  NA |   NaN |       NaN |\n",
       "| 1542 | 0 | control      | 0 | NA                  |  NA |  NA |  NA | NA |  NA | NA | NA       | NA       |  NA |  NA |   NaN |       NaN |\n",
       "| 1909 | 0 | control      | 0 | NA                  |  NA |  NA |  NA | NA |  NA | NA | NA       | NA       |  NA |  NA |   NaN |       NaN |\n",
       "| 1317 | 0 | control      | 0 | NA                  |  NA |  NA |  NA | NA |  NA | NA | NA       | NA       |  NA |  NA |   NaN |       NaN |\n",
       "| 2571 | 0 | intervention | 0 | NA                  |  NA |  NA |  NA | NA |  NA | NA | NA       | NA       |  NA |  NA |   NaN |       NaN |\n",
       "| 1194 | 0 | control      | 0 | NA                  |  NA |  NA |  NA | NA |  NA | NA | NA       | NA       |  NA |  NA |   NaN |       NaN |\n",
       "| 2092 | 0 | control      | 0 | 2020-02-06 12:10:49 |  53 |  34 |   1 |  1 |   2 |  5 | baseline | baseline |  87 |   4 |  43.5 |  1.333333 |\n",
       "| 2015 | 0 | control      | 0 | 2020-02-08 02:24:41 | 100 |  50 |  20 |  8 |  20 | 34 | baseline | baseline | 150 |  48 |  75.0 | 16.000000 |\n",
       "| 1926 | 0 | control      | 0 | 2020-02-05 07:43:42 |  10 |  51 |   5 | NA |  30 |  0 | baseline | baseline |  61 |  NA |  30.5 | 17.500000 |\n",
       "| 907  | 0 | control      | 0 | 2020-02-03 20:27:18 | 100 |  97 |  12 |  4 |  71 |  6 | baseline | baseline | 197 |  87 |  98.5 | 29.000000 |\n",
       "| 2084 | 0 | control      | 0 | 2020-02-04 00:29:22 |  60 | 100 |  24 | 14 |  14 |  2 | baseline | baseline | 160 |  52 |  80.0 | 17.333333 |\n",
       "| 1714 | 0 | control      | 0 | 2020-02-04 07:25:33 |  43 |   2 |   2 |  1 |  47 |  7 | baseline | baseline |  45 |  50 |  22.5 | 16.666667 |\n",
       "| 2399 | 0 | control      | 0 | 2020-02-05 11:50:13 |  97 |  95 |   8 | 14 |   9 | 41 | baseline | baseline | 192 |  31 |  96.0 | 10.333333 |\n",
       "| 2757 | 0 | intervention | 0 | 2020-02-05 17:34:13 | 100 |  75 |   9 |  2 |  26 | 22 | baseline | baseline | 175 |  37 |  87.5 | 12.333333 |\n",
       "| 2945 | 0 | intervention | 0 | 2020-02-07 21:25:14 |  49 |  78 |  21 |  9 |  70 | 26 | baseline | baseline | 127 | 100 |  63.5 | 33.333333 |\n",
       "| 2134 | 0 | intervention | 0 | 2020-02-06 11:06:37 | 100 | 100 |  50 | 45 |  76 |  3 | baseline | baseline | 200 | 171 | 100.0 | 57.000000 |\n",
       "| 2284 | 0 | intervention | 0 | 2020-02-06 15:37:32 |  81 |  78 |  34 |  0 |  50 | 33 | baseline | baseline | 159 |  84 |  79.5 | 28.000000 |\n",
       "| 2193 | 0 | intervention | 0 | 2020-02-07 16:54:09 |  62 |  85 |  40 | 10 |  66 | 63 | baseline | baseline | 147 | 116 |  73.5 | 38.666667 |\n",
       "| 2441 | 0 | intervention | 0 | 2020-02-06 16:55:40 |  19 |  19 |  49 | 28 |  30 | 40 | baseline | baseline |  38 | 107 |  19.0 | 35.666667 |\n",
       "\n"
      ],
      "text/plain": [
       "     ID   Good condition    EEG date                r_eff1 r_eff2 s_eff1 s_eff2\n",
       "1    702  1    intervention 0   2019-07-16 00:48:54 100     40     80    30    \n",
       "2    702  1    intervention 0   2019-07-21 23:27:25 100    100     71    43    \n",
       "3    702  1    intervention 0   2019-07-25 01:59:41 100     52     77    80    \n",
       "4    702  1    intervention 0   2019-07-28 01:49:46  78     84     83    56    \n",
       "5    702  1    intervention 0   2019-08-03 15:02:46  79     91     94    84    \n",
       "6    702  1    intervention 0   2019-08-06 01:51:27 100     84    100    71    \n",
       "7    702  1    intervention 0   2019-08-06 01:52:22  96    100    100    75    \n",
       "8    702  1    intervention 0   2019-08-09 00:27:33  80    100    100    84    \n",
       "9    702  1    intervention 0   2019-08-11 21:00:02  NA     NA     NA    NA    \n",
       "10   702  1    intervention 0   2019-07-11 13:48:02  NA     NA     NA    NA    \n",
       "11   703  1    control      1   2019-10-30 16:36:23  71     61     28    15    \n",
       "12   703  1    control      1   2019-10-03 21:02:56  77     60     33    20    \n",
       "13   703  1    control      1   2019-10-09 21:05:34  74     59     22    26    \n",
       "14   703  1    control      1   2019-10-12 21:02:12  66     50     27    21    \n",
       "15   703  1    control      1   2019-10-19 10:28:45  78     53     20    20    \n",
       "16   270  1    control      0   2019-07-23 10:12:08 100    100     34     0    \n",
       "17   270  1    control      0   2019-07-28 21:07:55 100    100      3     7    \n",
       "18   270  1    control      0   2019-07-31 22:06:32 100    100     10     1    \n",
       "19   270  1    control      0   2019-08-03 21:01:40 100    100      0     0    \n",
       "20   270  1    control      0   2019-08-06 23:53:57 100    100      0     0    \n",
       "21   270  1    control      0   2019-08-08 21:16:22 100    100     19     0    \n",
       "22   270  1    control      0   2019-08-11 21:01:44 100    100      0     1    \n",
       "23   270  1    control      0   2019-08-16 12:42:53 100    100      0     9    \n",
       "24   270  1    control      0   2019-09-14 13:37:11  NA     NA     NA    NA    \n",
       "25   270  1    control      0   2019-07-18 17:39:34  NA     NA     NA    NA    \n",
       "26   337  1    intervention 0   2019-12-22 21:37:40 100    100     26     4    \n",
       "27   337  1    intervention 0   2019-12-26 12:28:14 100    100     24     4    \n",
       "28   337  1    intervention 0   2019-12-28 21:04:30 100    100     23    23    \n",
       "29   337  1    intervention 0   2020-01-01 09:34:17 100    100     18     4    \n",
       "30   337  1    intervention 0   2020-01-04 11:08:04 100    100     17    27    \n",
       "⋮    ⋮    ⋮    ⋮            ⋮   ⋮                   ⋮      ⋮      ⋮      ⋮     \n",
       "1420 2083 0    intervention 0   2020-02-07 00:50:01 100    100     49    37    \n",
       "1421 2379 0    intervention 0   2020-02-05 17:30:20 100    100    100    53    \n",
       "1422 240  0    control      0   NA                   NA     NA     NA    NA    \n",
       "1423 443  0    intervention 0   NA                   NA     NA     NA    NA    \n",
       "1424 1561 0    control      0   NA                   NA     NA     NA    NA    \n",
       "1425 1872 0    intervention 0   NA                   NA     NA     NA    NA    \n",
       "1426 2766 0    intervention 0   NA                   NA     NA     NA    NA    \n",
       "1427 624  0    intervention 0   NA                   NA     NA     NA    NA    \n",
       "1428 733  0    intervention 0   NA                   NA     NA     NA    NA    \n",
       "1429 356  0    control      0   NA                   NA     NA     NA    NA    \n",
       "1430 707  0    control      0   NA                   NA     NA     NA    NA    \n",
       "1431 210  0    control      0   NA                   NA     NA     NA    NA    \n",
       "1432 1542 0    control      0   NA                   NA     NA     NA    NA    \n",
       "1433 1909 0    control      0   NA                   NA     NA     NA    NA    \n",
       "1434 1317 0    control      0   NA                   NA     NA     NA    NA    \n",
       "1435 2571 0    intervention 0   NA                   NA     NA     NA    NA    \n",
       "1436 1194 0    control      0   NA                   NA     NA     NA    NA    \n",
       "1437 2092 0    control      0   2020-02-06 12:10:49  53     34      1     1    \n",
       "1438 2015 0    control      0   2020-02-08 02:24:41 100     50     20     8    \n",
       "1439 1926 0    control      0   2020-02-05 07:43:42  10     51      5    NA    \n",
       "1440 907  0    control      0   2020-02-03 20:27:18 100     97     12     4    \n",
       "1441 2084 0    control      0   2020-02-04 00:29:22  60    100     24    14    \n",
       "1442 1714 0    control      0   2020-02-04 07:25:33  43      2      2     1    \n",
       "1443 2399 0    control      0   2020-02-05 11:50:13  97     95      8    14    \n",
       "1444 2757 0    intervention 0   2020-02-05 17:34:13 100     75      9     2    \n",
       "1445 2945 0    intervention 0   2020-02-07 21:25:14  49     78     21     9    \n",
       "1446 2134 0    intervention 0   2020-02-06 11:06:37 100    100     50    45    \n",
       "1447 2284 0    intervention 0   2020-02-06 15:37:32  81     78     34     0    \n",
       "1448 2193 0    intervention 0   2020-02-07 16:54:09  62     85     40    10    \n",
       "1449 2441 0    intervention 0   2020-02-06 16:55:40  19     19     49    28    \n",
       "     s_eff3 hope type       n_day     total_re total_se mean_re mean_se   \n",
       "1    100     73  every3days 1         140      210       70.0   70.0000000\n",
       "2    100     76  every3days 2         200      214      100.0   71.3333333\n",
       "3    100     75  every3days 3         152      257       76.0   85.6666667\n",
       "4     69     76  every3days 4         162      208       81.0   69.3333333\n",
       "5     88     80  every3days 5         170      266       85.0   88.6666667\n",
       "6    100     84  every3days 6         184      271       92.0   90.3333333\n",
       "7    100     91  every3days 7         196      275       98.0   91.6666667\n",
       "8    100    100  every3days 8         180      284       90.0   94.6666667\n",
       "9     NA     NA  followup   follow-up  NA       NA        NaN          NaN\n",
       "10    NA     NA  baseline   baseline   NA       NA        NaN          NaN\n",
       "11    16     20  baseline   baseline  132       59       66.0   19.6666667\n",
       "12    40     27  every3days 1         137       93       68.5   31.0000000\n",
       "13    18     25  every3days 2         133       66       66.5   22.0000000\n",
       "14    24     27  every3days 3         116       72       58.0   24.0000000\n",
       "15    19     23  every3days 4         131       59       65.5   19.6666667\n",
       "16    21     31  every3days 1         200       55      100.0   18.3333333\n",
       "17    19      5  every3days 2         200       29      100.0    9.6666667\n",
       "18     4      0  every3days 3         200       15      100.0    5.0000000\n",
       "19     3      0  every3days 4         200        3      100.0    1.0000000\n",
       "20    10      0  every3days 5         200       10      100.0    3.3333333\n",
       "21     8      0  every3days 6         200       27      100.0    9.0000000\n",
       "22     1      0  every3days 7         200        2      100.0    0.6666667\n",
       "23     9      0  every3days 8         200       18      100.0    6.0000000\n",
       "24    NA     NA  followup   follow-up  NA       NA        NaN          NaN\n",
       "25    NA     NA  baseline   baseline   NA       NA        NaN          NaN\n",
       "26    63     23  every3days 1         200       93      100.0   31.0000000\n",
       "27    47     32  every3days 2         200       75      100.0   25.0000000\n",
       "28    46     22  every3days 3         200       92      100.0   30.6666667\n",
       "29    30     21  every3days 4         200       52      100.0   17.3333333\n",
       "30    49     19  every3days 5         200       93      100.0   31.0000000\n",
       "⋮    ⋮      ⋮    ⋮          ⋮         ⋮        ⋮        ⋮       ⋮         \n",
       "1420 100    59   baseline   baseline  200      186      100.0   62.000000 \n",
       "1421  51    53   baseline   baseline  200      204      100.0   68.000000 \n",
       "1422  NA    NA   NA         NA         NA       NA        NaN         NaN \n",
       "1423  NA    NA   NA         NA         NA       NA        NaN         NaN \n",
       "1424  NA    NA   NA         NA         NA       NA        NaN         NaN \n",
       "1425  NA    NA   NA         NA         NA       NA        NaN         NaN \n",
       "1426  NA    NA   NA         NA         NA       NA        NaN         NaN \n",
       "1427  NA    NA   NA         NA         NA       NA        NaN         NaN \n",
       "1428  NA    NA   NA         NA         NA       NA        NaN         NaN \n",
       "1429  NA    NA   NA         NA         NA       NA        NaN         NaN \n",
       "1430  NA    NA   NA         NA         NA       NA        NaN         NaN \n",
       "1431  NA    NA   NA         NA         NA       NA        NaN         NaN \n",
       "1432  NA    NA   NA         NA         NA       NA        NaN         NaN \n",
       "1433  NA    NA   NA         NA         NA       NA        NaN         NaN \n",
       "1434  NA    NA   NA         NA         NA       NA        NaN         NaN \n",
       "1435  NA    NA   NA         NA         NA       NA        NaN         NaN \n",
       "1436  NA    NA   NA         NA         NA       NA        NaN         NaN \n",
       "1437   2     5   baseline   baseline   87        4       43.5    1.333333 \n",
       "1438  20    34   baseline   baseline  150       48       75.0   16.000000 \n",
       "1439  30     0   baseline   baseline   61       NA       30.5   17.500000 \n",
       "1440  71     6   baseline   baseline  197       87       98.5   29.000000 \n",
       "1441  14     2   baseline   baseline  160       52       80.0   17.333333 \n",
       "1442  47     7   baseline   baseline   45       50       22.5   16.666667 \n",
       "1443   9    41   baseline   baseline  192       31       96.0   10.333333 \n",
       "1444  26    22   baseline   baseline  175       37       87.5   12.333333 \n",
       "1445  70    26   baseline   baseline  127      100       63.5   33.333333 \n",
       "1446  76     3   baseline   baseline  200      171      100.0   57.000000 \n",
       "1447  50    33   baseline   baseline  159       84       79.5   28.000000 \n",
       "1448  66    63   baseline   baseline  147      116       73.5   38.666667 \n",
       "1449  30    40   baseline   baseline   38      107       19.0   35.666667 "
      ]
     },
     "metadata": {},
     "output_type": "display_data"
    }
   ],
   "source": [
    "df"
   ]
  },
  {
   "cell_type": "code",
   "execution_count": 146,
   "metadata": {},
   "outputs": [],
   "source": [
    "?rowMeans"
   ]
  },
  {
   "cell_type": "code",
   "execution_count": 102,
   "metadata": {},
   "outputs": [
    {
     "data": {
      "text/html": [
       "<table>\n",
       "<caption>A tibble: 6 × 15</caption>\n",
       "<thead>\n",
       "\t<tr><th scope=col>ID</th><th scope=col>Good</th><th scope=col>condition</th><th scope=col>EEG</th><th scope=col>date</th><th scope=col>r_eff1</th><th scope=col>r_eff2</th><th scope=col>s_eff1</th><th scope=col>s_eff2</th><th scope=col>s_eff3</th><th scope=col>hope</th><th scope=col>type</th><th scope=col>n_day</th><th scope=col>total_re</th><th scope=col>total_se</th></tr>\n",
       "\t<tr><th scope=col>&lt;chr&gt;</th><th scope=col>&lt;dbl&gt;</th><th scope=col>&lt;chr&gt;</th><th scope=col>&lt;dbl&gt;</th><th scope=col>&lt;chr&gt;</th><th scope=col>&lt;dbl&gt;</th><th scope=col>&lt;dbl&gt;</th><th scope=col>&lt;dbl&gt;</th><th scope=col>&lt;dbl&gt;</th><th scope=col>&lt;dbl&gt;</th><th scope=col>&lt;dbl&gt;</th><th scope=col>&lt;fct&gt;</th><th scope=col>&lt;fct&gt;</th><th scope=col>&lt;dbl&gt;</th><th scope=col>&lt;dbl&gt;</th></tr>\n",
       "</thead>\n",
       "<tbody>\n",
       "\t<tr><td>702</td><td>1</td><td>intervention</td><td>0</td><td>2019-07-16 00:48:54</td><td>100</td><td> 40</td><td> 80</td><td>30</td><td>100</td><td>73</td><td>every3days</td><td>1</td><td>140</td><td>210</td></tr>\n",
       "\t<tr><td>702</td><td>1</td><td>intervention</td><td>0</td><td>2019-07-21 23:27:25</td><td>100</td><td>100</td><td> 71</td><td>43</td><td>100</td><td>76</td><td>every3days</td><td>2</td><td>200</td><td>214</td></tr>\n",
       "\t<tr><td>702</td><td>1</td><td>intervention</td><td>0</td><td>2019-07-25 01:59:41</td><td>100</td><td> 52</td><td> 77</td><td>80</td><td>100</td><td>75</td><td>every3days</td><td>3</td><td>152</td><td>257</td></tr>\n",
       "\t<tr><td>702</td><td>1</td><td>intervention</td><td>0</td><td>2019-07-28 01:49:46</td><td> 78</td><td> 84</td><td> 83</td><td>56</td><td> 69</td><td>76</td><td>every3days</td><td>4</td><td>162</td><td>208</td></tr>\n",
       "\t<tr><td>702</td><td>1</td><td>intervention</td><td>0</td><td>2019-08-03 15:02:46</td><td> 79</td><td> 91</td><td> 94</td><td>84</td><td> 88</td><td>80</td><td>every3days</td><td>5</td><td>170</td><td>266</td></tr>\n",
       "\t<tr><td>702</td><td>1</td><td>intervention</td><td>0</td><td>2019-08-06 01:51:27</td><td>100</td><td> 84</td><td>100</td><td>71</td><td>100</td><td>84</td><td>every3days</td><td>6</td><td>184</td><td>271</td></tr>\n",
       "</tbody>\n",
       "</table>\n"
      ],
      "text/latex": [
       "A tibble: 6 × 15\n",
       "\\begin{tabular}{lllllllllllllll}\n",
       " ID & Good & condition & EEG & date & r\\_eff1 & r\\_eff2 & s\\_eff1 & s\\_eff2 & s\\_eff3 & hope & type & n\\_day & total\\_re & total\\_se\\\\\n",
       " <chr> & <dbl> & <chr> & <dbl> & <chr> & <dbl> & <dbl> & <dbl> & <dbl> & <dbl> & <dbl> & <fct> & <fct> & <dbl> & <dbl>\\\\\n",
       "\\hline\n",
       "\t 702 & 1 & intervention & 0 & 2019-07-16 00:48:54 & 100 &  40 &  80 & 30 & 100 & 73 & every3days & 1 & 140 & 210\\\\\n",
       "\t 702 & 1 & intervention & 0 & 2019-07-21 23:27:25 & 100 & 100 &  71 & 43 & 100 & 76 & every3days & 2 & 200 & 214\\\\\n",
       "\t 702 & 1 & intervention & 0 & 2019-07-25 01:59:41 & 100 &  52 &  77 & 80 & 100 & 75 & every3days & 3 & 152 & 257\\\\\n",
       "\t 702 & 1 & intervention & 0 & 2019-07-28 01:49:46 &  78 &  84 &  83 & 56 &  69 & 76 & every3days & 4 & 162 & 208\\\\\n",
       "\t 702 & 1 & intervention & 0 & 2019-08-03 15:02:46 &  79 &  91 &  94 & 84 &  88 & 80 & every3days & 5 & 170 & 266\\\\\n",
       "\t 702 & 1 & intervention & 0 & 2019-08-06 01:51:27 & 100 &  84 & 100 & 71 & 100 & 84 & every3days & 6 & 184 & 271\\\\\n",
       "\\end{tabular}\n"
      ],
      "text/markdown": [
       "\n",
       "A tibble: 6 × 15\n",
       "\n",
       "| ID &lt;chr&gt; | Good &lt;dbl&gt; | condition &lt;chr&gt; | EEG &lt;dbl&gt; | date &lt;chr&gt; | r_eff1 &lt;dbl&gt; | r_eff2 &lt;dbl&gt; | s_eff1 &lt;dbl&gt; | s_eff2 &lt;dbl&gt; | s_eff3 &lt;dbl&gt; | hope &lt;dbl&gt; | type &lt;fct&gt; | n_day &lt;fct&gt; | total_re &lt;dbl&gt; | total_se &lt;dbl&gt; |\n",
       "|---|---|---|---|---|---|---|---|---|---|---|---|---|---|---|\n",
       "| 702 | 1 | intervention | 0 | 2019-07-16 00:48:54 | 100 |  40 |  80 | 30 | 100 | 73 | every3days | 1 | 140 | 210 |\n",
       "| 702 | 1 | intervention | 0 | 2019-07-21 23:27:25 | 100 | 100 |  71 | 43 | 100 | 76 | every3days | 2 | 200 | 214 |\n",
       "| 702 | 1 | intervention | 0 | 2019-07-25 01:59:41 | 100 |  52 |  77 | 80 | 100 | 75 | every3days | 3 | 152 | 257 |\n",
       "| 702 | 1 | intervention | 0 | 2019-07-28 01:49:46 |  78 |  84 |  83 | 56 |  69 | 76 | every3days | 4 | 162 | 208 |\n",
       "| 702 | 1 | intervention | 0 | 2019-08-03 15:02:46 |  79 |  91 |  94 | 84 |  88 | 80 | every3days | 5 | 170 | 266 |\n",
       "| 702 | 1 | intervention | 0 | 2019-08-06 01:51:27 | 100 |  84 | 100 | 71 | 100 | 84 | every3days | 6 | 184 | 271 |\n",
       "\n"
      ],
      "text/plain": [
       "  ID  Good condition    EEG date                r_eff1 r_eff2 s_eff1 s_eff2\n",
       "1 702 1    intervention 0   2019-07-16 00:48:54 100     40     80    30    \n",
       "2 702 1    intervention 0   2019-07-21 23:27:25 100    100     71    43    \n",
       "3 702 1    intervention 0   2019-07-25 01:59:41 100     52     77    80    \n",
       "4 702 1    intervention 0   2019-07-28 01:49:46  78     84     83    56    \n",
       "5 702 1    intervention 0   2019-08-03 15:02:46  79     91     94    84    \n",
       "6 702 1    intervention 0   2019-08-06 01:51:27 100     84    100    71    \n",
       "  s_eff3 hope type       n_day total_re total_se\n",
       "1 100    73   every3days 1     140      210     \n",
       "2 100    76   every3days 2     200      214     \n",
       "3 100    75   every3days 3     152      257     \n",
       "4  69    76   every3days 4     162      208     \n",
       "5  88    80   every3days 5     170      266     \n",
       "6 100    84   every3days 6     184      271     "
      ]
     },
     "metadata": {},
     "output_type": "display_data"
    }
   ],
   "source": [
    "head(df)"
   ]
  },
  {
   "cell_type": "code",
   "execution_count": 66,
   "metadata": {},
   "outputs": [
    {
     "name": "stderr",
     "output_type": "stream",
     "text": [
      "Warning message:\n",
      "“Factor `n_day` contains implicit NA, consider using `forcats::fct_explicit_na`”\n"
     ]
    },
    {
     "ename": "ERROR",
     "evalue": "Error in if (trim > 0 && n) {: missing value where TRUE/FALSE needed\n",
     "output_type": "error",
     "traceback": [
      "Error in if (trim > 0 && n) {: missing value where TRUE/FALSE needed\nTraceback:\n",
      "1. df %>% group_by(ID, n_day) %>% mutate(mean_re = mean(r_eff1, \n .     r_eff2), mean_se = mean(s_eff1, s_eff2, s_eff3)) %>% ungroup()",
      "2. withVisible(eval(quote(`_fseq`(`_lhs`)), env, env))",
      "3. eval(quote(`_fseq`(`_lhs`)), env, env)",
      "4. eval(quote(`_fseq`(`_lhs`)), env, env)",
      "5. `_fseq`(`_lhs`)",
      "6. freduce(value, `_function_list`)",
      "7. function_list[[i]](value)",
      "8. mutate(., mean_re = mean(r_eff1, r_eff2), mean_se = mean(s_eff1, \n .     s_eff2, s_eff3))",
      "9. mutate.tbl_df(., mean_re = mean(r_eff1, r_eff2), mean_se = mean(s_eff1, \n .     s_eff2, s_eff3))",
      "10. mutate_impl(.data, dots, caller_env())",
      "11. mean(r_eff1, r_eff2)",
      "12. mean.default(r_eff1, r_eff2)"
     ]
    }
   ],
   "source": []
  },
  {
   "cell_type": "code",
   "execution_count": 74,
   "metadata": {},
   "outputs": [
    {
     "data": {
      "text/html": [
       "100"
      ],
      "text/latex": [
       "100"
      ],
      "text/markdown": [
       "100"
      ],
      "text/plain": [
       "[1] 100"
      ]
     },
     "metadata": {},
     "output_type": "display_data"
    }
   ],
   "source": [
    "mean(100, 40)"
   ]
  },
  {
   "cell_type": "code",
   "execution_count": 70,
   "metadata": {},
   "outputs": [],
   "source": [
    "x <- c(0:10, 50)\n",
    "xm <- mean(x)\n",
    "\n"
   ]
  },
  {
   "cell_type": "code",
   "execution_count": null,
   "metadata": {},
   "outputs": [],
   "source": [
    "df<-select(df, -\"r_eff1\", -\"r_eff2\", -\"s_eff1\", -\"s_eff2\", -\"s_eff3\")"
   ]
  },
  {
   "cell_type": "code",
   "execution_count": null,
   "metadata": {},
   "outputs": [],
   "source": [
    "df<- rename(df, total_hope=hope)"
   ]
  },
  {
   "cell_type": "code",
   "execution_count": null,
   "metadata": {},
   "outputs": [],
   "source": [
    "df"
   ]
  },
  {
   "cell_type": "code",
   "execution_count": 83,
   "metadata": {},
   "outputs": [
    {
     "name": "stderr",
     "output_type": "stream",
     "text": [
      "Warning message:\n",
      "“Expected 2 pieces. Missing pieces filled with `NA` in 4 rows [1, 2, 3, 9].”\n"
     ]
    },
    {
     "ename": "ERROR",
     "evalue": "Error: Failed to create output due to bad names.\n* Choose another strategy with `names_repair`\n",
     "output_type": "error",
     "traceback": [
      "Error: Failed to create output due to bad names.\n* Choose another strategy with `names_repair`\nTraceback:\n",
      "1. df %>% pivot_longer(-c(\"ID\", \"condition\", \"type\", \"n_day\"), names_to = c(\".value\", \n .     \"score\"), names_sep = \"_\", values_drop_na = TRUE)",
      "2. withVisible(eval(quote(`_fseq`(`_lhs`)), env, env))",
      "3. eval(quote(`_fseq`(`_lhs`)), env, env)",
      "4. eval(quote(`_fseq`(`_lhs`)), env, env)",
      "5. `_fseq`(`_lhs`)",
      "6. freduce(value, `_function_list`)",
      "7. withVisible(function_list[[k]](value))",
      "8. function_list[[k]](value)",
      "9. pivot_longer(., -c(\"ID\", \"condition\", \"type\", \"n_day\"), names_to = c(\".value\", \n .     \"score\"), names_sep = \"_\", values_drop_na = TRUE)",
      "10. pivot_longer_spec(data, spec, names_repair = names_repair, values_drop_na = values_drop_na, \n  .     values_ptypes = values_ptypes)",
      "11. wrap_error_names(vec_cbind(vec_slice(df_out, rows$df_id), vec_slice(keys, \n  .     rows$key_id), vec_slice(vals, rows$val_id), .name_repair = names_repair))",
      "12. tryCatch(code, vctrs_error_names = function(cnd) {\n  .     abort(c(\"Failed to create output due to bad names.\", \"Choose another strategy with `names_repair`\"), \n  .         parent = cnd)\n  . })",
      "13. tryCatchList(expr, classes, parentenv, handlers)",
      "14. tryCatchOne(expr, names, parentenv, handlers[[1L]])",
      "15. value[[3L]](cond)",
      "16. abort(c(\"Failed to create output due to bad names.\", \"Choose another strategy with `names_repair`\"), \n  .     parent = cnd)",
      "17. signal_abort(cnd)"
     ]
    }
   ],
   "source": [
    "# turn df into long format \n",
    "df_long<-df %>% \n",
    "  pivot_longer(\n",
    "    -c('ID', 'condition','type', 'n_day'),  \n",
    "    names_to = c(\".value\", \"score\"), \n",
    "    names_sep = \"_\", \n",
    "    values_drop_na = TRUE\n",
    "  )"
   ]
  },
  {
   "cell_type": "code",
   "execution_count": null,
   "metadata": {},
   "outputs": [],
   "source": [
    "df_long"
   ]
  },
  {
   "cell_type": "code",
   "execution_count": 61,
   "metadata": {},
   "outputs": [
    {
     "name": "stderr",
     "output_type": "stream",
     "text": [
      "Warning message:\n",
      "“Factor `n_day` contains implicit NA, consider using `forcats::fct_explicit_na`”\n"
     ]
    }
   ],
   "source": [
    "# compute summary statistics per condition per day for each score\n",
    "summary_df <- df_long %>%\n",
    "  group_by(condition, n_day, score) %>%\n",
    "  summarise(mean.total = mean(total),\n",
    "            sd.total= sd(total), count = n(),\n",
    "            se.mean = sd.total/sqrt(count), \n",
    "            ci.mean= qt(1-(1-0.95/2),count-1)*se.mean)"
   ]
  },
  {
   "cell_type": "code",
   "execution_count": null,
   "metadata": {},
   "outputs": [],
   "source": [
    "summary_df"
   ]
  },
  {
   "cell_type": "markdown",
   "metadata": {},
   "source": [
    "\n",
    "- 3. Compute mean response and self efficacy score for each day for each pp\n",
    "\n",
    "- 4. plot\n",
    "!!! different number of data points per paricipant !!!"
   ]
  },
  {
   "cell_type": "markdown",
   "metadata": {},
   "source": [
    "# test plot\n",
    "\n",
    "https://stackoverflow.com/questions/55262229/how-to-use-geom-errorbar-with-facet-wrap-in-ggplot2"
   ]
  },
  {
   "cell_type": "code",
   "execution_count": null,
   "metadata": {},
   "outputs": [],
   "source": [
    "# IGNORE !!!\n",
    "\n",
    "# compute mean total of response and self efficacy score for each day for each condition\n",
    "#m_scores <- df %>% group_by(condition, n_day) %>% \n",
    "#  summarise(mean_re= mean(total_re,na.rm=TRUE), \n",
    "#            mean_se=mean(total_se, na.rm=TRUE), \n",
    "#            mean_hope = mean(hope, na.rm=TRUE), \n",
    "#           sd_re= sd(total_re,na.rm=TRUE), \n",
    "#           sd_se=sd(total_se, na.rm=TRUE), \n",
    "#            sd_hope = sd(hope, na.rm=TRUE), \n",
    "#             n=n()       \n",
    "#           ) %>% \n",
    "#   mutate(se_re = sd_re/sqrt(n), \n",
    "#         se_se = sd_se/sqrt(n), \n",
    "#         se_hope = sd_hope/sqrt(n), \n",
    " #         ci_re = qt(1-(1-0.95/2),n-1)*se_re, \n",
    " #        ci_se = qt(1-(1-0.95/2),n-1)*se_se, \n",
    " #        ci_hope = qt(1-(1-0.95/2),n-1)*se_hope\n",
    " #        ) %>% \n",
    " #   ungroup()\n",
    "\n",
    "#m_scores <- left_join(m_scores, n_rep)"
   ]
  },
  {
   "cell_type": "code",
   "execution_count": null,
   "metadata": {},
   "outputs": [],
   "source": [
    "#write_csv(m_scores, \"summary_stats.csv\")"
   ]
  },
  {
   "cell_type": "markdown",
   "metadata": {},
   "source": [
    "Plot response and self efficacy scores"
   ]
  },
  {
   "cell_type": "code",
   "execution_count": null,
   "metadata": {},
   "outputs": [],
   "source": [
    "#m_scores %>% gather(\"type\", \"score\", 3:4 ) %>% \n",
    "#  ggplot(data=., mapping=aes(x= n_day, y=score)) +\n",
    "#         geom_point(mapping = aes(colour=condition, size=count), alpha=1/3)+\n",
    "#        facet_wrap(~type)+\n",
    "  #geom_errorbar(aes(ymin=score-ci, ymax=score+ci))+  \n",
    "#  geom_smooth(se=FALSE)+\n",
    "#  ggtitle(\"Mean scores for response and self efficacy per day per condition\")\n",
    "  \n",
    "#  ggsave('efficacy_scores.jpg', plot =last_plot(), dpi =300, path= save_figure)\n"
   ]
  },
  {
   "cell_type": "code",
   "execution_count": null,
   "metadata": {},
   "outputs": [],
   "source": [
    "summary_df"
   ]
  },
  {
   "cell_type": "code",
   "execution_count": 62,
   "metadata": {},
   "outputs": [],
   "source": [
    "test_eff<-summary_df %>% \n",
    "        filter(score==\"re\" | score==\"se\") "
   ]
  },
  {
   "cell_type": "code",
   "execution_count": 63,
   "metadata": {},
   "outputs": [
    {
     "name": "stderr",
     "output_type": "stream",
     "text": [
      "Saving 6.67 x 6.67 in image\n",
      "\n"
     ]
    },
    {
     "data": {
      "image/png": "[encoded data removed]",
      "text/plain": [
       "plot without title"
      ]
     },
     "metadata": {
      "image/png": {
       "height": 420,
       "width": 420
      },
      "text/plain": {
       "height": 420,
       "width": 420
      }
     },
     "output_type": "display_data"
    }
   ],
   "source": [
    "gs1 <- ggplot(test_eff, aes(x=n_day, y=mean.total)) + \n",
    "       geom_point(mapping = aes(colour=condition, size=count), alpha=1/3)+ \n",
    "       facet_wrap(~score)+\n",
    "       geom_errorbar(aes(ymin = mean.total - ci.mean, ymax = mean.total + ci.mean), \n",
    "                width=0.2)+\n",
    "    \n",
    "        #geom_smooth(method=lm, se=FALSE, fullrange=TRUE)+\n",
    "  xlab(\"Days\")+ylab(\"Mean score\")+\n",
    "    ggtitle(\"Mean scores for response and self efficacy per day per condition,\\n reported every 3 days and at baseline and followup\")\n",
    "gs1  \n",
    "ggsave('efficacy_scores.jpg', plot =last_plot(), dpi =300, path= save_figure)"
   ]
  },
  {
   "cell_type": "code",
   "execution_count": null,
   "metadata": {},
   "outputs": [],
   "source": [
    "# only plot before and after\n",
    "gs2 <- ggplot(test_eff, aes(x=n_day, y=mean.total)) + \n",
    "       geom_line(mapping = aes(colour=condition), alpha=1/3)+ \n",
    "       facet_wrap(~score)+\n",
    "       geom_errorbar(aes(ymin = mean.total - ci.mean, ymax = mean.total + ci.mean), \n",
    "                width=0.2)+\n",
    "    \n",
    "        #geom_smooth(method=lm, se=FALSE, fullrange=TRUE)+\n",
    "  xlab(\"Days\")+ylab(\"Mean score\")+\n",
    "    ggtitle(\"Mean scores for response and self efficacy per day per condition,\\n reported every 3 days and at baseline and followup\")\n",
    "gs2 \n",
    "#ggsave('efficacy_scores.jpg', plot =last_plot(), dpi =300, path= save_figure)"
   ]
  },
  {
   "cell_type": "code",
   "execution_count": null,
   "metadata": {},
   "outputs": [],
   "source": [
    "# Add regression lines\n",
    "ggplot(test_eff, aes(x=n_day, y=mean.total, color=condition)) +\n",
    "  geom_point() + \n",
    " facet_wrap(~score)+\n",
    "  geom_smooth(method=lm, se=TRUE, fullrange=TRUE)\n"
   ]
  },
  {
   "cell_type": "markdown",
   "metadata": {},
   "source": [
    "Plot hope score"
   ]
  },
  {
   "cell_type": "code",
   "execution_count": null,
   "metadata": {},
   "outputs": [],
   "source": [
    "test_hope<-summary_df %>% \n",
    "        filter(score==\"hope\")  "
   ]
  },
  {
   "cell_type": "code",
   "execution_count": null,
   "metadata": {},
   "outputs": [],
   "source": [
    "test_hope"
   ]
  },
  {
   "cell_type": "code",
   "execution_count": null,
   "metadata": {
    "scrolled": true
   },
   "outputs": [],
   "source": [
    "\n",
    "ggplot(data=test_hope, mapping=aes(x= n_day, y=mean.total)) +\n",
    "      geom_line(mapping = aes(colour=condition), alpha=1/3)+ \n",
    "       facet_wrap(~score)+\n",
    "       geom_errorbar(aes(ymin = mean.total - ci.mean, ymax = mean.total + ci.mean), \n",
    "                width=0.2)+\n",
    "    \n",
    "        #geom_smooth(method=lm, se=FALSE, fullrange=TRUE)+\n",
    "  xlab(\"Days\")+ylab(\"Mean score\")+\n",
    "   ggtitle(\"Mean scores for how hopeful about quitting smoking\")\n",
    "\n",
    "  ggsave('hope_scores.jpg', plot =last_plot(), dpi =300, path= save_figure)\n"
   ]
  },
  {
   "cell_type": "markdown",
   "metadata": {},
   "source": [
    "Make raincloud plots"
   ]
  },
  {
   "cell_type": "code",
   "execution_count": null,
   "metadata": {},
   "outputs": [],
   "source": [
    "library(cowplot)\n",
    "library(readr)\n",
    "#library(dplyr)"
   ]
  },
  {
   "cell_type": "code",
   "execution_count": null,
   "metadata": {},
   "outputs": [],
   "source": [
    "### This script creates an R function to generate raincloud plots, then simulates\n",
    "### data for plots. If using for your own data, you only need lines 1-80.\n",
    "### It relies largely on code previously written by David Robinson\n",
    "### (https://gist.github.com/dgrtwo/eb7750e74997891d7c20)\n",
    "### and the package ggplot2 by Hadley Wickham\n",
    "\n",
    "# Check if required packages are installed ----\n",
    "packages <- c(\"cowplot\", \"readr\", \"ggplot2\", \"dplyr\", \"lavaan\", \"smooth\", \"Hmisc\")\n",
    "if (length(setdiff(packages, rownames(installed.packages()))) > 0) {\n",
    "  install.packages(setdiff(packages, rownames(installed.packages())))\n",
    "}\n",
    "\n",
    "# Load packages ----\n",
    "#library(ggplot2)\n",
    "\n",
    "# Defining the geom_flat_violin function ----\n",
    "# Note: the below code modifies the\n",
    "# existing github page by removing a parenthesis in line 50\n",
    "\n",
    "\"%||%\" <- function(a, b) {\n",
    "  if (!is.null(a)) a else b\n",
    "}\n",
    "\n",
    "geom_flat_violin <- function(mapping = NULL, data = NULL, stat = \"ydensity\",\n",
    "                             position = \"dodge\", trim = TRUE, scale = \"area\",\n",
    "                             show.legend = NA, inherit.aes = TRUE, ...) {\n",
    "  layer(\n",
    "    data = data,\n",
    "    mapping = mapping,\n",
    "    stat = stat,\n",
    "    geom = GeomFlatViolin,\n",
    "    position = position,\n",
    "    show.legend = show.legend,\n",
    "    inherit.aes = inherit.aes,\n",
    "    params = list(\n",
    "      trim = trim,\n",
    "      scale = scale,\n",
    "      ...\n",
    "    )\n",
    "  )\n",
    "}\n",
    "\n",
    "#' @rdname ggplot2-ggproto\n",
    "#' @format NULL\n",
    "#' @usage NULL\n",
    "#' @export\n",
    "GeomFlatViolin <-\n",
    "  ggproto(\"GeomFlatViolin\", Geom,\n",
    "    setup_data = function(data, params) {\n",
    "      data$width <- data$width %||%\n",
    "        params$width %||% (resolution(data$x, FALSE) * 0.9)\n",
    "\n",
    "      # ymin, ymax, xmin, and xmax define the bounding rectangle for each group\n",
    "      data %>%\n",
    "        group_by(group) %>%\n",
    "        mutate(\n",
    "          ymin = min(y),\n",
    "          ymax = max(y),\n",
    "          xmin = x,\n",
    "          xmax = x + width / 2\n",
    "        )\n",
    "    },\n",
    "\n",
    "    draw_group = function(data, panel_scales, coord) {\n",
    "      # Find the points for the line to go all the way around\n",
    "      data <- transform(data,\n",
    "        xminv = x,\n",
    "        xmaxv = x + violinwidth * (xmax - x)\n",
    "      )\n",
    "\n",
    "      # Make sure it's sorted properly to draw the outline\n",
    "      newdata <- rbind(\n",
    "        plyr::arrange(transform(data, x = xminv), y),\n",
    "        plyr::arrange(transform(data, x = xmaxv), -y)\n",
    "      )\n",
    "\n",
    "      # Close the polygon: set first and last point the same\n",
    "      # Needed for coord_polar and such\n",
    "      newdata <- rbind(newdata, newdata[1, ])\n",
    "  ggplot2:::ggname(\"geom_flat_violin\", GeomPolygon$draw_panel(newdata, panel_scales, coord))\n",
    "    }, \n",
    "          \n",
    "    draw_key = draw_key_polygon,\n",
    "\n",
    "    default_aes = aes(\n",
    "      weight = 1, colour = \"grey20\", fill = \"white\", size = 0.5,\n",
    "      alpha = NA, linetype = \"solid\"\n",
    "    ),\n",
    "\n",
    "    required_aes = c(\"x\", \"y\")\n",
    "  )"
   ]
  },
  {
   "cell_type": "code",
   "execution_count": null,
   "metadata": {},
   "outputs": [],
   "source": [
    "packages <- c(\"ggplot2\", \"dplyr\", \"lavaan\", \"plyr\", \"cowplot\", \"rmarkdown\",\n",
    "\"readr\", \"caTools\", \"bitops\")\n",
    "if (length(setdiff(packages, rownames(installed.packages()))) > 0) {\n",
    "install.packages(setdiff(packages, rownames(installed.packages())))\n",
    "}"
   ]
  },
  {
   "cell_type": "code",
   "execution_count": null,
   "metadata": {},
   "outputs": [],
   "source": [
    "install.packages(\"ggplot2\")\n",
    "install.packages(\"dplyr\")\n",
    "install.packages(\"lavaan\")\n",
    "install.packages(\"plyr\")\n",
    "install.packages(\"cowplot\")\n",
    "install.packages(\"rmarkdown\")\n",
    "install.packages(\"readr\")\n",
    "install.packages(\"caTools\")\n",
    "install.packages(\"bitops\")"
   ]
  },
  {
   "cell_type": "code",
   "execution_count": null,
   "metadata": {},
   "outputs": [],
   "source": [
    "test_se<-summary_df %>% \n",
    "        filter(score==\"se\") "
   ]
  },
  {
   "cell_type": "code",
   "execution_count": null,
   "metadata": {},
   "outputs": [],
   "source": [
    "test_se"
   ]
  },
  {
   "cell_type": "code",
   "execution_count": null,
   "metadata": {},
   "outputs": [],
   "source": [
    "fig<-ggplot(test_se, aes(x=condition, y=mean.total, fill=condition))+\n",
    "    geom_flat_violin(position=position_nudge(x = .2, y = 0),adjust = .2)+\n",
    "    geom_point(position = position_jitter(width = .15), size = .25)+\n",
    "    ylab('Score')+xlab('Group')+coord_flip()+theme_cowplot()+guides(fill = FALSE)+\n",
    "    ggtitle('Total efficacy score')"
   ]
  },
  {
   "cell_type": "code",
   "execution_count": null,
   "metadata": {},
   "outputs": [],
   "source": [
    "fig"
   ]
  },
  {
   "cell_type": "code",
   "execution_count": null,
   "metadata": {},
   "outputs": [],
   "source": [
    "ggplot(df, aes(x=condition, y=total_se, fill=condition, colour=condition))+\n",
    "    geom_flat_violin(position=position_nudge(x = .25, y = 0),adjust = 2)+\n",
    "    geom_point(position = position_jitter(width = .15), size = .25)+\n",
    "    geom_point(data=m_scores, aes(x=condition, y=mean_se), position = position_nudge(.25), colour = \"BLACK\")+\n",
    "    geom_errorbar(data =m_scores, aes(x = condition, y = mean_se, ymin = mean_se-ci_se, ymax = mean_se+ci_se), position = position_nudge(.25), colour = \"BLACK\", width = 0.1, size = 0.8)+\n",
    "    \n",
    "ylab('Score')+xlab('Group')+coord_flip()+theme_cowplot()+guides(fill = FALSE)+\n",
    "    ggtitle('Total efficacy score')"
   ]
  },
  {
   "cell_type": "code",
   "execution_count": null,
   "metadata": {},
   "outputs": [],
   "source": [
    "ggplot(df, aes(x = total_se, y = n_day , fill = condition)) +\n",
    "  geom_flat_violin(aes(fill = condition),position = position_nudge(x = .1, y = 0), adjust = 1.5, trim = FALSE, alpha = .5, colour = NA)+\n",
    "  geom_point(aes(x = as.numeric(n_day)-.15, y = total_se, colour = condition),position = position_jitter(width = .05), size = .25, shape = 20)+\n",
    "  geom_boxplot(aes(x = n_day, y = total_se, fill = condition),outlier.shape = NA, alpha = .5, width = .1, colour = \"black\")+\n",
    "  geom_line(data = df, aes(x = as.numeric(n_day)+.1, y = mean_se, group = condition, colour = condition), linetype = 3)+\n",
    "  geom_point(data = df, aes(x = as.numeric(n_day)+.1, y = mean_se, group = condition, colour = condition), shape = 18) +\n",
    "  geom_errorbar(data = df, aes(x = as.numeric(n_day)+.1, y = mean_se, group = condition, colour = condition, ymin = mean_se-sd_se, ymax = mean_se+sd_se), width = .05)+\n",
    "  scale_colour_brewer(palette = \"Dark2\")+\n",
    "  scale_fill_brewer(palette = \"Dark2\")\n",
    "  "
   ]
  },
  {
   "cell_type": "code",
   "execution_count": null,
   "metadata": {},
   "outputs": [],
   "source": [
    "ggplot(test_se, aes(x = n_day, y = mean.total , fill = condition)) +\n",
    "  geom_flat_violin(aes(fill = condition),position = position_nudge(x = .1, y = 0), adjust = 1.5, trim = FALSE, alpha = .5, colour = NA)+\n",
    "  geom_point(aes(x = as.numeric(n_day)-.15, y = total_se, colour = condition),position = position_jitter(width = .05), size = .25, shape = 20)+\n",
    "  geom_boxplot(aes(x = n_day, y = total_se, fill = condition),outlier.shape = NA, alpha = .5, width = .1, colour = \"black\")+\n",
    "  geom_line(data = df, aes(x = as.numeric(n_day)+.1, y = mean_se, group = condition, colour = condition), linetype = 3)+\n",
    "  geom_point(data = df, aes(x = as.numeric(n_day)+.1, y = mean_se, group = condition, colour = condition), shape = 18) +\n",
    "  geom_errorbar(data = df, aes(x = as.numeric(n_day)+.1, y = mean_se, group = condition, colour = condition, ymin = mean_se-sd_se, ymax = mean_se+sd_se), width = .05)+\n",
    "  scale_colour_brewer(palette = \"Dark2\")+\n",
    "  scale_fill_brewer(palette = \"Dark2\")"
   ]
  },
  {
   "cell_type": "code",
   "execution_count": null,
   "metadata": {},
   "outputs": [],
   "source": []
  }
 ],
 "metadata": {
  "kernelspec": {
   "display_name": "R",
   "language": "R",
   "name": "ir"
  },
  "language_info": {
   "codemirror_mode": "r",
   "file_extension": ".r",
   "mimetype": "text/x-r-source",
   "name": "R",
   "pygments_lexer": "r",
   "version": "3.6.1"
  }
 },
 "nbformat": 4,
 "nbformat_minor": 2
}
