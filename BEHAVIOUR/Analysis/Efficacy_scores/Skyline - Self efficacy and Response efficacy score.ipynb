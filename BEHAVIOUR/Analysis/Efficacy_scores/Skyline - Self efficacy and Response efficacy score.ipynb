{
 "cells": [
  {
   "cell_type": "markdown",
   "metadata": {},
   "source": [
    "Gets self efficacy and response efficacy score"
   ]
  },
  {
   "cell_type": "markdown",
   "metadata": {},
   "source": [
    "Preprocessing\n",
    "==============\n",
    "\n",
    "Efficacy scores were collected in:\n",
    "- every 3 days evening questionnaires (!! bug in the plateform, question was presented every day for some participants -> need to work out which and take every 3 day measures)\n",
    "\n",
    "- baseline and followup efficacy - for EEG participants\n",
    "\n",
    "- screening and followup questionnaire - get scores for online participants\n",
    "\n",
    "- Participants who did the baseline and followup Efficacy score on the same survey as the every 3 days one: \n",
    "562, 477, 703, 786"
   ]
  },
  {
   "cell_type": "code",
   "execution_count": 1,
   "metadata": {},
   "outputs": [
    {
     "name": "stderr",
     "output_type": "stream",
     "text": [
      "── \u001b[1mAttaching packages\u001b[22m ─────────────────────────────────────── tidyverse 1.2.1 ──\n",
      "\n",
      "\u001b[32m✔\u001b[39m \u001b[34mggplot2\u001b[39m 3.2.1     \u001b[32m✔\u001b[39m \u001b[34mpurrr  \u001b[39m 0.3.3\n",
      "\u001b[32m✔\u001b[39m \u001b[34mtibble \u001b[39m 2.1.3     \u001b[32m✔\u001b[39m \u001b[34mdplyr  \u001b[39m 0.8.4\n",
      "\u001b[32m✔\u001b[39m \u001b[34mtidyr  \u001b[39m 1.0.0     \u001b[32m✔\u001b[39m \u001b[34mstringr\u001b[39m 1.4.0\n",
      "\u001b[32m✔\u001b[39m \u001b[34mreadr  \u001b[39m 1.3.1     \u001b[32m✔\u001b[39m \u001b[34mforcats\u001b[39m 0.4.0\n",
      "\n",
      "── \u001b[1mConflicts\u001b[22m ────────────────────────────────────────── tidyverse_conflicts() ──\n",
      "\u001b[31m✖\u001b[39m \u001b[34mdplyr\u001b[39m::\u001b[32mfilter()\u001b[39m masks \u001b[34mstats\u001b[39m::filter()\n",
      "\u001b[31m✖\u001b[39m \u001b[34mdplyr\u001b[39m::\u001b[32mlag()\u001b[39m    masks \u001b[34mstats\u001b[39m::lag()\n",
      "\n",
      "here() starts at /home/claire/Documents/scripts-local/skyline/BEHAVIOUR/Analysis/Efficacy_scores\n",
      "\n",
      "\n",
      "Attaching package: ‘lubridate’\n",
      "\n",
      "\n",
      "The following object is masked from ‘package:here’:\n",
      "\n",
      "    here\n",
      "\n",
      "\n",
      "The following object is masked from ‘package:base’:\n",
      "\n",
      "    date\n",
      "\n",
      "\n",
      "Parsed with column specification:\n",
      "cols(\n",
      "  `Subject ID` = \u001b[32mcol_double()\u001b[39m,\n",
      "  day_msg = \u001b[32mcol_double()\u001b[39m,\n",
      "  `Starting Date` = \u001b[31mcol_character()\u001b[39m,\n",
      "  Good = \u001b[32mcol_double()\u001b[39m,\n",
      "  `Condition = Intervention` = \u001b[32mcol_double()\u001b[39m,\n",
      "  EEG = \u001b[32mcol_double()\u001b[39m,\n",
      "  Finished = \u001b[32mcol_double()\u001b[39m,\n",
      "  REMOVED = \u001b[32mcol_double()\u001b[39m,\n",
      "  Interview = \u001b[32mcol_double()\u001b[39m,\n",
      "  Notes = \u001b[31mcol_character()\u001b[39m,\n",
      "  `No Compliance` = \u001b[32mcol_double()\u001b[39m,\n",
      "  `Email reminder poor perf` = \u001b[31mcol_character()\u001b[39m,\n",
      "  eve_msg = \u001b[32mcol_double()\u001b[39m,\n",
      "  ev3days = \u001b[32mcol_double()\u001b[39m,\n",
      "  most_recent = \u001b[34mcol_date(format = \"\")\u001b[39m,\n",
      "  NAME = \u001b[31mcol_character()\u001b[39m,\n",
      "  EMAIL = \u001b[31mcol_character()\u001b[39m,\n",
      "  PHONE = \u001b[31mcol_character()\u001b[39m\n",
      ")\n",
      "\n",
      "Joining, by = \"Screening.ID\"\n",
      "\n"
     ]
    }
   ],
   "source": [
    "library(tidyverse)\n",
    "library(here)\n",
    "library(lubridate)\n",
    "\n",
    "#get filepaths\n",
    "\n",
    "#eff_evening_filepath = here(\"Every3days\")\n",
    "\n",
    "cond_file = \"~/Documents/scripts-local/skyline/BEHAVIOUR/Analysis/expe_condition_final.csv\"\n",
    "\n",
    "\n",
    "save_figure = here::here(\"Figures\")\n",
    "\n",
    "#read files\n",
    "\n",
    "files_eff_eve <-dir(path=here::here(\"data/Every3days\") , pattern = \"*.csv\") \n",
    "files_eff_bf <-dir(path=here::here(\"data/BaselineFollowup\") , pattern = \"*.csv\") \n",
    "files_eff_online<-dir(path=here::here(\"data/OnlineFollowup\") , pattern = \"*.csv\") \n",
    "# use here the data from the pp recruitment files\n",
    "files_eff_base_online<-dir(path=here::here(\"data/OnlineBaseline\") , pattern = \"baseline_eff_score.csv\") # sheet with screening ID\n",
    "files_study_id<-dir(path=here::here(\"data/OnlineBaseline\") , pattern = \"study_ids_online.csv\") # sheet with screening_id/study_ids corresponsdence\n",
    "files_qualtrics<-dir(path=here::here(\"data/OnlineBaseline\") , pattern = \"qualtrics.csv\") # sheet with screening_id/study_ids corresponsdence\n",
    "\n",
    "\n",
    "every3days_scores <-read.csv(here::here(\"data/Every3days\", files_eff_eve), header = TRUE, sep = \",\", dec = \".\", stringsAsFactors = FALSE)\n",
    "baseline_followup_eeg <-read.csv(here::here(\"data/BaselineFollowup\", files_eff_bf), header = TRUE, sep = \",\", dec = \".\", stringsAsFactors = FALSE)\n",
    "followup_online <-read.csv(here::here(\"data/OnlineFollowup\", files_eff_online), header = TRUE, sep = \",\", dec = \".\", stringsAsFactors = FALSE)\n",
    "baseline_online <-read.csv(here::here(\"data/OnlineBaseline\", files_eff_base_online), header = TRUE, sep = \",\", dec = \".\", stringsAsFactors = FALSE)\n",
    "study_id <-read.csv(here::here(\"data/OnlineBaseline\",files_study_id), header = TRUE, sep = \",\", dec = \".\", stringsAsFactors = FALSE)\n",
    "qualtrics <-read.csv(here::here(\"data/OnlineBaseline\",files_qualtrics), header = TRUE, sep = \",\", dec = \".\", stringsAsFactors = FALSE)\n",
    "\n",
    "# condition file\n",
    "cond <- read_csv(cond_file)\n",
    "\n",
    "\n",
    "#Associate online pp baseline efficacy score with their study id:\n",
    "\n",
    "\n",
    "#select only screening ID and qualtrics ID on recruitment file\n",
    "pp_ids<-baseline_online %>% select(\"Screening.ID\", \"Response.ID\") \n",
    "\n",
    "qualtrics<-rename(qualtrics, Response.ID = ResponseId)\n",
    "\n",
    "\n",
    "remove(baseline_online)\n",
    "\n",
    "baseline_online<-left_join(pp_ids, qualtrics, by= 'Response.ID')\n",
    "\n",
    "# join with study id\n",
    "baseline_online <- left_join(study_id, baseline_online)\n",
    "\n",
    "# remove screening id\n",
    "baseline_online<-select(baseline_online, -Screening.ID)\n",
    "\n"
   ]
  },
  {
   "cell_type": "code",
   "execution_count": 2,
   "metadata": {},
   "outputs": [],
   "source": [
    "#rename columns \n",
    "#- questions scoring: 0 = not at all; 100 = very much\n",
    "\n",
    "every3days_scores<-rename(every3days_scores , date=EndDate, completed=Finished,\n",
    "                  ID = Q1, \n",
    "                  r_eff1 = Q3_1, r_eff2 = Q3_2, \n",
    "                  s_eff1= Q4_1, s_eff2 = Q4_2, s_eff3= Q4_3, \n",
    "                  hope = Q7_1, \n",
    "                  quit_int = Q5\n",
    "                  )\n",
    "\n",
    "every3days_scores$ID<-as.factor(every3days_scores$ID)\n",
    "\n",
    "\n",
    "baseline_followup_eeg <-rename(baseline_followup_eeg, date=EndDate, completed=Finished,\n",
    "                  ID = Q1, \n",
    "                  r_eff1 = Q3_1, r_eff2 = Q3_2, \n",
    "                  s_eff1= Q4_1, s_eff2 = Q4_2, s_eff3= Q4_3, \n",
    "                  hope = Q7_1\n",
    "                 # quit_int = Q5\n",
    "                  )\n",
    "\n",
    "baseline_followup_eeg$ID<-as.factor(baseline_followup_eeg$ID)\n",
    "\n",
    "\n",
    "followup_online<-rename(followup_online, date=EndDate, completed=Finished, \n",
    "                      ID= Q1, \n",
    "                       r_eff1 = Q88_1, r_eff2= Q88_2, \n",
    "                       s_eff1 = Q90_1, s_eff2 = Q90_2, s_eff3= Q90_3, \n",
    "                       hope=Q92_1\n",
    "                       )\n",
    "followup_online$ID<-as.factor(followup_online$ID)\n",
    "\n",
    "baseline_online<-rename(baseline_online, date=EndDate, completed=Finished, \n",
    "                       ID= Study.ID, \n",
    "                       r_eff1 = Q108_1, r_eff2= Q108_2, \n",
    "                       s_eff1 = Q110_1.1, s_eff2 = Q110_2.1, s_eff3= Q110_3.1, \n",
    "                       hope=Q112_1.1\n",
    "                           )\n",
    "\n",
    "            \n",
    "baseline_online$ID<-as.factor(baseline_online$ID)\n",
    "\n",
    "#Create one long dataset collating all data\n",
    "\n",
    "# add a \"session\" column\n",
    "\n",
    "every3days_scores <- add_column(every3days_scores, \"type\" = \"every3days\")\n",
    "followup_online <- add_column(followup_online, \"type\" = \"followup\")\n",
    "baseline_online<- add_column(baseline_online, \"type\" = \"baseline\")\n",
    "\n",
    "#get sessions for the baseline-followup dataset\n",
    "  \n",
    "\n",
    "# remove extra header\n",
    "#baseline_followup_eeg<-tail(baseline_followup_eeg, -2)"
   ]
  },
  {
   "cell_type": "code",
   "execution_count": 3,
   "metadata": {},
   "outputs": [],
   "source": [
    "# create session based on occurrence of ID \n",
    "baseline_followup_eeg<-baseline_followup_eeg %>% \n",
    "        #mutate(date=ymd_hms(baseline_followup_eeg$date))  %>% \n",
    "        group_by(ID)  %>%   \n",
    "        mutate('type'= row_number()) %>% \n",
    "        ungroup()\n",
    "        \n",
    "# assign factor and recode        \n",
    "baseline_followup_eeg$type<-as.factor(baseline_followup_eeg$type)        \n",
    "baseline_followup_eeg$type<-recode(baseline_followup_eeg$type, '1'=\"baseline\", '2'=\"followup\")                            \n",
    "\n",
    "\n",
    "# select only columns of interest\n",
    "\n",
    "baseline_followup_eeg<-select(baseline_followup_eeg, ID, date, r_eff1:hope, type, completed)\n",
    "every3days_scores <-select(every3days_scores, ID, date, r_eff1:hope, type, completed)\n",
    "followup_online<-select(followup_online, ID, date, r_eff1:hope, type, completed)\n",
    "baseline_online<-select(baseline_online, ID, date, r_eff1:hope, type, completed)\n",
    "\n",
    "# get only completed surveys\n",
    "#every3days_scores<-filter(every3days_scores, completed=='True')\n",
    "\n",
    "#baseline_followup_eeg<-filter(baseline_followup_eeg, completed=='True')\n",
    "#\n",
    "#followup_online<-filter(followup_online, completed=='True')\n",
    "#baseline_online<-filter(baseline_online, completed=='True')"
   ]
  },
  {
   "cell_type": "code",
   "execution_count": 4,
   "metadata": {},
   "outputs": [
    {
     "name": "stderr",
     "output_type": "stream",
     "text": [
      "Joining, by = c(\"ID\", \"date\", \"r_eff1\", \"r_eff2\", \"s_eff1\", \"s_eff2\", \"s_eff3\", \"hope\", \"type\", \"completed\")\n",
      "\n",
      "Warning message:\n",
      "“Column `ID` joining factors with different levels, coercing to character vector”\n",
      "Warning message:\n",
      "“Column `type` joining factor and character vector, coercing into character vector”\n"
     ]
    }
   ],
   "source": [
    "#Do some custom change to fit special cases\n",
    "\n",
    "\n",
    "#---------------------------------#\n",
    "# get data for the 4 pps who did the baseline and followup efficacy measure in the every3days\n",
    "\n",
    "ID_add_to_bf <-c(562, 477, 703, 786)\n",
    "\n",
    "tmp<- every3days_scores %>% \n",
    "  filter(ID %in% ID_add_to_bf)\n",
    "\n",
    "tmp_bf_score <- tmp %>%  # get baseline and follow up scores - 1st and last \n",
    "  group_by(ID) %>% \n",
    "  slice(c(1, n())) %>% \n",
    "  ungroup()  \n",
    "\n",
    "baseline_followup_eeg<-full_join(baseline_followup_eeg, tmp_bf_score)  # add to df_bf\n",
    "\n",
    "# remove first and last measures then put back into main df dataframe, remove these ID from df before !"
   ]
  },
  {
   "cell_type": "code",
   "execution_count": 5,
   "metadata": {},
   "outputs": [
    {
     "name": "stderr",
     "output_type": "stream",
     "text": [
      "Joining, by = c(\"ID\", \"date\", \"r_eff1\", \"r_eff2\", \"s_eff1\", \"s_eff2\", \"s_eff3\", \"hope\", \"type\", \"completed\")\n",
      "\n"
     ]
    }
   ],
   "source": [
    "tmp_df <- tmp %>% \n",
    "  group_by(ID) %>% \n",
    "  slice(2:(n()-1)) %>% \n",
    "  ungroup()  \n",
    "\n",
    "\n",
    "# remove those ID from df then put them back\n",
    "\n",
    "every3days_scores<- every3days_scores %>% \n",
    "  filter(!ID %in% ID_add_to_bf )\n",
    "\n",
    "every3days_scores<-full_join(every3days_scores, tmp_df)\n",
    "\n",
    "rm(tmp, tmp_bf_score, tmp_df)"
   ]
  },
  {
   "cell_type": "code",
   "execution_count": 6,
   "metadata": {},
   "outputs": [
    {
     "name": "stderr",
     "output_type": "stream",
     "text": [
      "Warning message:\n",
      "“ 2 failed to parse.”\n",
      "Warning message:\n",
      "“Factor `ID` contains implicit NA, consider using `forcats::fct_explicit_na`”\n"
     ]
    }
   ],
   "source": [
    "# get IDs of pp who did the survey every day instead of every 3 days\n",
    "\n",
    "# get date format\n",
    "every3days_scores$date<-ymd_hms(every3days_scores$date)\n",
    "\n",
    "# first remove  false alarms (non completed surveys)\n",
    "\n",
    "every3days_scores<- every3days_scores %>% filter(every3days_scores$completed=='True')\n",
    "\n",
    "# add a counter for each row per ID (see 1.)\n",
    "every3days_scores <- every3days_scores %>% \n",
    "  group_by(ID) %>% \n",
    "  mutate(n_day = row_number()) %>%\n",
    "  select(ID, n_day, everything()) %>% \n",
    "  ungroup()  \n",
    "every3days_scores$n_day<-as.factor(every3days_scores$n_day)\n",
    "\n",
    "#get_ID_bug <- every3days_scores %>% \n",
    "#  group_by(ID) %>% \n",
    "#  mutate(count = row_number()) %>% \n",
    "#  filter(count>9) %>% \n",
    "#  distinct(ID) %>% \n",
    "#  ungroup()  "
   ]
  },
  {
   "cell_type": "code",
   "execution_count": 65,
   "metadata": {},
   "outputs": [],
   "source": [
    "# get pp who were in bug window\n",
    "# get survey completed at start date + 3 +3 etc..."
   ]
  },
  {
   "cell_type": "code",
   "execution_count": 7,
   "metadata": {},
   "outputs": [],
   "source": [
    "# get the experiment condition file with all pp IDs\n",
    "cond <-rename(cond, ID = \"Subject ID\", condition = \"Condition = Intervention\", removed= \"REMOVED\")\n",
    "cond$ID<-as.factor(cond$ID)\n"
   ]
  },
  {
   "cell_type": "code",
   "execution_count": 9,
   "metadata": {},
   "outputs": [
    {
     "name": "stderr",
     "output_type": "stream",
     "text": [
      "Joining, by = \"ID\"\n",
      "\n",
      "Warning message:\n",
      "“Column `ID` joining factors with different levels, coercing to character vector”\n"
     ]
    }
   ],
   "source": [
    "every3days_scores_tmp<-full_join(cond, every3days_scores)"
   ]
  },
  {
   "cell_type": "code",
   "execution_count": 146,
   "metadata": {},
   "outputs": [],
   "source": [
    "# get list of pp who started during bug time window (July/August) \n",
    "#ID_bug<-every3days_scores_tmp %>% \n",
    "#            filter(n_day==1) %>% \n",
    "#            filter(date>=as.Date(\"2019-07-23\") & date<=as.Date(\"2019-08-30\") ) \n",
    "\n"
   ]
  },
  {
   "cell_type": "code",
   "execution_count": 10,
   "metadata": {},
   "outputs": [
    {
     "data": {
      "text/html": [],
      "text/latex": [],
      "text/markdown": [],
      "text/plain": [
       "Date of length 0"
      ]
     },
     "metadata": {},
     "output_type": "display_data"
    }
   ],
   "source": [
    "every3days_scores_tmp <-rename(every3days_scores_tmp , start=`Starting Date`)\n",
    "every3days_scores_tmp$start<-dmy(every3days_scores_tmp$start)\n",
    "\n",
    "\n",
    "df_bug<- every3days_scores_tmp %>% \n",
    "  filter(start>=as.Date(\"2019-07-20\") & date<=as.Date(\"2019-08-30\")) \n",
    "\n",
    "\n",
    "# get unique start dates\n",
    "all_starts<-unique(df_bug$start)\n",
    "all_starts\n",
    "\n"
   ]
  },
  {
   "cell_type": "code",
   "execution_count": 11,
   "metadata": {},
   "outputs": [
    {
     "ename": "ERROR",
     "evalue": "Error: New columns in `add_column()` must be consistent with `.data`:\n* `.data` has 9 rows\n* New column contributes 0 rows\n",
     "output_type": "error",
     "traceback": [
      "Error: New columns in `add_column()` must be consistent with `.data`:\n* `.data` has 9 rows\n* New column contributes 0 rows\nTraceback:\n",
      "1. add_column(df_dates, date = n_dates)",
      "2. abort(error_inconsistent_new_cols(nrow(.data), df))",
      "3. signal_abort(cnd)"
     ]
    }
   ],
   "source": [
    "# make a loop from n=1 to len(all_starts)\n",
    "for(n in 1:length(all_starts)){\n",
    "        # get data for 1st date\n",
    "        #ndf[n]<-paste(\"df\", n, sep=\"_\")\n",
    "        # create data frame to store every 3 days and their label\n",
    "        df_dates= tibble(label_days= 1:9)\n",
    "\n",
    "        df<-df_bug %>% filter(start==all_starts[n]) \n",
    "        # get vector with dates corresponding to start date + every 3 days\n",
    "        n_dates<-vector() # to store every 3 days dates\n",
    "        for(i in seq(from=3, to=28, by=3)){\n",
    "            date<-all_starts[n]+days(i)\n",
    "            n_dates<-append(n_dates, date)\n",
    "            }\n",
    "\n",
    "\n",
    "        df_dates<-add_column(df_dates, date=n_dates)\n",
    "        df_dates$date<-ymd(df_dates$date)\n",
    "        df_dates$date<-as.POSIXct(df_dates$date)\n",
    "        # get corresponding data\n",
    "        #df<-df %>% filter(as.Date(date) %in% n_dates)\n",
    "        df$date<-floor_date(df$date, unit=\"day\")\n",
    "\n",
    "        df<-inner_join(df, df_dates, by=\"date\")\n",
    "\n",
    "        assign(paste(\"df\", n, sep=\"_\"), df)\n",
    "    }"
   ]
  },
  {
   "cell_type": "code",
   "execution_count": 12,
   "metadata": {},
   "outputs": [
    {
     "ename": "ERROR",
     "evalue": "Error in eval(expr, envir, enclos): object 'df_2' not found\n",
     "output_type": "error",
     "traceback": [
      "Error in eval(expr, envir, enclos): object 'df_2' not found\nTraceback:\n"
     ]
    }
   ],
   "source": [
    "df_2"
   ]
  },
  {
   "cell_type": "code",
   "execution_count": 339,
   "metadata": {},
   "outputs": [],
   "source": [
    "test<-inner_join(df, df_dates, by=\"date\")"
   ]
  },
  {
   "cell_type": "code",
   "execution_count": 21,
   "metadata": {},
   "outputs": [],
   "source": [
    "test<-floor_date(df$date, unit=\"day\")"
   ]
  },
  {
   "cell_type": "code",
   "execution_count": 341,
   "metadata": {},
   "outputs": [
    {
     "name": "stderr",
     "output_type": "stream",
     "text": [
      "Warning message in cbind(parts$left, ellip_h, parts$right, deparse.level = 0L):\n",
      "“number of rows of result is not a multiple of vector length (arg 2)”\n",
      "Warning message in cbind(parts$left, ellip_h, parts$right, deparse.level = 0L):\n",
      "“number of rows of result is not a multiple of vector length (arg 2)”\n",
      "Warning message in cbind(parts$left, ellip_h, parts$right, deparse.level = 0L):\n",
      "“number of rows of result is not a multiple of vector length (arg 2)”\n",
      "Warning message in cbind(parts$left, ellip_h, parts$right, deparse.level = 0L):\n",
      "“number of rows of result is not a multiple of vector length (arg 2)”\n"
     ]
    },
    {
     "data": {
      "text/html": [
       "<table>\n",
       "<caption>A spec_tbl_df: 0 × 28</caption>\n",
       "<thead>\n",
       "\t<tr><th scope=col>ID</th><th scope=col>day_msg</th><th scope=col>start</th><th scope=col>Good</th><th scope=col>condition</th><th scope=col>EEG</th><th scope=col>Finished</th><th scope=col>removed</th><th scope=col>Interview</th><th scope=col>Notes</th><th scope=col>⋯</th><th scope=col>n_day</th><th scope=col>date</th><th scope=col>r_eff1</th><th scope=col>r_eff2</th><th scope=col>s_eff1</th><th scope=col>s_eff2</th><th scope=col>s_eff3</th><th scope=col>hope</th><th scope=col>type</th><th scope=col>completed</th></tr>\n",
       "\t<tr><th scope=col>&lt;chr&gt;</th><th scope=col>&lt;dbl&gt;</th><th scope=col>&lt;date&gt;</th><th scope=col>&lt;dbl&gt;</th><th scope=col>&lt;dbl&gt;</th><th scope=col>&lt;dbl&gt;</th><th scope=col>&lt;dbl&gt;</th><th scope=col>&lt;dbl&gt;</th><th scope=col>&lt;dbl&gt;</th><th scope=col>&lt;chr&gt;</th><th scope=col>⋯</th><th scope=col>&lt;fct&gt;</th><th scope=col>&lt;dttm&gt;</th><th scope=col>&lt;chr&gt;</th><th scope=col>&lt;chr&gt;</th><th scope=col>&lt;chr&gt;</th><th scope=col>&lt;chr&gt;</th><th scope=col>&lt;chr&gt;</th><th scope=col>&lt;chr&gt;</th><th scope=col>&lt;chr&gt;</th><th scope=col>&lt;chr&gt;</th></tr>\n",
       "</thead>\n",
       "<tbody>\n",
       "</tbody>\n",
       "</table>\n"
      ],
      "text/latex": [
       "A spec\\_tbl\\_df: 0 × 28\n",
       "\\begin{tabular}{lllllllllllllllllllll}\n",
       " ID & day\\_msg & start & Good & condition & EEG & Finished & removed & Interview & Notes & ⋯ & n\\_day & date & r\\_eff1 & r\\_eff2 & s\\_eff1 & s\\_eff2 & s\\_eff3 & hope & type & completed\\\\\n",
       " <chr> & <dbl> & <date> & <dbl> & <dbl> & <dbl> & <dbl> & <dbl> & <dbl> & <chr> & ⋯ & <fct> & <dttm> & <chr> & <chr> & <chr> & <chr> & <chr> & <chr> & <chr> & <chr>\\\\\n",
       "\\hline\n",
       "\\end{tabular}\n"
      ],
      "text/markdown": [
       "\n",
       "A spec_tbl_df: 0 × 28\n",
       "\n",
       "| ID &lt;chr&gt; | day_msg &lt;dbl&gt; | start &lt;date&gt; | Good &lt;dbl&gt; | condition &lt;dbl&gt; | EEG &lt;dbl&gt; | Finished &lt;dbl&gt; | removed &lt;dbl&gt; | Interview &lt;dbl&gt; | Notes &lt;chr&gt; | ⋯ ⋯ | n_day &lt;fct&gt; | date &lt;dttm&gt; | r_eff1 &lt;chr&gt; | r_eff2 &lt;chr&gt; | s_eff1 &lt;chr&gt; | s_eff2 &lt;chr&gt; | s_eff3 &lt;chr&gt; | hope &lt;chr&gt; | type &lt;chr&gt; | completed &lt;chr&gt; |\n",
       "|---|---|---|---|---|---|---|---|---|---|---|---|---|---|---|---|---|---|---|---|---|\n",
       "\n"
      ],
      "text/plain": [
       "     ID day_msg start Good condition EEG Finished removed Interview Notes ⋯\n",
       "     n_day date r_eff1 r_eff2 s_eff1 s_eff2 s_eff3 hope type completed"
      ]
     },
     "metadata": {},
     "output_type": "display_data"
    }
   ],
   "source": [
    "df %>% filter(df$date %in% df_dates$date)"
   ]
  },
  {
   "cell_type": "code",
   "execution_count": 310,
   "metadata": {},
   "outputs": [
    {
     "data": {
      "text/html": [
       "<style>\n",
       ".list-inline {list-style: none; margin:0; padding: 0}\n",
       ".list-inline>li {display: inline-block}\n",
       ".list-inline>li:not(:last-child)::after {content: \"\\00b7\"; padding: 0 .5ex}\n",
       "</style>\n",
       "<ol class=list-inline><li>'POSIXct'</li><li>'POSIXt'</li></ol>\n"
      ],
      "text/latex": [
       "\\begin{enumerate*}\n",
       "\\item 'POSIXct'\n",
       "\\item 'POSIXt'\n",
       "\\end{enumerate*}\n"
      ],
      "text/markdown": [
       "1. 'POSIXct'\n",
       "2. 'POSIXt'\n",
       "\n",
       "\n"
      ],
      "text/plain": [
       "[1] \"POSIXct\" \"POSIXt\" "
      ]
     },
     "metadata": {},
     "output_type": "display_data"
    }
   ],
   "source": [
    "class(df$date)"
   ]
  },
  {
   "cell_type": "code",
   "execution_count": 248,
   "metadata": {},
   "outputs": [
    {
     "data": {
      "text/html": [
       "<table>\n",
       "<caption>A spec_tbl_df: 8 × 28</caption>\n",
       "<thead>\n",
       "\t<tr><th scope=col>ID</th><th scope=col>day_msg</th><th scope=col>start</th><th scope=col>Good</th><th scope=col>condition</th><th scope=col>EEG</th><th scope=col>Finished</th><th scope=col>removed</th><th scope=col>Interview</th><th scope=col>Notes</th><th scope=col>⋯</th><th scope=col>n_day</th><th scope=col>date</th><th scope=col>r_eff1</th><th scope=col>r_eff2</th><th scope=col>s_eff1</th><th scope=col>s_eff2</th><th scope=col>s_eff3</th><th scope=col>hope</th><th scope=col>type</th><th scope=col>completed</th></tr>\n",
       "\t<tr><th scope=col>&lt;chr&gt;</th><th scope=col>&lt;dbl&gt;</th><th scope=col>&lt;date&gt;</th><th scope=col>&lt;dbl&gt;</th><th scope=col>&lt;dbl&gt;</th><th scope=col>&lt;dbl&gt;</th><th scope=col>&lt;dbl&gt;</th><th scope=col>&lt;dbl&gt;</th><th scope=col>&lt;dbl&gt;</th><th scope=col>&lt;chr&gt;</th><th scope=col>⋯</th><th scope=col>&lt;fct&gt;</th><th scope=col>&lt;dttm&gt;</th><th scope=col>&lt;chr&gt;</th><th scope=col>&lt;chr&gt;</th><th scope=col>&lt;chr&gt;</th><th scope=col>&lt;chr&gt;</th><th scope=col>&lt;chr&gt;</th><th scope=col>&lt;chr&gt;</th><th scope=col>&lt;chr&gt;</th><th scope=col>&lt;chr&gt;</th></tr>\n",
       "</thead>\n",
       "<tbody>\n",
       "\t<tr><td>270</td><td>89</td><td>2019-07-20</td><td>1</td><td>0</td><td>0</td><td>1</td><td>0</td><td>NA</td><td>took follow up questionnaire 1 month after end of its experiment</td><td>⋯</td><td>1 </td><td>2019-07-23 10:12:08</td><td>100</td><td>100</td><td>34</td><td>0 </td><td>21</td><td>31</td><td>every3days</td><td>True</td></tr>\n",
       "\t<tr><td>270</td><td>89</td><td>2019-07-20</td><td>1</td><td>0</td><td>0</td><td>1</td><td>0</td><td>NA</td><td>took follow up questionnaire 1 month after end of its experiment</td><td>⋯</td><td>3 </td><td>2019-07-26 21:08:28</td><td>100</td><td>55 </td><td>0 </td><td>0 </td><td>20</td><td>24</td><td>every3days</td><td>True</td></tr>\n",
       "\t<tr><td>270</td><td>89</td><td>2019-07-20</td><td>1</td><td>0</td><td>0</td><td>1</td><td>0</td><td>NA</td><td>took follow up questionnaire 1 month after end of its experiment</td><td>⋯</td><td>7 </td><td>2019-07-29 21:23:51</td><td>100</td><td>100</td><td>0 </td><td>0 </td><td>24</td><td>1 </td><td>every3days</td><td>True</td></tr>\n",
       "\t<tr><td>270</td><td>89</td><td>2019-07-20</td><td>1</td><td>0</td><td>0</td><td>1</td><td>0</td><td>NA</td><td>took follow up questionnaire 1 month after end of its experiment</td><td>⋯</td><td>16</td><td>2019-08-07 22:43:46</td><td>100</td><td>100</td><td>0 </td><td>0 </td><td>0 </td><td>0 </td><td>every3days</td><td>True</td></tr>\n",
       "\t<tr><td>270</td><td>89</td><td>2019-07-20</td><td>1</td><td>0</td><td>0</td><td>1</td><td>0</td><td>NA</td><td>took follow up questionnaire 1 month after end of its experiment</td><td>⋯</td><td>20</td><td>2019-08-10 21:27:21</td><td>100</td><td>100</td><td>0 </td><td>0 </td><td>8 </td><td>0 </td><td>every3days</td><td>True</td></tr>\n",
       "\t<tr><td>270</td><td>89</td><td>2019-07-20</td><td>1</td><td>0</td><td>0</td><td>1</td><td>0</td><td>NA</td><td>took follow up questionnaire 1 month after end of its experiment</td><td>⋯</td><td>22</td><td>2019-08-13 11:40:32</td><td>100</td><td>100</td><td>0 </td><td>0 </td><td>0 </td><td>0 </td><td>every3days</td><td>True</td></tr>\n",
       "\t<tr><td>270</td><td>89</td><td>2019-07-20</td><td>1</td><td>0</td><td>0</td><td>1</td><td>0</td><td>NA</td><td>took follow up questionnaire 1 month after end of its experiment</td><td>⋯</td><td>23</td><td>2019-08-13 21:05:33</td><td>100</td><td>100</td><td>1 </td><td>10</td><td>19</td><td>0 </td><td>every3days</td><td>True</td></tr>\n",
       "\t<tr><td>270</td><td>89</td><td>2019-07-20</td><td>1</td><td>0</td><td>0</td><td>1</td><td>0</td><td>NA</td><td>took follow up questionnaire 1 month after end of its experiment</td><td>⋯</td><td>24</td><td>2019-08-16 12:42:53</td><td>100</td><td>100</td><td>0 </td><td>9 </td><td>9 </td><td>0 </td><td>every3days</td><td>True</td></tr>\n",
       "</tbody>\n",
       "</table>\n"
      ],
      "text/latex": [
       "A spec\\_tbl\\_df: 8 × 28\n",
       "\\begin{tabular}{lllllllllllllllllllll}\n",
       " ID & day\\_msg & start & Good & condition & EEG & Finished & removed & Interview & Notes & ⋯ & n\\_day & date & r\\_eff1 & r\\_eff2 & s\\_eff1 & s\\_eff2 & s\\_eff3 & hope & type & completed\\\\\n",
       " <chr> & <dbl> & <date> & <dbl> & <dbl> & <dbl> & <dbl> & <dbl> & <dbl> & <chr> & ⋯ & <fct> & <dttm> & <chr> & <chr> & <chr> & <chr> & <chr> & <chr> & <chr> & <chr>\\\\\n",
       "\\hline\n",
       "\t 270 & 89 & 2019-07-20 & 1 & 0 & 0 & 1 & 0 & NA & took follow up questionnaire 1 month after end of its experiment & ⋯ & 1  & 2019-07-23 10:12:08 & 100 & 100 & 34 & 0  & 21 & 31 & every3days & True\\\\\n",
       "\t 270 & 89 & 2019-07-20 & 1 & 0 & 0 & 1 & 0 & NA & took follow up questionnaire 1 month after end of its experiment & ⋯ & 3  & 2019-07-26 21:08:28 & 100 & 55  & 0  & 0  & 20 & 24 & every3days & True\\\\\n",
       "\t 270 & 89 & 2019-07-20 & 1 & 0 & 0 & 1 & 0 & NA & took follow up questionnaire 1 month after end of its experiment & ⋯ & 7  & 2019-07-29 21:23:51 & 100 & 100 & 0  & 0  & 24 & 1  & every3days & True\\\\\n",
       "\t 270 & 89 & 2019-07-20 & 1 & 0 & 0 & 1 & 0 & NA & took follow up questionnaire 1 month after end of its experiment & ⋯ & 16 & 2019-08-07 22:43:46 & 100 & 100 & 0  & 0  & 0  & 0  & every3days & True\\\\\n",
       "\t 270 & 89 & 2019-07-20 & 1 & 0 & 0 & 1 & 0 & NA & took follow up questionnaire 1 month after end of its experiment & ⋯ & 20 & 2019-08-10 21:27:21 & 100 & 100 & 0  & 0  & 8  & 0  & every3days & True\\\\\n",
       "\t 270 & 89 & 2019-07-20 & 1 & 0 & 0 & 1 & 0 & NA & took follow up questionnaire 1 month after end of its experiment & ⋯ & 22 & 2019-08-13 11:40:32 & 100 & 100 & 0  & 0  & 0  & 0  & every3days & True\\\\\n",
       "\t 270 & 89 & 2019-07-20 & 1 & 0 & 0 & 1 & 0 & NA & took follow up questionnaire 1 month after end of its experiment & ⋯ & 23 & 2019-08-13 21:05:33 & 100 & 100 & 1  & 10 & 19 & 0  & every3days & True\\\\\n",
       "\t 270 & 89 & 2019-07-20 & 1 & 0 & 0 & 1 & 0 & NA & took follow up questionnaire 1 month after end of its experiment & ⋯ & 24 & 2019-08-16 12:42:53 & 100 & 100 & 0  & 9  & 9  & 0  & every3days & True\\\\\n",
       "\\end{tabular}\n"
      ],
      "text/markdown": [
       "\n",
       "A spec_tbl_df: 8 × 28\n",
       "\n",
       "| ID &lt;chr&gt; | day_msg &lt;dbl&gt; | start &lt;date&gt; | Good &lt;dbl&gt; | condition &lt;dbl&gt; | EEG &lt;dbl&gt; | Finished &lt;dbl&gt; | removed &lt;dbl&gt; | Interview &lt;dbl&gt; | Notes &lt;chr&gt; | ⋯ ⋯ | n_day &lt;fct&gt; | date &lt;dttm&gt; | r_eff1 &lt;chr&gt; | r_eff2 &lt;chr&gt; | s_eff1 &lt;chr&gt; | s_eff2 &lt;chr&gt; | s_eff3 &lt;chr&gt; | hope &lt;chr&gt; | type &lt;chr&gt; | completed &lt;chr&gt; |\n",
       "|---|---|---|---|---|---|---|---|---|---|---|---|---|---|---|---|---|---|---|---|---|\n",
       "| 270 | 89 | 2019-07-20 | 1 | 0 | 0 | 1 | 0 | NA | took follow up questionnaire 1 month after end of its experiment | ⋯ | 1  | 2019-07-23 10:12:08 | 100 | 100 | 34 | 0  | 21 | 31 | every3days | True |\n",
       "| 270 | 89 | 2019-07-20 | 1 | 0 | 0 | 1 | 0 | NA | took follow up questionnaire 1 month after end of its experiment | ⋯ | 3  | 2019-07-26 21:08:28 | 100 | 55  | 0  | 0  | 20 | 24 | every3days | True |\n",
       "| 270 | 89 | 2019-07-20 | 1 | 0 | 0 | 1 | 0 | NA | took follow up questionnaire 1 month after end of its experiment | ⋯ | 7  | 2019-07-29 21:23:51 | 100 | 100 | 0  | 0  | 24 | 1  | every3days | True |\n",
       "| 270 | 89 | 2019-07-20 | 1 | 0 | 0 | 1 | 0 | NA | took follow up questionnaire 1 month after end of its experiment | ⋯ | 16 | 2019-08-07 22:43:46 | 100 | 100 | 0  | 0  | 0  | 0  | every3days | True |\n",
       "| 270 | 89 | 2019-07-20 | 1 | 0 | 0 | 1 | 0 | NA | took follow up questionnaire 1 month after end of its experiment | ⋯ | 20 | 2019-08-10 21:27:21 | 100 | 100 | 0  | 0  | 8  | 0  | every3days | True |\n",
       "| 270 | 89 | 2019-07-20 | 1 | 0 | 0 | 1 | 0 | NA | took follow up questionnaire 1 month after end of its experiment | ⋯ | 22 | 2019-08-13 11:40:32 | 100 | 100 | 0  | 0  | 0  | 0  | every3days | True |\n",
       "| 270 | 89 | 2019-07-20 | 1 | 0 | 0 | 1 | 0 | NA | took follow up questionnaire 1 month after end of its experiment | ⋯ | 23 | 2019-08-13 21:05:33 | 100 | 100 | 1  | 10 | 19 | 0  | every3days | True |\n",
       "| 270 | 89 | 2019-07-20 | 1 | 0 | 0 | 1 | 0 | NA | took follow up questionnaire 1 month after end of its experiment | ⋯ | 24 | 2019-08-16 12:42:53 | 100 | 100 | 0  | 9  | 9  | 0  | every3days | True |\n",
       "\n"
      ],
      "text/plain": [
       "  ID  day_msg start      Good condition EEG Finished removed Interview\n",
       "1 270 89      2019-07-20 1    0         0   1        0       NA       \n",
       "2 270 89      2019-07-20 1    0         0   1        0       NA       \n",
       "3 270 89      2019-07-20 1    0         0   1        0       NA       \n",
       "4 270 89      2019-07-20 1    0         0   1        0       NA       \n",
       "5 270 89      2019-07-20 1    0         0   1        0       NA       \n",
       "6 270 89      2019-07-20 1    0         0   1        0       NA       \n",
       "7 270 89      2019-07-20 1    0         0   1        0       NA       \n",
       "8 270 89      2019-07-20 1    0         0   1        0       NA       \n",
       "  Notes                                                            ⋯ n_day\n",
       "1 took follow up questionnaire 1 month after end of its experiment ⋯ 1    \n",
       "2 took follow up questionnaire 1 month after end of its experiment ⋯ 3    \n",
       "3 took follow up questionnaire 1 month after end of its experiment ⋯ 7    \n",
       "4 took follow up questionnaire 1 month after end of its experiment ⋯ 16   \n",
       "5 took follow up questionnaire 1 month after end of its experiment ⋯ 20   \n",
       "6 took follow up questionnaire 1 month after end of its experiment ⋯ 22   \n",
       "7 took follow up questionnaire 1 month after end of its experiment ⋯ 23   \n",
       "8 took follow up questionnaire 1 month after end of its experiment ⋯ 24   \n",
       "  date                r_eff1 r_eff2 s_eff1 s_eff2 s_eff3 hope type      \n",
       "1 2019-07-23 10:12:08 100    100    34     0      21     31   every3days\n",
       "2 2019-07-26 21:08:28 100    55     0      0      20     24   every3days\n",
       "3 2019-07-29 21:23:51 100    100    0      0      24     1    every3days\n",
       "4 2019-08-07 22:43:46 100    100    0      0      0      0    every3days\n",
       "5 2019-08-10 21:27:21 100    100    0      0      8      0    every3days\n",
       "6 2019-08-13 11:40:32 100    100    0      0      0      0    every3days\n",
       "7 2019-08-13 21:05:33 100    100    1      10     19     0    every3days\n",
       "8 2019-08-16 12:42:53 100    100    0      9      9      0    every3days\n",
       "  completed\n",
       "1 True     \n",
       "2 True     \n",
       "3 True     \n",
       "4 True     \n",
       "5 True     \n",
       "6 True     \n",
       "7 True     \n",
       "8 True     "
      ]
     },
     "metadata": {},
     "output_type": "display_data"
    }
   ],
   "source": [
    "filter(df_1, df_1$ID==270)"
   ]
  },
  {
   "cell_type": "code",
   "execution_count": null,
   "metadata": {},
   "outputs": [],
   "source": [
    "  \n",
    "# for those IDs, only select data from the 1, 6, 9, 12, 15, 18, 21, 24, 27 days, and rename 1:9   \n",
    "days<-c(1, 6, 9, 12, 15, 18, 21, 24, 27)\n",
    "\n",
    "# create a new dataframe combining all pps \n",
    "df9<- every3days_scores %>% \n",
    "  filter(ID %in%get_ID_bug$ID & n_day %in% days) \n",
    "  "
   ]
  },
  {
   "cell_type": "code",
   "execution_count": null,
   "metadata": {},
   "outputs": [],
   "source": [
    "df9$n_day<-recode_factor(df9$n_day, '1' = \"1\", '6'=\"2\", '9'=\"3\", '12' =\"4\", '15'=\"5\", '18'=\"6\", '21'=\"7\", '24'=\"8\", '27'=\"9\")\n",
    "\n",
    "tmp <- every3days_scores %>% \n",
    "filter(!ID %in% (get_ID_bug$ID) )\n",
    "\n",
    "df9<- rbind(df9, tmp)\n",
    "\n",
    "# create n_day column for baseline and followup\n",
    "followup_online <- followup_online %>% mutate(n_day = '10')\n",
    "\n",
    "baseline_online <- baseline_online %>% mutate(n_day = '0')\n",
    "\n",
    "baseline_followup_eeg<-baseline_followup_eeg %>% \n",
    "    mutate(n_day=ifelse(type=='baseline', '0', '10'))\n",
    "    \n",
    "\n",
    "#baseline_online<-filter(baseline_online, completed=='True')\n",
    "\n",
    "\n",
    "\n",
    "# remove extra every 3 days rows\n",
    "baseline_followup_eeg<-baseline_followup_eeg %>% filter(type=='baseline'|type=='followup')\n",
    "\n",
    "\n",
    "eff_scores<-bind_rows(baseline_followup_eeg, df9)\n",
    "\n",
    "\n",
    "tmp<-bind_rows(eff_scores, followup_online) \n",
    "\n",
    "tmp2<- bind_rows(tmp, baseline_online)\n",
    "\n",
    "\n",
    "remove(eff_scores)\n",
    "eff_scores<-tmp2\n",
    "\n",
    "\n",
    "eff_scores<-tail(eff_scores, -2) # remove extra header\n",
    "eff_scores$ID<-as.factor(eff_scores$ID)\n",
    "eff_scores$type<-as.factor(eff_scores$type)\n",
    "\n",
    "eff_scores %>% \n",
    "        group_by(ID)  %>%   \n",
    "        mutate(check= row_number()) %>% \n",
    "        ungroup()\n",
    "        "
   ]
  },
  {
   "cell_type": "code",
   "execution_count": null,
   "metadata": {},
   "outputs": [],
   "source": []
  },
  {
   "cell_type": "code",
   "execution_count": null,
   "metadata": {},
   "outputs": [],
   "source": []
  },
  {
   "cell_type": "markdown",
   "metadata": {},
   "source": [
    "Create one big dataframe assembling all the others"
   ]
  },
  {
   "cell_type": "code",
   "execution_count": null,
   "metadata": {},
   "outputs": [],
   "source": [
    "# associate with cond file \n",
    "eff_scores$ID<-as.factor(eff_scores$ID)\n",
    "\n",
    "\n",
    "tmp<-full_join(cond, eff_scores)\n",
    "\n",
    "\n",
    "remove(eff_scores)\n",
    "eff_scores<-tmp\n",
    "\n",
    "\n",
    "\n",
    "#recode condition to human names\n",
    "\n",
    "eff_scores$condition<-recode(eff_scores$condition, '0' = \"control\", '1' = \"intervention\")"
   ]
  },
  {
   "cell_type": "markdown",
   "metadata": {},
   "source": [
    "Filter participants based on survey completion criteria"
   ]
  },
  {
   "cell_type": "code",
   "execution_count": null,
   "metadata": {},
   "outputs": [],
   "source": [
    "#Replace missing values and keep only participants who were not removed\n",
    "eff_scores$removed<-eff_scores$removed %>% replace(is.na(.), 0)"
   ]
  },
  {
   "cell_type": "code",
   "execution_count": null,
   "metadata": {},
   "outputs": [],
   "source": [
    "#filter to keep participants not removed\n",
    "eff_scores<-eff_scores%>%filter(removed == 0)"
   ]
  },
  {
   "cell_type": "code",
   "execution_count": null,
   "metadata": {},
   "outputs": [],
   "source": [
    "# filter to keep participants who did at least 80% of surveys\n",
    "#eff_scores<-eff_scores%>%filter(Good == 1)"
   ]
  },
  {
   "cell_type": "markdown",
   "metadata": {},
   "source": [
    "Do a check of for missing values in the data\n"
   ]
  },
  {
   "cell_type": "code",
   "execution_count": null,
   "metadata": {},
   "outputs": [],
   "source": [
    "missing.values <- eff_scores %>%\n",
    "    gather(key = \"key\", value = \"val\") %>%\n",
    "    mutate(is.missing = is.na(val)) %>%\n",
    "    group_by(key, is.missing) %>%\n",
    "    summarise(num.missing = n()) %>%\n",
    "    filter(is.missing==T) %>%\n",
    "    select(-is.missing) %>%\n",
    "    arrange(desc(num.missing)) \n",
    "\n",
    "missing.values"
   ]
  },
  {
   "cell_type": "markdown",
   "metadata": {},
   "source": [
    "Look at why we have condition with missing values\n"
   ]
  },
  {
   "cell_type": "code",
   "execution_count": null,
   "metadata": {},
   "outputs": [],
   "source": [
    "tmp<-which(is.na(eff_scores$condition))"
   ]
  },
  {
   "cell_type": "code",
   "execution_count": null,
   "metadata": {},
   "outputs": [],
   "source": [
    "eff_scores[tmp, ]"
   ]
  },
  {
   "cell_type": "code",
   "execution_count": null,
   "metadata": {},
   "outputs": [],
   "source": [
    "# remove these lines \n",
    "eff_scores<-drop_na(eff_scores, condition)\n"
   ]
  },
  {
   "cell_type": "code",
   "execution_count": null,
   "metadata": {
    "scrolled": true
   },
   "outputs": [],
   "source": [
    "which(is.na(eff_scores$s_eff1))"
   ]
  },
  {
   "cell_type": "code",
   "execution_count": null,
   "metadata": {},
   "outputs": [],
   "source": [
    "eff_scores<-drop_na(eff_scores, r_eff1)\n"
   ]
  },
  {
   "cell_type": "code",
   "execution_count": null,
   "metadata": {},
   "outputs": [],
   "source": [
    "df<-eff_scores"
   ]
  },
  {
   "cell_type": "markdown",
   "metadata": {},
   "source": [
    "\n",
    " Compute response and self efficacy scores:\n",
    "--------------------------------------------\n",
    "\n",
    "get the mean of all individual scores in each condition for each day:\n",
    "\n",
    "- define days 1-2-3 etc.\n",
    "- check for those pp who did baseline and followup (IDs 562, 477, 703, 786)\n",
    "- find participants with a maximum of 9 n_day\n",
    "- find participants with more than 9 n_day entries\n",
    "- take only only every 3 days: 1, 6, 9, 12, 15, 18, 21\n",
    "\n",
    "create new dataset:  \n",
    "- count how many of each day per condition\n"
   ]
  },
  {
   "cell_type": "code",
   "execution_count": null,
   "metadata": {},
   "outputs": [],
   "source": [
    "# transform the columns for response and self efficacy that were charactuers in numeric tyoe           \n",
    "df <-df %>% mutate_each(funs(as.numeric), -ID,  -date, -condition, -type) \n",
    "\n",
    "\n"
   ]
  },
  {
   "cell_type": "code",
   "execution_count": null,
   "metadata": {},
   "outputs": [],
   "source": [
    "df<-select(df, -'removed', -'Finished', -'Interview', -'Notes', -\"completed\" )"
   ]
  },
  {
   "cell_type": "code",
   "execution_count": null,
   "metadata": {},
   "outputs": [],
   "source": [
    "df<-select(df, -'Starting Date', -'day_msg',  -'No Compliance', -'Email reminder poor perf', -'eve_msg', -'ev3days',  -'most_recent', -'NAME', -'EMAIL', -'PHONE')"
   ]
  },
  {
   "cell_type": "code",
   "execution_count": null,
   "metadata": {},
   "outputs": [],
   "source": [
    "colnames(df)"
   ]
  },
  {
   "cell_type": "code",
   "execution_count": null,
   "metadata": {},
   "outputs": [],
   "source": [
    "# pass n_days as factor and recode day 0 and 10\n",
    "df$n_day<-as.factor(df$n_day)\n",
    "\n",
    "df$n_day<-recode(df$n_day, '0'= 'baseline', '10'='follow-up' )"
   ]
  },
  {
   "cell_type": "markdown",
   "metadata": {},
   "source": [
    "count how many of each day per condition"
   ]
  },
  {
   "cell_type": "code",
   "execution_count": null,
   "metadata": {
    "scrolled": true
   },
   "outputs": [],
   "source": [
    "n_rep <- df %>% group_by(condition, n_day, EEG) %>%\n",
    " summarize(count=n()) %>% \n",
    "    ungroup()\n",
    "n_rep <-n_rep %>% drop_na()\n",
    "\n",
    "n_rep$EEG<-as.factor(n_rep$EEG)\n",
    "\n",
    "\n",
    "# plot\n",
    "ggplot(data= n_rep, aes(x = n_day, y=count)) +\n",
    "  geom_point(mapping = aes(colour = condition, shape =EEG ) ) +\n",
    "  ggtitle(\"Number of responses per measures  - efficacy questionnaire\")+\n",
    "  xlab('Measure')+ ylab('number of responses')+ \n",
    " ggsave('nresp_per_day.jpg', plot =last_plot(), dpi =300, path= save_figure)\n",
    " "
   ]
  },
  {
   "cell_type": "markdown",
   "metadata": {},
   "source": [
    "Work on scores for self, response and hope"
   ]
  },
  {
   "cell_type": "code",
   "execution_count": null,
   "metadata": {},
   "outputs": [],
   "source": [
    "colnames(df)"
   ]
  },
  {
   "cell_type": "code",
   "execution_count": null,
   "metadata": {},
   "outputs": [],
   "source": [
    "# take the score of each (resp and self) item for each day for each pp\n",
    "\n",
    "df<- df %>% \n",
    "         mutate(score_re= rowMeans(select(., c('r_eff1','r_eff2')), na.rm=TRUE) , \n",
    "         score_se= rowMeans(select(., c('s_eff1', 's_eff2', 's_eff3')), na.rm=TRUE), \n",
    "         score_hope= rowMeans(select(., c('hope')), na.rm=TRUE)        \n",
    "         ) \n",
    "    "
   ]
  },
  {
   "cell_type": "code",
   "execution_count": null,
   "metadata": {},
   "outputs": [],
   "source": [
    "df"
   ]
  },
  {
   "cell_type": "code",
   "execution_count": null,
   "metadata": {},
   "outputs": [],
   "source": [
    "df2<-select(df, -\"r_eff1\", -\"r_eff2\", -\"s_eff1\", -\"s_eff2\", -\"s_eff3\", -\"hope\")"
   ]
  },
  {
   "cell_type": "code",
   "execution_count": null,
   "metadata": {},
   "outputs": [],
   "source": [
    "#df2<- rename(df2, total_hope=hope)"
   ]
  },
  {
   "cell_type": "code",
   "execution_count": null,
   "metadata": {},
   "outputs": [],
   "source": [
    "#df2<-select(df2, -'Good', -'EEG', -'date')"
   ]
  },
  {
   "cell_type": "code",
   "execution_count": null,
   "metadata": {},
   "outputs": [],
   "source": [
    "head(df2)"
   ]
  },
  {
   "cell_type": "code",
   "execution_count": null,
   "metadata": {},
   "outputs": [],
   "source": [
    "# turn df into long format \n",
    "df2_long<-df2 %>% \n",
    "  pivot_longer(\n",
    "    -c('ID', 'condition','type', 'n_day', 'Good', 'EEG', 'date'),  \n",
    "    names_to = c(\".value\", \"value\"), \n",
    "    names_sep = \"_\", \n",
    "    values_drop_na = TRUE\n",
    "  )"
   ]
  },
  {
   "cell_type": "code",
   "execution_count": null,
   "metadata": {},
   "outputs": [],
   "source": [
    "df2_long$EEG<-as.factor(df2_long$EEG)"
   ]
  },
  {
   "cell_type": "code",
   "execution_count": null,
   "metadata": {},
   "outputs": [],
   "source": [
    "# compute summary statistics per condition per day for each score\n",
    "summary_df2 <- df2_long %>%\n",
    "  group_by(condition, n_day, value) %>%\n",
    "  summarise(mean.score = mean(score),\n",
    "            sd.score= sd(score), count = n(),\n",
    "            se.mean = sd.score/sqrt(count), \n",
    "            ci.mean= qt(1-(1-0.95/2),count-1)*se.mean)"
   ]
  },
  {
   "cell_type": "code",
   "execution_count": null,
   "metadata": {},
   "outputs": [],
   "source": [
    "summary_df2  %>% filter(n_day == 'baseline')"
   ]
  },
  {
   "cell_type": "code",
   "execution_count": null,
   "metadata": {},
   "outputs": [],
   "source": [
    "head(summary_df2)"
   ]
  },
  {
   "cell_type": "markdown",
   "metadata": {},
   "source": [
    "\n",
    "- 3. Compute mean response and self efficacy score for each day for each pp\n",
    "\n",
    "- 4. plot\n",
    "!!! different number of data points per paricipant !!!"
   ]
  },
  {
   "cell_type": "markdown",
   "metadata": {},
   "source": [
    "# test plot\n",
    "\n",
    "https://stackoverflow.com/questions/55262229/how-to-use-geom-errorbar-with-facet-wrap-in-ggplot2"
   ]
  },
  {
   "cell_type": "code",
   "execution_count": null,
   "metadata": {},
   "outputs": [],
   "source": [
    "#write_csv(m_scores, \"summary_stats.csv\")"
   ]
  },
  {
   "cell_type": "markdown",
   "metadata": {},
   "source": [
    "Plot response and self efficacy scores"
   ]
  },
  {
   "cell_type": "code",
   "execution_count": null,
   "metadata": {},
   "outputs": [],
   "source": [
    "test_eff<-summary_df2 %>% \n",
    "        filter(value==\"re\" | value==\"se\") "
   ]
  },
  {
   "cell_type": "code",
   "execution_count": null,
   "metadata": {},
   "outputs": [],
   "source": [
    "gs1 <- ggplot(test_eff, aes(x=n_day, y=mean.score)) + \n",
    "       geom_point(mapping = aes(colour=condition, size=count), alpha=1/3)+ \n",
    "       facet_wrap(~value)+\n",
    "       geom_errorbar(aes(ymin = mean.score - ci.mean, ymax = mean.score + ci.mean), \n",
    "                width=0.2)+\n",
    "    \n",
    "        #geom_smooth(method=lm, se=FALSE, fullrange=TRUE)+\n",
    "  xlab(\"Measures\")+ylab(\"Mean score\")+\n",
    "    ggtitle(\"Mean scores for response and self efficacy per day per condition,\\n reported every 3 days and at baseline and followup\")\n",
    "gs1 + theme(panel.spacing.x=unit(2, \"cm\"),panel.spacing.y=unit(1, \"lines\")) +\n",
    " theme(axis.text.x = element_text(angle = 90, hjust = 1))\n",
    "ggsave('efficacy_scores.jpg', plot =last_plot(), dpi =300, path= save_figure)"
   ]
  },
  {
   "cell_type": "markdown",
   "metadata": {},
   "source": [
    "Seems like scores were quite high to start with for response efficacy, maybe a plateau effect while self efficacy scores were lower at baseline"
   ]
  },
  {
   "cell_type": "markdown",
   "metadata": {},
   "source": [
    "Plot hope score"
   ]
  },
  {
   "cell_type": "code",
   "execution_count": null,
   "metadata": {},
   "outputs": [],
   "source": [
    "test_hope<-summary_df2 %>% \n",
    "        filter(value==\"hope\")  "
   ]
  },
  {
   "cell_type": "code",
   "execution_count": null,
   "metadata": {},
   "outputs": [],
   "source": [
    "test_hope"
   ]
  },
  {
   "cell_type": "code",
   "execution_count": null,
   "metadata": {
    "scrolled": true
   },
   "outputs": [],
   "source": [
    "\n",
    "ggplot(data=test_hope, mapping=aes(x= n_day, y=mean.score)) +\n",
    "      geom_point(mapping = aes(colour=condition, size=count), alpha=1/3)+ \n",
    "       geom_errorbar(aes(ymin = mean.score - ci.mean, ymax = mean.score + ci.mean), \n",
    "                width=0.2)+\n",
    "    \n",
    "        #geom_smooth(method=lm, se=FALSE, fullrange=TRUE)+\n",
    "  xlab(\"Measures\")+ylab(\"Mean score\")+\n",
    "   ggtitle(\"Mean scores for how hopeful about quitting smoking\")\n",
    "\n",
    "  ggsave('hope_scores_v2.jpg', plot =last_plot(), dpi =300, path= save_figure)\n"
   ]
  },
  {
   "cell_type": "markdown",
   "metadata": {},
   "source": [
    "Make raincloud plots"
   ]
  },
  {
   "cell_type": "code",
   "execution_count": null,
   "metadata": {},
   "outputs": [],
   "source": [
    "library(cowplot)\n",
    "library(readr)\n",
    "\n",
    "source(\"~/Documents/RainCloudPlots/tutorial_R/R_rainclouds.R\")\n",
    "source(\"~/Documents/RainCloudPlots/tutorial_R/summarySE.R\")\n",
    "\n",
    "theme_set(theme_cowplot())"
   ]
  },
  {
   "cell_type": "code",
   "execution_count": null,
   "metadata": {},
   "outputs": [],
   "source": [
    "packages <- c(\"ggplot2\", \"dplyr\", \"lavaan\", \"plyr\", \"cowplot\", \"rmarkdown\",\n",
    "\"readr\", \"caTools\", \"bitops\")\n",
    "if (length(setdiff(packages, rownames(installed.packages()))) > 0) {\n",
    "install.packages(setdiff(packages, rownames(installed.packages())))\n",
    "}"
   ]
  },
  {
   "cell_type": "code",
   "execution_count": null,
   "metadata": {},
   "outputs": [],
   "source": [
    "df3<-df2"
   ]
  },
  {
   "cell_type": "code",
   "execution_count": null,
   "metadata": {},
   "outputs": [],
   "source": [
    "which(is.na(df3$n_day))"
   ]
  },
  {
   "cell_type": "code",
   "execution_count": null,
   "metadata": {},
   "outputs": [],
   "source": [
    "colnames(df3)"
   ]
  },
  {
   "cell_type": "code",
   "execution_count": null,
   "metadata": {},
   "outputs": [],
   "source": [
    "df3<-drop_na(df3, n_day)"
   ]
  },
  {
   "cell_type": "code",
   "execution_count": null,
   "metadata": {},
   "outputs": [],
   "source": [
    " ggplot(df3, aes(x = n_day, y = score_se, fill = condition)) +\n",
    "  geom_flat_violin(aes(fill = condition),position = position_nudge(x = .1, y = 0), adjust = 1.5, trim = FALSE, alpha = .5, colour = NA)+\n",
    "  geom_point(aes(x = as.numeric(n_day)-.15, y = score_se, colour = condition),position = position_jitter(width = .05), size = .25, shape = 20)+\n",
    "  geom_boxplot(aes(x = n_day, y = score_se,  fill = condition),outlier.shape = NA, alpha = .5, width = .1, colour = \"black\")+\n",
    " # geom_line(data = sumrepdat, aes(x = as.numeric(condition)+.1, y = score_mean, group = time, colour = time), linetype = 3)+\n",
    " # geom_point(data = sumrepdat, aes(x = as.numeric(group)+.1, y = score_mean, group = time, colour = time), shape = 18) +\n",
    " # geom_errorbar(data = sumrepdat, aes(x = as.numeric(group)+.1, y = score_mean, group = time, colour = time, ymin = score_mean-se, ymax = score_mean+se), width = .05)+\n",
    "  scale_colour_brewer(palette = \"Dark2\")+\n",
    "  scale_fill_brewer(palette = \"Dark2\")+\n",
    "  xlab('Measure') + ylab('Score')+\n",
    "  ggtitle(\"Self-efficacy score\") +\n",
    "  coord_flip()\n",
    "\n",
    "ggsave('raincloud_self_eff_scores.jpg', plot =last_plot(), dpi =300, path= save_figure)\n"
   ]
  },
  {
   "cell_type": "code",
   "execution_count": null,
   "metadata": {},
   "outputs": [],
   "source": [
    "ggplot(df3, aes(x = n_day, y = score_re, fill = condition)) +\n",
    "  geom_flat_violin(aes(fill = condition),position = position_nudge(x = .1, y = 0), adjust = 1.5, trim = FALSE, alpha = .5, colour = NA)+\n",
    "  geom_point(aes(x = as.numeric(n_day)-.15, y = score_re, colour = condition),position = position_jitter(width = .05), size = .25, shape = 20)+\n",
    "  geom_boxplot(aes(x = n_day, y = score_re,  fill = condition),outlier.shape = NA, alpha = .5, width = .1, colour = \"black\")+\n",
    " # geom_line(data = sumrepdat, aes(x = as.numeric(condition)+.1, y = score_mean, group = time, colour = time), linetype = 3)+\n",
    " # geom_point(data = sumrepdat, aes(x = as.numeric(group)+.1, y = score_mean, group = time, colour = time), shape = 18) +\n",
    " # geom_errorbar(data = sumrepdat, aes(x = as.numeric(group)+.1, y = score_mean, group = time, colour = time, ymin = score_mean-se, ymax = score_mean+se), width = .05)+\n",
    "  scale_colour_brewer(palette = \"Dark2\")+\n",
    "  #scale_colour_manual(values=cbPalette)+\n",
    "  #scale_fill_manual(values=cbPalette)+\n",
    "  scale_fill_brewer(palette = \"Dark2\")+\n",
    "  xlab('Measure') + ylab('Score')+\n",
    "  ggtitle(\"Response-efficacy score\") +\n",
    "  coord_flip()\n",
    "\n",
    "ggsave('raincloud_resp_eff_scores.jpg', plot =last_plot(), dpi =300, path= save_figure)\n"
   ]
  },
  {
   "cell_type": "code",
   "execution_count": null,
   "metadata": {},
   "outputs": [],
   "source": [
    "ggplot(df3, aes(x = n_day, y = score_hope, fill = condition)) +\n",
    "  geom_flat_violin(aes(fill = condition),position = position_nudge(x = .1, y = 0), adjust = 1.5, trim = FALSE, alpha = .5, colour = NA)+\n",
    "  geom_point(aes(x = as.numeric(n_day)-.15, y = score_hope, colour = condition),position = position_jitter(width = .05), size = .25, shape = 20)+\n",
    "  geom_boxplot(aes(x = n_day, y = score_hope,  fill = condition),outlier.shape = NA, alpha = .5, width = .1, colour = \"black\")+\n",
    " # geom_line(data = sumrepdat, aes(x = as.numeric(condition)+.1, y = score_mean, group = time, colour = time), linetype = 3)+\n",
    " # geom_point(data = sumrepdat, aes(x = as.numeric(group)+.1, y = score_mean, group = time, colour = time), shape = 18) +\n",
    " # geom_errorbar(data = sumrepdat, aes(x = as.numeric(group)+.1, y = score_mean, group = time, colour = time, ymin = score_mean-se, ymax = score_mean+se), width = .05)+\n",
    "  scale_colour_brewer(palette = \"Dark2\")+\n",
    "  scale_fill_brewer(palette = \"Dark2\")+\n",
    "  xlab('Measure') + ylab('Score')+\n",
    "  ggtitle(\"Hope score\") +\n",
    "  coord_flip()\n",
    "\n",
    "ggsave('raincloud_hope_scores.jpg', plot =last_plot(), dpi =300, path= save_figure)\n"
   ]
  },
  {
   "cell_type": "code",
   "execution_count": null,
   "metadata": {},
   "outputs": [],
   "source": [
    "colnames(df3)"
   ]
  },
  {
   "cell_type": "code",
   "execution_count": null,
   "metadata": {},
   "outputs": [],
   "source": []
  }
 ],
 "metadata": {
  "kernelspec": {
   "display_name": "R",
   "language": "R",
   "name": "ir"
  },
  "language_info": {
   "codemirror_mode": "r",
   "file_extension": ".r",
   "mimetype": "text/x-r-source",
   "name": "R",
   "pygments_lexer": "r",
   "version": "3.6.1"
  }
 },
 "nbformat": 4,
 "nbformat_minor": 2
}
