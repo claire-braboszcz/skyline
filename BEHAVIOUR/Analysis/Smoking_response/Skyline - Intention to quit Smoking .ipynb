{
 "cells": [
  {
   "cell_type": "markdown",
   "metadata": {},
   "source": [
    "Intention to quit smoking were recorded in:\n",
    "- online screening and follow up\n",
    "- 1st and last EEG session\n",
    "- every 3 days\n",
    "\n",
    "!!! online screening is taken from participant recruitment sheet"
   ]
  },
  {
   "cell_type": "code",
   "execution_count": 1,
   "metadata": {},
   "outputs": [
    {
     "name": "stderr",
     "output_type": "stream",
     "text": [
      "── \u001b[1mAttaching packages\u001b[22m ─────────────────────────────────────── tidyverse 1.2.1 ──\n",
      "\n",
      "\u001b[32m✔\u001b[39m \u001b[34mggplot2\u001b[39m 3.2.1     \u001b[32m✔\u001b[39m \u001b[34mpurrr  \u001b[39m 0.3.3\n",
      "\u001b[32m✔\u001b[39m \u001b[34mtibble \u001b[39m 2.1.3     \u001b[32m✔\u001b[39m \u001b[34mdplyr  \u001b[39m 0.8.4\n",
      "\u001b[32m✔\u001b[39m \u001b[34mtidyr  \u001b[39m 1.0.0     \u001b[32m✔\u001b[39m \u001b[34mstringr\u001b[39m 1.4.0\n",
      "\u001b[32m✔\u001b[39m \u001b[34mreadr  \u001b[39m 1.3.1     \u001b[32m✔\u001b[39m \u001b[34mforcats\u001b[39m 0.4.0\n",
      "\n",
      "── \u001b[1mConflicts\u001b[22m ────────────────────────────────────────── tidyverse_conflicts() ──\n",
      "\u001b[31m✖\u001b[39m \u001b[34mdplyr\u001b[39m::\u001b[32mfilter()\u001b[39m masks \u001b[34mstats\u001b[39m::filter()\n",
      "\u001b[31m✖\u001b[39m \u001b[34mdplyr\u001b[39m::\u001b[32mlag()\u001b[39m    masks \u001b[34mstats\u001b[39m::lag()\n",
      "\n",
      "here() starts at /home/claire/Documents/scripts-local/skyline/BEHAVIOUR/Analysis/Smoking_response\n",
      "\n",
      "\n",
      "Attaching package: ‘lubridate’\n",
      "\n",
      "\n",
      "The following object is masked from ‘package:here’:\n",
      "\n",
      "    here\n",
      "\n",
      "\n",
      "The following object is masked from ‘package:base’:\n",
      "\n",
      "    date\n",
      "\n",
      "\n"
     ]
    }
   ],
   "source": [
    "library(tidyverse)\n",
    "library(here)\n",
    "library(lubridate)"
   ]
  },
  {
   "cell_type": "code",
   "execution_count": 2,
   "metadata": {},
   "outputs": [
    {
     "name": "stderr",
     "output_type": "stream",
     "text": [
      "Parsed with column specification:\n",
      "cols(\n",
      "  `Subject ID` = \u001b[32mcol_double()\u001b[39m,\n",
      "  day_msg = \u001b[32mcol_double()\u001b[39m,\n",
      "  `Starting Date` = \u001b[31mcol_character()\u001b[39m,\n",
      "  Good = \u001b[32mcol_double()\u001b[39m,\n",
      "  `Condition = Intervention` = \u001b[32mcol_double()\u001b[39m,\n",
      "  EEG = \u001b[32mcol_double()\u001b[39m,\n",
      "  Finished = \u001b[32mcol_double()\u001b[39m,\n",
      "  REMOVED = \u001b[32mcol_double()\u001b[39m,\n",
      "  Interview = \u001b[32mcol_double()\u001b[39m,\n",
      "  Notes = \u001b[31mcol_character()\u001b[39m,\n",
      "  `No Compliance` = \u001b[32mcol_double()\u001b[39m,\n",
      "  `Email reminder poor perf` = \u001b[31mcol_character()\u001b[39m,\n",
      "  eve_msg = \u001b[32mcol_double()\u001b[39m,\n",
      "  ev3days = \u001b[32mcol_double()\u001b[39m,\n",
      "  most_recent = \u001b[34mcol_date(format = \"\")\u001b[39m,\n",
      "  NAME = \u001b[31mcol_character()\u001b[39m,\n",
      "  EMAIL = \u001b[31mcol_character()\u001b[39m,\n",
      "  PHONE = \u001b[31mcol_character()\u001b[39m\n",
      ")\n",
      "\n"
     ]
    }
   ],
   "source": [
    "#get filepaths\n",
    "\n",
    "#eff_evening_filepath = here(\"Every3days\")\n",
    "\n",
    "cond_file = \"~/Documents/scripts-local/skyline/BEHAVIOUR/Analysis/expe_condition_final.csv\"\n",
    "\n",
    "\n",
    "save_figure = here::here(\"Figures\")\n",
    "\n",
    "#read files\n",
    "\n",
    "files_eff_eve <-dir(path=here::here(\"data/Every3days\") , pattern = \"*.csv\") \n",
    "files_eff_bf <-dir(path=here::here(\"data/BaselineFollowup\") , pattern = \"*.csv\") \n",
    "files_eff_online<-dir(path=here::here(\"data/OnlineFollowup\") , pattern = \"*.csv\") \n",
    "files_eff_base_online<-dir(path=here::here(\"data/OnlineBaseline\") , pattern = \"baseline_smoking_quit.csv\") # sheet with screening ID\n",
    "files_study_id<-dir(path=here::here(\"data/OnlineBaseline\") , pattern = \"study_ids_online.csv\") # sheet with screening_id/study_ids corresponsdence\n",
    "files_qualtrics<-dir(path=here::here(\"data/OnlineBaseline\") , pattern = \"qualtrics.csv\") # sheet with screening_id/study_ids corresponsdence\n",
    "\n",
    "\n",
    "every3days_scores <-read.csv(here::here(\"data/Every3days\", files_eff_eve), header = TRUE, sep = \",\", dec = \".\", stringsAsFactors = FALSE)\n",
    "\n",
    "\n",
    "baseline_followup_eeg <-read.csv(here::here(\"data/BaselineFollowup\", files_eff_bf), header = TRUE, sep = \",\", dec = \".\", stringsAsFactors = FALSE)\n",
    "\n",
    "followup_online <-read.csv(here::here(\"data/OnlineFollowup\", files_eff_online), header = TRUE, sep = \",\", dec = \".\", stringsAsFactors = FALSE)\n",
    "\n",
    "baseline_online <-read.csv(here::here(\"data/OnlineBaseline\", files_eff_base_online), header = TRUE, sep = \",\", dec = \".\", stringsAsFactors = FALSE)\n",
    "study_id <-read.csv(here::here(\"data/OnlineBaseline\",files_study_id), header = TRUE, sep = \",\", dec = \".\", stringsAsFactors = FALSE)\n",
    "qualtrics <-read.csv(here::here(\"data/OnlineBaseline\",files_qualtrics), header = TRUE, sep = \",\", dec = \".\", stringsAsFactors = FALSE)\n",
    "\n",
    "\n",
    "# condition file\n",
    "cond <- read_csv(cond_file)"
   ]
  },
  {
   "cell_type": "code",
   "execution_count": null,
   "metadata": {},
   "outputs": [],
   "source": [
    "head(baseline_online)"
   ]
  },
  {
   "cell_type": "code",
   "execution_count": 3,
   "metadata": {},
   "outputs": [],
   "source": [
    "#Associate online pp baseline efficacy score with their study id:\n",
    "\n",
    "\n",
    "#select only screening ID and qualtrics ID on recruitment file\n",
    "pp_ids<-baseline_online %>% select(\"Screening.ID\", \"Response.ID\") \n",
    "qualtrics<-rename(qualtrics, Response.ID = ResponseId)\n",
    "\n",
    "remove(baseline_online)"
   ]
  },
  {
   "cell_type": "code",
   "execution_count": 4,
   "metadata": {},
   "outputs": [
    {
     "name": "stderr",
     "output_type": "stream",
     "text": [
      "Joining, by = \"Response.ID\"\n",
      "\n",
      "Joining, by = \"Screening.ID\"\n",
      "\n"
     ]
    }
   ],
   "source": [
    "# join pp_ids with qualtrics data\n",
    "baseline_online<- left_join(pp_ids, qualtrics)\n",
    "\n",
    "# join with study id\n",
    "baseline_online <- left_join(study_id, baseline_online)\n",
    "\n",
    "# remove screening id\n",
    "baseline_online<-select(baseline_online, -Screening.ID)"
   ]
  },
  {
   "cell_type": "code",
   "execution_count": 5,
   "metadata": {},
   "outputs": [],
   "source": [
    "#rename columns \n",
    "#- questions scoring: 0 = not at all; 100 = very much\n",
    "\n",
    "every3days_scores<-rename(every3days_scores , date=EndDate, completed=Finished,\n",
    "                  ID = Q1, \n",
    "                  QuitInt= Q5\n",
    "                  )\n",
    "\n",
    "every3days_scores$ID<-as.factor(every3days_scores$ID)\n",
    "\n",
    "\n",
    "baseline_followup_eeg <-rename(baseline_followup_eeg, date=EndDate, completed=Finished,\n",
    "                  ID = Q1, \n",
    "                  QuitInt= Q3\n",
    "                  )\n",
    "\n",
    "baseline_followup_eeg$ID<-as.factor(baseline_followup_eeg$ID)\n",
    "\n",
    "\n",
    "followup_online<-rename(followup_online, date=EndDate, completed=Finished, \n",
    "                      ID= Q1, \n",
    "                      QuitInt=Q3 \n",
    "                       )\n",
    "followup_online$ID<-as.factor(followup_online$ID)\n",
    "\n",
    "baseline_online<-rename(baseline_online, date=EndDate, completed=Finished, \n",
    "                       ID= Study.ID, \n",
    "                      QuitInt=Q75\n",
    "                           )\n",
    "\n",
    "            \n",
    "baseline_online$ID<-as.factor(baseline_online$ID)"
   ]
  }
 ],
 "metadata": {
  "kernelspec": {
   "display_name": "R",
   "language": "R",
   "name": "ir"
  },
  "language_info": {
   "codemirror_mode": "r",
   "file_extension": ".r",
   "mimetype": "text/x-r-source",
   "name": "R",
   "pygments_lexer": "r",
   "version": "3.6.1"
  }
 },
 "nbformat": 4,
 "nbformat_minor": 2
}
