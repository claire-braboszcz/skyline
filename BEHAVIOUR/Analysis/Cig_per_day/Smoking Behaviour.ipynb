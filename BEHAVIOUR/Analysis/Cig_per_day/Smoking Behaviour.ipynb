{
 "cells": [
  {
   "cell_type": "markdown",
   "metadata": {},
   "source": [
    "Smoking behaviour\n",
    "-----------------------------\n",
    "- questionnaire on every evening \n",
    "- number of cig smoked during the day\n",
    "- yes/no stub out cig before finishing it in order to smoke less\n",
    "- yes/no stop yourself having a cig to smoke less\n",
    "- if zero cig, ask why\n",
    "\n",
    "Following study hypotheses we want here to look at micro-indicators of behaviour change, including: \n",
    "- being more likely to report making a quit attempt over the 4-week period;\n",
    "- more frequently reporting forgoing cigarettes over the 4-week period;\n",
    "- a greater intention to quit smoking at the end of the 4-week period;\n",
    "- a reduction in the number of cigarettes smoked over the 4-week period. \n",
    "\n",
    "Participants who report not smoking any cigarettes on at least one of the study days and report this being because they were trying to quit smoking will be considered having made a quit attempt during the study period. \n",
    "\n",
    "CPD will be assessed using the daily smoked cigarette reports completed in the evening report. We anticipate that any decrease in reporting cigarettes smoked over the study period will be the same between the two conditions. We will exclude data collected on the baseline day (Day 0) and the final day (Day 28: Table 2) as participants will start and end the study at different times during those days.\n",
    "\n",
    "    • model for quit attempts: quit_attempt ~ time + condition + (1 + time|subject)\n",
    "    • model for forgoing cigarettes: FC ~ time + condition + (1 + time|subject)\n",
    "    • model for intention to quit: quit_intention ~ time + condition + (1 + time|subject)\n",
    "    • model for CPD: CPD ~ time + condition + (1 + time|subject)"
   ]
  },
  {
   "cell_type": "markdown",
   "metadata": {},
   "source": [
    "# Preprocessing data\n"
   ]
  },
  {
   "cell_type": "code",
   "execution_count": 1,
   "metadata": {},
   "outputs": [
    {
     "name": "stderr",
     "output_type": "stream",
     "text": [
      "── \u001b[1mAttaching packages\u001b[22m ─────────────────────────────────────── tidyverse 1.3.0 ──\n",
      "\n",
      "\u001b[32m✔\u001b[39m \u001b[34mggplot2\u001b[39m 3.3.2     \u001b[32m✔\u001b[39m \u001b[34mpurrr  \u001b[39m 0.3.4\n",
      "\u001b[32m✔\u001b[39m \u001b[34mtibble \u001b[39m 3.0.4     \u001b[32m✔\u001b[39m \u001b[34mdplyr  \u001b[39m 1.0.2\n",
      "\u001b[32m✔\u001b[39m \u001b[34mtidyr  \u001b[39m 1.1.2     \u001b[32m✔\u001b[39m \u001b[34mstringr\u001b[39m 1.4.0\n",
      "\u001b[32m✔\u001b[39m \u001b[34mreadr  \u001b[39m 1.4.0     \u001b[32m✔\u001b[39m \u001b[34mforcats\u001b[39m 0.5.0\n",
      "\n",
      "── \u001b[1mConflicts\u001b[22m ────────────────────────────────────────── tidyverse_conflicts() ──\n",
      "\u001b[31m✖\u001b[39m \u001b[34mdplyr\u001b[39m::\u001b[32mfilter()\u001b[39m masks \u001b[34mstats\u001b[39m::filter()\n",
      "\u001b[31m✖\u001b[39m \u001b[34mdplyr\u001b[39m::\u001b[32mlag()\u001b[39m    masks \u001b[34mstats\u001b[39m::lag()\n",
      "\n",
      "here() starts at /home/claire/Documents/scripts-local/skyline/BEHAVIOUR/Analysis/Cig_per_day\n",
      "\n",
      "\n",
      "Attaching package: ‘lubridate’\n",
      "\n",
      "\n",
      "The following objects are masked from ‘package:base’:\n",
      "\n",
      "    date, intersect, setdiff, union\n",
      "\n",
      "\n",
      "Loading required package: Matrix\n",
      "\n",
      "\n",
      "Attaching package: ‘Matrix’\n",
      "\n",
      "\n",
      "The following objects are masked from ‘package:tidyr’:\n",
      "\n",
      "    expand, pack, unpack\n",
      "\n",
      "\n",
      "\n",
      "Attaching package: ‘mice’\n",
      "\n",
      "\n",
      "The following object is masked from ‘package:stats’:\n",
      "\n",
      "    filter\n",
      "\n",
      "\n",
      "The following objects are masked from ‘package:base’:\n",
      "\n",
      "    cbind, rbind\n",
      "\n",
      "\n",
      "\n",
      "\u001b[36m──\u001b[39m \u001b[1m\u001b[1mColumn specification\u001b[1m\u001b[22m \u001b[36m────────────────────────────────────────────────────────\u001b[39m\n",
      "cols(\n",
      "  `Subject ID` = \u001b[32mcol_double()\u001b[39m,\n",
      "  day_msg = \u001b[32mcol_double()\u001b[39m,\n",
      "  `Starting Date` = \u001b[31mcol_character()\u001b[39m,\n",
      "  Good = \u001b[32mcol_double()\u001b[39m,\n",
      "  `Condition = Intervention` = \u001b[32mcol_double()\u001b[39m,\n",
      "  EEG = \u001b[32mcol_double()\u001b[39m,\n",
      "  Finished = \u001b[32mcol_double()\u001b[39m,\n",
      "  REMOVED = \u001b[32mcol_double()\u001b[39m,\n",
      "  Interview = \u001b[32mcol_double()\u001b[39m,\n",
      "  Notes = \u001b[31mcol_character()\u001b[39m,\n",
      "  `No Compliance` = \u001b[32mcol_double()\u001b[39m,\n",
      "  `Email reminder poor perf` = \u001b[31mcol_character()\u001b[39m,\n",
      "  eve_msg = \u001b[32mcol_double()\u001b[39m,\n",
      "  ev3days = \u001b[32mcol_double()\u001b[39m\n",
      ")\n",
      "\n",
      "\n",
      "Joining, by = \"ID\"\n",
      "\n"
     ]
    }
   ],
   "source": [
    "library(tidyverse)\n",
    "library(here)\n",
    "library(lubridate)\n",
    "library(lme4)\n",
    "library(mice)\n",
    "library(sjPlot)\n",
    "\n",
    "\n",
    "cond_file = \"~/Documents/scripts-local/skyline/BEHAVIOUR/Analysis/expe_condition_final.csv\"\n",
    "\n",
    "\n",
    "save_figure = here::here(\"Figures\")\n",
    "\n",
    "files_eff_eve <-dir(path=here::here(\"data\") , pattern = \"*.csv\") \n",
    "\n",
    "evening_scores <-read.csv(here::here(\"data\", files_eff_eve), header = TRUE, sep = \",\", dec = \".\", stringsAsFactors = FALSE)\n",
    "\n",
    "# condition file\n",
    "cond <- read_csv(cond_file)\n",
    "\n",
    "# rename columns\n",
    "# 1 = Yes, 2 =No\n",
    "\n",
    "evening_scores<-rename(evening_scores, date=EndDate, completed=Finished,\n",
    "                      ID=Q1, \n",
    "                      NCig=Q4, \n",
    "                      StubCig=Q5, \n",
    "                      StopCig=Q6, \n",
    "                      WhyNoCig=Q7,\n",
    "                      WhyNoCig_other=Q7_5_TEXT\n",
    "                      )\n",
    "\n",
    "\n",
    "\n",
    "# select only columns of interest\n",
    "\n",
    "evening_scores<-select(evening_scores, ID, date, completed,\n",
    "                       NCig, StubCig, StopCig,\n",
    "                      WhyNoCig, WhyNoCig_other)\n",
    "\n",
    "#remove additional header\n",
    "evening_scores<-tail(evening_scores, -2)\n",
    "\n",
    "\n",
    "# get the experiment condition file with all pp IDs\n",
    "cond <-rename(cond, ID = \"Subject ID\", \n",
    "              condition = \"Condition = Intervention\",\n",
    "              removed= \"REMOVED\")\n",
    "cond$ID<-as.factor(cond$ID)\n",
    "\n",
    "evening_scores$ID<-as.factor(evening_scores$ID)\n",
    "tmp<-full_join(cond, evening_scores)\n",
    "\n",
    "remove(evening_scores)\n",
    "evening_scores<-tmp\n",
    "evening_scores$ID<-as.factor(evening_scores$ID)\n",
    "\n",
    "#recode condition to human names\n",
    "evening_scores$condition<-recode(evening_scores$condition, '0' = \"control\", '1' = \"intervention\")\n",
    "\n",
    "#Replace missing values and keep only participants who were not removed\n",
    "evening_scores$removed<-evening_scores$removed %>% replace(is.na(.), 0)"
   ]
  },
  {
   "cell_type": "code",
   "execution_count": 2,
   "metadata": {},
   "outputs": [],
   "source": [
    "# remove NA in  scores\n",
    "#which(is.na(evening_scores$StubCig))\n",
    "\n",
    "#evening_scores<-drop_na(evening_scores, StubCig)"
   ]
  },
  {
   "cell_type": "code",
   "execution_count": 3,
   "metadata": {},
   "outputs": [
    {
     "data": {
      "text/html": [
       "<style>\n",
       ".list-inline {list-style: none; margin:0; padding: 0}\n",
       ".list-inline>li {display: inline-block}\n",
       ".list-inline>li:not(:last-child)::after {content: \"\\00b7\"; padding: 0 .5ex}\n",
       "</style>\n",
       "<ol class=list-inline><li>5705</li><li>5706</li><li>5707</li><li>5708</li><li>5709</li><li>5710</li><li>5711</li><li>5712</li><li>5713</li><li>5714</li><li>5715</li><li>5716</li><li>5717</li><li>5718</li><li>5719</li><li>5720</li><li>5721</li><li>5722</li><li>5723</li><li>5724</li><li>5725</li><li>5726</li><li>5727</li><li>5728</li><li>5729</li><li>5730</li><li>5731</li><li>5732</li><li>5733</li><li>5734</li><li>5735</li><li>5736</li><li>5737</li><li>5738</li><li>5739</li><li>5740</li><li>5741</li><li>5742</li><li>5743</li><li>5744</li><li>5745</li><li>5746</li><li>5747</li><li>5748</li><li>5749</li><li>5750</li><li>5751</li><li>5752</li><li>5753</li><li>5754</li><li>5755</li><li>5756</li><li>5757</li><li>5758</li><li>5759</li><li>5760</li><li>5761</li><li>5762</li><li>5763</li><li>5764</li><li>5765</li></ol>\n"
      ],
      "text/latex": [
       "\\begin{enumerate*}\n",
       "\\item 5705\n",
       "\\item 5706\n",
       "\\item 5707\n",
       "\\item 5708\n",
       "\\item 5709\n",
       "\\item 5710\n",
       "\\item 5711\n",
       "\\item 5712\n",
       "\\item 5713\n",
       "\\item 5714\n",
       "\\item 5715\n",
       "\\item 5716\n",
       "\\item 5717\n",
       "\\item 5718\n",
       "\\item 5719\n",
       "\\item 5720\n",
       "\\item 5721\n",
       "\\item 5722\n",
       "\\item 5723\n",
       "\\item 5724\n",
       "\\item 5725\n",
       "\\item 5726\n",
       "\\item 5727\n",
       "\\item 5728\n",
       "\\item 5729\n",
       "\\item 5730\n",
       "\\item 5731\n",
       "\\item 5732\n",
       "\\item 5733\n",
       "\\item 5734\n",
       "\\item 5735\n",
       "\\item 5736\n",
       "\\item 5737\n",
       "\\item 5738\n",
       "\\item 5739\n",
       "\\item 5740\n",
       "\\item 5741\n",
       "\\item 5742\n",
       "\\item 5743\n",
       "\\item 5744\n",
       "\\item 5745\n",
       "\\item 5746\n",
       "\\item 5747\n",
       "\\item 5748\n",
       "\\item 5749\n",
       "\\item 5750\n",
       "\\item 5751\n",
       "\\item 5752\n",
       "\\item 5753\n",
       "\\item 5754\n",
       "\\item 5755\n",
       "\\item 5756\n",
       "\\item 5757\n",
       "\\item 5758\n",
       "\\item 5759\n",
       "\\item 5760\n",
       "\\item 5761\n",
       "\\item 5762\n",
       "\\item 5763\n",
       "\\item 5764\n",
       "\\item 5765\n",
       "\\end{enumerate*}\n"
      ],
      "text/markdown": [
       "1. 5705\n",
       "2. 5706\n",
       "3. 5707\n",
       "4. 5708\n",
       "5. 5709\n",
       "6. 5710\n",
       "7. 5711\n",
       "8. 5712\n",
       "9. 5713\n",
       "10. 5714\n",
       "11. 5715\n",
       "12. 5716\n",
       "13. 5717\n",
       "14. 5718\n",
       "15. 5719\n",
       "16. 5720\n",
       "17. 5721\n",
       "18. 5722\n",
       "19. 5723\n",
       "20. 5724\n",
       "21. 5725\n",
       "22. 5726\n",
       "23. 5727\n",
       "24. 5728\n",
       "25. 5729\n",
       "26. 5730\n",
       "27. 5731\n",
       "28. 5732\n",
       "29. 5733\n",
       "30. 5734\n",
       "31. 5735\n",
       "32. 5736\n",
       "33. 5737\n",
       "34. 5738\n",
       "35. 5739\n",
       "36. 5740\n",
       "37. 5741\n",
       "38. 5742\n",
       "39. 5743\n",
       "40. 5744\n",
       "41. 5745\n",
       "42. 5746\n",
       "43. 5747\n",
       "44. 5748\n",
       "45. 5749\n",
       "46. 5750\n",
       "47. 5751\n",
       "48. 5752\n",
       "49. 5753\n",
       "50. 5754\n",
       "51. 5755\n",
       "52. 5756\n",
       "53. 5757\n",
       "54. 5758\n",
       "55. 5759\n",
       "56. 5760\n",
       "57. 5761\n",
       "58. 5762\n",
       "59. 5763\n",
       "60. 5764\n",
       "61. 5765\n",
       "\n",
       "\n"
      ],
      "text/plain": [
       " [1] 5705 5706 5707 5708 5709 5710 5711 5712 5713 5714 5715 5716 5717 5718 5719\n",
       "[16] 5720 5721 5722 5723 5724 5725 5726 5727 5728 5729 5730 5731 5732 5733 5734\n",
       "[31] 5735 5736 5737 5738 5739 5740 5741 5742 5743 5744 5745 5746 5747 5748 5749\n",
       "[46] 5750 5751 5752 5753 5754 5755 5756 5757 5758 5759 5760 5761 5762 5763 5764\n",
       "[61] 5765"
      ]
     },
     "metadata": {},
     "output_type": "display_data"
    }
   ],
   "source": [
    "# remove lines not associated with a real participant ID\n",
    "which(is.na(evening_scores$condition))\n",
    "\n",
    "evening_scores<-drop_na(evening_scores, condition)"
   ]
  },
  {
   "cell_type": "code",
   "execution_count": 4,
   "metadata": {},
   "outputs": [],
   "source": [
    "# filter to keep participants who did at least 80% of surveys\n",
    "evening_scores<-evening_scores%>%filter(Good == 1)\n",
    "\n",
    "df<-evening_scores\n",
    "\n",
    "df$NCig <- as.numeric(df$NCig)\n",
    "df$StubCig<- as.numeric(df$StubCig)\n",
    "df$StopCig<- as.numeric(df$StopCig)\n",
    "\n",
    "#which(is.na(df$NCig))\n",
    "#df<-drop_na(df,NCig)"
   ]
  },
  {
   "cell_type": "code",
   "execution_count": 5,
   "metadata": {},
   "outputs": [],
   "source": [
    "df<-select(df, -'removed', -'Finished', -'Interview', -'Notes', -\"completed\" )\n",
    "df<-select(df, -'Starting Date', -'day_msg',  -'No Compliance', -'Email reminder poor perf', -'eve_msg', -'ev3days')"
   ]
  },
  {
   "cell_type": "code",
   "execution_count": 6,
   "metadata": {},
   "outputs": [],
   "source": [
    "df <-df %>% \n",
    "  group_by(ID) %>% \n",
    "  mutate(n_day = row_number()) %>%\n",
    "  select(ID, n_day, everything()) %>% \n",
    "  ungroup()  \n"
   ]
  },
  {
   "cell_type": "code",
   "execution_count": 7,
   "metadata": {},
   "outputs": [],
   "source": [
    "# create factor time\n",
    "df$n_day<-as.factor(df$n_day)"
   ]
  },
  {
   "cell_type": "code",
   "execution_count": 8,
   "metadata": {},
   "outputs": [
    {
     "data": {
      "text/html": [
       "<style>\n",
       ".list-inline {list-style: none; margin:0; padding: 0}\n",
       ".list-inline>li {display: inline-block}\n",
       ".list-inline>li:not(:last-child)::after {content: \"\\00b7\"; padding: 0 .5ex}\n",
       "</style>\n",
       "<ol class=list-inline><li>'1'</li><li>'2'</li><li>'3'</li><li>'4'</li><li>'5'</li><li>'6'</li><li>'7'</li><li>'8'</li><li>'9'</li><li>'10'</li><li>'11'</li><li>'12'</li><li>'13'</li><li>'14'</li><li>'15'</li><li>'16'</li><li>'17'</li><li>'18'</li><li>'19'</li><li>'20'</li><li>'21'</li><li>'22'</li><li>'23'</li><li>'24'</li><li>'25'</li><li>'26'</li><li>'27'</li><li>'28'</li><li>'29'</li><li>'30'</li><li>'31'</li><li>'32'</li><li>'33'</li><li>'34'</li><li>'35'</li></ol>\n"
      ],
      "text/latex": [
       "\\begin{enumerate*}\n",
       "\\item '1'\n",
       "\\item '2'\n",
       "\\item '3'\n",
       "\\item '4'\n",
       "\\item '5'\n",
       "\\item '6'\n",
       "\\item '7'\n",
       "\\item '8'\n",
       "\\item '9'\n",
       "\\item '10'\n",
       "\\item '11'\n",
       "\\item '12'\n",
       "\\item '13'\n",
       "\\item '14'\n",
       "\\item '15'\n",
       "\\item '16'\n",
       "\\item '17'\n",
       "\\item '18'\n",
       "\\item '19'\n",
       "\\item '20'\n",
       "\\item '21'\n",
       "\\item '22'\n",
       "\\item '23'\n",
       "\\item '24'\n",
       "\\item '25'\n",
       "\\item '26'\n",
       "\\item '27'\n",
       "\\item '28'\n",
       "\\item '29'\n",
       "\\item '30'\n",
       "\\item '31'\n",
       "\\item '32'\n",
       "\\item '33'\n",
       "\\item '34'\n",
       "\\item '35'\n",
       "\\end{enumerate*}\n"
      ],
      "text/markdown": [
       "1. '1'\n",
       "2. '2'\n",
       "3. '3'\n",
       "4. '4'\n",
       "5. '5'\n",
       "6. '6'\n",
       "7. '7'\n",
       "8. '8'\n",
       "9. '9'\n",
       "10. '10'\n",
       "11. '11'\n",
       "12. '12'\n",
       "13. '13'\n",
       "14. '14'\n",
       "15. '15'\n",
       "16. '16'\n",
       "17. '17'\n",
       "18. '18'\n",
       "19. '19'\n",
       "20. '20'\n",
       "21. '21'\n",
       "22. '22'\n",
       "23. '23'\n",
       "24. '24'\n",
       "25. '25'\n",
       "26. '26'\n",
       "27. '27'\n",
       "28. '28'\n",
       "29. '29'\n",
       "30. '30'\n",
       "31. '31'\n",
       "32. '32'\n",
       "33. '33'\n",
       "34. '34'\n",
       "35. '35'\n",
       "\n",
       "\n"
      ],
      "text/plain": [
       " [1] \"1\"  \"2\"  \"3\"  \"4\"  \"5\"  \"6\"  \"7\"  \"8\"  \"9\"  \"10\" \"11\" \"12\" \"13\" \"14\" \"15\"\n",
       "[16] \"16\" \"17\" \"18\" \"19\" \"20\" \"21\" \"22\" \"23\" \"24\" \"25\" \"26\" \"27\" \"28\" \"29\" \"30\"\n",
       "[31] \"31\" \"32\" \"33\" \"34\" \"35\""
      ]
     },
     "metadata": {},
     "output_type": "display_data"
    }
   ],
   "source": [
    "levels(df$n_day)"
   ]
  },
  {
   "cell_type": "code",
   "execution_count": 9,
   "metadata": {},
   "outputs": [],
   "source": [
    "# remove days > 28 - might need to look into that later\n",
    "df<-df[! df$n_day %in% c(\"29\", \"30\",  '30', '31', '32', '33', '34', '35'),]"
   ]
  },
  {
   "cell_type": "code",
   "execution_count": 10,
   "metadata": {},
   "outputs": [],
   "source": [
    "df$condition<-as.factor(df$condition)"
   ]
  },
  {
   "cell_type": "code",
   "execution_count": 11,
   "metadata": {},
   "outputs": [],
   "source": [
    "df<-df %>% group_by(condition) %>% \n",
    "mutate(n_pp=n_distinct(ID)) %>% \n",
    "    ungroup()"
   ]
  },
  {
   "cell_type": "code",
   "execution_count": 12,
   "metadata": {},
   "outputs": [
    {
     "name": "stderr",
     "output_type": "stream",
     "text": [
      "Saving 6.67 x 6.67 in image\n",
      "\n"
     ]
    },
    {
     "data": {
      "image/png": "[encoded data removed]",
      "text/plain": [
       "plot without title"
      ]
     },
     "metadata": {
      "image/png": {
       "height": 420,
       "width": 420
      }
     },
     "output_type": "display_data"
    }
   ],
   "source": [
    "# count how many of each day per condition (ie.did the pp completed the survey)\n",
    "n_rep <- df %>% group_by(condition, n_day) %>%\n",
    " mutate(count=sum(!is.na(NCig))) %>% \n",
    "    ungroup()\n",
    "n_rep <-n_rep %>% drop_na()\n",
    "\n",
    "#n_rep$EEG<-as.factor(n_rep$EEG)\n",
    "\n",
    "# plot\n",
    "ggplot(data= n_rep, aes(x = n_day, y=count/n_pp*100) ) +\n",
    "  geom_point(mapping = aes(colour = condition) ) +\n",
    "  ggtitle(\"Percentages of responses- smoking behaviour\")+\n",
    "  xlab('Day')+ ylab('number of responses')#+ \n",
    " ggsave('percent_resp_per_day_all.jpg', plot =last_plot(), dpi =300, path= save_figure)\n",
    " "
   ]
  },
  {
   "cell_type": "code",
   "execution_count": 13,
   "metadata": {
    "scrolled": true
   },
   "outputs": [
    {
     "name": "stderr",
     "output_type": "stream",
     "text": [
      "Saving 6.67 x 6.67 in image\n",
      "\n"
     ]
    },
    {
     "data": {
      "image/png": "[encoded data removed]",
      "text/plain": [
       "plot without title"
      ]
     },
     "metadata": {
      "image/png": {
       "height": 420,
       "width": 420
      }
     },
     "output_type": "display_data"
    }
   ],
   "source": [
    "# count how many of each day per condition\n",
    "n_rep <- df %>% group_by(condition, n_day, EEG) %>%\n",
    "  mutate(count=sum(!is.na(NCig))) %>% \n",
    "    ungroup()\n",
    "n_rep <-n_rep %>% drop_na()\n",
    "\n",
    "n_rep$EEG<-as.factor(n_rep$EEG)\n",
    "\n",
    "# plot\n",
    "ggplot(data= n_rep, aes(x = n_day, y=count/n_pp*100)) +\n",
    "  geom_point(mapping = aes(colour = condition, shape=EEG) ) +\n",
    "  ggtitle(\"Percentages of responses- smoking behaviour\")+\n",
    "  xlab('Day')+ ylab('number of responses')#+ \n",
    " ggsave('percent_resp_per_day_all_eeg.jpg', plot =last_plot(), dpi =300, path= save_figure)\n",
    " "
   ]
  },
  {
   "cell_type": "markdown",
   "metadata": {},
   "source": [
    "## Now check for anomalies in how data were entered\n"
   ]
  },
  {
   "cell_type": "code",
   "execution_count": 14,
   "metadata": {},
   "outputs": [
    {
     "data": {
      "text/html": [
       "<table>\n",
       "<caption>A tibble: 8 × 12</caption>\n",
       "<thead>\n",
       "\t<tr><th scope=col>ID</th><th scope=col>n_day</th><th scope=col>Good</th><th scope=col>condition</th><th scope=col>EEG</th><th scope=col>date</th><th scope=col>NCig</th><th scope=col>StubCig</th><th scope=col>StopCig</th><th scope=col>WhyNoCig</th><th scope=col>WhyNoCig_other</th><th scope=col>n_pp</th></tr>\n",
       "\t<tr><th scope=col>&lt;fct&gt;</th><th scope=col>&lt;fct&gt;</th><th scope=col>&lt;dbl&gt;</th><th scope=col>&lt;fct&gt;</th><th scope=col>&lt;dbl&gt;</th><th scope=col>&lt;chr&gt;</th><th scope=col>&lt;dbl&gt;</th><th scope=col>&lt;dbl&gt;</th><th scope=col>&lt;dbl&gt;</th><th scope=col>&lt;chr&gt;</th><th scope=col>&lt;chr&gt;</th><th scope=col>&lt;int&gt;</th></tr>\n",
       "</thead>\n",
       "<tbody>\n",
       "\t<tr><td>599 </td><td>26</td><td>1</td><td>control     </td><td>0</td><td>2019-08-16 21:49:15</td><td> 599</td><td>2</td><td> 2</td><td></td><td></td><td>87</td></tr>\n",
       "\t<tr><td>1018</td><td>8 </td><td>1</td><td>control     </td><td>0</td><td>2019-12-27 23:07:10</td><td>1018</td><td>1</td><td> 2</td><td></td><td></td><td>87</td></tr>\n",
       "\t<tr><td>295 </td><td>24</td><td>1</td><td>control     </td><td>1</td><td>2020-01-13 21:03:18</td><td> 295</td><td>1</td><td> 1</td><td></td><td></td><td>87</td></tr>\n",
       "\t<tr><td>2364</td><td>25</td><td>1</td><td>control     </td><td>0</td><td>2020-03-15 00:51:59</td><td>2364</td><td>2</td><td> 2</td><td></td><td></td><td>87</td></tr>\n",
       "\t<tr><td>1496</td><td>24</td><td>1</td><td>control     </td><td>0</td><td>2020-03-12 21:21:18</td><td>1496</td><td>2</td><td> 2</td><td></td><td></td><td>87</td></tr>\n",
       "\t<tr><td>173 </td><td>17</td><td>1</td><td>intervention</td><td>0</td><td>2019-07-31 22:57:08</td><td> 173</td><td>2</td><td> 2</td><td></td><td></td><td>78</td></tr>\n",
       "\t<tr><td>173 </td><td>20</td><td>1</td><td>intervention</td><td>0</td><td>2019-08-03 21:30:45</td><td> 173</td><td>2</td><td> 2</td><td></td><td></td><td>78</td></tr>\n",
       "\t<tr><td>313 </td><td>11</td><td>1</td><td>control     </td><td>0</td><td>2019-07-11 22:27:00</td><td> 313</td><td>1</td><td>NA</td><td></td><td></td><td>87</td></tr>\n",
       "</tbody>\n",
       "</table>\n"
      ],
      "text/latex": [
       "A tibble: 8 × 12\n",
       "\\begin{tabular}{llllllllllll}\n",
       " ID & n\\_day & Good & condition & EEG & date & NCig & StubCig & StopCig & WhyNoCig & WhyNoCig\\_other & n\\_pp\\\\\n",
       " <fct> & <fct> & <dbl> & <fct> & <dbl> & <chr> & <dbl> & <dbl> & <dbl> & <chr> & <chr> & <int>\\\\\n",
       "\\hline\n",
       "\t 599  & 26 & 1 & control      & 0 & 2019-08-16 21:49:15 &  599 & 2 &  2 &  &  & 87\\\\\n",
       "\t 1018 & 8  & 1 & control      & 0 & 2019-12-27 23:07:10 & 1018 & 1 &  2 &  &  & 87\\\\\n",
       "\t 295  & 24 & 1 & control      & 1 & 2020-01-13 21:03:18 &  295 & 1 &  1 &  &  & 87\\\\\n",
       "\t 2364 & 25 & 1 & control      & 0 & 2020-03-15 00:51:59 & 2364 & 2 &  2 &  &  & 87\\\\\n",
       "\t 1496 & 24 & 1 & control      & 0 & 2020-03-12 21:21:18 & 1496 & 2 &  2 &  &  & 87\\\\\n",
       "\t 173  & 17 & 1 & intervention & 0 & 2019-07-31 22:57:08 &  173 & 2 &  2 &  &  & 78\\\\\n",
       "\t 173  & 20 & 1 & intervention & 0 & 2019-08-03 21:30:45 &  173 & 2 &  2 &  &  & 78\\\\\n",
       "\t 313  & 11 & 1 & control      & 0 & 2019-07-11 22:27:00 &  313 & 1 & NA &  &  & 87\\\\\n",
       "\\end{tabular}\n"
      ],
      "text/markdown": [
       "\n",
       "A tibble: 8 × 12\n",
       "\n",
       "| ID &lt;fct&gt; | n_day &lt;fct&gt; | Good &lt;dbl&gt; | condition &lt;fct&gt; | EEG &lt;dbl&gt; | date &lt;chr&gt; | NCig &lt;dbl&gt; | StubCig &lt;dbl&gt; | StopCig &lt;dbl&gt; | WhyNoCig &lt;chr&gt; | WhyNoCig_other &lt;chr&gt; | n_pp &lt;int&gt; |\n",
       "|---|---|---|---|---|---|---|---|---|---|---|---|\n",
       "| 599  | 26 | 1 | control      | 0 | 2019-08-16 21:49:15 |  599 | 2 |  2 | <!----> | <!----> | 87 |\n",
       "| 1018 | 8  | 1 | control      | 0 | 2019-12-27 23:07:10 | 1018 | 1 |  2 | <!----> | <!----> | 87 |\n",
       "| 295  | 24 | 1 | control      | 1 | 2020-01-13 21:03:18 |  295 | 1 |  1 | <!----> | <!----> | 87 |\n",
       "| 2364 | 25 | 1 | control      | 0 | 2020-03-15 00:51:59 | 2364 | 2 |  2 | <!----> | <!----> | 87 |\n",
       "| 1496 | 24 | 1 | control      | 0 | 2020-03-12 21:21:18 | 1496 | 2 |  2 | <!----> | <!----> | 87 |\n",
       "| 173  | 17 | 1 | intervention | 0 | 2019-07-31 22:57:08 |  173 | 2 |  2 | <!----> | <!----> | 78 |\n",
       "| 173  | 20 | 1 | intervention | 0 | 2019-08-03 21:30:45 |  173 | 2 |  2 | <!----> | <!----> | 78 |\n",
       "| 313  | 11 | 1 | control      | 0 | 2019-07-11 22:27:00 |  313 | 1 | NA | <!----> | <!----> | 87 |\n",
       "\n"
      ],
      "text/plain": [
       "  ID   n_day Good condition    EEG date                NCig StubCig StopCig\n",
       "1 599  26    1    control      0   2019-08-16 21:49:15  599 2        2     \n",
       "2 1018 8     1    control      0   2019-12-27 23:07:10 1018 1        2     \n",
       "3 295  24    1    control      1   2020-01-13 21:03:18  295 1        1     \n",
       "4 2364 25    1    control      0   2020-03-15 00:51:59 2364 2        2     \n",
       "5 1496 24    1    control      0   2020-03-12 21:21:18 1496 2        2     \n",
       "6 173  17    1    intervention 0   2019-07-31 22:57:08  173 2        2     \n",
       "7 173  20    1    intervention 0   2019-08-03 21:30:45  173 2        2     \n",
       "8 313  11    1    control      0   2019-07-11 22:27:00  313 1       NA     \n",
       "  WhyNoCig WhyNoCig_other n_pp\n",
       "1                         87  \n",
       "2                         87  \n",
       "3                         87  \n",
       "4                         87  \n",
       "5                         87  \n",
       "6                         78  \n",
       "7                         78  \n",
       "8                         87  "
      ]
     },
     "metadata": {},
     "output_type": "display_data"
    }
   ],
   "source": [
    "# check for outliers/anomalie data -> check if mistake on 1 day\n",
    "df %>% filter(NCig>50) # 50 as a guess \n"
   ]
  },
  {
   "cell_type": "markdown",
   "metadata": {},
   "source": [
    "Seems to be an error where the participant's ID was entered instead of the number of cig smoked on at least one occasion"
   ]
  },
  {
   "cell_type": "code",
   "execution_count": 15,
   "metadata": {},
   "outputs": [],
   "source": [
    "# replace these aberrant values by NA\n",
    "df$NCig<-replace(df$NCig, df$NCig>50, NA)"
   ]
  },
  {
   "cell_type": "markdown",
   "metadata": {},
   "source": [
    "# Reports of 0 cigarettes smoked on a day\n",
    "\n",
    "Follow-up question: Why did you not smoke any cigarettes today?\n",
    "Value for numeric responses:\n",
    "- 1= I didn't have time\n",
    "- 2= I didn't feel like smoking\n",
    "- 3= I was in places where smoking was not allowed\n",
    "- 4= I am trying to stop smoking\n",
    "- 5 = others (see WhyNoCig_other)\n",
    "\n",
    "\"Participants who report not smoking any cigarettes on at least one of the study days and report this being because they were trying to quit smoking will be considered having made a quit attempt during the study period. \""
   ]
  },
  {
   "cell_type": "code",
   "execution_count": 16,
   "metadata": {},
   "outputs": [
    {
     "data": {
      "text/html": [
       "12"
      ],
      "text/latex": [
       "12"
      ],
      "text/markdown": [
       "12"
      ],
      "text/plain": [
       "[1] 12"
      ]
     },
     "metadata": {},
     "output_type": "display_data"
    }
   ],
   "source": [
    "# how many reported no cig on at least one day\n",
    "test<-df %>% filter(NCig==0)  \n",
    "n_distinct(test$ID)"
   ]
  },
  {
   "cell_type": "code",
   "execution_count": 17,
   "metadata": {},
   "outputs": [
    {
     "data": {
      "text/html": [
       "9"
      ],
      "text/latex": [
       "9"
      ],
      "text/markdown": [
       "9"
      ],
      "text/plain": [
       "[1] 9"
      ]
     },
     "metadata": {},
     "output_type": "display_data"
    }
   ],
   "source": [
    "# how many reported no cig because want to stop smoking\n",
    "test<-test %>% filter(WhyNoCig ==4)\n",
    "n_distinct(test$ID)"
   ]
  },
  {
   "cell_type": "code",
   "execution_count": 18,
   "metadata": {},
   "outputs": [
    {
     "data": {
      "text/html": [
       "<table>\n",
       "<caption>A tibble: 3 × 12</caption>\n",
       "<thead>\n",
       "\t<tr><th scope=col>ID</th><th scope=col>n_day</th><th scope=col>Good</th><th scope=col>condition</th><th scope=col>EEG</th><th scope=col>date</th><th scope=col>NCig</th><th scope=col>StubCig</th><th scope=col>StopCig</th><th scope=col>WhyNoCig</th><th scope=col>WhyNoCig_other</th><th scope=col>n_pp</th></tr>\n",
       "\t<tr><th scope=col>&lt;fct&gt;</th><th scope=col>&lt;fct&gt;</th><th scope=col>&lt;dbl&gt;</th><th scope=col>&lt;fct&gt;</th><th scope=col>&lt;dbl&gt;</th><th scope=col>&lt;chr&gt;</th><th scope=col>&lt;dbl&gt;</th><th scope=col>&lt;dbl&gt;</th><th scope=col>&lt;dbl&gt;</th><th scope=col>&lt;chr&gt;</th><th scope=col>&lt;chr&gt;</th><th scope=col>&lt;int&gt;</th></tr>\n",
       "</thead>\n",
       "<tbody>\n",
       "\t<tr><td>599</td><td>25</td><td>1</td><td>control</td><td>0</td><td>2019-08-15 21:09:38</td><td>0</td><td>2</td><td>1</td><td>4</td><td></td><td>87</td></tr>\n",
       "\t<tr><td>309</td><td>13</td><td>1</td><td>control</td><td>0</td><td>2019-08-03 21:02:32</td><td>0</td><td>2</td><td>2</td><td>4</td><td></td><td>87</td></tr>\n",
       "\t<tr><td>769</td><td>14</td><td>1</td><td>control</td><td>0</td><td>2019-07-27 21:02:35</td><td>0</td><td>2</td><td>1</td><td>4</td><td></td><td>87</td></tr>\n",
       "</tbody>\n",
       "</table>\n"
      ],
      "text/latex": [
       "A tibble: 3 × 12\n",
       "\\begin{tabular}{llllllllllll}\n",
       " ID & n\\_day & Good & condition & EEG & date & NCig & StubCig & StopCig & WhyNoCig & WhyNoCig\\_other & n\\_pp\\\\\n",
       " <fct> & <fct> & <dbl> & <fct> & <dbl> & <chr> & <dbl> & <dbl> & <dbl> & <chr> & <chr> & <int>\\\\\n",
       "\\hline\n",
       "\t 599 & 25 & 1 & control & 0 & 2019-08-15 21:09:38 & 0 & 2 & 1 & 4 &  & 87\\\\\n",
       "\t 309 & 13 & 1 & control & 0 & 2019-08-03 21:02:32 & 0 & 2 & 2 & 4 &  & 87\\\\\n",
       "\t 769 & 14 & 1 & control & 0 & 2019-07-27 21:02:35 & 0 & 2 & 1 & 4 &  & 87\\\\\n",
       "\\end{tabular}\n"
      ],
      "text/markdown": [
       "\n",
       "A tibble: 3 × 12\n",
       "\n",
       "| ID &lt;fct&gt; | n_day &lt;fct&gt; | Good &lt;dbl&gt; | condition &lt;fct&gt; | EEG &lt;dbl&gt; | date &lt;chr&gt; | NCig &lt;dbl&gt; | StubCig &lt;dbl&gt; | StopCig &lt;dbl&gt; | WhyNoCig &lt;chr&gt; | WhyNoCig_other &lt;chr&gt; | n_pp &lt;int&gt; |\n",
       "|---|---|---|---|---|---|---|---|---|---|---|---|\n",
       "| 599 | 25 | 1 | control | 0 | 2019-08-15 21:09:38 | 0 | 2 | 1 | 4 | <!----> | 87 |\n",
       "| 309 | 13 | 1 | control | 0 | 2019-08-03 21:02:32 | 0 | 2 | 2 | 4 | <!----> | 87 |\n",
       "| 769 | 14 | 1 | control | 0 | 2019-07-27 21:02:35 | 0 | 2 | 1 | 4 | <!----> | 87 |\n",
       "\n"
      ],
      "text/plain": [
       "  ID  n_day Good condition EEG date                NCig StubCig StopCig\n",
       "1 599 25    1    control   0   2019-08-15 21:09:38 0    2       1      \n",
       "2 309 13    1    control   0   2019-08-03 21:02:32 0    2       2      \n",
       "3 769 14    1    control   0   2019-07-27 21:02:35 0    2       1      \n",
       "  WhyNoCig WhyNoCig_other n_pp\n",
       "1 4                       87  \n",
       "2 4                       87  \n",
       "3 4                       87  "
      ]
     },
     "metadata": {},
     "output_type": "display_data"
    }
   ],
   "source": [
    "distinct(test, ID, `.keep_all` = TRUE) %>% filter(condition=='control')"
   ]
  },
  {
   "cell_type": "markdown",
   "metadata": {},
   "source": [
    "## Conclusion\n",
    "\n",
    "12 participants reported not smoking any cigarette on at least one of the study days. Out of these, 9 reported not smoking because they were trying to quit smoking = made a quit attempt (6 were in the intervention group, 3 in the control group)."
   ]
  },
  {
   "cell_type": "markdown",
   "metadata": {},
   "source": [
    "# Reports of forgoing cigarettes \n"
   ]
  },
  {
   "cell_type": "markdown",
   "metadata": {},
   "source": [
    "H3: As compared to those in the control condition, those in the efficacy condition will display micro-indicators of behaviour change, including:  \n",
    " - more frequently reporting forgoing cigarettes (FC) over the 4-week period;  \n",
    "\n",
    "Forgoing = forgoing stub + forgoing stop\n",
    "\n",
    "Response code:\n",
    "- 1 = yes\n",
    "- 2 = no\n",
    "\n",
    "\n"
   ]
  },
  {
   "cell_type": "markdown",
   "metadata": {},
   "source": [
    "How many forego in each condition?"
   ]
  },
  {
   "cell_type": "code",
   "execution_count": 19,
   "metadata": {},
   "outputs": [
    {
     "name": "stderr",
     "output_type": "stream",
     "text": [
      "`summarise()` ungrouping output (override with `.groups` argument)\n",
      "\n"
     ]
    },
    {
     "data": {
      "text/html": [
       "<table>\n",
       "<caption>A tibble: 2 × 3</caption>\n",
       "<thead>\n",
       "\t<tr><th scope=col>condition</th><th scope=col>sum(StopCig == 1, na.rm = TRUE)</th><th scope=col>sum(StubCig == 1, na.rm = TRUE)</th></tr>\n",
       "\t<tr><th scope=col>&lt;fct&gt;</th><th scope=col>&lt;int&gt;</th><th scope=col>&lt;int&gt;</th></tr>\n",
       "</thead>\n",
       "<tbody>\n",
       "\t<tr><td>control     </td><td>491</td><td>501</td></tr>\n",
       "\t<tr><td>intervention</td><td>538</td><td>480</td></tr>\n",
       "</tbody>\n",
       "</table>\n"
      ],
      "text/latex": [
       "A tibble: 2 × 3\n",
       "\\begin{tabular}{lll}\n",
       " condition & sum(StopCig == 1, na.rm = TRUE) & sum(StubCig == 1, na.rm = TRUE)\\\\\n",
       " <fct> & <int> & <int>\\\\\n",
       "\\hline\n",
       "\t control      & 491 & 501\\\\\n",
       "\t intervention & 538 & 480\\\\\n",
       "\\end{tabular}\n"
      ],
      "text/markdown": [
       "\n",
       "A tibble: 2 × 3\n",
       "\n",
       "| condition &lt;fct&gt; | sum(StopCig == 1, na.rm = TRUE) &lt;int&gt; | sum(StubCig == 1, na.rm = TRUE) &lt;int&gt; |\n",
       "|---|---|---|\n",
       "| control      | 491 | 501 |\n",
       "| intervention | 538 | 480 |\n",
       "\n"
      ],
      "text/plain": [
       "  condition    sum(StopCig == 1, na.rm = TRUE) sum(StubCig == 1, na.rm = TRUE)\n",
       "1 control      491                             501                            \n",
       "2 intervention 538                             480                            "
      ]
     },
     "metadata": {},
     "output_type": "display_data"
    }
   ],
   "source": [
    "df %>% group_by(condition) %>% \n",
    "summarise(sum(StopCig==1, na.rm=TRUE), \n",
    "         sum(StubCig==1, na.rm=TRUE))"
   ]
  },
  {
   "cell_type": "code",
   "execution_count": 20,
   "metadata": {},
   "outputs": [],
   "source": [
    "df_long<-pivot_longer(df, cols=starts_with(\"St\"), names_to = \"ForegoCig\", \n",
    "             values_to = \"NCigForego\")"
   ]
  },
  {
   "cell_type": "code",
   "execution_count": 21,
   "metadata": {},
   "outputs": [],
   "source": [
    "df_long$NCigForego<-as.factor(df_long$NCigForego)"
   ]
  },
  {
   "cell_type": "code",
   "execution_count": 22,
   "metadata": {},
   "outputs": [],
   "source": [
    "freq_forego<-df_long %>% filter(!is.na(NCigForego))  %>% \n",
    "    group_by(condition, n_day)  %>% \n",
    "count(NCigForego) %>% \n",
    "mutate(rel.freq= round(100*n/sum(n),0)) \n"
   ]
  },
  {
   "cell_type": "code",
   "execution_count": 23,
   "metadata": {},
   "outputs": [
    {
     "data": {
      "image/png": "[encoded data removed]",
      "text/plain": [
       "plot without title"
      ]
     },
     "metadata": {
      "image/png": {
       "height": 420,
       "width": 420
      }
     },
     "output_type": "display_data"
    }
   ],
   "source": [
    "freq_forego %>% filter(NCigForego==1) %>% \n",
    "ggplot(aes(y=rel.freq, x=n_day, group=condition))+\n",
    "geom_line(aes(linetype=condition))+\n",
    " geom_point(mapping = aes(colour = condition ) )+\n",
    "ylim(0,40)+\n",
    "ggtitle (\" % Foregoing cigarettes by group\")+\n",
    "ylab(\" % reporting foregoing cig\")+\n",
    "xlab(\"Day of study\")\n"
   ]
  },
  {
   "cell_type": "code",
   "execution_count": 24,
   "metadata": {},
   "outputs": [
    {
     "name": "stderr",
     "output_type": "stream",
     "text": [
      "`geom_smooth()` using formula 'y ~ x'\n",
      "\n"
     ]
    },
    {
     "data": {
      "image/png": "[encoded data removed]",
      "text/plain": [
       "plot without title"
      ]
     },
     "metadata": {
      "image/png": {
       "height": 420,
       "width": 420
      }
     },
     "output_type": "display_data"
    }
   ],
   "source": [
    "freq_forego %>% filter(NCigForego==1) %>% \n",
    "   ggplot(aes(y = n, x = as.numeric(n_day)))+\n",
    "geom_point(alpha = 0.2)+\n",
    "geom_smooth(method = \"loess\")+\n",
    "facet_grid(~condition)+\n",
    "ggtitle (\" Number of report of Foregoing cigarette by group\")+\n",
    "ylab(\" N report foregoing cig\")+\n",
    "xlab(\"Day of study\")"
   ]
  },
  {
   "cell_type": "code",
   "execution_count": 25,
   "metadata": {},
   "outputs": [
    {
     "data": {
      "text/html": [
       "<table>\n",
       "<caption>A grouped_df: 6 × 5</caption>\n",
       "<thead>\n",
       "\t<tr><th scope=col>condition</th><th scope=col>n_day</th><th scope=col>NCigForego</th><th scope=col>n</th><th scope=col>rel.freq</th></tr>\n",
       "\t<tr><th scope=col>&lt;fct&gt;</th><th scope=col>&lt;fct&gt;</th><th scope=col>&lt;fct&gt;</th><th scope=col>&lt;int&gt;</th><th scope=col>&lt;dbl&gt;</th></tr>\n",
       "</thead>\n",
       "<tbody>\n",
       "\t<tr><td>control</td><td>1</td><td>1</td><td> 34</td><td>20</td></tr>\n",
       "\t<tr><td>control</td><td>1</td><td>2</td><td>140</td><td>80</td></tr>\n",
       "\t<tr><td>control</td><td>2</td><td>1</td><td> 24</td><td>14</td></tr>\n",
       "\t<tr><td>control</td><td>2</td><td>2</td><td>148</td><td>86</td></tr>\n",
       "\t<tr><td>control</td><td>3</td><td>1</td><td> 29</td><td>17</td></tr>\n",
       "\t<tr><td>control</td><td>3</td><td>2</td><td>139</td><td>83</td></tr>\n",
       "</tbody>\n",
       "</table>\n"
      ],
      "text/latex": [
       "A grouped\\_df: 6 × 5\n",
       "\\begin{tabular}{lllll}\n",
       " condition & n\\_day & NCigForego & n & rel.freq\\\\\n",
       " <fct> & <fct> & <fct> & <int> & <dbl>\\\\\n",
       "\\hline\n",
       "\t control & 1 & 1 &  34 & 20\\\\\n",
       "\t control & 1 & 2 & 140 & 80\\\\\n",
       "\t control & 2 & 1 &  24 & 14\\\\\n",
       "\t control & 2 & 2 & 148 & 86\\\\\n",
       "\t control & 3 & 1 &  29 & 17\\\\\n",
       "\t control & 3 & 2 & 139 & 83\\\\\n",
       "\\end{tabular}\n"
      ],
      "text/markdown": [
       "\n",
       "A grouped_df: 6 × 5\n",
       "\n",
       "| condition &lt;fct&gt; | n_day &lt;fct&gt; | NCigForego &lt;fct&gt; | n &lt;int&gt; | rel.freq &lt;dbl&gt; |\n",
       "|---|---|---|---|---|\n",
       "| control | 1 | 1 |  34 | 20 |\n",
       "| control | 1 | 2 | 140 | 80 |\n",
       "| control | 2 | 1 |  24 | 14 |\n",
       "| control | 2 | 2 | 148 | 86 |\n",
       "| control | 3 | 1 |  29 | 17 |\n",
       "| control | 3 | 2 | 139 | 83 |\n",
       "\n"
      ],
      "text/plain": [
       "  condition n_day NCigForego n   rel.freq\n",
       "1 control   1     1           34 20      \n",
       "2 control   1     2          140 80      \n",
       "3 control   2     1           24 14      \n",
       "4 control   2     2          148 86      \n",
       "5 control   3     1           29 17      \n",
       "6 control   3     2          139 83      "
      ]
     },
     "metadata": {},
     "output_type": "display_data"
    }
   ],
   "source": [
    "head(freq_forego)"
   ]
  },
  {
   "cell_type": "code",
   "execution_count": 26,
   "metadata": {},
   "outputs": [
    {
     "data": {
      "text/html": [
       "<table>\n",
       "<caption>A tibble: 6 × 12</caption>\n",
       "<thead>\n",
       "\t<tr><th scope=col>ID</th><th scope=col>n_day</th><th scope=col>Good</th><th scope=col>condition</th><th scope=col>EEG</th><th scope=col>date</th><th scope=col>NCig</th><th scope=col>WhyNoCig</th><th scope=col>WhyNoCig_other</th><th scope=col>n_pp</th><th scope=col>ForegoCig</th><th scope=col>NCigForego</th></tr>\n",
       "\t<tr><th scope=col>&lt;fct&gt;</th><th scope=col>&lt;fct&gt;</th><th scope=col>&lt;dbl&gt;</th><th scope=col>&lt;fct&gt;</th><th scope=col>&lt;dbl&gt;</th><th scope=col>&lt;chr&gt;</th><th scope=col>&lt;dbl&gt;</th><th scope=col>&lt;chr&gt;</th><th scope=col>&lt;chr&gt;</th><th scope=col>&lt;int&gt;</th><th scope=col>&lt;chr&gt;</th><th scope=col>&lt;fct&gt;</th></tr>\n",
       "</thead>\n",
       "<tbody>\n",
       "\t<tr><td>339</td><td>1</td><td>1</td><td>control</td><td>1</td><td>2019-10-31 02:40:41</td><td>25</td><td></td><td></td><td>87</td><td>StubCig</td><td>1</td></tr>\n",
       "\t<tr><td>339</td><td>1</td><td>1</td><td>control</td><td>1</td><td>2019-10-31 02:40:41</td><td>25</td><td></td><td></td><td>87</td><td>StopCig</td><td>2</td></tr>\n",
       "\t<tr><td>339</td><td>2</td><td>1</td><td>control</td><td>1</td><td>2019-10-31 22:35:22</td><td>10</td><td></td><td></td><td>87</td><td>StubCig</td><td>2</td></tr>\n",
       "\t<tr><td>339</td><td>2</td><td>1</td><td>control</td><td>1</td><td>2019-10-31 22:35:22</td><td>10</td><td></td><td></td><td>87</td><td>StopCig</td><td>1</td></tr>\n",
       "\t<tr><td>339</td><td>3</td><td>1</td><td>control</td><td>1</td><td>2019-11-01 23:15:33</td><td> 6</td><td></td><td></td><td>87</td><td>StubCig</td><td>2</td></tr>\n",
       "\t<tr><td>339</td><td>3</td><td>1</td><td>control</td><td>1</td><td>2019-11-01 23:15:33</td><td> 6</td><td></td><td></td><td>87</td><td>StopCig</td><td>2</td></tr>\n",
       "</tbody>\n",
       "</table>\n"
      ],
      "text/latex": [
       "A tibble: 6 × 12\n",
       "\\begin{tabular}{llllllllllll}\n",
       " ID & n\\_day & Good & condition & EEG & date & NCig & WhyNoCig & WhyNoCig\\_other & n\\_pp & ForegoCig & NCigForego\\\\\n",
       " <fct> & <fct> & <dbl> & <fct> & <dbl> & <chr> & <dbl> & <chr> & <chr> & <int> & <chr> & <fct>\\\\\n",
       "\\hline\n",
       "\t 339 & 1 & 1 & control & 1 & 2019-10-31 02:40:41 & 25 &  &  & 87 & StubCig & 1\\\\\n",
       "\t 339 & 1 & 1 & control & 1 & 2019-10-31 02:40:41 & 25 &  &  & 87 & StopCig & 2\\\\\n",
       "\t 339 & 2 & 1 & control & 1 & 2019-10-31 22:35:22 & 10 &  &  & 87 & StubCig & 2\\\\\n",
       "\t 339 & 2 & 1 & control & 1 & 2019-10-31 22:35:22 & 10 &  &  & 87 & StopCig & 1\\\\\n",
       "\t 339 & 3 & 1 & control & 1 & 2019-11-01 23:15:33 &  6 &  &  & 87 & StubCig & 2\\\\\n",
       "\t 339 & 3 & 1 & control & 1 & 2019-11-01 23:15:33 &  6 &  &  & 87 & StopCig & 2\\\\\n",
       "\\end{tabular}\n"
      ],
      "text/markdown": [
       "\n",
       "A tibble: 6 × 12\n",
       "\n",
       "| ID &lt;fct&gt; | n_day &lt;fct&gt; | Good &lt;dbl&gt; | condition &lt;fct&gt; | EEG &lt;dbl&gt; | date &lt;chr&gt; | NCig &lt;dbl&gt; | WhyNoCig &lt;chr&gt; | WhyNoCig_other &lt;chr&gt; | n_pp &lt;int&gt; | ForegoCig &lt;chr&gt; | NCigForego &lt;fct&gt; |\n",
       "|---|---|---|---|---|---|---|---|---|---|---|---|\n",
       "| 339 | 1 | 1 | control | 1 | 2019-10-31 02:40:41 | 25 | <!----> | <!----> | 87 | StubCig | 1 |\n",
       "| 339 | 1 | 1 | control | 1 | 2019-10-31 02:40:41 | 25 | <!----> | <!----> | 87 | StopCig | 2 |\n",
       "| 339 | 2 | 1 | control | 1 | 2019-10-31 22:35:22 | 10 | <!----> | <!----> | 87 | StubCig | 2 |\n",
       "| 339 | 2 | 1 | control | 1 | 2019-10-31 22:35:22 | 10 | <!----> | <!----> | 87 | StopCig | 1 |\n",
       "| 339 | 3 | 1 | control | 1 | 2019-11-01 23:15:33 |  6 | <!----> | <!----> | 87 | StubCig | 2 |\n",
       "| 339 | 3 | 1 | control | 1 | 2019-11-01 23:15:33 |  6 | <!----> | <!----> | 87 | StopCig | 2 |\n",
       "\n"
      ],
      "text/plain": [
       "  ID  n_day Good condition EEG date                NCig WhyNoCig WhyNoCig_other\n",
       "1 339 1     1    control   1   2019-10-31 02:40:41 25                          \n",
       "2 339 1     1    control   1   2019-10-31 02:40:41 25                          \n",
       "3 339 2     1    control   1   2019-10-31 22:35:22 10                          \n",
       "4 339 2     1    control   1   2019-10-31 22:35:22 10                          \n",
       "5 339 3     1    control   1   2019-11-01 23:15:33  6                          \n",
       "6 339 3     1    control   1   2019-11-01 23:15:33  6                          \n",
       "  n_pp ForegoCig NCigForego\n",
       "1 87   StubCig   1         \n",
       "2 87   StopCig   2         \n",
       "3 87   StubCig   2         \n",
       "4 87   StopCig   1         \n",
       "5 87   StubCig   2         \n",
       "6 87   StopCig   2         "
      ]
     },
     "metadata": {},
     "output_type": "display_data"
    }
   ],
   "source": [
    "head(df_long)"
   ]
  },
  {
   "cell_type": "code",
   "execution_count": 27,
   "metadata": {},
   "outputs": [],
   "source": [
    "df_long$ForegoCig<-as.factor(df_long$ForegoCig)"
   ]
  },
  {
   "cell_type": "code",
   "execution_count": 28,
   "metadata": {},
   "outputs": [
    {
     "data": {
      "text/html": [
       "<style>\n",
       ".list-inline {list-style: none; margin:0; padding: 0}\n",
       ".list-inline>li {display: inline-block}\n",
       ".list-inline>li:not(:last-child)::after {content: \"\\00b7\"; padding: 0 .5ex}\n",
       "</style>\n",
       "<ol class=list-inline><li>'StopCig'</li><li>'StubCig'</li></ol>\n"
      ],
      "text/latex": [
       "\\begin{enumerate*}\n",
       "\\item 'StopCig'\n",
       "\\item 'StubCig'\n",
       "\\end{enumerate*}\n"
      ],
      "text/markdown": [
       "1. 'StopCig'\n",
       "2. 'StubCig'\n",
       "\n",
       "\n"
      ],
      "text/plain": [
       "[1] \"StopCig\" \"StubCig\""
      ]
     },
     "metadata": {},
     "output_type": "display_data"
    },
    {
     "data": {
      "text/html": [
       "<style>\n",
       ".list-inline {list-style: none; margin:0; padding: 0}\n",
       ".list-inline>li {display: inline-block}\n",
       ".list-inline>li:not(:last-child)::after {content: \"\\00b7\"; padding: 0 .5ex}\n",
       "</style>\n",
       "<ol class=list-inline><li>2</li><li>1</li><li>2</li><li>1</li><li>2</li><li>1</li><li>2</li><li>1</li><li>2</li><li>1</li><li>2</li><li>1</li><li>2</li><li>1</li><li>2</li><li>1</li><li>2</li><li>1</li><li>2</li><li>1</li><li>2</li><li>1</li><li>2</li><li>1</li><li>2</li><li>1</li><li>2</li><li>1</li><li>2</li><li>1</li><li>2</li><li>1</li><li>2</li><li>1</li><li>2</li><li>1</li><li>2</li><li>1</li><li>2</li><li>1</li><li>2</li><li>1</li><li>2</li><li>1</li><li>2</li><li>1</li><li>2</li><li>1</li><li>2</li><li>1</li><li>2</li><li>1</li><li>2</li><li>1</li><li>2</li><li>1</li><li>2</li><li>1</li><li>2</li><li>1</li><li>2</li><li>1</li><li>2</li><li>1</li><li>2</li><li>1</li><li>2</li><li>1</li><li>2</li><li>1</li><li>2</li><li>1</li><li>2</li><li>1</li><li>2</li><li>1</li><li>2</li><li>1</li><li>2</li><li>1</li><li>2</li><li>1</li><li>2</li><li>1</li><li>2</li><li>1</li><li>2</li><li>1</li><li>2</li><li>1</li><li>2</li><li>1</li><li>2</li><li>1</li><li>2</li><li>1</li><li>2</li><li>1</li><li>2</li><li>1</li><li>2</li><li>1</li><li>2</li><li>1</li><li>2</li><li>1</li><li>2</li><li>1</li><li>2</li><li>1</li><li>2</li><li>1</li><li>2</li><li>1</li><li>2</li><li>1</li><li>2</li><li>1</li><li>2</li><li>1</li><li>2</li><li>1</li><li>2</li><li>1</li><li>2</li><li>1</li><li>2</li><li>1</li><li>2</li><li>1</li><li>2</li><li>1</li><li>2</li><li>1</li><li>2</li><li>1</li><li>2</li><li>1</li><li>2</li><li>1</li><li>2</li><li>1</li><li>2</li><li>1</li><li>2</li><li>1</li><li>2</li><li>1</li><li>2</li><li>1</li><li>2</li><li>1</li><li>2</li><li>1</li><li>2</li><li>1</li><li>2</li><li>1</li><li>2</li><li>1</li><li>2</li><li>1</li><li>2</li><li>1</li><li>2</li><li>1</li><li>2</li><li>1</li><li>2</li><li>1</li><li>2</li><li>1</li><li>2</li><li>1</li><li>2</li><li>1</li><li>2</li><li>1</li><li>2</li><li>1</li><li>2</li><li>1</li><li>2</li><li>1</li><li>2</li><li>1</li><li>2</li><li>1</li><li>2</li><li>1</li><li>2</li><li>1</li><li>2</li><li>1</li><li>2</li><li>1</li><li>2</li><li>1</li><li>2</li><li>1</li><li>⋯</li><li>2</li><li>1</li><li>2</li><li>1</li><li>2</li><li>1</li><li>2</li><li>1</li><li>2</li><li>1</li><li>2</li><li>1</li><li>2</li><li>1</li><li>2</li><li>1</li><li>2</li><li>1</li><li>2</li><li>1</li><li>2</li><li>1</li><li>2</li><li>1</li><li>2</li><li>1</li><li>2</li><li>1</li><li>2</li><li>1</li><li>2</li><li>1</li><li>2</li><li>1</li><li>2</li><li>1</li><li>2</li><li>1</li><li>2</li><li>1</li><li>2</li><li>1</li><li>2</li><li>1</li><li>2</li><li>1</li><li>2</li><li>1</li><li>2</li><li>1</li><li>2</li><li>1</li><li>2</li><li>1</li><li>2</li><li>1</li><li>2</li><li>1</li><li>2</li><li>1</li><li>2</li><li>1</li><li>2</li><li>1</li><li>2</li><li>1</li><li>2</li><li>1</li><li>2</li><li>1</li><li>2</li><li>1</li><li>2</li><li>1</li><li>2</li><li>1</li><li>2</li><li>1</li><li>2</li><li>1</li><li>2</li><li>1</li><li>2</li><li>1</li><li>2</li><li>1</li><li>2</li><li>1</li><li>2</li><li>1</li><li>2</li><li>1</li><li>2</li><li>1</li><li>2</li><li>1</li><li>2</li><li>1</li><li>2</li><li>1</li><li>2</li><li>1</li><li>2</li><li>1</li><li>2</li><li>1</li><li>2</li><li>1</li><li>2</li><li>1</li><li>2</li><li>1</li><li>2</li><li>1</li><li>2</li><li>1</li><li>2</li><li>1</li><li>2</li><li>1</li><li>2</li><li>1</li><li>2</li><li>1</li><li>2</li><li>1</li><li>2</li><li>1</li><li>2</li><li>1</li><li>2</li><li>1</li><li>2</li><li>1</li><li>2</li><li>1</li><li>2</li><li>1</li><li>2</li><li>1</li><li>2</li><li>1</li><li>2</li><li>1</li><li>2</li><li>1</li><li>2</li><li>1</li><li>2</li><li>1</li><li>2</li><li>1</li><li>2</li><li>1</li><li>2</li><li>1</li><li>2</li><li>1</li><li>2</li><li>1</li><li>2</li><li>1</li><li>2</li><li>1</li><li>2</li><li>1</li><li>2</li><li>1</li><li>2</li><li>1</li><li>2</li><li>1</li><li>2</li><li>1</li><li>2</li><li>1</li><li>2</li><li>1</li><li>2</li><li>1</li><li>2</li><li>1</li><li>2</li><li>1</li><li>2</li><li>1</li><li>2</li><li>1</li><li>2</li><li>1</li><li>2</li><li>1</li><li>2</li><li>1</li><li>2</li><li>1</li><li>2</li><li>1</li><li>2</li><li>1</li></ol>\n"
      ],
      "text/latex": [
       "\\begin{enumerate*}\n",
       "\\item 2\n",
       "\\item 1\n",
       "\\item 2\n",
       "\\item 1\n",
       "\\item 2\n",
       "\\item 1\n",
       "\\item 2\n",
       "\\item 1\n",
       "\\item 2\n",
       "\\item 1\n",
       "\\item 2\n",
       "\\item 1\n",
       "\\item 2\n",
       "\\item 1\n",
       "\\item 2\n",
       "\\item 1\n",
       "\\item 2\n",
       "\\item 1\n",
       "\\item 2\n",
       "\\item 1\n",
       "\\item 2\n",
       "\\item 1\n",
       "\\item 2\n",
       "\\item 1\n",
       "\\item 2\n",
       "\\item 1\n",
       "\\item 2\n",
       "\\item 1\n",
       "\\item 2\n",
       "\\item 1\n",
       "\\item 2\n",
       "\\item 1\n",
       "\\item 2\n",
       "\\item 1\n",
       "\\item 2\n",
       "\\item 1\n",
       "\\item 2\n",
       "\\item 1\n",
       "\\item 2\n",
       "\\item 1\n",
       "\\item 2\n",
       "\\item 1\n",
       "\\item 2\n",
       "\\item 1\n",
       "\\item 2\n",
       "\\item 1\n",
       "\\item 2\n",
       "\\item 1\n",
       "\\item 2\n",
       "\\item 1\n",
       "\\item 2\n",
       "\\item 1\n",
       "\\item 2\n",
       "\\item 1\n",
       "\\item 2\n",
       "\\item 1\n",
       "\\item 2\n",
       "\\item 1\n",
       "\\item 2\n",
       "\\item 1\n",
       "\\item 2\n",
       "\\item 1\n",
       "\\item 2\n",
       "\\item 1\n",
       "\\item 2\n",
       "\\item 1\n",
       "\\item 2\n",
       "\\item 1\n",
       "\\item 2\n",
       "\\item 1\n",
       "\\item 2\n",
       "\\item 1\n",
       "\\item 2\n",
       "\\item 1\n",
       "\\item 2\n",
       "\\item 1\n",
       "\\item 2\n",
       "\\item 1\n",
       "\\item 2\n",
       "\\item 1\n",
       "\\item 2\n",
       "\\item 1\n",
       "\\item 2\n",
       "\\item 1\n",
       "\\item 2\n",
       "\\item 1\n",
       "\\item 2\n",
       "\\item 1\n",
       "\\item 2\n",
       "\\item 1\n",
       "\\item 2\n",
       "\\item 1\n",
       "\\item 2\n",
       "\\item 1\n",
       "\\item 2\n",
       "\\item 1\n",
       "\\item 2\n",
       "\\item 1\n",
       "\\item 2\n",
       "\\item 1\n",
       "\\item 2\n",
       "\\item 1\n",
       "\\item 2\n",
       "\\item 1\n",
       "\\item 2\n",
       "\\item 1\n",
       "\\item 2\n",
       "\\item 1\n",
       "\\item 2\n",
       "\\item 1\n",
       "\\item 2\n",
       "\\item 1\n",
       "\\item 2\n",
       "\\item 1\n",
       "\\item 2\n",
       "\\item 1\n",
       "\\item 2\n",
       "\\item 1\n",
       "\\item 2\n",
       "\\item 1\n",
       "\\item 2\n",
       "\\item 1\n",
       "\\item 2\n",
       "\\item 1\n",
       "\\item 2\n",
       "\\item 1\n",
       "\\item 2\n",
       "\\item 1\n",
       "\\item 2\n",
       "\\item 1\n",
       "\\item 2\n",
       "\\item 1\n",
       "\\item 2\n",
       "\\item 1\n",
       "\\item 2\n",
       "\\item 1\n",
       "\\item 2\n",
       "\\item 1\n",
       "\\item 2\n",
       "\\item 1\n",
       "\\item 2\n",
       "\\item 1\n",
       "\\item 2\n",
       "\\item 1\n",
       "\\item 2\n",
       "\\item 1\n",
       "\\item 2\n",
       "\\item 1\n",
       "\\item 2\n",
       "\\item 1\n",
       "\\item 2\n",
       "\\item 1\n",
       "\\item 2\n",
       "\\item 1\n",
       "\\item 2\n",
       "\\item 1\n",
       "\\item 2\n",
       "\\item 1\n",
       "\\item 2\n",
       "\\item 1\n",
       "\\item 2\n",
       "\\item 1\n",
       "\\item 2\n",
       "\\item 1\n",
       "\\item 2\n",
       "\\item 1\n",
       "\\item 2\n",
       "\\item 1\n",
       "\\item 2\n",
       "\\item 1\n",
       "\\item 2\n",
       "\\item 1\n",
       "\\item 2\n",
       "\\item 1\n",
       "\\item 2\n",
       "\\item 1\n",
       "\\item 2\n",
       "\\item 1\n",
       "\\item 2\n",
       "\\item 1\n",
       "\\item 2\n",
       "\\item 1\n",
       "\\item 2\n",
       "\\item 1\n",
       "\\item 2\n",
       "\\item 1\n",
       "\\item 2\n",
       "\\item 1\n",
       "\\item 2\n",
       "\\item 1\n",
       "\\item 2\n",
       "\\item 1\n",
       "\\item 2\n",
       "\\item 1\n",
       "\\item 2\n",
       "\\item 1\n",
       "\\item 2\n",
       "\\item 1\n",
       "\\item 2\n",
       "\\item 1\n",
       "\\item ⋯\n",
       "\\item 2\n",
       "\\item 1\n",
       "\\item 2\n",
       "\\item 1\n",
       "\\item 2\n",
       "\\item 1\n",
       "\\item 2\n",
       "\\item 1\n",
       "\\item 2\n",
       "\\item 1\n",
       "\\item 2\n",
       "\\item 1\n",
       "\\item 2\n",
       "\\item 1\n",
       "\\item 2\n",
       "\\item 1\n",
       "\\item 2\n",
       "\\item 1\n",
       "\\item 2\n",
       "\\item 1\n",
       "\\item 2\n",
       "\\item 1\n",
       "\\item 2\n",
       "\\item 1\n",
       "\\item 2\n",
       "\\item 1\n",
       "\\item 2\n",
       "\\item 1\n",
       "\\item 2\n",
       "\\item 1\n",
       "\\item 2\n",
       "\\item 1\n",
       "\\item 2\n",
       "\\item 1\n",
       "\\item 2\n",
       "\\item 1\n",
       "\\item 2\n",
       "\\item 1\n",
       "\\item 2\n",
       "\\item 1\n",
       "\\item 2\n",
       "\\item 1\n",
       "\\item 2\n",
       "\\item 1\n",
       "\\item 2\n",
       "\\item 1\n",
       "\\item 2\n",
       "\\item 1\n",
       "\\item 2\n",
       "\\item 1\n",
       "\\item 2\n",
       "\\item 1\n",
       "\\item 2\n",
       "\\item 1\n",
       "\\item 2\n",
       "\\item 1\n",
       "\\item 2\n",
       "\\item 1\n",
       "\\item 2\n",
       "\\item 1\n",
       "\\item 2\n",
       "\\item 1\n",
       "\\item 2\n",
       "\\item 1\n",
       "\\item 2\n",
       "\\item 1\n",
       "\\item 2\n",
       "\\item 1\n",
       "\\item 2\n",
       "\\item 1\n",
       "\\item 2\n",
       "\\item 1\n",
       "\\item 2\n",
       "\\item 1\n",
       "\\item 2\n",
       "\\item 1\n",
       "\\item 2\n",
       "\\item 1\n",
       "\\item 2\n",
       "\\item 1\n",
       "\\item 2\n",
       "\\item 1\n",
       "\\item 2\n",
       "\\item 1\n",
       "\\item 2\n",
       "\\item 1\n",
       "\\item 2\n",
       "\\item 1\n",
       "\\item 2\n",
       "\\item 1\n",
       "\\item 2\n",
       "\\item 1\n",
       "\\item 2\n",
       "\\item 1\n",
       "\\item 2\n",
       "\\item 1\n",
       "\\item 2\n",
       "\\item 1\n",
       "\\item 2\n",
       "\\item 1\n",
       "\\item 2\n",
       "\\item 1\n",
       "\\item 2\n",
       "\\item 1\n",
       "\\item 2\n",
       "\\item 1\n",
       "\\item 2\n",
       "\\item 1\n",
       "\\item 2\n",
       "\\item 1\n",
       "\\item 2\n",
       "\\item 1\n",
       "\\item 2\n",
       "\\item 1\n",
       "\\item 2\n",
       "\\item 1\n",
       "\\item 2\n",
       "\\item 1\n",
       "\\item 2\n",
       "\\item 1\n",
       "\\item 2\n",
       "\\item 1\n",
       "\\item 2\n",
       "\\item 1\n",
       "\\item 2\n",
       "\\item 1\n",
       "\\item 2\n",
       "\\item 1\n",
       "\\item 2\n",
       "\\item 1\n",
       "\\item 2\n",
       "\\item 1\n",
       "\\item 2\n",
       "\\item 1\n",
       "\\item 2\n",
       "\\item 1\n",
       "\\item 2\n",
       "\\item 1\n",
       "\\item 2\n",
       "\\item 1\n",
       "\\item 2\n",
       "\\item 1\n",
       "\\item 2\n",
       "\\item 1\n",
       "\\item 2\n",
       "\\item 1\n",
       "\\item 2\n",
       "\\item 1\n",
       "\\item 2\n",
       "\\item 1\n",
       "\\item 2\n",
       "\\item 1\n",
       "\\item 2\n",
       "\\item 1\n",
       "\\item 2\n",
       "\\item 1\n",
       "\\item 2\n",
       "\\item 1\n",
       "\\item 2\n",
       "\\item 1\n",
       "\\item 2\n",
       "\\item 1\n",
       "\\item 2\n",
       "\\item 1\n",
       "\\item 2\n",
       "\\item 1\n",
       "\\item 2\n",
       "\\item 1\n",
       "\\item 2\n",
       "\\item 1\n",
       "\\item 2\n",
       "\\item 1\n",
       "\\item 2\n",
       "\\item 1\n",
       "\\item 2\n",
       "\\item 1\n",
       "\\item 2\n",
       "\\item 1\n",
       "\\item 2\n",
       "\\item 1\n",
       "\\item 2\n",
       "\\item 1\n",
       "\\item 2\n",
       "\\item 1\n",
       "\\item 2\n",
       "\\item 1\n",
       "\\item 2\n",
       "\\item 1\n",
       "\\item 2\n",
       "\\item 1\n",
       "\\item 2\n",
       "\\item 1\n",
       "\\item 2\n",
       "\\item 1\n",
       "\\item 2\n",
       "\\item 1\n",
       "\\item 2\n",
       "\\item 1\n",
       "\\item 2\n",
       "\\item 1\n",
       "\\end{enumerate*}\n"
      ],
      "text/markdown": [
       "1. 2\n",
       "2. 1\n",
       "3. 2\n",
       "4. 1\n",
       "5. 2\n",
       "6. 1\n",
       "7. 2\n",
       "8. 1\n",
       "9. 2\n",
       "10. 1\n",
       "11. 2\n",
       "12. 1\n",
       "13. 2\n",
       "14. 1\n",
       "15. 2\n",
       "16. 1\n",
       "17. 2\n",
       "18. 1\n",
       "19. 2\n",
       "20. 1\n",
       "21. 2\n",
       "22. 1\n",
       "23. 2\n",
       "24. 1\n",
       "25. 2\n",
       "26. 1\n",
       "27. 2\n",
       "28. 1\n",
       "29. 2\n",
       "30. 1\n",
       "31. 2\n",
       "32. 1\n",
       "33. 2\n",
       "34. 1\n",
       "35. 2\n",
       "36. 1\n",
       "37. 2\n",
       "38. 1\n",
       "39. 2\n",
       "40. 1\n",
       "41. 2\n",
       "42. 1\n",
       "43. 2\n",
       "44. 1\n",
       "45. 2\n",
       "46. 1\n",
       "47. 2\n",
       "48. 1\n",
       "49. 2\n",
       "50. 1\n",
       "51. 2\n",
       "52. 1\n",
       "53. 2\n",
       "54. 1\n",
       "55. 2\n",
       "56. 1\n",
       "57. 2\n",
       "58. 1\n",
       "59. 2\n",
       "60. 1\n",
       "61. 2\n",
       "62. 1\n",
       "63. 2\n",
       "64. 1\n",
       "65. 2\n",
       "66. 1\n",
       "67. 2\n",
       "68. 1\n",
       "69. 2\n",
       "70. 1\n",
       "71. 2\n",
       "72. 1\n",
       "73. 2\n",
       "74. 1\n",
       "75. 2\n",
       "76. 1\n",
       "77. 2\n",
       "78. 1\n",
       "79. 2\n",
       "80. 1\n",
       "81. 2\n",
       "82. 1\n",
       "83. 2\n",
       "84. 1\n",
       "85. 2\n",
       "86. 1\n",
       "87. 2\n",
       "88. 1\n",
       "89. 2\n",
       "90. 1\n",
       "91. 2\n",
       "92. 1\n",
       "93. 2\n",
       "94. 1\n",
       "95. 2\n",
       "96. 1\n",
       "97. 2\n",
       "98. 1\n",
       "99. 2\n",
       "100. 1\n",
       "101. 2\n",
       "102. 1\n",
       "103. 2\n",
       "104. 1\n",
       "105. 2\n",
       "106. 1\n",
       "107. 2\n",
       "108. 1\n",
       "109. 2\n",
       "110. 1\n",
       "111. 2\n",
       "112. 1\n",
       "113. 2\n",
       "114. 1\n",
       "115. 2\n",
       "116. 1\n",
       "117. 2\n",
       "118. 1\n",
       "119. 2\n",
       "120. 1\n",
       "121. 2\n",
       "122. 1\n",
       "123. 2\n",
       "124. 1\n",
       "125. 2\n",
       "126. 1\n",
       "127. 2\n",
       "128. 1\n",
       "129. 2\n",
       "130. 1\n",
       "131. 2\n",
       "132. 1\n",
       "133. 2\n",
       "134. 1\n",
       "135. 2\n",
       "136. 1\n",
       "137. 2\n",
       "138. 1\n",
       "139. 2\n",
       "140. 1\n",
       "141. 2\n",
       "142. 1\n",
       "143. 2\n",
       "144. 1\n",
       "145. 2\n",
       "146. 1\n",
       "147. 2\n",
       "148. 1\n",
       "149. 2\n",
       "150. 1\n",
       "151. 2\n",
       "152. 1\n",
       "153. 2\n",
       "154. 1\n",
       "155. 2\n",
       "156. 1\n",
       "157. 2\n",
       "158. 1\n",
       "159. 2\n",
       "160. 1\n",
       "161. 2\n",
       "162. 1\n",
       "163. 2\n",
       "164. 1\n",
       "165. 2\n",
       "166. 1\n",
       "167. 2\n",
       "168. 1\n",
       "169. 2\n",
       "170. 1\n",
       "171. 2\n",
       "172. 1\n",
       "173. 2\n",
       "174. 1\n",
       "175. 2\n",
       "176. 1\n",
       "177. 2\n",
       "178. 1\n",
       "179. 2\n",
       "180. 1\n",
       "181. 2\n",
       "182. 1\n",
       "183. 2\n",
       "184. 1\n",
       "185. 2\n",
       "186. 1\n",
       "187. 2\n",
       "188. 1\n",
       "189. 2\n",
       "190. 1\n",
       "191. 2\n",
       "192. 1\n",
       "193. 2\n",
       "194. 1\n",
       "195. 2\n",
       "196. 1\n",
       "197. 2\n",
       "198. 1\n",
       "199. 2\n",
       "200. 1\n",
       "201. ⋯\n",
       "202. 2\n",
       "203. 1\n",
       "204. 2\n",
       "205. 1\n",
       "206. 2\n",
       "207. 1\n",
       "208. 2\n",
       "209. 1\n",
       "210. 2\n",
       "211. 1\n",
       "212. 2\n",
       "213. 1\n",
       "214. 2\n",
       "215. 1\n",
       "216. 2\n",
       "217. 1\n",
       "218. 2\n",
       "219. 1\n",
       "220. 2\n",
       "221. 1\n",
       "222. 2\n",
       "223. 1\n",
       "224. 2\n",
       "225. 1\n",
       "226. 2\n",
       "227. 1\n",
       "228. 2\n",
       "229. 1\n",
       "230. 2\n",
       "231. 1\n",
       "232. 2\n",
       "233. 1\n",
       "234. 2\n",
       "235. 1\n",
       "236. 2\n",
       "237. 1\n",
       "238. 2\n",
       "239. 1\n",
       "240. 2\n",
       "241. 1\n",
       "242. 2\n",
       "243. 1\n",
       "244. 2\n",
       "245. 1\n",
       "246. 2\n",
       "247. 1\n",
       "248. 2\n",
       "249. 1\n",
       "250. 2\n",
       "251. 1\n",
       "252. 2\n",
       "253. 1\n",
       "254. 2\n",
       "255. 1\n",
       "256. 2\n",
       "257. 1\n",
       "258. 2\n",
       "259. 1\n",
       "260. 2\n",
       "261. 1\n",
       "262. 2\n",
       "263. 1\n",
       "264. 2\n",
       "265. 1\n",
       "266. 2\n",
       "267. 1\n",
       "268. 2\n",
       "269. 1\n",
       "270. 2\n",
       "271. 1\n",
       "272. 2\n",
       "273. 1\n",
       "274. 2\n",
       "275. 1\n",
       "276. 2\n",
       "277. 1\n",
       "278. 2\n",
       "279. 1\n",
       "280. 2\n",
       "281. 1\n",
       "282. 2\n",
       "283. 1\n",
       "284. 2\n",
       "285. 1\n",
       "286. 2\n",
       "287. 1\n",
       "288. 2\n",
       "289. 1\n",
       "290. 2\n",
       "291. 1\n",
       "292. 2\n",
       "293. 1\n",
       "294. 2\n",
       "295. 1\n",
       "296. 2\n",
       "297. 1\n",
       "298. 2\n",
       "299. 1\n",
       "300. 2\n",
       "301. 1\n",
       "302. 2\n",
       "303. 1\n",
       "304. 2\n",
       "305. 1\n",
       "306. 2\n",
       "307. 1\n",
       "308. 2\n",
       "309. 1\n",
       "310. 2\n",
       "311. 1\n",
       "312. 2\n",
       "313. 1\n",
       "314. 2\n",
       "315. 1\n",
       "316. 2\n",
       "317. 1\n",
       "318. 2\n",
       "319. 1\n",
       "320. 2\n",
       "321. 1\n",
       "322. 2\n",
       "323. 1\n",
       "324. 2\n",
       "325. 1\n",
       "326. 2\n",
       "327. 1\n",
       "328. 2\n",
       "329. 1\n",
       "330. 2\n",
       "331. 1\n",
       "332. 2\n",
       "333. 1\n",
       "334. 2\n",
       "335. 1\n",
       "336. 2\n",
       "337. 1\n",
       "338. 2\n",
       "339. 1\n",
       "340. 2\n",
       "341. 1\n",
       "342. 2\n",
       "343. 1\n",
       "344. 2\n",
       "345. 1\n",
       "346. 2\n",
       "347. 1\n",
       "348. 2\n",
       "349. 1\n",
       "350. 2\n",
       "351. 1\n",
       "352. 2\n",
       "353. 1\n",
       "354. 2\n",
       "355. 1\n",
       "356. 2\n",
       "357. 1\n",
       "358. 2\n",
       "359. 1\n",
       "360. 2\n",
       "361. 1\n",
       "362. 2\n",
       "363. 1\n",
       "364. 2\n",
       "365. 1\n",
       "366. 2\n",
       "367. 1\n",
       "368. 2\n",
       "369. 1\n",
       "370. 2\n",
       "371. 1\n",
       "372. 2\n",
       "373. 1\n",
       "374. 2\n",
       "375. 1\n",
       "376. 2\n",
       "377. 1\n",
       "378. 2\n",
       "379. 1\n",
       "380. 2\n",
       "381. 1\n",
       "382. 2\n",
       "383. 1\n",
       "384. 2\n",
       "385. 1\n",
       "386. 2\n",
       "387. 1\n",
       "388. 2\n",
       "389. 1\n",
       "390. 2\n",
       "391. 1\n",
       "392. 2\n",
       "393. 1\n",
       "394. 2\n",
       "395. 1\n",
       "396. 2\n",
       "397. 1\n",
       "398. 2\n",
       "399. 1\n",
       "400. 2\n",
       "401. 1\n",
       "\n",
       "\n"
      ],
      "text/plain": [
       "   [1] 2 1 2 1 2 1 2 1 2 1 2 1 2 1 2 1 2 1 2 1 2 1 2 1 2 1 2 1 2 1 2 1 2 1 2 1 2\n",
       "  [38] 1 2 1 2 1 2 1 2 1 2 1 2 1 2 1 2 1 2 1 2 1 2 1 2 1 2 1 2 1 2 1 2 1 2 1 2 1\n",
       "  [75] 2 1 2 1 2 1 2 1 2 1 2 1 2 1 2 1 2 1 2 1 2 1 2 1 2 1 2 1 2 1 2 1 2 1 2 1 2\n",
       " [112] 1 2 1 2 1 2 1 2 1 2 1 2 1 2 1 2 1 2 1 2 1 2 1 2 1 2 1 2 1 2 1 2 1 2 1 2 1\n",
       " [149] 2 1 2 1 2 1 2 1 2 1 2 1 2 1 2 1 2 1 2 1 2 1 2 1 2 1 2 1 2 1 2 1 2 1 2 1 2\n",
       " [186] 1 2 1 2 1 2 1 2 1 2 1 2 1 2 1 2 1 2 1 2 1 2 1 2 1 2 1 2 1 2 1 2 1 2 1 2 1\n",
       " [223] 2 1 2 1 2 1 2 1 2 1 2 1 2 1 2 1 2 1 2 1 2 1 2 1 2 1 2 1 2 1 2 1 2 1 2 1 2\n",
       " [260] 1 2 1 2 1 2 1 2 1 2 1 2 1 2 1 2 1 2 1 2 1 2 1 2 1 2 1 2 1 2 1 2 1 2 1 2 1\n",
       " [297] 2 1 2 1 2 1 2 1 2 1 2 1 2 1 2 1 2 1 2 1 2 1 2 1 2 1 2 1 2 1 2 1 2 1 2 1 2\n",
       " [334] 1 2 1 2 1 2 1 2 1 2 1 2 1 2 1 2 1 2 1 2 1 2 1 2 1 2 1 2 1 2 1 2 1 2 1 2 1\n",
       " [371] 2 1 2 1 2 1 2 1 2 1 2 1 2 1 2 1 2 1 2 1 2 1 2 1 2 1 2 1 2 1 2 1 2 1 2 1 2\n",
       " [408] 1 2 1 2 1 2 1 2 1 2 1 2 1 2 1 2 1 2 1 2 1 2 1 2 1 2 1 2 1 2 1 2 1 2 1 2 1\n",
       " [445] 2 1 2 1 2 1 2 1 2 1 2 1 2 1 2 1 2 1 2 1 2 1 2 1 2 1 2 1 2 1 2 1 2 1 2 1 2\n",
       " [482] 1 2 1 2 1 2 1 2 1 2 1 2 1 2 1 2 1 2 1 2 1 2 1 2 1 2 1 2 1 2 1 2 1 2 1 2 1\n",
       " [519] 2 1 2 1 2 1 2 1 2 1 2 1 2 1 2 1 2 1 2 1 2 1 2 1 2 1 2 1 2 1 2 1 2 1 2 1 2\n",
       " [556] 1 2 1 2 1 2 1 2 1 2 1 2 1 2 1 2 1 2 1 2 1 2 1 2 1 2 1 2 1 2 1 2 1 2 1 2 1\n",
       " [593] 2 1 2 1 2 1 2 1 2 1 2 1 2 1 2 1 2 1 2 1 2 1 2 1 2 1 2 1 2 1 2 1 2 1 2 1 2\n",
       " [630] 1 2 1 2 1 2 1 2 1 2 1 2 1 2 1 2 1 2 1 2 1 2 1 2 1 2 1 2 1 2 1 2 1 2 1 2 1\n",
       " [667] 2 1 2 1 2 1 2 1 2 1 2 1 2 1 2 1 2 1 2 1 2 1 2 1 2 1 2 1 2 1 2 1 2 1 2 1 2\n",
       " [704] 1 2 1 2 1 2 1 2 1 2 1 2 1 2 1 2 1 2 1 2 1 2 1 2 1 2 1 2 1 2 1 2 1 2 1 2 1\n",
       " [741] 2 1 2 1 2 1 2 1 2 1 2 1 2 1 2 1 2 1 2 1 2 1 2 1 2 1 2 1 2 1 2 1 2 1 2 1 2\n",
       " [778] 1 2 1 2 1 2 1 2 1 2 1 2 1 2 1 2 1 2 1 2 1 2 1 2 1 2 1 2 1 2 1 2 1 2 1 2 1\n",
       " [815] 2 1 2 1 2 1 2 1 2 1 2 1 2 1 2 1 2 1 2 1 2 1 2 1 2 1 2 1 2 1 2 1 2 1 2 1 2\n",
       " [852] 1 2 1 2 1 2 1 2 1 2 1 2 1 2 1 2 1 2 1 2 1 2 1 2 1 2 1 2 1 2 1 2 1 2 1 2 1\n",
       " [889] 2 1 2 1 2 1 2 1 2 1 2 1 2 1 2 1 2 1 2 1 2 1 2 1 2 1 2 1 2 1 2 1 2 1 2 1 2\n",
       " [926] 1 2 1 2 1 2 1 2 1 2 1 2 1 2 1 2 1 2 1 2 1 2 1 2 1 2 1 2 1 2 1 2 1 2 1 2 1\n",
       " [963] 2 1 2 1 2 1 2 1 2 1 2 1 2 1 2 1 2 1 2 1 2 1 2 1 2 1 2 1 2 1 2 1 2 1 2 1 2\n",
       "[1000] 1 2 1 2 1 2 1 2 1 2 1 2 1 2 1 2 1 2 1 2 1 2 1 2 1 2 1 2 1 2 1 2 1 2 1 2 1\n",
       "[1037] 2 1 2 1 2 1 2 1 2 1 2 1 2 1 2 1 2 1 2 1 2 1 2 1 2 1 2 1 2 1 2 1 2 1 2 1 2\n",
       "[1074] 1 2 1 2 1 2 1 2 1 2 1 2 1 2 1 2 1 2 1 2 1 2 1 2 1 2 1 2 1 2 1 2 1 2 1 2 1\n",
       "[1111] 2 1 2 1 2 1 2 1 2 1 2 1 2 1 2 1 2 1 2 1 2 1 2 1 2 1 2 1 2 1 2 1 2 1 2 1 2\n",
       "[1148] 1 2 1 2 1 2 1 2 1 2 1 2 1 2 1 2 1 2 1 2 1 2 1 2 1 2 1 2 1 2 1 2 1 2 1 2 1\n",
       "[1185] 2 1 2 1 2 1 2 1 2 1 2 1 2 1 2 1 2 1 2 1 2 1 2 1 2 1 2 1 2 1 2 1 2 1 2 1 2\n",
       "[1222] 1 2 1 2 1 2 1 2 1 2 1 2 1 2 1 2 1 2 1 2 1 2 1 2 1 2 1 2 1 2 1 2 1 2 1 2 1\n",
       "[1259] 2 1 2 1 2 1 2 1 2 1 2 1 2 1 2 1 2 1 2 1 2 1 2 1 2 1 2 1 2 1 2 1 2 1 2 1 2\n",
       "[1296] 1 2 1 2 1 2 1 2 1 2 1 2 1 2 1 2 1 2 1 2 1 2 1 2 1 2 1 2 1 2 1 2 1 2 1 2 1\n",
       "[1333] 2 1 2 1 2 1 2 1 2 1 2 1 2 1 2 1 2 1 2 1 2 1 2 1 2 1 2 1 2 1 2 1 2 1 2 1 2\n",
       "[1370] 1 2 1 2 1 2 1 2 1 2 1 2 1 2 1 2 1 2 1 2 1 2 1 2 1 2 1 2 1 2 1 2 1 2 1 2 1\n",
       "[1407] 2 1 2 1 2 1 2 1 2 1 2 1 2 1 2 1 2 1 2 1 2 1 2 1 2 1 2 1 2 1 2 1 2 1 2 1 2\n",
       "[1444] 1 2 1 2 1 2 1 2 1 2 1 2 1 2 1 2 1 2 1 2 1 2 1 2 1 2 1 2 1 2 1 2 1 2 1 2 1\n",
       "[1481] 2 1 2 1 2 1 2 1 2 1 2 1 2 1 2 1 2 1 2 1 2 1 2 1 2 1 2 1 2 1 2 1 2 1 2 1 2\n",
       "[1518] 1 2 1 2 1 2 1 2 1 2 1 2 1 2 1 2 1 2 1 2 1 2 1 2 1 2 1 2 1 2 1 2 1 2 1 2 1\n",
       "[1555] 2 1 2 1 2 1 2 1 2 1 2 1 2 1 2 1 2 1 2 1 2 1 2 1 2 1 2 1 2 1 2 1 2 1 2 1 2\n",
       "[1592] 1 2 1 2 1 2 1 2 1 2 1 2 1 2 1 2 1 2 1 2 1 2 1 2 1 2 1 2 1 2 1 2 1 2 1 2 1\n",
       "[1629] 2 1 2 1 2 1 2 1 2 1 2 1 2 1 2 1 2 1 2 1 2 1 2 1 2 1 2 1 2 1 2 1 2 1 2 1 2\n",
       "[1666] 1 2 1 2 1 2 1 2 1 2 1 2 1 2 1 2 1 2 1 2 1 2 1 2 1 2 1 2 1 2 1 2 1 2 1 2 1\n",
       "[1703] 2 1 2 1 2 1 2 1 2 1 2 1 2 1 2 1 2 1 2 1 2 1 2 1 2 1 2 1 2 1 2 1 2 1 2 1 2\n",
       "[1740] 1 2 1 2 1 2 1 2 1 2 1 2 1 2 1 2 1 2 1 2 1 2 1 2 1 2 1 2 1 2 1 2 1 2 1 2 1\n",
       "[1777] 2 1 2 1 2 1 2 1 2 1 2 1 2 1 2 1 2 1 2 1 2 1 2 1 2 1 2 1 2 1 2 1 2 1 2 1 2\n",
       "[1814] 1 2 1 2 1 2 1 2 1 2 1 2 1 2 1 2 1 2 1 2 1 2 1 2 1 2 1 2 1 2 1 2 1 2 1 2 1\n",
       "[1851] 2 1 2 1 2 1 2 1 2 1 2 1 2 1 2 1 2 1 2 1 2 1 2 1 2 1 2 1 2 1 2 1 2 1 2 1 2\n",
       "[1888] 1 2 1 2 1 2 1 2 1 2 1 2 1 2 1 2 1 2 1 2 1 2 1 2 1 2 1 2 1 2 1 2 1 2 1 2 1\n",
       "[1925] 2 1 2 1 2 1 2 1 2 1 2 1 2 1 2 1 2 1 2 1 2 1 2 1 2 1 2 1 2 1 2 1 2 1 2 1 2\n",
       "[1962] 1 2 1 2 1 2 1 2 1 2 1 2 1 2 1 2 1 2 1 2 1 2 1 2 1 2 1 2 1 2 1 2 1 2 1 2 1\n",
       "[1999] 2 1 2 1 2 1 2 1 2 1 2 1 2 1 2 1 2 1 2 1 2 1 2 1 2 1 2 1 2 1 2 1 2 1 2 1 2\n",
       "[2036] 1 2 1 2 1 2 1 2 1 2 1 2 1 2 1 2 1 2 1 2 1 2 1 2 1 2 1 2 1 2 1 2 1 2 1 2 1\n",
       "[2073] 2 1 2 1 2 1 2 1 2 1 2 1 2 1 2 1 2 1 2 1 2 1 2 1 2 1 2 1 2 1 2 1 2 1 2 1 2\n",
       "[2110] 1 2 1 2 1 2 1 2 1 2 1 2 1 2 1 2 1 2 1 2 1 2 1 2 1 2 1 2 1 2 1 2 1 2 1 2 1\n",
       "[2147] 2 1 2 1 2 1 2 1 2 1 2 1 2 1 2 1 2 1 2 1 2 1 2 1 2 1 2 1 2 1 2 1 2 1 2 1 2\n",
       "[2184] 1 2 1 2 1 2 1 2 1 2 1 2 1 2 1 2 1 2 1 2 1 2 1 2 1 2 1 2 1 2 1 2 1 2 1 2 1\n",
       "[2221] 2 1 2 1 2 1 2 1 2 1 2 1 2 1 2 1 2 1 2 1 2 1 2 1 2 1 2 1 2 1 2 1 2 1 2 1 2\n",
       "[2258] 1 2 1 2 1 2 1 2 1 2 1 2 1 2 1 2 1 2 1 2 1 2 1 2 1 2 1 2 1 2 1 2 1 2 1 2 1\n",
       "[2295] 2 1 2 1 2 1 2 1 2 1 2 1 2 1 2 1 2 1 2 1 2 1 2 1 2 1 2 1 2 1 2 1 2 1 2 1 2\n",
       "[2332] 1 2 1 2 1 2 1 2 1 2 1 2 1 2 1 2 1 2 1 2 1 2 1 2 1 2 1 2 1 2 1 2 1 2 1 2 1\n",
       "[2369] 2 1 2 1 2 1 2 1 2 1 2 1 2 1 2 1 2 1 2 1 2 1 2 1 2 1 2 1 2 1 2 1 2 1 2 1 2\n",
       "[2406] 1 2 1 2 1 2 1 2 1 2 1 2 1 2 1 2 1 2 1 2 1 2 1 2 1 2 1 2 1 2 1 2 1 2 1 2 1\n",
       "[2443] 2 1 2 1 2 1 2 1 2 1 2 1 2 1 2 1 2 1 2 1 2 1 2 1 2 1 2 1 2 1 2 1 2 1 2 1 2\n",
       "[2480] 1 2 1 2 1 2 1 2 1 2 1 2 1 2 1 2 1 2 1 2 1 2 1 2 1 2 1 2 1 2 1 2 1 2 1 2 1\n",
       "[2517] 2 1 2 1 2 1 2 1 2 1 2 1 2 1 2 1 2 1 2 1 2 1 2 1 2 1 2 1 2 1 2 1 2 1 2 1 2\n",
       "[2554] 1 2 1 2 1 2 1 2 1 2 1 2 1 2 1 2 1 2 1 2 1 2 1 2 1 2 1 2 1 2 1 2 1 2 1 2 1\n",
       "[2591] 2 1 2 1 2 1 2 1 2 1 2 1 2 1 2 1 2 1 2 1 2 1 2 1 2 1 2 1 2 1 2 1 2 1 2 1 2\n",
       "[2628] 1 2 1 2 1 2 1 2 1 2 1 2 1 2 1 2 1 2 1 2 1 2 1 2 1 2 1 2 1 2 1 2 1 2 1 2 1\n",
       "[2665] 2 1 2 1 2 1 2 1 2 1 2 1 2 1 2 1 2 1 2 1 2 1 2 1 2 1 2 1 2 1 2 1 2 1 2 1 2\n",
       "[2702] 1 2 1 2 1 2 1 2 1 2 1 2 1 2 1 2 1 2 1 2 1 2 1 2 1 2 1 2 1 2 1 2 1 2 1 2 1\n",
       "[2739] 2 1 2 1 2 1 2 1 2 1 2 1 2 1 2 1 2 1 2 1 2 1 2 1 2 1 2 1 2 1 2 1 2 1 2 1 2\n",
       "[2776] 1 2 1 2 1 2 1 2 1 2 1 2 1 2 1 2 1 2 1 2 1 2 1 2 1 2 1 2 1 2 1 2 1 2 1 2 1\n",
       "[2813] 2 1 2 1 2 1 2 1 2 1 2 1 2 1 2 1 2 1 2 1 2 1 2 1 2 1 2 1 2 1 2 1 2 1 2 1 2\n",
       "[2850] 1 2 1 2 1 2 1 2 1 2 1 2 1 2 1 2 1 2 1 2 1 2 1 2 1 2 1 2 1 2 1 2 1 2 1 2 1\n",
       "[2887] 2 1 2 1 2 1 2 1 2 1 2 1 2 1 2 1 2 1 2 1 2 1 2 1 2 1 2 1 2 1 2 1 2 1 2 1 2\n",
       "[2924] 1 2 1 2 1 2 1 2 1 2 1 2 1 2 1 2 1 2 1 2 1 2 1 2 1 2 1 2 1 2 1 2 1 2 1 2 1\n",
       "[2961] 2 1 2 1 2 1 2 1 2 1 2 1 2 1 2 1 2 1 2 1 2 1 2 1 2 1 2 1 2 1 2 1 2 1 2 1 2\n",
       "[2998] 1 2 1 2 1 2 1 2 1 2 1 2 1 2 1 2 1 2 1 2 1 2 1 2 1 2 1 2 1 2 1 2 1 2 1 2 1\n",
       "[3035] 2 1 2 1 2 1 2 1 2 1 2 1 2 1 2 1 2 1 2 1 2 1 2 1 2 1 2 1 2 1 2 1 2 1 2 1 2\n",
       "[3072] 1 2 1 2 1 2 1 2 1 2 1 2 1 2 1 2 1 2 1 2 1 2 1 2 1 2 1 2 1 2 1 2 1 2 1 2 1\n",
       "[3109] 2 1 2 1 2 1 2 1 2 1 2 1 2 1 2 1 2 1 2 1 2 1 2 1 2 1 2 1 2 1 2 1 2 1 2 1 2\n",
       "[3146] 1 2 1 2 1 2 1 2 1 2 1 2 1 2 1 2 1 2 1 2 1 2 1 2 1 2 1 2 1 2 1 2 1 2 1 2 1\n",
       "[3183] 2 1 2 1 2 1 2 1 2 1 2 1 2 1 2 1 2 1 2 1 2 1 2 1 2 1 2 1 2 1 2 1 2 1 2 1 2\n",
       "[3220] 1 2 1 2 1 2 1 2 1 2 1 2 1 2 1 2 1 2 1 2 1 2 1 2 1 2 1 2 1 2 1 2 1 2 1 2 1\n",
       "[3257] 2 1 2 1 2 1 2 1 2 1 2 1 2 1 2 1 2 1 2 1 2 1 2 1 2 1 2 1 2 1 2 1 2 1 2 1 2\n",
       "[3294] 1 2 1 2 1 2 1 2 1 2 1 2 1 2 1 2 1 2 1 2 1 2 1 2 1 2 1 2 1 2 1 2 1 2 1 2 1\n",
       "[3331] 2 1 2 1 2 1 2 1 2 1 2 1 2 1 2 1 2 1 2 1 2 1 2 1 2 1 2 1 2 1 2 1 2 1 2 1 2\n",
       "[3368] 1 2 1 2 1 2 1 2 1 2 1 2 1 2 1 2 1 2 1 2 1 2 1 2 1 2 1 2 1 2 1 2 1 2 1 2 1\n",
       "[3405] 2 1 2 1 2 1 2 1 2 1 2 1 2 1 2 1 2 1 2 1 2 1 2 1 2 1 2 1 2 1 2 1 2 1 2 1 2\n",
       "[3442] 1 2 1 2 1 2 1 2 1 2 1 2 1 2 1 2 1 2 1 2 1 2 1 2 1 2 1 2 1 2 1 2 1 2 1 2 1\n",
       "[3479] 2 1 2 1 2 1 2 1 2 1 2 1 2 1 2 1 2 1 2 1 2 1 2 1 2 1 2 1 2 1 2 1 2 1 2 1 2\n",
       "[3516] 1 2 1 2 1 2 1 2 1 2 1 2 1 2 1 2 1 2 1 2 1 2 1 2 1 2 1 2 1 2 1 2 1 2 1 2 1\n",
       "[3553] 2 1 2 1 2 1 2 1 2 1 2 1 2 1 2 1 2 1 2 1 2 1 2 1 2 1 2 1 2 1 2 1 2 1 2 1 2\n",
       "[3590] 1 2 1 2 1 2 1 2 1 2 1 2 1 2 1 2 1 2 1 2 1 2 1 2 1 2 1 2 1 2 1 2 1 2 1 2 1\n",
       "[3627] 2 1 2 1 2 1 2 1 2 1 2 1 2 1 2 1 2 1 2 1 2 1 2 1 2 1 2 1 2 1 2 1 2 1 2 1 2\n",
       "[3664] 1 2 1 2 1 2 1 2 1 2 1 2 1 2 1 2 1 2 1 2 1 2 1 2 1 2 1 2 1 2 1 2 1 2 1 2 1\n",
       "[3701] 2 1 2 1 2 1 2 1 2 1 2 1 2 1 2 1 2 1 2 1 2 1 2 1 2 1 2 1 2 1 2 1 2 1 2 1 2\n",
       "[3738] 1 2 1 2 1 2 1 2 1 2 1 2 1 2 1 2 1 2 1 2 1 2 1 2 1 2 1 2 1 2 1 2 1 2 1 2 1\n",
       "[3775] 2 1 2 1 2 1 2 1 2 1 2 1 2 1 2 1 2 1 2 1 2 1 2 1 2 1 2 1 2 1 2 1 2 1 2 1 2\n",
       "[3812] 1 2 1 2 1 2 1 2 1 2 1 2 1 2 1 2 1 2 1 2 1 2 1 2 1 2 1 2 1 2 1 2 1 2 1 2 1\n",
       "[3849] 2 1 2 1 2 1 2 1 2 1 2 1 2 1 2 1 2 1 2 1 2 1 2 1 2 1 2 1 2 1 2 1 2 1 2 1 2\n",
       "[3886] 1 2 1 2 1 2 1 2 1 2 1 2 1 2 1 2 1 2 1 2 1 2 1 2 1 2 1 2 1 2 1 2 1 2 1 2 1\n",
       "[3923] 2 1 2 1 2 1 2 1 2 1 2 1 2 1 2 1 2 1 2 1 2 1 2 1 2 1 2 1 2 1 2 1 2 1 2 1 2\n",
       "[3960] 1 2 1 2 1 2 1 2 1 2 1 2 1 2 1 2 1 2 1 2 1 2 1 2 1 2 1 2 1 2 1 2 1 2 1 2 1\n",
       "[3997] 2 1 2 1 2 1 2 1 2 1 2 1 2 1 2 1 2 1 2 1 2 1 2 1 2 1 2 1 2 1 2 1 2 1 2 1 2\n",
       "[4034] 1 2 1 2 1 2 1 2 1 2 1 2 1 2 1 2 1 2 1 2 1 2 1 2 1 2 1 2 1 2 1 2 1 2 1 2 1\n",
       "[4071] 2 1 2 1 2 1 2 1 2 1 2 1 2 1 2 1 2 1 2 1 2 1 2 1 2 1 2 1 2 1 2 1 2 1 2 1 2\n",
       "[4108] 1 2 1 2 1 2 1 2 1 2 1 2 1 2 1 2 1 2 1 2 1 2 1 2 1 2 1 2 1 2 1 2 1 2 1 2 1\n",
       "[4145] 2 1 2 1 2 1 2 1 2 1 2 1 2 1 2 1 2 1 2 1 2 1 2 1 2 1 2 1 2 1 2 1 2 1 2 1 2\n",
       "[4182] 1 2 1 2 1 2 1 2 1 2 1 2 1 2 1 2 1 2 1 2 1 2 1 2 1 2 1 2 1 2 1 2 1 2 1 2 1\n",
       "[4219] 2 1 2 1 2 1 2 1 2 1 2 1 2 1 2 1 2 1 2 1 2 1 2 1 2 1 2 1 2 1 2 1 2 1 2 1 2\n",
       "[4256] 1 2 1 2 1 2 1 2 1 2 1 2 1 2 1 2 1 2 1 2 1 2 1 2 1 2 1 2 1 2 1 2 1 2 1 2 1\n",
       "[4293] 2 1 2 1 2 1 2 1 2 1 2 1 2 1 2 1 2 1 2 1 2 1 2 1 2 1 2 1 2 1 2 1 2 1 2 1 2\n",
       "[4330] 1 2 1 2 1 2 1 2 1 2 1 2 1 2 1 2 1 2 1 2 1 2 1 2 1 2 1 2 1 2 1 2 1 2 1 2 1\n",
       "[4367] 2 1 2 1 2 1 2 1 2 1 2 1 2 1 2 1 2 1 2 1 2 1 2 1 2 1 2 1 2 1 2 1 2 1 2 1 2\n",
       "[4404] 1 2 1 2 1 2 1 2 1 2 1 2 1 2 1 2 1 2 1 2 1 2 1 2 1 2 1 2 1 2 1 2 1 2 1 2 1\n",
       "[4441] 2 1 2 1 2 1 2 1 2 1 2 1 2 1 2 1 2 1 2 1 2 1 2 1 2 1 2 1 2 1 2 1 2 1 2 1 2\n",
       "[4478] 1 2 1 2 1 2 1 2 1 2 1 2 1 2 1 2 1 2 1 2 1 2 1 2 1 2 1 2 1 2 1 2 1 2 1 2 1\n",
       "[4515] 2 1 2 1 2 1 2 1 2 1 2 1 2 1 2 1 2 1 2 1 2 1 2 1 2 1 2 1 2 1 2 1 2 1 2 1 2\n",
       "[4552] 1 2 1 2 1 2 1 2 1 2 1 2 1 2 1 2 1 2 1 2 1 2 1 2 1 2 1 2 1 2 1 2 1 2 1 2 1\n",
       "[4589] 2 1 2 1 2 1 2 1 2 1 2 1 2 1 2 1 2 1 2 1 2 1 2 1 2 1 2 1 2 1 2 1 2 1 2 1 2\n",
       "[4626] 1 2 1 2 1 2 1 2 1 2 1 2 1 2 1 2 1 2 1 2 1 2 1 2 1 2 1 2 1 2 1 2 1 2 1 2 1\n",
       "[4663] 2 1 2 1 2 1 2 1 2 1 2 1 2 1 2 1 2 1 2 1 2 1 2 1 2 1 2 1 2 1 2 1 2 1 2 1 2\n",
       "[4700] 1 2 1 2 1 2 1 2 1 2 1 2 1 2 1 2 1 2 1 2 1 2 1 2 1 2 1 2 1 2 1 2 1 2 1 2 1\n",
       "[4737] 2 1 2 1 2 1 2 1 2 1 2 1 2 1 2 1 2 1 2 1 2 1 2 1 2 1 2 1 2 1 2 1 2 1 2 1 2\n",
       "[4774] 1 2 1 2 1 2 1 2 1 2 1 2 1 2 1 2 1 2 1 2 1 2 1 2 1 2 1 2 1 2 1 2 1 2 1 2 1\n",
       "[4811] 2 1 2 1 2 1 2 1 2 1 2 1 2 1 2 1 2 1 2 1 2 1 2 1 2 1 2 1 2 1 2 1 2 1 2 1 2\n",
       "[4848] 1 2 1 2 1 2 1 2 1 2 1 2 1 2 1 2 1 2 1 2 1 2 1 2 1 2 1 2 1 2 1 2 1 2 1 2 1\n",
       "[4885] 2 1 2 1 2 1 2 1 2 1 2 1 2 1 2 1 2 1 2 1 2 1 2 1 2 1 2 1 2 1 2 1 2 1 2 1 2\n",
       "[4922] 1 2 1 2 1 2 1 2 1 2 1 2 1 2 1 2 1 2 1 2 1 2 1 2 1 2 1 2 1 2 1 2 1 2 1 2 1\n",
       "[4959] 2 1 2 1 2 1 2 1 2 1 2 1 2 1 2 1 2 1 2 1 2 1 2 1 2 1 2 1 2 1 2 1 2 1 2 1 2\n",
       "[4996] 1 2 1 2 1 2 1 2 1 2 1 2 1 2 1 2 1 2 1 2 1 2 1 2 1 2 1 2 1 2 1 2 1 2 1 2 1\n",
       "[5033] 2 1 2 1 2 1 2 1 2 1 2 1 2 1 2 1 2 1 2 1 2 1 2 1 2 1 2 1 2 1 2 1 2 1 2 1 2\n",
       "[5070] 1 2 1 2 1 2 1 2 1 2 1 2 1 2 1 2 1 2 1 2 1 2 1 2 1 2 1 2 1 2 1 2 1 2 1 2 1\n",
       "[5107] 2 1 2 1 2 1 2 1 2 1 2 1 2 1 2 1 2 1 2 1 2 1 2 1 2 1 2 1 2 1 2 1 2 1 2 1 2\n",
       "[5144] 1 2 1 2 1 2 1 2 1 2 1 2 1 2 1 2 1 2 1 2 1 2 1 2 1 2 1 2 1 2 1 2 1 2 1 2 1\n",
       "[5181] 2 1 2 1 2 1 2 1 2 1 2 1 2 1 2 1 2 1 2 1 2 1 2 1 2 1 2 1 2 1 2 1 2 1 2 1 2\n",
       "[5218] 1 2 1 2 1 2 1 2 1 2 1 2 1 2 1 2 1 2 1 2 1 2 1 2 1 2 1 2 1 2 1 2 1 2 1 2 1\n",
       "[5255] 2 1 2 1 2 1 2 1 2 1 2 1 2 1 2 1 2 1 2 1 2 1 2 1 2 1 2 1 2 1 2 1 2 1 2 1 2\n",
       "[5292] 1 2 1 2 1 2 1 2 1 2 1 2 1 2 1 2 1 2 1 2 1 2 1 2 1 2 1 2 1 2 1 2 1 2 1 2 1\n",
       "[5329] 2 1 2 1 2 1 2 1 2 1 2 1 2 1 2 1 2 1 2 1 2 1 2 1 2 1 2 1 2 1 2 1 2 1 2 1 2\n",
       "[5366] 1 2 1 2 1 2 1 2 1 2 1 2 1 2 1 2 1 2 1 2 1 2 1 2 1 2 1 2 1 2 1 2 1 2 1 2 1\n",
       "[5403] 2 1 2 1 2 1 2 1 2 1 2 1 2 1 2 1 2 1 2 1 2 1 2 1 2 1 2 1 2 1 2 1 2 1 2 1 2\n",
       "[5440] 1 2 1 2 1 2 1 2 1 2 1 2 1 2 1 2 1 2 1 2 1 2 1 2 1 2 1 2 1 2 1 2 1 2 1 2 1\n",
       "[5477] 2 1 2 1 2 1 2 1 2 1 2 1 2 1 2 1 2 1 2 1 2 1 2 1 2 1 2 1 2 1 2 1 2 1 2 1 2\n",
       "[5514] 1 2 1 2 1 2 1 2 1 2 1 2 1 2 1 2 1 2 1 2 1 2 1 2 1 2 1 2 1 2 1 2 1 2 1 2 1\n",
       "[5551] 2 1 2 1 2 1 2 1 2 1 2 1 2 1 2 1 2 1 2 1 2 1 2 1 2 1 2 1 2 1 2 1 2 1 2 1 2\n",
       "[5588] 1 2 1 2 1 2 1 2 1 2 1 2 1 2 1 2 1 2 1 2 1 2 1 2 1 2 1 2 1 2 1 2 1 2 1 2 1\n",
       "[5625] 2 1 2 1 2 1 2 1 2 1 2 1 2 1 2 1 2 1 2 1 2 1 2 1 2 1 2 1 2 1 2 1 2 1 2 1 2\n",
       "[5662] 1 2 1 2 1 2 1 2 1 2 1 2 1 2 1 2 1 2 1 2 1 2 1 2 1 2 1 2 1 2 1 2 1 2 1 2 1\n",
       "[5699] 2 1 2 1 2 1 2 1 2 1 2 1 2 1 2 1 2 1 2 1 2 1 2 1 2 1 2 1 2 1 2 1 2 1 2 1 2\n",
       "[5736] 1 2 1 2 1 2 1 2 1 2 1 2 1 2 1 2 1 2 1 2 1 2 1 2 1 2 1 2 1 2 1 2 1 2 1 2 1\n",
       "[5773] 2 1 2 1 2 1 2 1 2 1 2 1 2 1 2 1 2 1 2 1 2 1 2 1 2 1 2 1 2 1 2 1 2 1 2 1 2\n",
       "[5810] 1 2 1 2 1 2 1 2 1 2 1 2 1 2 1 2 1 2 1 2 1 2 1 2 1 2 1 2 1 2 1 2 1 2 1 2 1\n",
       "[5847] 2 1 2 1 2 1 2 1 2 1 2 1 2 1 2 1 2 1 2 1 2 1 2 1 2 1 2 1 2 1 2 1 2 1 2 1 2\n",
       "[5884] 1 2 1 2 1 2 1 2 1 2 1 2 1 2 1 2 1 2 1 2 1 2 1 2 1 2 1 2 1 2 1 2 1 2 1 2 1\n",
       "[5921] 2 1 2 1 2 1 2 1 2 1 2 1 2 1 2 1 2 1 2 1 2 1 2 1 2 1 2 1 2 1 2 1 2 1 2 1 2\n",
       "[5958] 1 2 1 2 1 2 1 2 1 2 1 2 1 2 1 2 1 2 1 2 1 2 1 2 1 2 1 2 1 2 1 2 1 2 1 2 1\n",
       "[5995] 2 1 2 1 2 1 2 1 2 1 2 1 2 1 2 1 2 1 2 1 2 1 2 1 2 1 2 1 2 1 2 1 2 1 2 1 2\n",
       "[6032] 1 2 1 2 1 2 1 2 1 2 1 2 1 2 1 2 1 2 1 2 1 2 1 2 1 2 1 2 1 2 1 2 1 2 1 2 1\n",
       "[6069] 2 1 2 1 2 1 2 1 2 1 2 1 2 1 2 1 2 1 2 1 2 1 2 1 2 1 2 1 2 1 2 1 2 1 2 1 2\n",
       "[6106] 1 2 1 2 1 2 1 2 1 2 1 2 1 2 1 2 1 2 1 2 1 2 1 2 1 2 1 2 1 2 1 2 1 2 1 2 1\n",
       "[6143] 2 1 2 1 2 1 2 1 2 1 2 1 2 1 2 1 2 1 2 1 2 1 2 1 2 1 2 1 2 1 2 1 2 1 2 1 2\n",
       "[6180] 1 2 1 2 1 2 1 2 1 2 1 2 1 2 1 2 1 2 1 2 1 2 1 2 1 2 1 2 1 2 1 2 1 2 1 2 1\n",
       "[6217] 2 1 2 1 2 1 2 1 2 1 2 1 2 1 2 1 2 1 2 1 2 1 2 1 2 1 2 1 2 1 2 1 2 1 2 1 2\n",
       "[6254] 1 2 1 2 1 2 1 2 1 2 1 2 1 2 1 2 1 2 1 2 1 2 1 2 1 2 1 2 1 2 1 2 1 2 1 2 1\n",
       "[6291] 2 1 2 1 2 1 2 1 2 1 2 1 2 1 2 1 2 1 2 1 2 1 2 1 2 1 2 1 2 1 2 1 2 1 2 1 2\n",
       "[6328] 1 2 1 2 1 2 1 2 1 2 1 2 1 2 1 2 1 2 1 2 1 2 1 2 1 2 1 2 1 2 1 2 1 2 1 2 1\n",
       "[6365] 2 1 2 1 2 1 2 1 2 1 2 1 2 1 2 1 2 1 2 1 2 1 2 1 2 1 2 1 2 1 2 1 2 1 2 1 2\n",
       "[6402] 1 2 1 2 1 2 1 2 1 2 1 2 1 2 1 2 1 2 1 2 1 2 1 2 1 2 1 2 1 2 1 2 1 2 1 2 1\n",
       "[6439] 2 1 2 1 2 1 2 1 2 1 2 1 2 1 2 1 2 1 2 1 2 1 2 1 2 1 2 1 2 1 2 1 2 1 2 1 2\n",
       "[6476] 1 2 1 2 1 2 1 2 1 2 1 2 1 2 1 2 1 2 1 2 1 2 1 2 1 2 1 2 1 2 1 2 1 2 1 2 1\n",
       "[6513] 2 1 2 1 2 1 2 1 2 1 2 1 2 1 2 1 2 1 2 1 2 1 2 1 2 1 2 1 2 1 2 1 2 1 2 1 2\n",
       "[6550] 1 2 1 2 1 2 1 2 1 2 1 2 1 2 1 2 1 2 1 2 1 2 1 2 1 2 1 2 1 2 1 2 1 2 1 2 1\n",
       "[6587] 2 1 2 1 2 1 2 1 2 1 2 1 2 1 2 1 2 1 2 1 2 1 2 1 2 1 2 1 2 1 2 1 2 1 2 1 2\n",
       "[6624] 1 2 1 2 1 2 1 2 1 2 1 2 1 2 1 2 1 2 1 2 1 2 1 2 1 2 1 2 1 2 1 2 1 2 1 2 1\n",
       "[6661] 2 1 2 1 2 1 2 1 2 1 2 1 2 1 2 1 2 1 2 1 2 1 2 1 2 1 2 1 2 1 2 1 2 1 2 1 2\n",
       "[6698] 1 2 1 2 1 2 1 2 1 2 1 2 1 2 1 2 1 2 1 2 1 2 1 2 1 2 1 2 1 2 1 2 1 2 1 2 1\n",
       "[6735] 2 1 2 1 2 1 2 1 2 1 2 1 2 1 2 1 2 1 2 1 2 1 2 1 2 1 2 1 2 1 2 1 2 1 2 1 2\n",
       "[6772] 1 2 1 2 1 2 1 2 1 2 1 2 1 2 1 2 1 2 1 2 1 2 1 2 1 2 1 2 1 2 1 2 1 2 1 2 1\n",
       "[6809] 2 1 2 1 2 1 2 1 2 1 2 1 2 1 2 1 2 1 2 1 2 1 2 1 2 1 2 1 2 1 2 1 2 1 2 1 2\n",
       "[6846] 1 2 1 2 1 2 1 2 1 2 1 2 1 2 1 2 1 2 1 2 1 2 1 2 1 2 1 2 1 2 1 2 1 2 1 2 1\n",
       "[6883] 2 1 2 1 2 1 2 1 2 1 2 1 2 1 2 1 2 1 2 1 2 1 2 1 2 1 2 1 2 1 2 1 2 1 2 1 2\n",
       "[6920] 1 2 1 2 1 2 1 2 1 2 1 2 1 2 1 2 1 2 1 2 1 2 1 2 1 2 1 2 1 2 1 2 1 2 1 2 1\n",
       "[6957] 2 1 2 1 2 1 2 1 2 1 2 1 2 1 2 1 2 1 2 1 2 1 2 1 2 1 2 1 2 1 2 1 2 1 2 1 2\n",
       "[6994] 1 2 1 2 1 2 1 2 1 2 1 2 1 2 1 2 1 2 1 2 1 2 1 2 1 2 1 2 1 2 1 2 1 2 1 2 1\n",
       "[7031] 2 1 2 1 2 1 2 1 2 1 2 1 2 1 2 1 2 1 2 1 2 1 2 1 2 1 2 1 2 1 2 1 2 1 2 1 2\n",
       "[7068] 1 2 1 2 1 2 1 2 1 2 1 2 1 2 1 2 1 2 1 2 1 2 1 2 1 2 1 2 1 2 1 2 1 2 1 2 1\n",
       "[7105] 2 1 2 1 2 1 2 1 2 1 2 1 2 1 2 1 2 1 2 1 2 1 2 1 2 1 2 1 2 1 2 1 2 1 2 1 2\n",
       "[7142] 1 2 1 2 1 2 1 2 1 2 1 2 1 2 1 2 1 2 1 2 1 2 1 2 1 2 1 2 1 2 1 2 1 2 1 2 1\n",
       "[7179] 2 1 2 1 2 1 2 1 2 1 2 1 2 1 2 1 2 1 2 1 2 1 2 1 2 1 2 1 2 1 2 1 2 1 2 1 2\n",
       "[7216] 1 2 1 2 1 2 1 2 1 2 1 2 1 2 1 2 1 2 1 2 1 2 1 2 1 2 1 2 1 2 1 2 1 2 1 2 1\n",
       "[7253] 2 1 2 1 2 1 2 1 2 1 2 1 2 1 2 1 2 1 2 1 2 1 2 1 2 1 2 1 2 1 2 1 2 1 2 1 2\n",
       "[7290] 1 2 1 2 1 2 1 2 1 2 1 2 1 2 1 2 1 2 1 2 1 2 1 2 1 2 1 2 1 2 1 2 1 2 1 2 1\n",
       "[7327] 2 1 2 1 2 1 2 1 2 1 2 1 2 1 2 1 2 1 2 1 2 1 2 1 2 1 2 1 2 1 2 1 2 1 2 1 2\n",
       "[7364] 1 2 1 2 1 2 1 2 1 2 1 2 1 2 1 2 1 2 1 2 1 2 1 2 1 2 1 2 1 2 1 2 1 2 1 2 1\n",
       "[7401] 2 1 2 1 2 1 2 1 2 1 2 1 2 1 2 1 2 1 2 1 2 1 2 1 2 1 2 1 2 1 2 1 2 1 2 1 2\n",
       "[7438] 1 2 1 2 1 2 1 2 1 2 1 2 1 2 1 2 1 2 1 2 1 2 1 2 1 2 1 2 1 2 1 2 1 2 1 2 1\n",
       "[7475] 2 1 2 1 2 1 2 1 2 1 2 1 2 1 2 1 2 1 2 1 2 1 2 1 2 1 2 1 2 1 2 1 2 1 2 1 2\n",
       "[7512] 1 2 1 2 1 2 1 2 1 2 1 2 1 2 1 2 1 2 1 2 1 2 1 2 1 2 1 2 1 2 1 2 1 2 1 2 1\n",
       "[7549] 2 1 2 1 2 1 2 1 2 1 2 1 2 1 2 1 2 1 2 1 2 1 2 1 2 1 2 1 2 1 2 1 2 1 2 1 2\n",
       "[7586] 1 2 1 2 1 2 1 2 1 2 1 2 1 2 1 2 1 2 1 2 1 2 1 2 1 2 1 2 1 2 1 2 1 2 1 2 1\n",
       "[7623] 2 1 2 1 2 1 2 1 2 1 2 1 2 1 2 1 2 1 2 1 2 1 2 1 2 1 2 1 2 1 2 1 2 1 2 1 2\n",
       "[7660] 1 2 1 2 1 2 1 2 1 2 1 2 1 2 1 2 1 2 1 2 1 2 1 2 1 2 1 2 1 2 1 2 1 2 1 2 1\n",
       "[7697] 2 1 2 1 2 1 2 1 2 1 2 1 2 1 2 1 2 1 2 1 2 1 2 1 2 1 2 1 2 1 2 1 2 1 2 1 2\n",
       "[7734] 1 2 1 2 1 2 1 2 1 2 1 2 1 2 1 2 1 2 1 2 1 2 1 2 1 2 1 2 1 2 1 2 1 2 1 2 1\n",
       "[7771] 2 1 2 1 2 1 2 1 2 1 2 1 2 1 2 1 2 1 2 1 2 1 2 1 2 1 2 1 2 1 2 1 2 1 2 1 2\n",
       "[7808] 1 2 1 2 1 2 1 2 1 2 1 2 1 2 1 2 1 2 1 2 1 2 1 2 1 2 1 2 1 2 1 2 1 2 1 2 1\n",
       "[7845] 2 1 2 1 2 1 2 1 2 1 2 1 2 1 2 1 2 1 2 1 2 1 2 1 2 1 2 1 2 1 2 1 2 1 2 1 2\n",
       "[7882] 1 2 1 2 1 2 1 2 1 2 1 2 1 2 1 2 1 2 1 2 1 2 1 2 1 2 1 2 1 2 1 2 1 2 1 2 1\n",
       "[7919] 2 1 2 1 2 1 2 1 2 1 2 1 2 1 2 1 2 1 2 1 2 1 2 1 2 1 2 1 2 1 2 1 2 1 2 1 2\n",
       "[7956] 1 2 1 2 1 2 1 2 1 2 1 2 1 2 1 2 1 2 1 2 1 2 1 2 1 2 1 2 1 2 1 2 1 2 1 2 1\n",
       "[7993] 2 1 2 1 2 1 2 1 2 1 2 1 2 1 2 1 2 1 2 1 2 1 2 1 2 1 2 1 2 1 2 1 2 1 2 1 2\n",
       "[8030] 1 2 1 2 1 2 1 2 1 2 1 2 1 2 1 2 1 2 1 2 1 2 1 2 1 2 1 2 1 2 1 2 1 2 1 2 1\n",
       "[8067] 2 1 2 1 2 1 2 1 2 1 2 1 2 1 2 1 2 1 2 1 2 1 2 1 2 1 2 1 2 1 2 1 2 1 2 1 2\n",
       "[8104] 1 2 1 2 1 2 1 2 1 2 1 2 1 2 1 2 1 2 1 2 1 2 1 2 1 2 1 2 1 2 1 2 1 2 1 2 1\n",
       "[8141] 2 1 2 1 2 1 2 1 2 1 2 1 2 1 2 1 2 1 2 1 2 1 2 1 2 1 2 1 2 1 2 1 2 1 2 1 2\n",
       "[8178] 1 2 1 2 1 2 1 2 1 2 1 2 1 2 1 2 1 2 1 2 1 2 1 2 1 2 1 2 1 2 1 2 1 2 1 2 1\n",
       "[8215] 2 1 2 1 2 1 2 1 2 1 2 1 2 1 2 1 2 1 2 1 2 1 2 1 2 1 2 1 2 1 2 1 2 1 2 1 2\n",
       "[8252] 1 2 1 2 1 2 1 2 1 2 1 2 1 2 1 2 1 2 1 2 1 2 1 2 1 2 1 2 1 2 1 2 1 2 1 2 1\n",
       "[8289] 2 1 2 1 2 1 2 1 2 1 2 1 2 1 2 1 2 1 2 1 2 1 2 1 2 1 2 1 2 1 2 1 2 1 2 1 2\n",
       "[8326] 1 2 1 2 1 2 1 2 1 2 1 2 1 2 1 2 1 2 1 2 1 2 1 2 1 2 1 2 1 2 1 2 1 2 1 2 1\n",
       "[8363] 2 1 2 1 2 1 2 1 2 1 2 1 2 1 2 1 2 1 2 1 2 1 2 1 2 1 2 1 2 1 2 1 2 1 2 1 2\n",
       "[8400] 1 2 1 2 1 2 1 2 1 2 1 2 1 2 1 2 1 2 1 2 1 2 1 2 1 2 1 2 1 2 1 2 1 2 1 2 1\n",
       "[8437] 2 1 2 1"
      ]
     },
     "metadata": {},
     "output_type": "display_data"
    }
   ],
   "source": [
    "levels(df_long$ForegoCig)\n",
    "\n",
    "as.numeric(df_long$ForegoCig)"
   ]
  },
  {
   "cell_type": "code",
   "execution_count": 29,
   "metadata": {},
   "outputs": [],
   "source": [
    "stub_cig<-df_long %>% filter(as.numeric(ForegoCig)== 2 & !is.na(NCigForego))  %>%\n",
    "    group_by(condition, n_day, ID)  "
   ]
  },
  {
   "cell_type": "code",
   "execution_count": 30,
   "metadata": {},
   "outputs": [],
   "source": [
    "stub_cig<-select(stub_cig, ID, n_day, condition, NCigForego)\n",
    "\n",
    "stub_cig<-rename(stub_cig, StubCig= NCigForego)"
   ]
  },
  {
   "cell_type": "code",
   "execution_count": 31,
   "metadata": {},
   "outputs": [
    {
     "data": {
      "text/html": [
       "<table>\n",
       "<caption>A grouped_df: 6 × 4</caption>\n",
       "<thead>\n",
       "\t<tr><th scope=col>ID</th><th scope=col>n_day</th><th scope=col>condition</th><th scope=col>StubCig</th></tr>\n",
       "\t<tr><th scope=col>&lt;fct&gt;</th><th scope=col>&lt;fct&gt;</th><th scope=col>&lt;fct&gt;</th><th scope=col>&lt;fct&gt;</th></tr>\n",
       "</thead>\n",
       "<tbody>\n",
       "\t<tr><td>339</td><td>1</td><td>control</td><td>1</td></tr>\n",
       "\t<tr><td>339</td><td>2</td><td>control</td><td>2</td></tr>\n",
       "\t<tr><td>339</td><td>3</td><td>control</td><td>2</td></tr>\n",
       "\t<tr><td>339</td><td>4</td><td>control</td><td>2</td></tr>\n",
       "\t<tr><td>339</td><td>5</td><td>control</td><td>1</td></tr>\n",
       "\t<tr><td>339</td><td>6</td><td>control</td><td>1</td></tr>\n",
       "</tbody>\n",
       "</table>\n"
      ],
      "text/latex": [
       "A grouped\\_df: 6 × 4\n",
       "\\begin{tabular}{llll}\n",
       " ID & n\\_day & condition & StubCig\\\\\n",
       " <fct> & <fct> & <fct> & <fct>\\\\\n",
       "\\hline\n",
       "\t 339 & 1 & control & 1\\\\\n",
       "\t 339 & 2 & control & 2\\\\\n",
       "\t 339 & 3 & control & 2\\\\\n",
       "\t 339 & 4 & control & 2\\\\\n",
       "\t 339 & 5 & control & 1\\\\\n",
       "\t 339 & 6 & control & 1\\\\\n",
       "\\end{tabular}\n"
      ],
      "text/markdown": [
       "\n",
       "A grouped_df: 6 × 4\n",
       "\n",
       "| ID &lt;fct&gt; | n_day &lt;fct&gt; | condition &lt;fct&gt; | StubCig &lt;fct&gt; |\n",
       "|---|---|---|---|\n",
       "| 339 | 1 | control | 1 |\n",
       "| 339 | 2 | control | 2 |\n",
       "| 339 | 3 | control | 2 |\n",
       "| 339 | 4 | control | 2 |\n",
       "| 339 | 5 | control | 1 |\n",
       "| 339 | 6 | control | 1 |\n",
       "\n"
      ],
      "text/plain": [
       "  ID  n_day condition StubCig\n",
       "1 339 1     control   1      \n",
       "2 339 2     control   2      \n",
       "3 339 3     control   2      \n",
       "4 339 4     control   2      \n",
       "5 339 5     control   1      \n",
       "6 339 6     control   1      "
      ]
     },
     "metadata": {},
     "output_type": "display_data"
    }
   ],
   "source": [
    "head(stub_cig)"
   ]
  },
  {
   "cell_type": "code",
   "execution_count": 32,
   "metadata": {},
   "outputs": [],
   "source": [
    "stub_cig$StubCig<-recode(stub_cig$StubCig, '1'=1, '2'=0 )"
   ]
  },
  {
   "cell_type": "code",
   "execution_count": 33,
   "metadata": {},
   "outputs": [],
   "source": [
    "stub_cig$StubCig<-as.numeric(stub_cig$StubCig)\n",
    "stub_cig$n_day<-as.numeric(stub_cig$n_day)\n"
   ]
  },
  {
   "cell_type": "code",
   "execution_count": 34,
   "metadata": {},
   "outputs": [
    {
     "name": "stdout",
     "output_type": "stream",
     "text": [
      "\n",
      " iter imp variable\n",
      "  1   1\n",
      "  1   2\n",
      "  2   1\n",
      "  2   2\n"
     ]
    }
   ],
   "source": [
    "imp<-mice(stub_cig, maxit=2, m=2)"
   ]
  },
  {
   "cell_type": "code",
   "execution_count": 35,
   "metadata": {},
   "outputs": [
    {
     "data": {
      "image/png": "[encoded data removed]",
      "text/plain": [
       "plot without title"
      ]
     },
     "metadata": {
      "image/png": {
       "height": 420,
       "width": 420
      }
     },
     "output_type": "display_data"
    }
   ],
   "source": [
    "stripplot(imp, n_day, pch = 19, xlab = \"Imputation number\")\n"
   ]
  },
  {
   "cell_type": "markdown",
   "metadata": {},
   "source": [
    "The value of StubCig is binary, participants either said \"yes\" (1) or \"no\" (2). We thus need to use a mixed effects logistic regression model.  "
   ]
  },
  {
   "cell_type": "code",
   "execution_count": 36,
   "metadata": {},
   "outputs": [
    {
     "name": "stderr",
     "output_type": "stream",
     "text": [
      "Warning message in glmer(StubCig ~ n_day + condition + (1 + n_day | ID)):\n",
      "“calling glmer() with family=gaussian (identity link) as a shortcut to lmer() is deprecated; please call lmer() directly”\n",
      "Warning message in checkConv(attr(opt, \"derivs\"), opt$par, ctrl = control$checkConv, :\n",
      "“Model failed to converge with max|grad| = 0.016034 (tol = 0.002, component 1)”\n",
      "Warning message in glmer(StubCig ~ n_day + condition + (1 + n_day | ID)):\n",
      "“calling glmer() with family=gaussian (identity link) as a shortcut to lmer() is deprecated; please call lmer() directly”\n",
      "Warning message in checkConv(attr(opt, \"derivs\"), opt$par, ctrl = control$checkConv, :\n",
      "“Model failed to converge with max|grad| = 0.016034 (tol = 0.002, component 1)”\n"
     ]
    }
   ],
   "source": [
    "fit<- with(imp, glmer(StubCig~n_day + condition +(1 +n_day|ID)), family=binomial)\n"
   ]
  },
  {
   "cell_type": "code",
   "execution_count": 37,
   "metadata": {},
   "outputs": [],
   "source": [
    "test<-glmer(StubCig~n_day + condition +(1 +n_day|ID), data=stub_cig, family=binomial)"
   ]
  },
  {
   "cell_type": "code",
   "execution_count": 38,
   "metadata": {},
   "outputs": [
    {
     "data": {
      "text/plain": [
       "Generalized linear mixed model fit by maximum likelihood (Laplace\n",
       "  Approximation) [glmerMod]\n",
       " Family: binomial  ( logit )\n",
       "Formula: StubCig ~ n_day + condition + (1 + n_day | ID)\n",
       "   Data: stub_cig\n",
       "\n",
       "     AIC      BIC   logLik deviance df.resid \n",
       "  2926.3   2964.3  -1457.2   2914.3     4117 \n",
       "\n",
       "Scaled residuals: \n",
       "    Min      1Q  Median      3Q     Max \n",
       "-3.4858 -0.3259 -0.1177 -0.0427  4.9461 \n",
       "\n",
       "Random effects:\n",
       " Groups Name        Variance Std.Dev. Corr\n",
       " ID     (Intercept) 5.06885  2.2514       \n",
       "        n_day       0.01965  0.1402   0.15\n",
       "Number of obs: 4123, groups:  ID, 165\n",
       "\n",
       "Fixed effects:\n",
       "                      Estimate Std. Error z value Pr(>|z|)    \n",
       "(Intercept)           -2.09096    0.33936  -6.161 7.21e-10 ***\n",
       "n_day                 -0.05620    0.02008  -2.800  0.00512 ** \n",
       "conditionintervention  0.27817    0.43492   0.640  0.52244    \n",
       "---\n",
       "Signif. codes:  0 ‘***’ 0.001 ‘**’ 0.01 ‘*’ 0.05 ‘.’ 0.1 ‘ ’ 1\n",
       "\n",
       "Correlation of Fixed Effects:\n",
       "            (Intr) n_day \n",
       "n_day       -0.294       \n",
       "cndtnntrvnt -0.640  0.030"
      ]
     },
     "metadata": {},
     "output_type": "display_data"
    }
   ],
   "source": [
    "summary(test)"
   ]
  },
  {
   "cell_type": "code",
   "execution_count": 39,
   "metadata": {},
   "outputs": [
    {
     "data": {
      "image/png": "[encoded data removed]",
      "text/plain": [
       "plot without title"
      ]
     },
     "metadata": {
      "image/png": {
       "height": 420,
       "width": 420
      }
     },
     "output_type": "display_data"
    }
   ],
   "source": [
    "plot(test)"
   ]
  },
  {
   "cell_type": "code",
   "execution_count": 48,
   "metadata": {},
   "outputs": [],
   "source": [
    "tab_model(test)"
   ]
  },
  {
   "cell_type": "code",
   "execution_count": 49,
   "metadata": {},
   "outputs": [
    {
     "data": {
      "image/png": "[encoded data removed]",
      "text/plain": [
       "plot without title"
      ]
     },
     "metadata": {
      "image/png": {
       "height": 420,
       "width": 420
      }
     },
     "output_type": "display_data"
    }
   ],
   "source": [
    "plot_model(test)"
   ]
  },
  {
   "cell_type": "markdown",
   "metadata": {},
   "source": [
    "Mixed model for foregoing cigarettes\n",
    "-------------------------------------------------------"
   ]
  },
  {
   "cell_type": "code",
   "execution_count": null,
   "metadata": {},
   "outputs": [],
   "source": [
    "lmer(n~n_day + condition +(1|n_day), freq_forego)"
   ]
  },
  {
   "cell_type": "markdown",
   "metadata": {},
   "source": [
    "Cigarettes per day (CPD)\n",
    "=======================\n",
    "\n",
    "CPD will be assessed using the daily smoked cigarette reports completed in the evening report. We anticipate that any decrease in reporting cigarettes smoked over the study period will be the same between the two conditions. We will exclude data collected on the baseline day (Day 0) and the final day (Day 28: Table 2) as participants will start and end the study at different times during those days.\n",
    "\n",
    "\n",
    "- a reduction in the number of cigarettes smoked over the 4-week period."
   ]
  },
  {
   "cell_type": "code",
   "execution_count": null,
   "metadata": {},
   "outputs": [],
   "source": [
    "df %>%filter(as.numeric(n_day)!=1 & as.numeric(n_day)!=28) %>% \n",
    "        filter(!is.na(NCig))  %>% \n",
    "    group_by(condition, n_day)  %>%  \n",
    "    mutate(mean_cpd= median(NCig), \n",
    "          sd_cpd=sd(NCig)) %>% \n",
    "ggplot(aes(y=mean_cpd, x=n_day, group=condition))+\n",
    "#geom_errorbar(aes(ymin=mean_cpd-sd_cpd, \n",
    "#                  ymax=mean_cpd+sd_cpd), width=.1)+\n",
    "geom_line(aes(linetype=condition))+\n",
    " geom_point(mapping = aes(colour = condition ) )+\n",
    "ylim(0, 20)+\n",
    "ggtitle (\" Median CPD by group\")+\n",
    "ylab(\" Median CPD \")+\n",
    "xlab(\"Day of study\")"
   ]
  },
  {
   "cell_type": "markdown",
   "metadata": {},
   "source": [
    "Try using example from open-visualization \n",
    "https://github.com/jorvlan/open-visualizations/tree/v.1.0.0"
   ]
  },
  {
   "cell_type": "code",
   "execution_count": null,
   "metadata": {},
   "outputs": [],
   "source": [
    "df %>%filter(as.numeric(n_day)!=1 & as.numeric(n_day)!=28) %>% \n",
    "        filter(!is.na(NCig))  %>% \n",
    "   ggplot(aes(y = NCig, x = as.numeric(n_day)))+\n",
    "geom_point(alpha = 0.2)+\n",
    "geom_smooth(method = \"loess\")+\n",
    "facet_grid(~condition)"
   ]
  },
  {
   "cell_type": "markdown",
   "metadata": {},
   "source": [
    "Modelling"
   ]
  },
  {
   "cell_type": "markdown",
   "metadata": {},
   "source": [
    "From chat with Osama:\n",
    "- use mice to impute missing data\n",
    "- if including baseline and followup days create 2 time lag variables between baseline and day1 and day 28 and follow up:\n",
    "\n",
    " CPD ~ time + timelag + timelag_fwup + condition + (1 + time|subject) \n",
    "\n",
    "then see if these timelag variables have an effect on the model and if not, drop them\n"
   ]
  },
  {
   "cell_type": "code",
   "execution_count": null,
   "metadata": {},
   "outputs": [],
   "source": [
    "library(lme4)\n",
    "library(mice)"
   ]
  },
  {
   "cell_type": "markdown",
   "metadata": {},
   "source": [
    "Where do missing data occur in our dataset:"
   ]
  },
  {
   "cell_type": "code",
   "execution_count": null,
   "metadata": {},
   "outputs": [],
   "source": [
    "md.pattern(df_long)"
   ]
  },
  {
   "cell_type": "markdown",
   "metadata": {},
   "source": [
    "now impute missing data:\n"
   ]
  },
  {
   "cell_type": "code",
   "execution_count": null,
   "metadata": {},
   "outputs": [],
   "source": [
    "?mice"
   ]
  },
  {
   "cell_type": "code",
   "execution_count": null,
   "metadata": {},
   "outputs": [],
   "source": []
  },
  {
   "cell_type": "code",
   "execution_count": null,
   "metadata": {},
   "outputs": [],
   "source": [
    "imp<- mice(df, maxit=2, m=2)"
   ]
  },
  {
   "cell_type": "code",
   "execution_count": null,
   "metadata": {
    "scrolled": true
   },
   "outputs": [],
   "source": [
    "# inspect quality of imputations\n",
    "stripplot(imp, NCig, pch = 19, xlab = \"Imputation number\")"
   ]
  },
  {
   "cell_type": "code",
   "execution_count": null,
   "metadata": {},
   "outputs": [],
   "source": [
    "fit<- with(imp, lmer(NCig~n_day + condition +(1 + n_day|ID)))\n"
   ]
  },
  {
   "cell_type": "code",
   "execution_count": null,
   "metadata": {},
   "outputs": [],
   "source": [
    "#fit"
   ]
  },
  {
   "cell_type": "code",
   "execution_count": null,
   "metadata": {},
   "outputs": [],
   "source": [
    "?lme4::convergence"
   ]
  },
  {
   "cell_type": "code",
   "execution_count": null,
   "metadata": {},
   "outputs": [],
   "source": [
    "#lmer(NCig~n_day + condition +(1 + n_day|ID), imp)"
   ]
  },
  {
   "cell_type": "code",
   "execution_count": null,
   "metadata": {},
   "outputs": [],
   "source": [
    "#write_csv(df, 'df.csv')"
   ]
  }
 ],
 "metadata": {
  "kernelspec": {
   "display_name": "R",
   "language": "R",
   "name": "ir"
  },
  "language_info": {
   "codemirror_mode": "r",
   "file_extension": ".r",
   "mimetype": "text/x-r-source",
   "name": "R",
   "pygments_lexer": "r",
   "version": "3.6.3"
  }
 },
 "nbformat": 4,
 "nbformat_minor": 2
}
