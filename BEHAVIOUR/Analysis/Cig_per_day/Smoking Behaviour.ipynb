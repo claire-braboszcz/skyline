{
 "cells": [
  {
   "cell_type": "markdown",
   "metadata": {},
   "source": [
    "Smoking behaviour\n",
    "-----------------------------\n",
    "- questionnaire on every evening \n",
    "- number of cig smoked during the day\n",
    "- yes/no stub out cig before finishing it in order to smoke less\n",
    "- yes/no stop yourself having a cig to smoke less\n",
    "- if zero cig, ask why\n",
    "\n",
    "Following study hypotheses we want here to look at micro-indicators of behaviour change, including: \n",
    "- being more likely to report making a quit attempt over the 4-week period;\n",
    "- more frequently reporting forgoing cigarettes over the 4-week period;\n",
    "- a greater intention to quit smoking at the end of the 4-week period;\n",
    "- a reduction in the number of cigarettes smoked over the 4-week period. \n",
    "\n",
    "Participants who report not smoking any cigarettes on at least one of the study days and report this being because they were trying to quit smoking will be considered having made a quit attempt during the study period. \n",
    "\n",
    "CPD will be assessed using the daily smoked cigarette reports completed in the evening report. We anticipate that any decrease in reporting cigarettes smoked over the study period will be the same between the two conditions. We will exclude data collected on the baseline day (Day 0) and the final day (Day 28: Table 2) as participants will start and end the study at different times during those days.\n",
    "\n",
    "    • model for quit attempts: quit_attempt ~ time + condition + (1 + time|subject)\n",
    "    • model for forgoing cigarettes: FC ~ time + condition + (1 + time|subject)\n",
    "    • model for intention to quit: quit_intention ~ time + condition + (1 + time|subject)\n",
    "    • model for CPD: CPD ~ time + condition + (1 + time|subject)"
   ]
  },
  {
   "cell_type": "markdown",
   "metadata": {},
   "source": [
    "# Preprocessing data\n"
   ]
  },
  {
   "cell_type": "code",
   "execution_count": 1,
   "metadata": {},
   "outputs": [
    {
     "name": "stderr",
     "output_type": "stream",
     "text": [
      "── \u001b[1mAttaching packages\u001b[22m ─────────────────────────────────────── tidyverse 1.2.1 ──\n",
      "\n",
      "\u001b[32m✔\u001b[39m \u001b[34mggplot2\u001b[39m 3.3.2     \u001b[32m✔\u001b[39m \u001b[34mpurrr  \u001b[39m 0.3.3\n",
      "\u001b[32m✔\u001b[39m \u001b[34mtibble \u001b[39m 2.1.3     \u001b[32m✔\u001b[39m \u001b[34mdplyr  \u001b[39m 0.8.4\n",
      "\u001b[32m✔\u001b[39m \u001b[34mtidyr  \u001b[39m 1.0.0     \u001b[32m✔\u001b[39m \u001b[34mstringr\u001b[39m 1.4.0\n",
      "\u001b[32m✔\u001b[39m \u001b[34mreadr  \u001b[39m 1.3.1     \u001b[32m✔\u001b[39m \u001b[34mforcats\u001b[39m 0.4.0\n",
      "\n",
      "── \u001b[1mConflicts\u001b[22m ────────────────────────────────────────── tidyverse_conflicts() ──\n",
      "\u001b[31m✖\u001b[39m \u001b[34mdplyr\u001b[39m::\u001b[32mfilter()\u001b[39m masks \u001b[34mstats\u001b[39m::filter()\n",
      "\u001b[31m✖\u001b[39m \u001b[34mdplyr\u001b[39m::\u001b[32mlag()\u001b[39m    masks \u001b[34mstats\u001b[39m::lag()\n",
      "\n",
      "here() starts at /home/claire/Documents/scripts-local/skyline/BEHAVIOUR/Analysis/Cig_per_day\n",
      "\n",
      "\n",
      "Attaching package: ‘lubridate’\n",
      "\n",
      "\n",
      "The following object is masked from ‘package:here’:\n",
      "\n",
      "    here\n",
      "\n",
      "\n",
      "The following object is masked from ‘package:base’:\n",
      "\n",
      "    date\n",
      "\n",
      "\n",
      "Parsed with column specification:\n",
      "cols(\n",
      "  `Subject ID` = \u001b[32mcol_double()\u001b[39m,\n",
      "  day_msg = \u001b[32mcol_double()\u001b[39m,\n",
      "  `Starting Date` = \u001b[31mcol_character()\u001b[39m,\n",
      "  Good = \u001b[32mcol_double()\u001b[39m,\n",
      "  `Condition = Intervention` = \u001b[32mcol_double()\u001b[39m,\n",
      "  EEG = \u001b[32mcol_double()\u001b[39m,\n",
      "  Finished = \u001b[32mcol_double()\u001b[39m,\n",
      "  REMOVED = \u001b[32mcol_double()\u001b[39m,\n",
      "  Interview = \u001b[32mcol_double()\u001b[39m,\n",
      "  Notes = \u001b[31mcol_character()\u001b[39m,\n",
      "  `No Compliance` = \u001b[32mcol_double()\u001b[39m,\n",
      "  `Email reminder poor perf` = \u001b[31mcol_character()\u001b[39m,\n",
      "  eve_msg = \u001b[32mcol_double()\u001b[39m,\n",
      "  ev3days = \u001b[32mcol_double()\u001b[39m\n",
      ")\n",
      "\n",
      "Joining, by = \"ID\"\n",
      "\n",
      "Warning message:\n",
      "“Column `ID` joining factors with different levels, coercing to character vector”\n"
     ]
    }
   ],
   "source": [
    "library(tidyverse)\n",
    "library(here)\n",
    "library(lubridate)\n",
    "\n",
    "\n",
    "cond_file = \"~/Documents/scripts-local/skyline/BEHAVIOUR/Analysis/expe_condition_final.csv\"\n",
    "\n",
    "\n",
    "save_figure = here::here(\"Figures\")\n",
    "\n",
    "files_eff_eve <-dir(path=here::here(\"data\") , pattern = \"*.csv\") \n",
    "\n",
    "evening_scores <-read.csv(here::here(\"data\", files_eff_eve), header = TRUE, sep = \",\", dec = \".\", stringsAsFactors = FALSE)\n",
    "\n",
    "# condition file\n",
    "cond <- read_csv(cond_file)\n",
    "\n",
    "# rename columns\n",
    "# 1 = Yes, 2 =No\n",
    "\n",
    "evening_scores<-rename(evening_scores, date=EndDate, completed=Finished,\n",
    "                      ID=Q1, \n",
    "                      NCig=Q4, \n",
    "                      StubCig=Q5, \n",
    "                      StopCig=Q6, \n",
    "                      WhyNoCig=Q7,\n",
    "                      WhyNoCig_other=Q7_5_TEXT\n",
    "                      )\n",
    "\n",
    "\n",
    "\n",
    "# select only columns of interest\n",
    "\n",
    "evening_scores<-select(evening_scores, ID, date, completed,\n",
    "                       NCig, StubCig, StopCig,\n",
    "                      WhyNoCig, WhyNoCig_other)\n",
    "\n",
    "#remove additional header\n",
    "evening_scores<-tail(evening_scores, -2)\n",
    "\n",
    "\n",
    "# get the experiment condition file with all pp IDs\n",
    "cond <-rename(cond, ID = \"Subject ID\", \n",
    "              condition = \"Condition = Intervention\",\n",
    "              removed= \"REMOVED\")\n",
    "cond$ID<-as.factor(cond$ID)\n",
    "\n",
    "evening_scores$ID<-as.factor(evening_scores$ID)\n",
    "tmp<-full_join(cond, evening_scores)\n",
    "\n",
    "remove(evening_scores)\n",
    "evening_scores<-tmp\n",
    "evening_scores$ID<-as.factor(evening_scores$ID)\n",
    "\n",
    "#recode condition to human names\n",
    "evening_scores$condition<-recode(evening_scores$condition, '0' = \"control\", '1' = \"intervention\")\n",
    "\n",
    "#Replace missing values and keep only participants who were not removed\n",
    "evening_scores$removed<-evening_scores$removed %>% replace(is.na(.), 0)"
   ]
  },
  {
   "cell_type": "code",
   "execution_count": null,
   "metadata": {},
   "outputs": [],
   "source": [
    "# remove NA in  scores\n",
    "#which(is.na(evening_scores$StubCig))\n",
    "\n",
    "#evening_scores<-drop_na(evening_scores, StubCig)"
   ]
  },
  {
   "cell_type": "code",
   "execution_count": 2,
   "metadata": {},
   "outputs": [
    {
     "data": {
      "text/html": [
       "<style>\n",
       ".list-inline {list-style: none; margin:0; padding: 0}\n",
       ".list-inline>li {display: inline-block}\n",
       ".list-inline>li:not(:last-child)::after {content: \"\\00b7\"; padding: 0 .5ex}\n",
       "</style>\n",
       "<ol class=list-inline><li>5705</li><li>5706</li><li>5707</li><li>5708</li><li>5709</li><li>5710</li><li>5711</li><li>5712</li><li>5713</li><li>5714</li><li>5715</li><li>5716</li><li>5717</li><li>5718</li><li>5719</li><li>5720</li><li>5721</li><li>5722</li><li>5723</li><li>5724</li><li>5725</li><li>5726</li><li>5727</li><li>5728</li><li>5729</li><li>5730</li><li>5731</li><li>5732</li><li>5733</li><li>5734</li><li>5735</li><li>5736</li><li>5737</li><li>5738</li><li>5739</li><li>5740</li><li>5741</li><li>5742</li><li>5743</li><li>5744</li><li>5745</li><li>5746</li><li>5747</li><li>5748</li><li>5749</li><li>5750</li><li>5751</li><li>5752</li><li>5753</li><li>5754</li><li>5755</li><li>5756</li><li>5757</li><li>5758</li><li>5759</li><li>5760</li><li>5761</li><li>5762</li><li>5763</li><li>5764</li><li>5765</li></ol>\n"
      ],
      "text/latex": [
       "\\begin{enumerate*}\n",
       "\\item 5705\n",
       "\\item 5706\n",
       "\\item 5707\n",
       "\\item 5708\n",
       "\\item 5709\n",
       "\\item 5710\n",
       "\\item 5711\n",
       "\\item 5712\n",
       "\\item 5713\n",
       "\\item 5714\n",
       "\\item 5715\n",
       "\\item 5716\n",
       "\\item 5717\n",
       "\\item 5718\n",
       "\\item 5719\n",
       "\\item 5720\n",
       "\\item 5721\n",
       "\\item 5722\n",
       "\\item 5723\n",
       "\\item 5724\n",
       "\\item 5725\n",
       "\\item 5726\n",
       "\\item 5727\n",
       "\\item 5728\n",
       "\\item 5729\n",
       "\\item 5730\n",
       "\\item 5731\n",
       "\\item 5732\n",
       "\\item 5733\n",
       "\\item 5734\n",
       "\\item 5735\n",
       "\\item 5736\n",
       "\\item 5737\n",
       "\\item 5738\n",
       "\\item 5739\n",
       "\\item 5740\n",
       "\\item 5741\n",
       "\\item 5742\n",
       "\\item 5743\n",
       "\\item 5744\n",
       "\\item 5745\n",
       "\\item 5746\n",
       "\\item 5747\n",
       "\\item 5748\n",
       "\\item 5749\n",
       "\\item 5750\n",
       "\\item 5751\n",
       "\\item 5752\n",
       "\\item 5753\n",
       "\\item 5754\n",
       "\\item 5755\n",
       "\\item 5756\n",
       "\\item 5757\n",
       "\\item 5758\n",
       "\\item 5759\n",
       "\\item 5760\n",
       "\\item 5761\n",
       "\\item 5762\n",
       "\\item 5763\n",
       "\\item 5764\n",
       "\\item 5765\n",
       "\\end{enumerate*}\n"
      ],
      "text/markdown": [
       "1. 5705\n",
       "2. 5706\n",
       "3. 5707\n",
       "4. 5708\n",
       "5. 5709\n",
       "6. 5710\n",
       "7. 5711\n",
       "8. 5712\n",
       "9. 5713\n",
       "10. 5714\n",
       "11. 5715\n",
       "12. 5716\n",
       "13. 5717\n",
       "14. 5718\n",
       "15. 5719\n",
       "16. 5720\n",
       "17. 5721\n",
       "18. 5722\n",
       "19. 5723\n",
       "20. 5724\n",
       "21. 5725\n",
       "22. 5726\n",
       "23. 5727\n",
       "24. 5728\n",
       "25. 5729\n",
       "26. 5730\n",
       "27. 5731\n",
       "28. 5732\n",
       "29. 5733\n",
       "30. 5734\n",
       "31. 5735\n",
       "32. 5736\n",
       "33. 5737\n",
       "34. 5738\n",
       "35. 5739\n",
       "36. 5740\n",
       "37. 5741\n",
       "38. 5742\n",
       "39. 5743\n",
       "40. 5744\n",
       "41. 5745\n",
       "42. 5746\n",
       "43. 5747\n",
       "44. 5748\n",
       "45. 5749\n",
       "46. 5750\n",
       "47. 5751\n",
       "48. 5752\n",
       "49. 5753\n",
       "50. 5754\n",
       "51. 5755\n",
       "52. 5756\n",
       "53. 5757\n",
       "54. 5758\n",
       "55. 5759\n",
       "56. 5760\n",
       "57. 5761\n",
       "58. 5762\n",
       "59. 5763\n",
       "60. 5764\n",
       "61. 5765\n",
       "\n",
       "\n"
      ],
      "text/plain": [
       " [1] 5705 5706 5707 5708 5709 5710 5711 5712 5713 5714 5715 5716 5717 5718 5719\n",
       "[16] 5720 5721 5722 5723 5724 5725 5726 5727 5728 5729 5730 5731 5732 5733 5734\n",
       "[31] 5735 5736 5737 5738 5739 5740 5741 5742 5743 5744 5745 5746 5747 5748 5749\n",
       "[46] 5750 5751 5752 5753 5754 5755 5756 5757 5758 5759 5760 5761 5762 5763 5764\n",
       "[61] 5765"
      ]
     },
     "metadata": {},
     "output_type": "display_data"
    }
   ],
   "source": [
    "# remove lines not associated with a real participant ID\n",
    "which(is.na(evening_scores$condition))\n",
    "\n",
    "evening_scores<-drop_na(evening_scores, condition)"
   ]
  },
  {
   "cell_type": "code",
   "execution_count": 3,
   "metadata": {},
   "outputs": [],
   "source": [
    "# filter to keep participants who did at least 80% of surveys\n",
    "evening_scores<-evening_scores%>%filter(Good == 1)"
   ]
  },
  {
   "cell_type": "code",
   "execution_count": 4,
   "metadata": {},
   "outputs": [],
   "source": [
    "df<-evening_scores"
   ]
  },
  {
   "cell_type": "code",
   "execution_count": 5,
   "metadata": {},
   "outputs": [],
   "source": [
    "df$NCig <- as.numeric(df$NCig)\n",
    "df$StubCig<- as.numeric(df$StubCig)\n",
    "df$StopCig<- as.numeric(df$StopCig)\n",
    "\n",
    "#which(is.na(df$NCig))\n",
    "#df<-drop_na(df,NCig)"
   ]
  },
  {
   "cell_type": "code",
   "execution_count": null,
   "metadata": {},
   "outputs": [],
   "source": [
    "df"
   ]
  },
  {
   "cell_type": "code",
   "execution_count": null,
   "metadata": {},
   "outputs": [],
   "source": [
    "colnames(df)"
   ]
  },
  {
   "cell_type": "code",
   "execution_count": 6,
   "metadata": {},
   "outputs": [],
   "source": [
    "df<-select(df, -'removed', -'Finished', -'Interview', -'Notes', -\"completed\" )\n",
    "df<-select(df, -'Starting Date', -'day_msg',  -'No Compliance', -'Email reminder poor perf', -'eve_msg', -'ev3days')"
   ]
  },
  {
   "cell_type": "code",
   "execution_count": 7,
   "metadata": {},
   "outputs": [],
   "source": [
    "df <-df %>% \n",
    "  group_by(ID) %>% \n",
    "  mutate(n_day = row_number()) %>%\n",
    "  select(ID, n_day, everything()) %>% \n",
    "  ungroup()  \n"
   ]
  },
  {
   "cell_type": "code",
   "execution_count": 8,
   "metadata": {},
   "outputs": [],
   "source": [
    "# create factor time\n",
    "df$n_day<-as.factor(df$n_day)"
   ]
  },
  {
   "cell_type": "code",
   "execution_count": null,
   "metadata": {},
   "outputs": [],
   "source": [
    "levels(df$n_day)"
   ]
  },
  {
   "cell_type": "code",
   "execution_count": 9,
   "metadata": {},
   "outputs": [],
   "source": [
    "# remove days > 28 - might need to look into that later\n",
    "df<-df[! df$n_day %in% c(\"29\", \"30\",  '30', '31', '32', '33', '34', '35'),]"
   ]
  },
  {
   "cell_type": "code",
   "execution_count": 10,
   "metadata": {},
   "outputs": [],
   "source": [
    "df$condition<-as.factor(df$condition)"
   ]
  },
  {
   "cell_type": "code",
   "execution_count": 11,
   "metadata": {},
   "outputs": [],
   "source": [
    "df<-df %>% group_by(condition) %>% \n",
    "mutate(n_pp=n_distinct(ID)) %>% \n",
    "    ungroup()"
   ]
  },
  {
   "cell_type": "code",
   "execution_count": 20,
   "metadata": {},
   "outputs": [
    {
     "name": "stderr",
     "output_type": "stream",
     "text": [
      "Saving 6.67 x 6.67 in image\n",
      "\n"
     ]
    },
    {
     "data": {
      "image/png": "[encoded data removed]",
      "text/plain": [
       "plot without title"
      ]
     },
     "metadata": {
      "image/png": {
       "height": 420,
       "width": 420
      },
      "text/plain": {
       "height": 420,
       "width": 420
      }
     },
     "output_type": "display_data"
    }
   ],
   "source": [
    "# count how many of each day per condition (ie.did the pp completed the survey)\n",
    "n_rep <- df %>% group_by(condition, n_day) %>%\n",
    " mutate(count=sum(!is.na(NCig))) %>% \n",
    "    ungroup()\n",
    "n_rep <-n_rep %>% drop_na()\n",
    "\n",
    "#n_rep$EEG<-as.factor(n_rep$EEG)\n",
    "\n",
    "# plot\n",
    "ggplot(data= n_rep, aes(x = n_day, y=count/n_pp*100) ) +\n",
    "  geom_point(mapping = aes(colour = condition) ) +\n",
    "  ggtitle(\"Percentages of responses- smoking behaviour\")+\n",
    "  xlab('Day')+ ylab('number of responses')#+ \n",
    " ggsave('percent_resp_per_day_all.jpg', plot =last_plot(), dpi =300, path= save_figure)\n",
    " "
   ]
  },
  {
   "cell_type": "code",
   "execution_count": null,
   "metadata": {
    "scrolled": true
   },
   "outputs": [],
   "source": [
    "# count how many of each day per condition\n",
    "n_rep <- df %>% group_by(condition, n_day, EEG) %>%\n",
    "  mutate(count=n()) %>% \n",
    "    ungroup()\n",
    "n_rep <-n_rep %>% drop_na()\n",
    "\n",
    "n_rep$EEG<-as.factor(n_rep$EEG)\n",
    "\n",
    "# plot\n",
    "ggplot(data= n_rep, aes(x = n_day, y=count/n_pp*100)) +\n",
    "  geom_point(mapping = aes(colour = condition, shape=EEG) ) +\n",
    "  ggtitle(\"Percentages of responses- smoking behaviour\")+\n",
    "  xlab('Day')+ ylab('number of responses')#+ \n",
    " ggsave('percent_resp_per_day_all_eeg.jpg', plot =last_plot(), dpi =300, path= save_figure)\n",
    " "
   ]
  },
  {
   "cell_type": "markdown",
   "metadata": {},
   "source": [
    "## Now check for anomalies in how data were entered\n"
   ]
  },
  {
   "cell_type": "code",
   "execution_count": null,
   "metadata": {},
   "outputs": [],
   "source": [
    "# check for outliers/anomalie data -> check if mistake on 1 day\n",
    "df %>% filter(NCig>50) # 50 as a guess \n"
   ]
  },
  {
   "cell_type": "markdown",
   "metadata": {},
   "source": [
    "Seems to be an error where the participant's ID was entered instead of the number of cig smoked on at least one occasion"
   ]
  },
  {
   "cell_type": "code",
   "execution_count": null,
   "metadata": {},
   "outputs": [],
   "source": [
    "# replace these aberrant values by NA\n",
    "df$NCig<-replace(df$NCig, df$NCig>50, NA)"
   ]
  },
  {
   "cell_type": "markdown",
   "metadata": {},
   "source": [
    "# Reports of 0 cigarettes smoked on a day\n",
    "\n",
    "Follow-up question: Why did you not smoke any cigarettes today?\n",
    "Value for numeric responses:\n",
    "- 1= I didn't have time\n",
    "- 2= I didn't feel like smoking\n",
    "- 3= I was in places where smoking was not allowed\n",
    "- 4= I am trying to stop smoking\n",
    "- 5 = others (see WhyNoCig_other)\n",
    "\n",
    "\"Participants who report not smoking any cigarettes on at least one of the study days and report this being because they were trying to quit smoking will be considered having made a quit attempt during the study period. \""
   ]
  },
  {
   "cell_type": "code",
   "execution_count": null,
   "metadata": {},
   "outputs": [],
   "source": [
    "# how many reported no cig on at least one day\n",
    "test<-df %>% filter(NCig==0)  \n",
    "n_distinct(test$ID)"
   ]
  },
  {
   "cell_type": "code",
   "execution_count": null,
   "metadata": {},
   "outputs": [],
   "source": [
    "# how many reported no cig because want to stop smoking\n",
    "test<-test %>% filter(WhyNoCig ==4)\n",
    "n_distinct(test$ID)"
   ]
  },
  {
   "cell_type": "code",
   "execution_count": null,
   "metadata": {},
   "outputs": [],
   "source": [
    "distinct(test, ID, `.keep_all` = TRUE) %>% filter(condition=='control')"
   ]
  },
  {
   "cell_type": "markdown",
   "metadata": {},
   "source": [
    "## Conclusion\n",
    "\n",
    "12 participants reported not smoking any cigarette on at least one of the study days. Out of these, 9 reported not smoking because they were trying to quit smoking = made a quit attempt (6 were in the intervention group, 3 in the control group)."
   ]
  },
  {
   "cell_type": "markdown",
   "metadata": {},
   "source": [
    "# Reports of forgoing cigarettes \n"
   ]
  },
  {
   "cell_type": "markdown",
   "metadata": {},
   "source": [
    "H3: As compared to those in the control condition, those in the efficacy condition will display micro-indicators of behaviour change, including:  \n",
    " - more frequently reporting forgoing cigarettes (FC) over the 4-week period;  \n",
    "\n",
    "Forgoing = forgoing stub + forgoing stop\n",
    "\n",
    "Response code:\n",
    "- 1 = yes\n",
    "- 2 = no\n",
    "\n",
    "\n"
   ]
  },
  {
   "cell_type": "markdown",
   "metadata": {},
   "source": [
    "How many forego in each condition?"
   ]
  },
  {
   "cell_type": "code",
   "execution_count": null,
   "metadata": {},
   "outputs": [],
   "source": [
    "df %>% group_by(condition) %>% \n",
    "summarise(sum(StopCig==1, na.rm=TRUE), \n",
    "         sum(StubCig==1, na.rm=TRUE))"
   ]
  },
  {
   "cell_type": "code",
   "execution_count": null,
   "metadata": {},
   "outputs": [],
   "source": [
    "df_long<-pivot_longer(df, cols=starts_with(\"St\"), names_to = \"ForegoCig\", \n",
    "             values_to = \"NCigForego\")"
   ]
  },
  {
   "cell_type": "code",
   "execution_count": null,
   "metadata": {},
   "outputs": [],
   "source": [
    "df_long$NCigForego<-as.factor(df_long$NCigForego)"
   ]
  },
  {
   "cell_type": "code",
   "execution_count": null,
   "metadata": {},
   "outputs": [],
   "source": [
    "df_long %>% group_by(condition, n_day) %>% \n",
    "geom_freqpoly(mapping=aes(x=NCigForego))"
   ]
  },
  {
   "cell_type": "code",
   "execution_count": null,
   "metadata": {},
   "outputs": [],
   "source": [
    "freq_forego<-df_long %>% filter(!is.na(NCigForego))  %>% \n",
    "    group_by(condition, n_day)  %>% \n",
    "count(NCigForego) %>% \n",
    "mutate(rel.freq= round(100*n/sum(n),0))\n"
   ]
  },
  {
   "cell_type": "code",
   "execution_count": null,
   "metadata": {},
   "outputs": [],
   "source": [
    "freq_count<-df_long %>% filter(!is.na(NCigForego)) %>% \n",
    "        group_by(condition, n_day, NCigForego) %>% \n",
    "        tally()\n"
   ]
  },
  {
   "cell_type": "code",
   "execution_count": null,
   "metadata": {},
   "outputs": [],
   "source": [
    "freq_forego "
   ]
  },
  {
   "cell_type": "code",
   "execution_count": null,
   "metadata": {},
   "outputs": [],
   "source": [
    "freq_forego %>% filter(NCigForego==1) %>% \n",
    "ggplot(aes(y=rel.freq, x=n_day, group=condition))+\n",
    "geom_line(aes(linetype=condition))+\n",
    " geom_point(mapping = aes(colour = condition ) )+\n",
    "ggtitle (\"Foregoing cigarettes by group\")+\n",
    "ylab(\" % reporting foregoing cig\")+\n",
    "xlab(\"Day of study\")\n"
   ]
  },
  {
   "cell_type": "code",
   "execution_count": null,
   "metadata": {},
   "outputs": [],
   "source": [
    "?density"
   ]
  },
  {
   "cell_type": "code",
   "execution_count": null,
   "metadata": {},
   "outputs": [],
   "source": [
    "library(WRS2)\n",
    "library(effsize)\n",
    "library(rogme)\n",
    "library(gridExtra)\n",
    "library(cowplot)"
   ]
  },
  {
   "cell_type": "code",
   "execution_count": null,
   "metadata": {},
   "outputs": [],
   "source": []
  },
  {
   "cell_type": "code",
   "execution_count": null,
   "metadata": {},
   "outputs": [],
   "source": [
    "# plot\n",
    "ggplot(data= test, aes(x = n_day, y=total_forgo)) +\n",
    "  geom_point(mapping = aes(colour = condition) ) +\n",
    "  ggtitle(\"Forgoing Cigarettes\")+\n",
    "  xlab('Day')+ ylab('n cig forgone')#+ \n",
    " #ggsave('percent_resp_per_day_all_eeg.jpg', plot =last_plot(), dpi =300, path= save_figure)\n",
    " "
   ]
  },
  {
   "cell_type": "code",
   "execution_count": null,
   "metadata": {},
   "outputs": [],
   "source": []
  },
  {
   "cell_type": "code",
   "execution_count": null,
   "metadata": {},
   "outputs": [],
   "source": [
    "# plot\n",
    "ggplot(data= df, aes(x = n_day, y=NCig) ) +\n",
    "  geom_point(mapping = aes(colour = condition) ) +\n",
    "  ggtitle(\"Smoked Cig per day\")+\n",
    "  xlab('Day')+ ylab('n cig')#+ \n",
    " #ggsave('percent_resp_per_day_all.jpg', plot =last_plot(), dpi =300, path= save_figure)\n",
    " "
   ]
  },
  {
   "cell_type": "code",
   "execution_count": null,
   "metadata": {},
   "outputs": [],
   "source": [
    "df2<-df"
   ]
  },
  {
   "cell_type": "code",
   "execution_count": null,
   "metadata": {},
   "outputs": [],
   "source": [
    "df2$EEG<-as.factor(df2$EEG)\n",
    "\n",
    "df2<-select(df2, -'n_pp')"
   ]
  },
  {
   "cell_type": "code",
   "execution_count": null,
   "metadata": {},
   "outputs": [],
   "source": [
    "df2<-rename(df2, value_NCig=NCig, value_StubCig= StubCig, value_StopCig=StopCig)"
   ]
  },
  {
   "cell_type": "code",
   "execution_count": null,
   "metadata": {},
   "outputs": [],
   "source": [
    "# turn df into long format \n",
    "df2_long<-df2 %>% \n",
    "  pivot_longer(\n",
    "    -c('ID', 'condition', 'n_day', 'EEG', 'Good', 'date'),  \n",
    "    names_to = c(\".value\", \"score\"), \n",
    "    names_sep = \"_\", \n",
    "    values_drop_na = TRUE\n",
    "  )\n",
    "\n",
    "df2_long$value<-as.numeric(df2_long$value)\n",
    "df2_long$condition<-as.factor(df2_long$condition)"
   ]
  },
  {
   "cell_type": "code",
   "execution_count": null,
   "metadata": {},
   "outputs": [],
   "source": [
    "df2_long"
   ]
  },
  {
   "cell_type": "code",
   "execution_count": null,
   "metadata": {},
   "outputs": [],
   "source": [
    "# compute summary statistics per condition per day for each score\n",
    "summary_df2<- df2_long %>%\n",
    "  group_by(condition, n_day, score) %>%\n",
    "  summarise(mean.total = mean(value, na.rm=TRUE),\n",
    "            sd.total= sd(value, na.rm=TRUE), count = n(),\n",
    "            se.mean = sd.total/sqrt(count), \n",
    "            ci.mean= qt(1-(1-0.95/2),count-1)*se.mean)"
   ]
  },
  {
   "cell_type": "code",
   "execution_count": null,
   "metadata": {},
   "outputs": [],
   "source": [
    "summary_df2"
   ]
  },
  {
   "cell_type": "code",
   "execution_count": null,
   "metadata": {},
   "outputs": [],
   "source": [
    "# N stub or stop cig per day\n",
    "df_stop_stub<-summary_df2 %>% \n",
    "        filter(score==\"StubCig\" | score=='StopCig') \n",
    "\n",
    "ggplot(data=df_stop_stub, mapping=aes(x= n_day, y=mean.total)) +\n",
    "      geom_point(mapping = aes(colour=condition, size=count), alpha=1/3)+ \n",
    "    facet_wrap(~score)+\n",
    "       geom_errorbar(aes(ymin = mean.total - ci.mean, ymax = mean.total + ci.mean), \n",
    "                width=0.2)+\n",
    " theme(panel.spacing.x=unit(2, \"cm\"),panel.spacing.y=unit(1, \"lines\")) +\n",
    "    \n",
    "        #geom_smooth(method=lm, se=FALSE, fullrange=TRUE)+\n",
    "  xlab(\"Day\")+ylab(\"Mean score\")+\n",
    "   ggtitle(\"Mean scores for stop/stub cigarettes per day\")\n",
    "\n",
    "  ggsave('stop_stub_per_day.jpg', plot =last_plot(), dpi =300, path= save_figure)\n"
   ]
  },
  {
   "cell_type": "code",
   "execution_count": null,
   "metadata": {},
   "outputs": [],
   "source": [
    "# N cig per day\n",
    "df_ncig<-summary_df2 %>% \n",
    "        filter(score==\"NCig\") \n",
    "\n",
    "ggplot(data=df_ncig, mapping=aes(x= n_day, y=mean.total)) +\n",
    "      geom_point(mapping = aes(colour=condition, size=count), alpha=1/3)+ \n",
    "    facet_wrap(~score)+\n",
    "       geom_errorbar(aes(ymin = mean.total - ci.mean, ymax = mean.total + ci.mean), \n",
    "                width=0.2)+\n",
    " theme(panel.spacing.x=unit(2, \"cm\"),panel.spacing.y=unit(1, \"lines\")) +\n",
    "    \n",
    "        #geom_smooth(method=lm, se=FALSE, fullrange=TRUE)+\n",
    "  xlab(\"Measures\")+ylab(\"Mean score\")+\n",
    "   ggtitle(\"Mean scores for cigarettes smoked per day\")\n",
    "\n",
    "  ggsave('cig_smoked_per_day.jpg', plot =last_plot(), dpi =300, path= save_figure)\n"
   ]
  }
 ],
 "metadata": {
  "kernelspec": {
   "display_name": "R",
   "language": "R",
   "name": "ir"
  },
  "language_info": {
   "codemirror_mode": "r",
   "file_extension": ".r",
   "mimetype": "text/x-r-source",
   "name": "R",
   "pygments_lexer": "r",
   "version": "3.6.3"
  }
 },
 "nbformat": 4,
 "nbformat_minor": 2
}
